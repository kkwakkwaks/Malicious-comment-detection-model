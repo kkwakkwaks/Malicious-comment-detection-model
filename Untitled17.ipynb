{
  "cells": [
    {
      "cell_type": "markdown",
      "metadata": {
        "id": "view-in-github",
        "colab_type": "text"
      },
      "source": [
        "<a href=\"https://colab.research.google.com/github/kkwakkwaks/Section4_Project/blob/main/Untitled17.ipynb\" target=\"_parent\"><img src=\"https://colab.research.google.com/assets/colab-badge.svg\" alt=\"Open In Colab\"/></a>"
      ]
    },
    {
      "cell_type": "markdown",
      "metadata": {
        "id": "hWNkGQxtQr3J"
      },
      "source": [
        "필요한 라이브러리 설치"
      ]
    },
    {
      "cell_type": "code",
      "execution_count": null,
      "metadata": {
        "id": "ImHVt76vQfgd"
      },
      "outputs": [],
      "source": [
        "!pip install git+https://github.com/haven-jeon/PyKoSpacing.git"
      ]
    },
    {
      "cell_type": "code",
      "execution_count": null,
      "metadata": {
        "id": "dDGfuhVZQ_eO"
      },
      "outputs": [],
      "source": [
        "!pip install git+https://github.com/ssut/py-hanspell.git"
      ]
    },
    {
      "cell_type": "code",
      "execution_count": null,
      "metadata": {
        "id": "Af5xbiRr4Rd6"
      },
      "outputs": [],
      "source": [
        "%%bash\n",
        "apt-get update\n",
        "apt-get install g++ openjdk-8-jdk python-dev python3-dev\n",
        "pip3 install JPype1\n",
        "pip3 install konlpy"
      ]
    },
    {
      "cell_type": "code",
      "execution_count": 4,
      "metadata": {
        "colab": {
          "base_uri": "https://localhost:8080/"
        },
        "id": "rE-JnsO34Tkf",
        "outputId": "3a4dc3cd-94bc-46cd-f404-6054a3e8289d"
      },
      "outputs": [
        {
          "output_type": "stream",
          "name": "stdout",
          "text": [
            "env: JAVA_HOME=\"/usr/lib/jvm/java-8-openjdk-amd64\"\n"
          ]
        }
      ],
      "source": [
        "%env JAVA_HOME \"/usr/lib/jvm/java-8-openjdk-amd64\""
      ]
    },
    {
      "cell_type": "code",
      "execution_count": 5,
      "metadata": {
        "colab": {
          "base_uri": "https://localhost:8080/"
        },
        "id": "y2CJnG434U1A",
        "outputId": "cbdcbd63-bc96-4404-d343-06bbd3acb161"
      },
      "outputs": [
        {
          "output_type": "stream",
          "name": "stdout",
          "text": [
            "Installing automake (A dependency for mecab-ko)\n",
            "Hit:1 http://archive.ubuntu.com/ubuntu bionic InRelease\n",
            "Hit:2 http://archive.ubuntu.com/ubuntu bionic-updates InRelease\n",
            "Hit:3 https://developer.download.nvidia.com/compute/cuda/repos/ubuntu1804/x86_64  InRelease\n",
            "Hit:4 https://cloud.r-project.org/bin/linux/ubuntu bionic-cran40/ InRelease\n",
            "Hit:5 http://archive.ubuntu.com/ubuntu bionic-backports InRelease\n",
            "Hit:6 http://security.ubuntu.com/ubuntu bionic-security InRelease\n",
            "Hit:7 http://ppa.launchpad.net/c2d4u.team/c2d4u4.0+/ubuntu bionic InRelease\n",
            "Ign:8 https://developer.download.nvidia.com/compute/machine-learning/repos/ubuntu1804/x86_64  InRelease\n",
            "Hit:9 https://developer.download.nvidia.com/compute/machine-learning/repos/ubuntu1804/x86_64  Release\n",
            "Hit:10 http://ppa.launchpad.net/cran/libgit2/ubuntu bionic InRelease\n",
            "Hit:11 http://ppa.launchpad.net/deadsnakes/ppa/ubuntu bionic InRelease\n",
            "Hit:12 http://ppa.launchpad.net/graphics-drivers/ppa/ubuntu bionic InRelease\n",
            "Reading package lists...\n",
            "Reading package lists...\n",
            "Building dependency tree...\n",
            "Reading state information...\n",
            "The following package was automatically installed and is no longer required:\n",
            "  libnvidia-common-460\n",
            "Use 'sudo apt autoremove' to remove it.\n",
            "The following additional packages will be installed:\n",
            "  autoconf autotools-dev libsigsegv2 m4\n",
            "Suggested packages:\n",
            "  autoconf-archive gnu-standards autoconf-doc libtool gettext m4-doc\n",
            "The following NEW packages will be installed:\n",
            "  autoconf automake autotools-dev libsigsegv2 m4\n",
            "0 upgraded, 5 newly installed, 0 to remove and 71 not upgraded.\n",
            "Need to get 1,082 kB of archives.\n",
            "After this operation, 3,994 kB of additional disk space will be used.\n",
            "Get:1 http://archive.ubuntu.com/ubuntu bionic/main amd64 libsigsegv2 amd64 2.12-1 [14.7 kB]\n",
            "Get:2 http://archive.ubuntu.com/ubuntu bionic/main amd64 m4 amd64 1.4.18-1 [197 kB]\n",
            "Get:3 http://archive.ubuntu.com/ubuntu bionic/main amd64 autoconf all 2.69-11 [322 kB]\n",
            "Get:4 http://archive.ubuntu.com/ubuntu bionic/main amd64 autotools-dev all 20180224.1 [39.6 kB]\n",
            "Get:5 http://archive.ubuntu.com/ubuntu bionic/main amd64 automake all 1:1.15.1-3ubuntu2 [509 kB]\n",
            "Fetched 1,082 kB in 1s (1,719 kB/s)\n",
            "Selecting previously unselected package libsigsegv2:amd64.\r\n",
            "(Reading database ... \r(Reading database ... 5%\r(Reading database ... 10%\r(Reading database ... 15%\r(Reading database ... 20%\r(Reading database ... 25%\r(Reading database ... 30%\r(Reading database ... 35%\r(Reading database ... 40%\r(Reading database ... 45%\r(Reading database ... 50%\r(Reading database ... 55%\r(Reading database ... 60%\r(Reading database ... 65%\r(Reading database ... 70%\r(Reading database ... 75%\r(Reading database ... 80%\r(Reading database ... 85%\r(Reading database ... 90%\r(Reading database ... 95%\r(Reading database ... 100%\r(Reading database ... 156229 files and directories currently installed.)\r\n",
            "Preparing to unpack .../libsigsegv2_2.12-1_amd64.deb ...\r\n",
            "Unpacking libsigsegv2:amd64 (2.12-1) ...\r\n",
            "Selecting previously unselected package m4.\r\n",
            "Preparing to unpack .../archives/m4_1.4.18-1_amd64.deb ...\r\n",
            "Unpacking m4 (1.4.18-1) ...\r\n",
            "Selecting previously unselected package autoconf.\r\n",
            "Preparing to unpack .../autoconf_2.69-11_all.deb ...\r\n",
            "Unpacking autoconf (2.69-11) ...\r\n",
            "Selecting previously unselected package autotools-dev.\r\n",
            "Preparing to unpack .../autotools-dev_20180224.1_all.deb ...\r\n",
            "Unpacking autotools-dev (20180224.1) ...\r\n",
            "Selecting previously unselected package automake.\r\n",
            "Preparing to unpack .../automake_1%3a1.15.1-3ubuntu2_all.deb ...\r\n",
            "Unpacking automake (1:1.15.1-3ubuntu2) ...\r\n",
            "Setting up libsigsegv2:amd64 (2.12-1) ...\r\n",
            "Setting up m4 (1.4.18-1) ...\r\n",
            "Setting up autotools-dev (20180224.1) ...\r\n",
            "Setting up autoconf (2.69-11) ...\r\n",
            "Setting up automake (1:1.15.1-3ubuntu2) ...\r\n",
            "update-alternatives: using /usr/bin/automake-1.15 to provide /usr/bin/automake (automake) in auto mode\r\n",
            "Processing triggers for libc-bin (2.27-3ubuntu1.3) ...\r\n",
            "/sbin/ldconfig.real: /usr/local/lib/python3.7/dist-packages/ideep4py/lib/libmkldnn.so.0 is not a symbolic link\r\n",
            "\r\n",
            "Processing triggers for man-db (2.8.3-2ubuntu0.1) ...\r\n",
            "Install mecab-ko\n",
            "mecab-0.996-ko-0.9.2/\n",
            "mecab-0.996-ko-0.9.2/example/\n",
            "mecab-0.996-ko-0.9.2/example/example.cpp\n",
            "mecab-0.996-ko-0.9.2/example/example_lattice.cpp\n",
            "mecab-0.996-ko-0.9.2/example/example_lattice.c\n",
            "mecab-0.996-ko-0.9.2/example/example.c\n",
            "mecab-0.996-ko-0.9.2/example/thread_test.cpp\n",
            "mecab-0.996-ko-0.9.2/mecab-config.in\n",
            "mecab-0.996-ko-0.9.2/man/\n",
            "mecab-0.996-ko-0.9.2/man/Makefile.am\n",
            "mecab-0.996-ko-0.9.2/man/mecab.1\n",
            "mecab-0.996-ko-0.9.2/man/Makefile.in\n",
            "mecab-0.996-ko-0.9.2/mecab.iss.in\n",
            "mecab-0.996-ko-0.9.2/config.guess\n",
            "mecab-0.996-ko-0.9.2/README\n",
            "mecab-0.996-ko-0.9.2/COPYING\n",
            "mecab-0.996-ko-0.9.2/CHANGES.md\n",
            "mecab-0.996-ko-0.9.2/README.md\n",
            "mecab-0.996-ko-0.9.2/INSTALL\n",
            "mecab-0.996-ko-0.9.2/config.sub\n",
            "mecab-0.996-ko-0.9.2/configure.in\n",
            "mecab-0.996-ko-0.9.2/swig/\n",
            "mecab-0.996-ko-0.9.2/swig/Makefile\n",
            "mecab-0.996-ko-0.9.2/swig/version.h.in\n",
            "mecab-0.996-ko-0.9.2/swig/version.h\n",
            "mecab-0.996-ko-0.9.2/swig/MeCab.i\n",
            "mecab-0.996-ko-0.9.2/aclocal.m4\n",
            "mecab-0.996-ko-0.9.2/LGPL\n",
            "mecab-0.996-ko-0.9.2/Makefile.am\n",
            "mecab-0.996-ko-0.9.2/configure\n",
            "mecab-0.996-ko-0.9.2/tests/\n",
            "mecab-0.996-ko-0.9.2/tests/autolink/\n",
            "mecab-0.996-ko-0.9.2/tests/autolink/unk.def\n",
            "mecab-0.996-ko-0.9.2/tests/autolink/dicrc\n",
            "mecab-0.996-ko-0.9.2/tests/autolink/dic.csv\n",
            "mecab-0.996-ko-0.9.2/tests/autolink/test\n",
            "mecab-0.996-ko-0.9.2/tests/autolink/char.def\n",
            "mecab-0.996-ko-0.9.2/tests/autolink/matrix.def\n",
            "mecab-0.996-ko-0.9.2/tests/autolink/test.gld\n",
            "mecab-0.996-ko-0.9.2/tests/t9/\n",
            "mecab-0.996-ko-0.9.2/tests/t9/unk.def\n",
            "mecab-0.996-ko-0.9.2/tests/t9/ipadic.pl\n",
            "mecab-0.996-ko-0.9.2/tests/t9/dicrc\n",
            "mecab-0.996-ko-0.9.2/tests/t9/dic.csv\n",
            "mecab-0.996-ko-0.9.2/tests/t9/test\n",
            "mecab-0.996-ko-0.9.2/tests/t9/char.def\n",
            "mecab-0.996-ko-0.9.2/tests/t9/matrix.def\n",
            "mecab-0.996-ko-0.9.2/tests/t9/mkdic.pl\n",
            "mecab-0.996-ko-0.9.2/tests/t9/test.gld\n",
            "mecab-0.996-ko-0.9.2/tests/cost-train/\n",
            "mecab-0.996-ko-0.9.2/tests/cost-train/ipa.train\n",
            "mecab-0.996-ko-0.9.2/tests/cost-train/ipa.test\n",
            "mecab-0.996-ko-0.9.2/tests/cost-train/seed/\n",
            "mecab-0.996-ko-0.9.2/tests/cost-train/seed/rewrite.def\n",
            "mecab-0.996-ko-0.9.2/tests/cost-train/seed/feature.def\n",
            "mecab-0.996-ko-0.9.2/tests/cost-train/seed/unk.def\n",
            "mecab-0.996-ko-0.9.2/tests/cost-train/seed/dicrc\n",
            "mecab-0.996-ko-0.9.2/tests/cost-train/seed/dic.csv\n",
            "mecab-0.996-ko-0.9.2/tests/cost-train/seed/char.def\n",
            "mecab-0.996-ko-0.9.2/tests/cost-train/seed/matrix.def\n",
            "mecab-0.996-ko-0.9.2/tests/run-eval.sh\n",
            "mecab-0.996-ko-0.9.2/tests/run-cost-train.sh\n",
            "mecab-0.996-ko-0.9.2/tests/Makefile.am\n",
            "mecab-0.996-ko-0.9.2/tests/katakana/\n",
            "mecab-0.996-ko-0.9.2/tests/katakana/unk.def\n",
            "mecab-0.996-ko-0.9.2/tests/katakana/dicrc\n",
            "mecab-0.996-ko-0.9.2/tests/katakana/dic.csv\n",
            "mecab-0.996-ko-0.9.2/tests/katakana/test\n",
            "mecab-0.996-ko-0.9.2/tests/katakana/char.def\n",
            "mecab-0.996-ko-0.9.2/tests/katakana/matrix.def\n",
            "mecab-0.996-ko-0.9.2/tests/katakana/test.gld\n",
            "mecab-0.996-ko-0.9.2/tests/eval/\n",
            "mecab-0.996-ko-0.9.2/tests/eval/answer\n",
            "mecab-0.996-ko-0.9.2/tests/eval/system\n",
            "mecab-0.996-ko-0.9.2/tests/eval/test.gld\n",
            "mecab-0.996-ko-0.9.2/tests/shiin/\n",
            "mecab-0.996-ko-0.9.2/tests/shiin/unk.def\n",
            "mecab-0.996-ko-0.9.2/tests/shiin/dicrc\n",
            "mecab-0.996-ko-0.9.2/tests/shiin/dic.csv\n",
            "mecab-0.996-ko-0.9.2/tests/shiin/test\n",
            "mecab-0.996-ko-0.9.2/tests/shiin/char.def\n",
            "mecab-0.996-ko-0.9.2/tests/shiin/matrix.def\n",
            "mecab-0.996-ko-0.9.2/tests/shiin/mkdic.pl\n",
            "mecab-0.996-ko-0.9.2/tests/shiin/test.gld\n",
            "mecab-0.996-ko-0.9.2/tests/latin/\n",
            "mecab-0.996-ko-0.9.2/tests/latin/unk.def\n",
            "mecab-0.996-ko-0.9.2/tests/latin/dicrc\n",
            "mecab-0.996-ko-0.9.2/tests/latin/dic.csv\n",
            "mecab-0.996-ko-0.9.2/tests/latin/test\n",
            "mecab-0.996-ko-0.9.2/tests/latin/char.def\n",
            "mecab-0.996-ko-0.9.2/tests/latin/matrix.def\n",
            "mecab-0.996-ko-0.9.2/tests/latin/test.gld\n",
            "mecab-0.996-ko-0.9.2/tests/chartype/\n",
            "mecab-0.996-ko-0.9.2/tests/chartype/unk.def\n",
            "mecab-0.996-ko-0.9.2/tests/chartype/dicrc\n",
            "mecab-0.996-ko-0.9.2/tests/chartype/dic.csv\n",
            "mecab-0.996-ko-0.9.2/tests/chartype/test\n",
            "mecab-0.996-ko-0.9.2/tests/chartype/char.def\n",
            "mecab-0.996-ko-0.9.2/tests/chartype/matrix.def\n",
            "mecab-0.996-ko-0.9.2/tests/chartype/test.gld\n",
            "mecab-0.996-ko-0.9.2/tests/run-dics.sh\n",
            "mecab-0.996-ko-0.9.2/tests/ngram/\n",
            "mecab-0.996-ko-0.9.2/tests/ngram/unk.def\n",
            "mecab-0.996-ko-0.9.2/tests/ngram/dicrc\n",
            "mecab-0.996-ko-0.9.2/tests/ngram/dic.csv\n",
            "mecab-0.996-ko-0.9.2/tests/ngram/test\n",
            "mecab-0.996-ko-0.9.2/tests/ngram/char.def\n",
            "mecab-0.996-ko-0.9.2/tests/ngram/matrix.def\n",
            "mecab-0.996-ko-0.9.2/tests/ngram/test.gld\n",
            "mecab-0.996-ko-0.9.2/tests/Makefile.in\n",
            "mecab-0.996-ko-0.9.2/ltmain.sh\n",
            "mecab-0.996-ko-0.9.2/config.rpath\n",
            "mecab-0.996-ko-0.9.2/config.h.in\n",
            "mecab-0.996-ko-0.9.2/mecabrc.in\n",
            "mecab-0.996-ko-0.9.2/GPL\n",
            "mecab-0.996-ko-0.9.2/Makefile.train\n",
            "mecab-0.996-ko-0.9.2/ChangeLog\n",
            "mecab-0.996-ko-0.9.2/install-sh\n",
            "mecab-0.996-ko-0.9.2/AUTHORS\n",
            "mecab-0.996-ko-0.9.2/doc/\n",
            "mecab-0.996-ko-0.9.2/doc/bindings.html\n",
            "mecab-0.996-ko-0.9.2/doc/posid.html\n",
            "mecab-0.996-ko-0.9.2/doc/unk.html\n",
            "mecab-0.996-ko-0.9.2/doc/learn.html\n",
            "mecab-0.996-ko-0.9.2/doc/format.html\n",
            "mecab-0.996-ko-0.9.2/doc/libmecab.html\n",
            "mecab-0.996-ko-0.9.2/doc/mecab.css\n",
            "mecab-0.996-ko-0.9.2/doc/feature.html\n",
            "mecab-0.996-ko-0.9.2/doc/Makefile.am\n",
            "mecab-0.996-ko-0.9.2/doc/soft.html\n",
            "mecab-0.996-ko-0.9.2/doc/en/\n",
            "mecab-0.996-ko-0.9.2/doc/en/bindings.html\n",
            "mecab-0.996-ko-0.9.2/doc/dic-detail.html\n",
            "mecab-0.996-ko-0.9.2/doc/flow.png\n",
            "mecab-0.996-ko-0.9.2/doc/mecab.html\n",
            "mecab-0.996-ko-0.9.2/doc/index.html\n",
            "mecab-0.996-ko-0.9.2/doc/result.png\n",
            "mecab-0.996-ko-0.9.2/doc/doxygen/\n",
            "mecab-0.996-ko-0.9.2/doc/doxygen/tab_a.png\n",
            "mecab-0.996-ko-0.9.2/doc/doxygen/globals_eval.html\n",
            "mecab-0.996-ko-0.9.2/doc/doxygen/classMeCab_1_1Tagger-members.html\n",
            "mecab-0.996-ko-0.9.2/doc/doxygen/functions_vars.html\n",
            "mecab-0.996-ko-0.9.2/doc/doxygen/doxygen.css\n",
            "mecab-0.996-ko-0.9.2/doc/doxygen/tab_r.gif\n",
            "mecab-0.996-ko-0.9.2/doc/doxygen/classMeCab_1_1Lattice.html\n",
            "mecab-0.996-ko-0.9.2/doc/doxygen/functions.html\n",
            "mecab-0.996-ko-0.9.2/doc/doxygen/classMeCab_1_1Tagger.html\n",
            "mecab-0.996-ko-0.9.2/doc/doxygen/mecab_8h_source.html\n",
            "mecab-0.996-ko-0.9.2/doc/doxygen/tabs.css\n",
            "mecab-0.996-ko-0.9.2/doc/doxygen/nav_f.png\n",
            "mecab-0.996-ko-0.9.2/doc/doxygen/tab_b.png\n",
            "mecab-0.996-ko-0.9.2/doc/doxygen/globals.html\n",
            "mecab-0.996-ko-0.9.2/doc/doxygen/nav_h.png\n",
            "mecab-0.996-ko-0.9.2/doc/doxygen/tab_h.png\n",
            "mecab-0.996-ko-0.9.2/doc/doxygen/classMeCab_1_1Model.html\n",
            "mecab-0.996-ko-0.9.2/doc/doxygen/globals_func.html\n",
            "mecab-0.996-ko-0.9.2/doc/doxygen/closed.png\n",
            "mecab-0.996-ko-0.9.2/doc/doxygen/tab_l.gif\n",
            "mecab-0.996-ko-0.9.2/doc/doxygen/structmecab__path__t-members.html\n",
            "mecab-0.996-ko-0.9.2/doc/doxygen/functions_func.html\n",
            "mecab-0.996-ko-0.9.2/doc/doxygen/globals_type.html\n",
            "mecab-0.996-ko-0.9.2/doc/doxygen/classMeCab_1_1Lattice-members.html\n",
            "mecab-0.996-ko-0.9.2/doc/doxygen/structmecab__node__t.html\n",
            "mecab-0.996-ko-0.9.2/doc/doxygen/namespacemembers_func.html\n",
            "mecab-0.996-ko-0.9.2/doc/doxygen/tab_s.png\n",
            "mecab-0.996-ko-0.9.2/doc/doxygen/structmecab__dictionary__info__t-members.html\n",
            "mecab-0.996-ko-0.9.2/doc/doxygen/namespacemembers_type.html\n",
            "mecab-0.996-ko-0.9.2/doc/doxygen/classMeCab_1_1Model-members.html\n",
            "mecab-0.996-ko-0.9.2/doc/doxygen/structmecab__dictionary__info__t.html\n",
            "mecab-0.996-ko-0.9.2/doc/doxygen/namespaces.html\n",
            "mecab-0.996-ko-0.9.2/doc/doxygen/namespacemembers.html\n",
            "mecab-0.996-ko-0.9.2/doc/doxygen/namespaceMeCab.html\n",
            "mecab-0.996-ko-0.9.2/doc/doxygen/structmecab__path__t.html\n",
            "mecab-0.996-ko-0.9.2/doc/doxygen/files.html\n",
            "mecab-0.996-ko-0.9.2/doc/doxygen/structmecab__node__t-members.html\n",
            "mecab-0.996-ko-0.9.2/doc/doxygen/index.html\n",
            "mecab-0.996-ko-0.9.2/doc/doxygen/annotated.html\n",
            "mecab-0.996-ko-0.9.2/doc/doxygen/globals_defs.html\n",
            "mecab-0.996-ko-0.9.2/doc/doxygen/classes.html\n",
            "mecab-0.996-ko-0.9.2/doc/doxygen/mecab_8h-source.html\n",
            "mecab-0.996-ko-0.9.2/doc/doxygen/doxygen.png\n",
            "mecab-0.996-ko-0.9.2/doc/doxygen/tab_b.gif\n",
            "mecab-0.996-ko-0.9.2/doc/doxygen/bc_s.png\n",
            "mecab-0.996-ko-0.9.2/doc/doxygen/open.png\n",
            "mecab-0.996-ko-0.9.2/doc/doxygen/mecab_8h.html\n",
            "mecab-0.996-ko-0.9.2/doc/dic.html\n",
            "mecab-0.996-ko-0.9.2/doc/partial.html\n",
            "mecab-0.996-ko-0.9.2/doc/feature.png\n",
            "mecab-0.996-ko-0.9.2/doc/Makefile.in\n",
            "mecab-0.996-ko-0.9.2/missing\n",
            "mecab-0.996-ko-0.9.2/BSD\n",
            "mecab-0.996-ko-0.9.2/NEWS\n",
            "mecab-0.996-ko-0.9.2/mkinstalldirs\n",
            "mecab-0.996-ko-0.9.2/src/\n",
            "mecab-0.996-ko-0.9.2/src/dictionary.h\n",
            "mecab-0.996-ko-0.9.2/src/writer.h\n",
            "mecab-0.996-ko-0.9.2/src/utils.h\n",
            "mecab-0.996-ko-0.9.2/src/string_buffer.cpp\n",
            "mecab-0.996-ko-0.9.2/src/tokenizer.cpp\n",
            "mecab-0.996-ko-0.9.2/src/make.bat\n",
            "mecab-0.996-ko-0.9.2/src/mecab.h\n",
            "mecab-0.996-ko-0.9.2/src/freelist.h\n",
            "mecab-0.996-ko-0.9.2/src/string_buffer.h\n",
            "mecab-0.996-ko-0.9.2/src/learner_tagger.h\n",
            "mecab-0.996-ko-0.9.2/src/dictionary_compiler.cpp\n",
            "mecab-0.996-ko-0.9.2/src/eval.cpp\n",
            "mecab-0.996-ko-0.9.2/src/mecab-system-eval.cpp\n",
            "mecab-0.996-ko-0.9.2/src/darts.h\n",
            "mecab-0.996-ko-0.9.2/src/param.h\n",
            "mecab-0.996-ko-0.9.2/src/char_property.h\n",
            "mecab-0.996-ko-0.9.2/src/learner_node.h\n",
            "mecab-0.996-ko-0.9.2/src/mecab-dict-gen.cpp\n",
            "mecab-0.996-ko-0.9.2/src/mecab-dict-index.cpp\n",
            "mecab-0.996-ko-0.9.2/src/winmain.h\n",
            "mecab-0.996-ko-0.9.2/src/thread.h\n",
            "mecab-0.996-ko-0.9.2/src/context_id.cpp\n",
            "mecab-0.996-ko-0.9.2/src/Makefile.am\n",
            "mecab-0.996-ko-0.9.2/src/connector.h\n",
            "mecab-0.996-ko-0.9.2/src/common.h\n",
            "mecab-0.996-ko-0.9.2/src/dictionary_rewriter.cpp\n",
            "mecab-0.996-ko-0.9.2/src/Makefile.msvc.in\n",
            "mecab-0.996-ko-0.9.2/src/dictionary_rewriter.h\n",
            "mecab-0.996-ko-0.9.2/src/feature_index.h\n",
            "mecab-0.996-ko-0.9.2/src/iconv_utils.cpp\n",
            "mecab-0.996-ko-0.9.2/src/char_property.cpp\n",
            "mecab-0.996-ko-0.9.2/src/mecab-test-gen.cpp\n",
            "mecab-0.996-ko-0.9.2/src/tagger.cpp\n",
            "mecab-0.996-ko-0.9.2/src/mecab-cost-train.cpp\n",
            "mecab-0.996-ko-0.9.2/src/learner.cpp\n",
            "mecab-0.996-ko-0.9.2/src/dictionary.cpp\n",
            "mecab-0.996-ko-0.9.2/src/lbfgs.cpp\n",
            "mecab-0.996-ko-0.9.2/src/ucs.h\n",
            "mecab-0.996-ko-0.9.2/src/writer.cpp\n",
            "mecab-0.996-ko-0.9.2/src/learner_tagger.cpp\n",
            "mecab-0.996-ko-0.9.2/src/lbfgs.h\n",
            "mecab-0.996-ko-0.9.2/src/libmecab.cpp\n",
            "mecab-0.996-ko-0.9.2/src/tokenizer.h\n",
            "mecab-0.996-ko-0.9.2/src/mecab.cpp\n",
            "mecab-0.996-ko-0.9.2/src/utils.cpp\n",
            "mecab-0.996-ko-0.9.2/src/dictionary_generator.cpp\n",
            "mecab-0.996-ko-0.9.2/src/param.cpp\n",
            "mecab-0.996-ko-0.9.2/src/context_id.h\n",
            "mecab-0.996-ko-0.9.2/src/mmap.h\n",
            "mecab-0.996-ko-0.9.2/src/viterbi.h\n",
            "mecab-0.996-ko-0.9.2/src/viterbi.cpp\n",
            "mecab-0.996-ko-0.9.2/src/stream_wrapper.h\n",
            "mecab-0.996-ko-0.9.2/src/feature_index.cpp\n",
            "mecab-0.996-ko-0.9.2/src/nbest_generator.h\n",
            "mecab-0.996-ko-0.9.2/src/ucstable.h\n",
            "mecab-0.996-ko-0.9.2/src/nbest_generator.cpp\n",
            "mecab-0.996-ko-0.9.2/src/iconv_utils.h\n",
            "mecab-0.996-ko-0.9.2/src/connector.cpp\n",
            "mecab-0.996-ko-0.9.2/src/Makefile.in\n",
            "mecab-0.996-ko-0.9.2/src/scoped_ptr.h\n",
            "mecab-0.996-ko-0.9.2/Makefile.in\n",
            "checking for a BSD-compatible install... /usr/bin/install -c\n",
            "checking whether build environment is sane... yes\n",
            "checking for a thread-safe mkdir -p... /bin/mkdir -p\n",
            "checking for gawk... no\n",
            "checking for mawk... mawk\n",
            "checking whether make sets $(MAKE)... yes\n",
            "checking for gcc... gcc\n",
            "checking whether the C compiler works... yes\n",
            "checking for C compiler default output file name... a.out\n",
            "checking for suffix of executables... \n",
            "checking whether we are cross compiling... no\n",
            "checking for suffix of object files... o\n",
            "checking whether we are using the GNU C compiler... yes\n",
            "checking whether gcc accepts -g... yes\n",
            "checking for gcc option to accept ISO C89... none needed\n",
            "checking for style of include used by make... GNU\n",
            "checking dependency style of gcc... none\n",
            "checking for g++... g++\n",
            "checking whether we are using the GNU C++ compiler... yes\n",
            "checking whether g++ accepts -g... yes\n",
            "checking dependency style of g++... none\n",
            "checking how to run the C preprocessor... gcc -E\n",
            "checking for grep that handles long lines and -e... /bin/grep\n",
            "checking for egrep... /bin/grep -E\n",
            "checking whether gcc needs -traditional... no\n",
            "checking whether make sets $(MAKE)... (cached) yes\n",
            "checking build system type... x86_64-unknown-linux-gnu\n",
            "checking host system type... x86_64-unknown-linux-gnu\n",
            "checking how to print strings... printf\n",
            "checking for a sed that does not truncate output... /bin/sed\n",
            "checking for fgrep... /bin/grep -F\n",
            "checking for ld used by gcc... /usr/bin/ld\n",
            "checking if the linker (/usr/bin/ld) is GNU ld... yes\n",
            "checking for BSD- or MS-compatible name lister (nm)... /usr/bin/nm -B\n",
            "checking the name lister (/usr/bin/nm -B) interface... BSD nm\n",
            "checking whether ln -s works... yes\n",
            "checking the maximum length of command line arguments... 1572864\n",
            "checking whether the shell understands some XSI constructs... yes\n",
            "checking whether the shell understands \"+=\"... yes\n",
            "checking how to convert x86_64-unknown-linux-gnu file names to x86_64-unknown-linux-gnu format... func_convert_file_noop\n",
            "checking how to convert x86_64-unknown-linux-gnu file names to toolchain format... func_convert_file_noop\n",
            "checking for /usr/bin/ld option to reload object files... -r\n",
            "checking for objdump... objdump\n",
            "checking how to recognize dependent libraries... pass_all\n",
            "checking for dlltool... dlltool\n",
            "checking how to associate runtime and link libraries... printf %s\\n\n",
            "checking for ar... ar\n",
            "checking for archiver @FILE support... @\n",
            "checking for strip... strip\n",
            "checking for ranlib... ranlib\n",
            "checking command to parse /usr/bin/nm -B output from gcc object... ok\n",
            "checking for sysroot... no\n",
            "checking for mt... no\n",
            "checking if : is a manifest tool... no\n",
            "checking for ANSI C header files... yes\n",
            "checking for sys/types.h... yes\n",
            "checking for sys/stat.h... yes\n",
            "checking for stdlib.h... yes\n",
            "checking for string.h... yes\n",
            "checking for memory.h... yes\n",
            "checking for strings.h... yes\n",
            "checking for inttypes.h... yes\n",
            "checking for stdint.h... yes\n",
            "checking for unistd.h... yes\n",
            "checking for dlfcn.h... yes\n",
            "checking for objdir... .libs\n",
            "checking if gcc supports -fno-rtti -fno-exceptions... no\n",
            "checking for gcc option to produce PIC... -fPIC -DPIC\n",
            "checking if gcc PIC flag -fPIC -DPIC works... yes\n",
            "checking if gcc static flag -static works... yes\n",
            "checking if gcc supports -c -o file.o... yes\n",
            "checking if gcc supports -c -o file.o... (cached) yes\n",
            "checking whether the gcc linker (/usr/bin/ld) supports shared libraries... yes\n",
            "checking whether -lc should be explicitly linked in... no\n",
            "checking dynamic linker characteristics... GNU/Linux ld.so\n",
            "checking how to hardcode library paths into programs... immediate\n",
            "checking whether stripping libraries is possible... yes\n",
            "checking if libtool supports shared libraries... yes\n",
            "checking whether to build shared libraries... yes\n",
            "checking whether to build static libraries... yes\n",
            "checking how to run the C++ preprocessor... g++ -E\n",
            "checking for ld used by g++... /usr/bin/ld\n",
            "checking if the linker (/usr/bin/ld) is GNU ld... yes\n",
            "checking whether the g++ linker (/usr/bin/ld) supports shared libraries... yes\n",
            "checking for g++ option to produce PIC... -fPIC -DPIC\n",
            "checking if g++ PIC flag -fPIC -DPIC works... yes\n",
            "checking if g++ static flag -static works... yes\n",
            "checking if g++ supports -c -o file.o... yes\n",
            "checking if g++ supports -c -o file.o... (cached) yes\n",
            "checking whether the g++ linker (/usr/bin/ld) supports shared libraries... yes\n",
            "checking dynamic linker characteristics... (cached) GNU/Linux ld.so\n",
            "checking how to hardcode library paths into programs... immediate\n",
            "checking for library containing strerror... none required\n",
            "checking whether byte ordering is bigendian... no\n",
            "checking for ld used by GCC... /usr/bin/ld\n",
            "checking if the linker (/usr/bin/ld) is GNU ld... yes\n",
            "checking for shared library run path origin... done\n",
            "checking for iconv... yes\n",
            "checking for working iconv... yes\n",
            "checking for iconv declaration... \n",
            "         extern size_t iconv (iconv_t cd, char * *inbuf, size_t *inbytesleft, char * *outbuf, size_t *outbytesleft);\n",
            "checking for ANSI C header files... (cached) yes\n",
            "checking for an ANSI C-conforming const... yes\n",
            "checking whether byte ordering is bigendian... (cached) no\n",
            "checking for string.h... (cached) yes\n",
            "checking for stdlib.h... (cached) yes\n",
            "checking for unistd.h... (cached) yes\n",
            "checking fcntl.h usability... yes\n",
            "checking fcntl.h presence... yes\n",
            "checking for fcntl.h... yes\n",
            "checking for stdint.h... (cached) yes\n",
            "checking for sys/stat.h... (cached) yes\n",
            "checking sys/mman.h usability... yes\n",
            "checking sys/mman.h presence... yes\n",
            "checking for sys/mman.h... yes\n",
            "checking sys/times.h usability... yes\n",
            "checking sys/times.h presence... yes\n",
            "checking for sys/times.h... yes\n",
            "checking for sys/types.h... (cached) yes\n",
            "checking dirent.h usability... yes\n",
            "checking dirent.h presence... yes\n",
            "checking for dirent.h... yes\n",
            "checking ctype.h usability... yes\n",
            "checking ctype.h presence... yes\n",
            "checking for ctype.h... yes\n",
            "checking for sys/types.h... (cached) yes\n",
            "checking io.h usability... no\n",
            "checking io.h presence... no\n",
            "checking for io.h... no\n",
            "checking windows.h usability... no\n",
            "checking windows.h presence... no\n",
            "checking for windows.h... no\n",
            "checking pthread.h usability... yes\n",
            "checking pthread.h presence... yes\n",
            "checking for pthread.h... yes\n",
            "checking for off_t... yes\n",
            "checking for size_t... yes\n",
            "checking size of char... 1\n",
            "checking size of short... 2\n",
            "checking size of int... 4\n",
            "checking size of long... 8\n",
            "checking size of long long... 8\n",
            "checking size of size_t... 8\n",
            "checking for size_t... (cached) yes\n",
            "checking for unsigned long long int... yes\n",
            "checking for stdlib.h... (cached) yes\n",
            "checking for unistd.h... (cached) yes\n",
            "checking for sys/param.h... yes\n",
            "checking for getpagesize... yes\n",
            "checking for working mmap... yes\n",
            "checking for main in -lstdc++... yes\n",
            "checking for pthread_create in -lpthread... yes\n",
            "checking for pthread_join in -lpthread... yes\n",
            "checking for getenv... yes\n",
            "checking for opendir... yes\n",
            "checking whether make is GNU Make... yes\n",
            "checking if g++ supports stl <vector> (required)... yes\n",
            "checking if g++ supports stl <list> (required)... yes\n",
            "checking if g++ supports stl <map> (required)... yes\n",
            "checking if g++ supports stl <set> (required)... yes\n",
            "checking if g++ supports stl <queue> (required)... yes\n",
            "checking if g++ supports stl <functional> (required)... yes\n",
            "checking if g++ supports stl <algorithm> (required)... yes\n",
            "checking if g++ supports stl <string> (required)... yes\n",
            "checking if g++ supports stl <iostream> (required)... yes\n",
            "checking if g++ supports stl <sstream> (required)... yes\n",
            "checking if g++ supports stl <fstream> (required)... yes\n",
            "checking if g++ supports template <class T> (required)... yes\n",
            "checking if g++ supports const_cast<> (required)... yes\n",
            "checking if g++ supports static_cast<> (required)... yes\n",
            "checking if g++ supports reinterpret_cast<> (required)... yes\n",
            "checking if g++ supports namespaces (required) ... yes\n",
            "checking if g++ supports __thread (optional)... yes\n",
            "checking if g++ supports template <class T> (required)... yes\n",
            "checking if g++ supports GCC native atomic operations (optional)... yes\n",
            "checking if g++ supports OSX native atomic operations (optional)... no\n",
            "checking if g++ environment provides all required features... yes\n",
            "configure: creating ./config.status\n",
            "config.status: creating Makefile\n",
            "config.status: creating src/Makefile\n",
            "config.status: creating src/Makefile.msvc\n",
            "config.status: creating man/Makefile\n",
            "config.status: creating doc/Makefile\n",
            "config.status: creating tests/Makefile\n",
            "config.status: creating swig/version.h\n",
            "config.status: creating mecab.iss\n",
            "config.status: creating mecab-config\n",
            "config.status: creating mecabrc\n",
            "config.status: creating config.h\n",
            "config.status: executing depfiles commands\n",
            "config.status: executing libtool commands\n",
            "config.status: executing default commands\n",
            "make  all-recursive\n",
            "make[1]: Entering directory '/tmp/mecab-0.996-ko-0.9.2'\n",
            "Making all in src\n",
            "make[2]: Entering directory '/tmp/mecab-0.996-ko-0.9.2/src'\n",
            "/bin/bash ../libtool --tag=CXX   --mode=compile g++ -DHAVE_CONFIG_H -I. -I.. -DDIC_VERSION=102   -DMECAB_DEFAULT_RC=\"\\\"/usr/local/etc/mecabrc\\\"\"    -O3 -Wall  -c -o viterbi.lo viterbi.cpp\n",
            "libtool: compile:  g++ -DHAVE_CONFIG_H -I. -I.. -DDIC_VERSION=102 -DMECAB_DEFAULT_RC=\\\"/usr/local/etc/mecabrc\\\" -O3 -Wall -c viterbi.cpp  -fPIC -DPIC -o .libs/viterbi.o\n",
            "libtool: compile:  g++ -DHAVE_CONFIG_H -I. -I.. -DDIC_VERSION=102 -DMECAB_DEFAULT_RC=\\\"/usr/local/etc/mecabrc\\\" -O3 -Wall -c viterbi.cpp -o viterbi.o >/dev/null 2>&1\n",
            "/bin/bash ../libtool --tag=CXX   --mode=compile g++ -DHAVE_CONFIG_H -I. -I.. -DDIC_VERSION=102   -DMECAB_DEFAULT_RC=\"\\\"/usr/local/etc/mecabrc\\\"\"    -O3 -Wall  -c -o tagger.lo tagger.cpp\n",
            "libtool: compile:  g++ -DHAVE_CONFIG_H -I. -I.. -DDIC_VERSION=102 -DMECAB_DEFAULT_RC=\\\"/usr/local/etc/mecabrc\\\" -O3 -Wall -c tagger.cpp  -fPIC -DPIC -o .libs/tagger.o\n",
            "libtool: compile:  g++ -DHAVE_CONFIG_H -I. -I.. -DDIC_VERSION=102 -DMECAB_DEFAULT_RC=\\\"/usr/local/etc/mecabrc\\\" -O3 -Wall -c tagger.cpp -o tagger.o >/dev/null 2>&1\n",
            "/bin/bash ../libtool --tag=CXX   --mode=compile g++ -DHAVE_CONFIG_H -I. -I.. -DDIC_VERSION=102   -DMECAB_DEFAULT_RC=\"\\\"/usr/local/etc/mecabrc\\\"\"    -O3 -Wall  -c -o utils.lo utils.cpp\n",
            "libtool: compile:  g++ -DHAVE_CONFIG_H -I. -I.. -DDIC_VERSION=102 -DMECAB_DEFAULT_RC=\\\"/usr/local/etc/mecabrc\\\" -O3 -Wall -c utils.cpp  -fPIC -DPIC -o .libs/utils.o\n",
            "libtool: compile:  g++ -DHAVE_CONFIG_H -I. -I.. -DDIC_VERSION=102 -DMECAB_DEFAULT_RC=\\\"/usr/local/etc/mecabrc\\\" -O3 -Wall -c utils.cpp -o utils.o >/dev/null 2>&1\n",
            "/bin/bash ../libtool --tag=CXX   --mode=compile g++ -DHAVE_CONFIG_H -I. -I.. -DDIC_VERSION=102   -DMECAB_DEFAULT_RC=\"\\\"/usr/local/etc/mecabrc\\\"\"    -O3 -Wall  -c -o eval.lo eval.cpp\n",
            "libtool: compile:  g++ -DHAVE_CONFIG_H -I. -I.. -DDIC_VERSION=102 -DMECAB_DEFAULT_RC=\\\"/usr/local/etc/mecabrc\\\" -O3 -Wall -c eval.cpp  -fPIC -DPIC -o .libs/eval.o\n",
            "libtool: compile:  g++ -DHAVE_CONFIG_H -I. -I.. -DDIC_VERSION=102 -DMECAB_DEFAULT_RC=\\\"/usr/local/etc/mecabrc\\\" -O3 -Wall -c eval.cpp -o eval.o >/dev/null 2>&1\n",
            "/bin/bash ../libtool --tag=CXX   --mode=compile g++ -DHAVE_CONFIG_H -I. -I.. -DDIC_VERSION=102   -DMECAB_DEFAULT_RC=\"\\\"/usr/local/etc/mecabrc\\\"\"    -O3 -Wall  -c -o iconv_utils.lo iconv_utils.cpp\n",
            "libtool: compile:  g++ -DHAVE_CONFIG_H -I. -I.. -DDIC_VERSION=102 -DMECAB_DEFAULT_RC=\\\"/usr/local/etc/mecabrc\\\" -O3 -Wall -c iconv_utils.cpp  -fPIC -DPIC -o .libs/iconv_utils.o\n",
            "libtool: compile:  g++ -DHAVE_CONFIG_H -I. -I.. -DDIC_VERSION=102 -DMECAB_DEFAULT_RC=\\\"/usr/local/etc/mecabrc\\\" -O3 -Wall -c iconv_utils.cpp -o iconv_utils.o >/dev/null 2>&1\n",
            "/bin/bash ../libtool --tag=CXX   --mode=compile g++ -DHAVE_CONFIG_H -I. -I.. -DDIC_VERSION=102   -DMECAB_DEFAULT_RC=\"\\\"/usr/local/etc/mecabrc\\\"\"    -O3 -Wall  -c -o dictionary_rewriter.lo dictionary_rewriter.cpp\n",
            "libtool: compile:  g++ -DHAVE_CONFIG_H -I. -I.. -DDIC_VERSION=102 -DMECAB_DEFAULT_RC=\\\"/usr/local/etc/mecabrc\\\" -O3 -Wall -c dictionary_rewriter.cpp  -fPIC -DPIC -o .libs/dictionary_rewriter.o\n",
            "libtool: compile:  g++ -DHAVE_CONFIG_H -I. -I.. -DDIC_VERSION=102 -DMECAB_DEFAULT_RC=\\\"/usr/local/etc/mecabrc\\\" -O3 -Wall -c dictionary_rewriter.cpp -o dictionary_rewriter.o >/dev/null 2>&1\n",
            "/bin/bash ../libtool --tag=CXX   --mode=compile g++ -DHAVE_CONFIG_H -I. -I.. -DDIC_VERSION=102   -DMECAB_DEFAULT_RC=\"\\\"/usr/local/etc/mecabrc\\\"\"    -O3 -Wall  -c -o dictionary_generator.lo dictionary_generator.cpp\n",
            "libtool: compile:  g++ -DHAVE_CONFIG_H -I. -I.. -DDIC_VERSION=102 -DMECAB_DEFAULT_RC=\\\"/usr/local/etc/mecabrc\\\" -O3 -Wall -c dictionary_generator.cpp  -fPIC -DPIC -o .libs/dictionary_generator.o\n",
            "libtool: compile:  g++ -DHAVE_CONFIG_H -I. -I.. -DDIC_VERSION=102 -DMECAB_DEFAULT_RC=\\\"/usr/local/etc/mecabrc\\\" -O3 -Wall -c dictionary_generator.cpp -o dictionary_generator.o >/dev/null 2>&1\n",
            "/bin/bash ../libtool --tag=CXX   --mode=compile g++ -DHAVE_CONFIG_H -I. -I.. -DDIC_VERSION=102   -DMECAB_DEFAULT_RC=\"\\\"/usr/local/etc/mecabrc\\\"\"    -O3 -Wall  -c -o dictionary_compiler.lo dictionary_compiler.cpp\n",
            "libtool: compile:  g++ -DHAVE_CONFIG_H -I. -I.. -DDIC_VERSION=102 -DMECAB_DEFAULT_RC=\\\"/usr/local/etc/mecabrc\\\" -O3 -Wall -c dictionary_compiler.cpp  -fPIC -DPIC -o .libs/dictionary_compiler.o\n",
            "libtool: compile:  g++ -DHAVE_CONFIG_H -I. -I.. -DDIC_VERSION=102 -DMECAB_DEFAULT_RC=\\\"/usr/local/etc/mecabrc\\\" -O3 -Wall -c dictionary_compiler.cpp -o dictionary_compiler.o >/dev/null 2>&1\n",
            "/bin/bash ../libtool --tag=CXX   --mode=compile g++ -DHAVE_CONFIG_H -I. -I.. -DDIC_VERSION=102   -DMECAB_DEFAULT_RC=\"\\\"/usr/local/etc/mecabrc\\\"\"    -O3 -Wall  -c -o context_id.lo context_id.cpp\n",
            "libtool: compile:  g++ -DHAVE_CONFIG_H -I. -I.. -DDIC_VERSION=102 -DMECAB_DEFAULT_RC=\\\"/usr/local/etc/mecabrc\\\" -O3 -Wall -c context_id.cpp  -fPIC -DPIC -o .libs/context_id.o\n",
            "libtool: compile:  g++ -DHAVE_CONFIG_H -I. -I.. -DDIC_VERSION=102 -DMECAB_DEFAULT_RC=\\\"/usr/local/etc/mecabrc\\\" -O3 -Wall -c context_id.cpp -o context_id.o >/dev/null 2>&1\n",
            "/bin/bash ../libtool --tag=CXX   --mode=compile g++ -DHAVE_CONFIG_H -I. -I.. -DDIC_VERSION=102   -DMECAB_DEFAULT_RC=\"\\\"/usr/local/etc/mecabrc\\\"\"    -O3 -Wall  -c -o connector.lo connector.cpp\n",
            "libtool: compile:  g++ -DHAVE_CONFIG_H -I. -I.. -DDIC_VERSION=102 -DMECAB_DEFAULT_RC=\\\"/usr/local/etc/mecabrc\\\" -O3 -Wall -c connector.cpp  -fPIC -DPIC -o .libs/connector.o\n",
            "libtool: compile:  g++ -DHAVE_CONFIG_H -I. -I.. -DDIC_VERSION=102 -DMECAB_DEFAULT_RC=\\\"/usr/local/etc/mecabrc\\\" -O3 -Wall -c connector.cpp -o connector.o >/dev/null 2>&1\n",
            "/bin/bash ../libtool --tag=CXX   --mode=compile g++ -DHAVE_CONFIG_H -I. -I.. -DDIC_VERSION=102   -DMECAB_DEFAULT_RC=\"\\\"/usr/local/etc/mecabrc\\\"\"    -O3 -Wall  -c -o nbest_generator.lo nbest_generator.cpp\n",
            "libtool: compile:  g++ -DHAVE_CONFIG_H -I. -I.. -DDIC_VERSION=102 -DMECAB_DEFAULT_RC=\\\"/usr/local/etc/mecabrc\\\" -O3 -Wall -c nbest_generator.cpp  -fPIC -DPIC -o .libs/nbest_generator.o\n",
            "libtool: compile:  g++ -DHAVE_CONFIG_H -I. -I.. -DDIC_VERSION=102 -DMECAB_DEFAULT_RC=\\\"/usr/local/etc/mecabrc\\\" -O3 -Wall -c nbest_generator.cpp -o nbest_generator.o >/dev/null 2>&1\n",
            "/bin/bash ../libtool --tag=CXX   --mode=compile g++ -DHAVE_CONFIG_H -I. -I.. -DDIC_VERSION=102   -DMECAB_DEFAULT_RC=\"\\\"/usr/local/etc/mecabrc\\\"\"    -O3 -Wall  -c -o writer.lo writer.cpp\n",
            "libtool: compile:  g++ -DHAVE_CONFIG_H -I. -I.. -DDIC_VERSION=102 -DMECAB_DEFAULT_RC=\\\"/usr/local/etc/mecabrc\\\" -O3 -Wall -c writer.cpp  -fPIC -DPIC -o .libs/writer.o\n",
            "libtool: compile:  g++ -DHAVE_CONFIG_H -I. -I.. -DDIC_VERSION=102 -DMECAB_DEFAULT_RC=\\\"/usr/local/etc/mecabrc\\\" -O3 -Wall -c writer.cpp -o writer.o >/dev/null 2>&1\n",
            "/bin/bash ../libtool --tag=CXX   --mode=compile g++ -DHAVE_CONFIG_H -I. -I.. -DDIC_VERSION=102   -DMECAB_DEFAULT_RC=\"\\\"/usr/local/etc/mecabrc\\\"\"    -O3 -Wall  -c -o string_buffer.lo string_buffer.cpp\n",
            "libtool: compile:  g++ -DHAVE_CONFIG_H -I. -I.. -DDIC_VERSION=102 -DMECAB_DEFAULT_RC=\\\"/usr/local/etc/mecabrc\\\" -O3 -Wall -c string_buffer.cpp  -fPIC -DPIC -o .libs/string_buffer.o\n",
            "libtool: compile:  g++ -DHAVE_CONFIG_H -I. -I.. -DDIC_VERSION=102 -DMECAB_DEFAULT_RC=\\\"/usr/local/etc/mecabrc\\\" -O3 -Wall -c string_buffer.cpp -o string_buffer.o >/dev/null 2>&1\n",
            "/bin/bash ../libtool --tag=CXX   --mode=compile g++ -DHAVE_CONFIG_H -I. -I.. -DDIC_VERSION=102   -DMECAB_DEFAULT_RC=\"\\\"/usr/local/etc/mecabrc\\\"\"    -O3 -Wall  -c -o param.lo param.cpp\n",
            "libtool: compile:  g++ -DHAVE_CONFIG_H -I. -I.. -DDIC_VERSION=102 -DMECAB_DEFAULT_RC=\\\"/usr/local/etc/mecabrc\\\" -O3 -Wall -c param.cpp  -fPIC -DPIC -o .libs/param.o\n",
            "libtool: compile:  g++ -DHAVE_CONFIG_H -I. -I.. -DDIC_VERSION=102 -DMECAB_DEFAULT_RC=\\\"/usr/local/etc/mecabrc\\\" -O3 -Wall -c param.cpp -o param.o >/dev/null 2>&1\n",
            "/bin/bash ../libtool --tag=CXX   --mode=compile g++ -DHAVE_CONFIG_H -I. -I.. -DDIC_VERSION=102   -DMECAB_DEFAULT_RC=\"\\\"/usr/local/etc/mecabrc\\\"\"    -O3 -Wall  -c -o tokenizer.lo tokenizer.cpp\n",
            "libtool: compile:  g++ -DHAVE_CONFIG_H -I. -I.. -DDIC_VERSION=102 -DMECAB_DEFAULT_RC=\\\"/usr/local/etc/mecabrc\\\" -O3 -Wall -c tokenizer.cpp  -fPIC -DPIC -o .libs/tokenizer.o\n",
            "libtool: compile:  g++ -DHAVE_CONFIG_H -I. -I.. -DDIC_VERSION=102 -DMECAB_DEFAULT_RC=\\\"/usr/local/etc/mecabrc\\\" -O3 -Wall -c tokenizer.cpp -o tokenizer.o >/dev/null 2>&1\n",
            "/bin/bash ../libtool --tag=CXX   --mode=compile g++ -DHAVE_CONFIG_H -I. -I.. -DDIC_VERSION=102   -DMECAB_DEFAULT_RC=\"\\\"/usr/local/etc/mecabrc\\\"\"    -O3 -Wall  -c -o char_property.lo char_property.cpp\n",
            "libtool: compile:  g++ -DHAVE_CONFIG_H -I. -I.. -DDIC_VERSION=102 -DMECAB_DEFAULT_RC=\\\"/usr/local/etc/mecabrc\\\" -O3 -Wall -c char_property.cpp  -fPIC -DPIC -o .libs/char_property.o\n",
            "libtool: compile:  g++ -DHAVE_CONFIG_H -I. -I.. -DDIC_VERSION=102 -DMECAB_DEFAULT_RC=\\\"/usr/local/etc/mecabrc\\\" -O3 -Wall -c char_property.cpp -o char_property.o >/dev/null 2>&1\n",
            "/bin/bash ../libtool --tag=CXX   --mode=compile g++ -DHAVE_CONFIG_H -I. -I.. -DDIC_VERSION=102   -DMECAB_DEFAULT_RC=\"\\\"/usr/local/etc/mecabrc\\\"\"    -O3 -Wall  -c -o dictionary.lo dictionary.cpp\n",
            "libtool: compile:  g++ -DHAVE_CONFIG_H -I. -I.. -DDIC_VERSION=102 -DMECAB_DEFAULT_RC=\\\"/usr/local/etc/mecabrc\\\" -O3 -Wall -c dictionary.cpp  -fPIC -DPIC -o .libs/dictionary.o\n",
            "libtool: compile:  g++ -DHAVE_CONFIG_H -I. -I.. -DDIC_VERSION=102 -DMECAB_DEFAULT_RC=\\\"/usr/local/etc/mecabrc\\\" -O3 -Wall -c dictionary.cpp -o dictionary.o >/dev/null 2>&1\n",
            "/bin/bash ../libtool --tag=CXX   --mode=compile g++ -DHAVE_CONFIG_H -I. -I.. -DDIC_VERSION=102   -DMECAB_DEFAULT_RC=\"\\\"/usr/local/etc/mecabrc\\\"\"    -O3 -Wall  -c -o feature_index.lo feature_index.cpp\n",
            "libtool: compile:  g++ -DHAVE_CONFIG_H -I. -I.. -DDIC_VERSION=102 -DMECAB_DEFAULT_RC=\\\"/usr/local/etc/mecabrc\\\" -O3 -Wall -c feature_index.cpp  -fPIC -DPIC -o .libs/feature_index.o\n",
            "libtool: compile:  g++ -DHAVE_CONFIG_H -I. -I.. -DDIC_VERSION=102 -DMECAB_DEFAULT_RC=\\\"/usr/local/etc/mecabrc\\\" -O3 -Wall -c feature_index.cpp -o feature_index.o >/dev/null 2>&1\n",
            "/bin/bash ../libtool --tag=CXX   --mode=compile g++ -DHAVE_CONFIG_H -I. -I.. -DDIC_VERSION=102   -DMECAB_DEFAULT_RC=\"\\\"/usr/local/etc/mecabrc\\\"\"    -O3 -Wall  -c -o lbfgs.lo lbfgs.cpp\n",
            "libtool: compile:  g++ -DHAVE_CONFIG_H -I. -I.. -DDIC_VERSION=102 -DMECAB_DEFAULT_RC=\\\"/usr/local/etc/mecabrc\\\" -O3 -Wall -c lbfgs.cpp  -fPIC -DPIC -o .libs/lbfgs.o\n",
            "libtool: compile:  g++ -DHAVE_CONFIG_H -I. -I.. -DDIC_VERSION=102 -DMECAB_DEFAULT_RC=\\\"/usr/local/etc/mecabrc\\\" -O3 -Wall -c lbfgs.cpp -o lbfgs.o >/dev/null 2>&1\n",
            "/bin/bash ../libtool --tag=CXX   --mode=compile g++ -DHAVE_CONFIG_H -I. -I.. -DDIC_VERSION=102   -DMECAB_DEFAULT_RC=\"\\\"/usr/local/etc/mecabrc\\\"\"    -O3 -Wall  -c -o learner_tagger.lo learner_tagger.cpp\n",
            "libtool: compile:  g++ -DHAVE_CONFIG_H -I. -I.. -DDIC_VERSION=102 -DMECAB_DEFAULT_RC=\\\"/usr/local/etc/mecabrc\\\" -O3 -Wall -c learner_tagger.cpp  -fPIC -DPIC -o .libs/learner_tagger.o\n",
            "libtool: compile:  g++ -DHAVE_CONFIG_H -I. -I.. -DDIC_VERSION=102 -DMECAB_DEFAULT_RC=\\\"/usr/local/etc/mecabrc\\\" -O3 -Wall -c learner_tagger.cpp -o learner_tagger.o >/dev/null 2>&1\n",
            "/bin/bash ../libtool --tag=CXX   --mode=compile g++ -DHAVE_CONFIG_H -I. -I.. -DDIC_VERSION=102   -DMECAB_DEFAULT_RC=\"\\\"/usr/local/etc/mecabrc\\\"\"    -O3 -Wall  -c -o learner.lo learner.cpp\n",
            "libtool: compile:  g++ -DHAVE_CONFIG_H -I. -I.. -DDIC_VERSION=102 -DMECAB_DEFAULT_RC=\\\"/usr/local/etc/mecabrc\\\" -O3 -Wall -c learner.cpp  -fPIC -DPIC -o .libs/learner.o\n",
            "libtool: compile:  g++ -DHAVE_CONFIG_H -I. -I.. -DDIC_VERSION=102 -DMECAB_DEFAULT_RC=\\\"/usr/local/etc/mecabrc\\\" -O3 -Wall -c learner.cpp -o learner.o >/dev/null 2>&1\n",
            "/bin/bash ../libtool --tag=CXX   --mode=compile g++ -DHAVE_CONFIG_H -I. -I.. -DDIC_VERSION=102   -DMECAB_DEFAULT_RC=\"\\\"/usr/local/etc/mecabrc\\\"\"    -O3 -Wall  -c -o libmecab.lo libmecab.cpp\n",
            "libtool: compile:  g++ -DHAVE_CONFIG_H -I. -I.. -DDIC_VERSION=102 -DMECAB_DEFAULT_RC=\\\"/usr/local/etc/mecabrc\\\" -O3 -Wall -c libmecab.cpp  -fPIC -DPIC -o .libs/libmecab.o\n",
            "libtool: compile:  g++ -DHAVE_CONFIG_H -I. -I.. -DDIC_VERSION=102 -DMECAB_DEFAULT_RC=\\\"/usr/local/etc/mecabrc\\\" -O3 -Wall -c libmecab.cpp -o libmecab.o >/dev/null 2>&1\n",
            "/bin/bash ../libtool --tag=CXX   --mode=link g++  -O3 -Wall  -no-undefined -version-info 2:0:0  -o libmecab.la -rpath /usr/local/lib viterbi.lo tagger.lo utils.lo eval.lo iconv_utils.lo dictionary_rewriter.lo dictionary_generator.lo dictionary_compiler.lo context_id.lo connector.lo nbest_generator.lo writer.lo string_buffer.lo param.lo tokenizer.lo char_property.lo dictionary.lo feature_index.lo lbfgs.lo learner_tagger.lo learner.lo libmecab.lo  -lpthread -lpthread  -lstdc++ \n",
            "libtool: link: g++  -fPIC -DPIC -shared -nostdlib /usr/lib/gcc/x86_64-linux-gnu/7/../../../x86_64-linux-gnu/crti.o /usr/lib/gcc/x86_64-linux-gnu/7/crtbeginS.o  .libs/viterbi.o .libs/tagger.o .libs/utils.o .libs/eval.o .libs/iconv_utils.o .libs/dictionary_rewriter.o .libs/dictionary_generator.o .libs/dictionary_compiler.o .libs/context_id.o .libs/connector.o .libs/nbest_generator.o .libs/writer.o .libs/string_buffer.o .libs/param.o .libs/tokenizer.o .libs/char_property.o .libs/dictionary.o .libs/feature_index.o .libs/lbfgs.o .libs/learner_tagger.o .libs/learner.o .libs/libmecab.o   -lpthread -L/usr/lib/gcc/x86_64-linux-gnu/7 -L/usr/lib/gcc/x86_64-linux-gnu/7/../../../x86_64-linux-gnu -L/usr/lib/gcc/x86_64-linux-gnu/7/../../../../lib -L/lib/x86_64-linux-gnu -L/lib/../lib -L/usr/lib/x86_64-linux-gnu -L/usr/lib/../lib -L/usr/local/cuda/lib64/stubs -L/usr/lib/gcc/x86_64-linux-gnu/7/../../.. -lstdc++ -lm -lc -lgcc_s /usr/lib/gcc/x86_64-linux-gnu/7/crtendS.o /usr/lib/gcc/x86_64-linux-gnu/7/../../../x86_64-linux-gnu/crtn.o  -O3   -Wl,-soname -Wl,libmecab.so.2 -o .libs/libmecab.so.2.0.0\n",
            "libtool: link: (cd \".libs\" && rm -f \"libmecab.so.2\" && ln -s \"libmecab.so.2.0.0\" \"libmecab.so.2\")\n",
            "libtool: link: (cd \".libs\" && rm -f \"libmecab.so\" && ln -s \"libmecab.so.2.0.0\" \"libmecab.so\")\n",
            "libtool: link: ar cru .libs/libmecab.a  viterbi.o tagger.o utils.o eval.o iconv_utils.o dictionary_rewriter.o dictionary_generator.o dictionary_compiler.o context_id.o connector.o nbest_generator.o writer.o string_buffer.o param.o tokenizer.o char_property.o dictionary.o feature_index.o lbfgs.o learner_tagger.o learner.o libmecab.o\n",
            "libtool: link: ranlib .libs/libmecab.a\n",
            "libtool: link: ( cd \".libs\" && rm -f \"libmecab.la\" && ln -s \"../libmecab.la\" \"libmecab.la\" )\n",
            "g++ -DHAVE_CONFIG_H -I. -I.. -DDIC_VERSION=102   -DMECAB_DEFAULT_RC=\"\\\"/usr/local/etc/mecabrc\\\"\"    -O3 -Wall  -c -o mecab.o mecab.cpp\n",
            "/bin/bash ../libtool --tag=CXX   --mode=link g++  -O3 -Wall    -o mecab mecab.o libmecab.la -lpthread -lpthread  -lstdc++ \n",
            "libtool: link: g++ -O3 -Wall -o .libs/mecab mecab.o  ./.libs/libmecab.so -lpthread -lstdc++\n",
            "g++ -DHAVE_CONFIG_H -I. -I.. -DDIC_VERSION=102   -DMECAB_DEFAULT_RC=\"\\\"/usr/local/etc/mecabrc\\\"\"    -O3 -Wall  -c -o mecab-dict-index.o mecab-dict-index.cpp\n",
            "/bin/bash ../libtool --tag=CXX   --mode=link g++  -O3 -Wall    -o mecab-dict-index mecab-dict-index.o libmecab.la -lpthread -lpthread  -lstdc++ \n",
            "libtool: link: g++ -O3 -Wall -o .libs/mecab-dict-index mecab-dict-index.o  ./.libs/libmecab.so -lpthread -lstdc++\n",
            "g++ -DHAVE_CONFIG_H -I. -I.. -DDIC_VERSION=102   -DMECAB_DEFAULT_RC=\"\\\"/usr/local/etc/mecabrc\\\"\"    -O3 -Wall  -c -o mecab-dict-gen.o mecab-dict-gen.cpp\n",
            "/bin/bash ../libtool --tag=CXX   --mode=link g++  -O3 -Wall    -o mecab-dict-gen mecab-dict-gen.o libmecab.la -lpthread -lpthread  -lstdc++ \n",
            "libtool: link: g++ -O3 -Wall -o .libs/mecab-dict-gen mecab-dict-gen.o  ./.libs/libmecab.so -lpthread -lstdc++\n",
            "g++ -DHAVE_CONFIG_H -I. -I.. -DDIC_VERSION=102   -DMECAB_DEFAULT_RC=\"\\\"/usr/local/etc/mecabrc\\\"\"    -O3 -Wall  -c -o mecab-cost-train.o mecab-cost-train.cpp\n",
            "/bin/bash ../libtool --tag=CXX   --mode=link g++  -O3 -Wall    -o mecab-cost-train mecab-cost-train.o libmecab.la -lpthread -lpthread  -lstdc++ \n",
            "libtool: link: g++ -O3 -Wall -o .libs/mecab-cost-train mecab-cost-train.o  ./.libs/libmecab.so -lpthread -lstdc++\n",
            "g++ -DHAVE_CONFIG_H -I. -I.. -DDIC_VERSION=102   -DMECAB_DEFAULT_RC=\"\\\"/usr/local/etc/mecabrc\\\"\"    -O3 -Wall  -c -o mecab-system-eval.o mecab-system-eval.cpp\n",
            "/bin/bash ../libtool --tag=CXX   --mode=link g++  -O3 -Wall    -o mecab-system-eval mecab-system-eval.o libmecab.la -lpthread -lpthread  -lstdc++ \n",
            "libtool: link: g++ -O3 -Wall -o .libs/mecab-system-eval mecab-system-eval.o  ./.libs/libmecab.so -lpthread -lstdc++\n",
            "g++ -DHAVE_CONFIG_H -I. -I.. -DDIC_VERSION=102   -DMECAB_DEFAULT_RC=\"\\\"/usr/local/etc/mecabrc\\\"\"    -O3 -Wall  -c -o mecab-test-gen.o mecab-test-gen.cpp\n",
            "/bin/bash ../libtool --tag=CXX   --mode=link g++  -O3 -Wall    -o mecab-test-gen mecab-test-gen.o libmecab.la -lpthread -lpthread  -lstdc++ \n",
            "libtool: link: g++ -O3 -Wall -o .libs/mecab-test-gen mecab-test-gen.o  ./.libs/libmecab.so -lpthread -lstdc++\n",
            "make[2]: Leaving directory '/tmp/mecab-0.996-ko-0.9.2/src'\n",
            "Making all in man\n",
            "make[2]: Entering directory '/tmp/mecab-0.996-ko-0.9.2/man'\n",
            "make[2]: Nothing to be done for 'all'.\n",
            "make[2]: Leaving directory '/tmp/mecab-0.996-ko-0.9.2/man'\n",
            "Making all in doc\n",
            "make[2]: Entering directory '/tmp/mecab-0.996-ko-0.9.2/doc'\n",
            "make[2]: Nothing to be done for 'all'.\n",
            "make[2]: Leaving directory '/tmp/mecab-0.996-ko-0.9.2/doc'\n",
            "Making all in tests\n",
            "make[2]: Entering directory '/tmp/mecab-0.996-ko-0.9.2/tests'\n",
            "make[2]: Nothing to be done for 'all'.\n",
            "make[2]: Leaving directory '/tmp/mecab-0.996-ko-0.9.2/tests'\n",
            "make[2]: Entering directory '/tmp/mecab-0.996-ko-0.9.2'\n",
            "make[2]: Leaving directory '/tmp/mecab-0.996-ko-0.9.2'\n",
            "make[1]: Leaving directory '/tmp/mecab-0.996-ko-0.9.2'\n",
            "Making check in src\n",
            "make[1]: Entering directory '/tmp/mecab-0.996-ko-0.9.2/src'\n",
            "make[1]: Nothing to be done for 'check'.\n",
            "make[1]: Leaving directory '/tmp/mecab-0.996-ko-0.9.2/src'\n",
            "Making check in man\n",
            "make[1]: Entering directory '/tmp/mecab-0.996-ko-0.9.2/man'\n",
            "make[1]: Nothing to be done for 'check'.\n",
            "make[1]: Leaving directory '/tmp/mecab-0.996-ko-0.9.2/man'\n",
            "Making check in doc\n",
            "make[1]: Entering directory '/tmp/mecab-0.996-ko-0.9.2/doc'\n",
            "make[1]: Nothing to be done for 'check'.\n",
            "make[1]: Leaving directory '/tmp/mecab-0.996-ko-0.9.2/doc'\n",
            "Making check in tests\n",
            "make[1]: Entering directory '/tmp/mecab-0.996-ko-0.9.2/tests'\n",
            "make  check-TESTS\n",
            "make[2]: Entering directory '/tmp/mecab-0.996-ko-0.9.2/tests'\n",
            "reading ./unk.def ... 2\n",
            "emitting double-array:  50% |#####################                      | \remitting double-array: 100% |###########################################| \n",
            "./model.def is not found. skipped.\n",
            "reading ./dic.csv ... 177\n",
            "emitting double-array:   1% |                                           | \remitting double-array:   3% |#                                          | \remitting double-array:   5% |##                                         | \remitting double-array:   7% |###                                        | \remitting double-array:   9% |###                                        | \remitting double-array:  11% |####                                       | \remitting double-array:  12% |#####                                      | \remitting double-array:  14% |######                                     | \remitting double-array:  16% |#######                                    | \remitting double-array:  18% |#######                                    | \remitting double-array:  20% |########                                   | \remitting double-array:  22% |#########                                  | \remitting double-array:  24% |##########                                 | \remitting double-array:  25% |###########                                | \remitting double-array:  27% |###########                                | \remitting double-array:  29% |############                               | \remitting double-array:  31% |#############                              | \remitting double-array:  33% |##############                             | \remitting double-array:  35% |###############                            | \remitting double-array:  37% |###############                            | \remitting double-array:  38% |################                           | \remitting double-array:  40% |#################                          | \remitting double-array:  42% |##################                         | \remitting double-array:  44% |###################                        | \remitting double-array:  46% |###################                        | \remitting double-array:  48% |####################                       | \remitting double-array:  50% |#####################                      | \remitting double-array:  51% |######################                     | \remitting double-array:  53% |#######################                    | \remitting double-array:  55% |#######################                    | \remitting double-array:  57% |########################                   | \remitting double-array:  59% |#########################                  | \remitting double-array:  61% |##########################                 | \remitting double-array:  62% |###########################                | \remitting double-array:  64% |###########################                | \remitting double-array:  66% |############################               | \remitting double-array:  68% |#############################              | \remitting double-array:  70% |##############################             | \remitting double-array:  72% |###############################            | \remitting double-array:  74% |###############################            | \remitting double-array:  75% |################################           | \remitting double-array:  77% |#################################          | \remitting double-array:  79% |##################################         | \remitting double-array:  81% |###################################        | \remitting double-array:  83% |###################################        | \remitting double-array:  85% |####################################       | \remitting double-array:  87% |#####################################      | \remitting double-array:  88% |######################################     | \remitting double-array:  90% |#######################################    | \remitting double-array:  92% |#######################################    | \remitting double-array:  94% |########################################   | \remitting double-array:  96% |#########################################  | \remitting double-array:  98% |########################################## | \remitting double-array: 100% |###########################################| \n",
            "reading ./matrix.def ... 178x178\n",
            "emitting matrix      :   0% |                                           | \remitting matrix      :   1% |                                           | \remitting matrix      :   2% |                                           | \remitting matrix      :   3% |#                                          | \remitting matrix      :   4% |#                                          | \remitting matrix      :   5% |##                                         | \remitting matrix      :   6% |##                                         | \remitting matrix      :   7% |###                                        | \remitting matrix      :   8% |###                                        | \remitting matrix      :   9% |####                                       | \remitting matrix      :  10% |####                                       | \remitting matrix      :  11% |####                                       | \remitting matrix      :  12% |#####                                      | \remitting matrix      :  13% |#####                                      | \remitting matrix      :  14% |######                                     | \remitting matrix      :  15% |######                                     | \remitting matrix      :  16% |#######                                    | \remitting matrix      :  17% |#######                                    | \remitting matrix      :  18% |#######                                    | \remitting matrix      :  19% |########                                   | \remitting matrix      :  20% |########                                   | \remitting matrix      :  21% |#########                                  | \remitting matrix      :  22% |#########                                  | \remitting matrix      :  23% |#########                                  | \remitting matrix      :  24% |##########                                 | \remitting matrix      :  25% |##########                                 | \remitting matrix      :  26% |###########                                | \remitting matrix      :  27% |###########                                | \remitting matrix      :  28% |############                               | \remitting matrix      :  29% |############                               | \remitting matrix      :  30% |#############                              | \remitting matrix      :  31% |#############                              | \remitting matrix      :  32% |#############                              | \remitting matrix      :  33% |##############                             | \remitting matrix      :  34% |##############                             | \remitting matrix      :  35% |###############                            | \remitting matrix      :  36% |###############                            | \remitting matrix      :  37% |###############                            | \remitting matrix      :  38% |################                           | \remitting matrix      :  39% |################                           | \remitting matrix      :  40% |#################                          | \remitting matrix      :  41% |#################                          | \remitting matrix      :  42% |##################                         | \remitting matrix      :  43% |##################                         | \remitting matrix      :  44% |###################                        | \remitting matrix      :  45% |###################                        | \remitting matrix      :  46% |###################                        | \remitting matrix      :  47% |####################                       | \remitting matrix      :  48% |####################                       | \remitting matrix      :  49% |#####################                      | \remitting matrix      :  50% |#####################                      | \remitting matrix      :  51% |#####################                      | \remitting matrix      :  52% |######################                     | \remitting matrix      :  53% |######################                     | \remitting matrix      :  54% |#######################                    | \remitting matrix      :  55% |#######################                    | \remitting matrix      :  56% |########################                   | \remitting matrix      :  57% |########################                   | \remitting matrix      :  58% |#########################                  | \remitting matrix      :  59% |#########################                  | \remitting matrix      :  60% |#########################                  | \remitting matrix      :  61% |##########################                 | \remitting matrix      :  62% |##########################                 | \remitting matrix      :  63% |###########################                | \remitting matrix      :  64% |###########################                | \remitting matrix      :  65% |############################               | \remitting matrix      :  66% |############################               | \remitting matrix      :  67% |############################               | \remitting matrix      :  68% |#############################              | \remitting matrix      :  69% |#############################              | \remitting matrix      :  70% |##############################             | \remitting matrix      :  71% |##############################             | \remitting matrix      :  72% |###############################            | \remitting matrix      :  73% |###############################            | \remitting matrix      :  74% |###############################            | \remitting matrix      :  75% |################################           | \remitting matrix      :  76% |################################           | \remitting matrix      :  77% |#################################          | \remitting matrix      :  78% |#################################          | \remitting matrix      :  79% |##################################         | \remitting matrix      :  80% |##################################         | \remitting matrix      :  81% |###################################        | \remitting matrix      :  82% |###################################        | \remitting matrix      :  83% |###################################        | \remitting matrix      :  84% |####################################       | \remitting matrix      :  85% |####################################       | \remitting matrix      :  86% |#####################################      | \remitting matrix      :  87% |#####################################      | \remitting matrix      :  88% |#####################################      | \remitting matrix      :  89% |######################################     | \remitting matrix      :  90% |######################################     | \remitting matrix      :  91% |#######################################    | \remitting matrix      :  92% |#######################################    | \remitting matrix      :  93% |########################################   | \remitting matrix      :  94% |########################################   | \remitting matrix      :  95% |#########################################  | \remitting matrix      :  96% |#########################################  | \remitting matrix      :  97% |#########################################  | \remitting matrix      :  98% |########################################## | \remitting matrix      :  99% |########################################## | \remitting matrix      : 100% |###########################################| \n",
            "\n",
            "done!\n",
            "reading ./unk.def ... 2\n",
            "emitting double-array:  50% |#####################                      | \remitting double-array: 100% |###########################################| \n",
            "./model.def is not found. skipped.\n",
            "reading ./dic.csv ... 83\n",
            "emitting double-array:  10% |####                                       | \remitting double-array:  20% |########                                   | \remitting double-array:  30% |############                               | \remitting double-array:  40% |#################                          | \remitting double-array:  50% |#####################                      | \remitting double-array:  60% |#########################                  | \remitting double-array:  70% |##############################             | \remitting double-array:  80% |##################################         | \remitting double-array:  90% |######################################     | \remitting double-array: 100% |###########################################| \n",
            "reading ./matrix.def ... 84x84\n",
            "emitting matrix      :   1% |                                           | \remitting matrix      :   2% |#                                          | \remitting matrix      :   3% |#                                          | \remitting matrix      :   4% |##                                         | \remitting matrix      :   5% |##                                         | \remitting matrix      :   7% |###                                        | \remitting matrix      :   8% |###                                        | \remitting matrix      :   9% |####                                       | \remitting matrix      :  10% |####                                       | \remitting matrix      :  11% |#####                                      | \remitting matrix      :  13% |#####                                      | \remitting matrix      :  14% |######                                     | \remitting matrix      :  15% |######                                     | \remitting matrix      :  16% |#######                                    | \remitting matrix      :  17% |#######                                    | \remitting matrix      :  19% |########                                   | \remitting matrix      :  20% |########                                   | \remitting matrix      :  21% |#########                                  | \remitting matrix      :  22% |#########                                  | \remitting matrix      :  23% |##########                                 | \remitting matrix      :  25% |##########                                 | \remitting matrix      :  26% |###########                                | \remitting matrix      :  27% |###########                                | \remitting matrix      :  28% |############                               | \remitting matrix      :  29% |############                               | \remitting matrix      :  30% |#############                              | \remitting matrix      :  32% |#############                              | \remitting matrix      :  33% |##############                             | \remitting matrix      :  34% |##############                             | \remitting matrix      :  35% |###############                            | \remitting matrix      :  36% |###############                            | \remitting matrix      :  38% |################                           | \remitting matrix      :  39% |################                           | \remitting matrix      :  40% |#################                          | \remitting matrix      :  41% |#################                          | \remitting matrix      :  42% |##################                         | \remitting matrix      :  44% |##################                         | \remitting matrix      :  45% |###################                        | \remitting matrix      :  46% |###################                        | \remitting matrix      :  47% |####################                       | \remitting matrix      :  48% |####################                       | \remitting matrix      :  50% |#####################                      | \remitting matrix      :  51% |######################                     | \remitting matrix      :  52% |######################                     | \remitting matrix      :  53% |#######################                    | \remitting matrix      :  54% |#######################                    | \remitting matrix      :  55% |########################                   | \remitting matrix      :  57% |########################                   | \remitting matrix      :  58% |#########################                  | \remitting matrix      :  59% |#########################                  | \remitting matrix      :  60% |##########################                 | \remitting matrix      :  61% |##########################                 | \remitting matrix      :  63% |###########################                | \remitting matrix      :  64% |###########################                | \remitting matrix      :  65% |############################               | \remitting matrix      :  66% |############################               | \remitting matrix      :  67% |#############################              | \remitting matrix      :  69% |#############################              | \remitting matrix      :  70% |##############################             | \remitting matrix      :  71% |##############################             | \remitting matrix      :  72% |###############################            | \remitting matrix      :  73% |###############################            | \remitting matrix      :  75% |################################           | \remitting matrix      :  76% |################################           | \remitting matrix      :  77% |#################################          | \remitting matrix      :  78% |#################################          | \remitting matrix      :  79% |##################################         | \remitting matrix      :  80% |##################################         | \remitting matrix      :  82% |###################################        | \remitting matrix      :  83% |###################################        | \remitting matrix      :  84% |####################################       | \remitting matrix      :  85% |####################################       | \remitting matrix      :  86% |#####################################      | \remitting matrix      :  88% |#####################################      | \remitting matrix      :  89% |######################################     | \remitting matrix      :  90% |######################################     | \remitting matrix      :  91% |#######################################    | \remitting matrix      :  92% |#######################################    | \remitting matrix      :  94% |########################################   | \remitting matrix      :  95% |########################################   | \remitting matrix      :  96% |#########################################  | \remitting matrix      :  97% |#########################################  | \remitting matrix      :  98% |########################################## | \remitting matrix      : 100% |###########################################| \n",
            "\n",
            "done!\n",
            "reading ./unk.def ... 2\n",
            "emitting double-array:  50% |#####################                      | \remitting double-array: 100% |###########################################| \n",
            "./model.def is not found. skipped.\n",
            "reading ./dic.csv ... 450\n",
            "emitting double-array:   0% |                                           | \remitting double-array:   1% |                                           | \remitting double-array:   2% |                                           | \remitting double-array:   3% |#                                          | \remitting double-array:   4% |#                                          | \remitting double-array:   5% |##                                         | \remitting double-array:   6% |##                                         | \remitting double-array:   7% |###                                        | \remitting double-array:   8% |###                                        | \remitting double-array:   9% |###                                        | \remitting double-array:  10% |####                                       | \remitting double-array:  11% |####                                       | \remitting double-array:  12% |#####                                      | \remitting double-array:  13% |#####                                      | \remitting double-array:  14% |######                                     | \remitting double-array:  15% |######                                     | \remitting double-array:  16% |######                                     | \remitting double-array:  17% |#######                                    | \remitting double-array:  18% |#######                                    | \remitting double-array:  19% |########                                   | \remitting double-array:  20% |########                                   | \remitting double-array:  21% |#########                                  | \remitting double-array:  22% |#########                                  | \remitting double-array:  23% |#########                                  | \remitting double-array:  24% |##########                                 | \remitting double-array:  25% |##########                                 | \remitting double-array:  26% |###########                                | \remitting double-array:  27% |###########                                | \remitting double-array:  28% |############                               | \remitting double-array:  29% |############                               | \remitting double-array:  30% |############                               | \remitting double-array:  31% |#############                              | \remitting double-array:  32% |#############                              | \remitting double-array:  33% |##############                             | \remitting double-array:  34% |##############                             | \remitting double-array:  35% |###############                            | \remitting double-array:  36% |###############                            | \remitting double-array:  37% |###############                            | \remitting double-array:  38% |################                           | \remitting double-array:  39% |################                           | \remitting double-array:  40% |#################                          | \remitting double-array:  41% |#################                          | \remitting double-array:  42% |##################                         | \remitting double-array:  43% |##################                         | \remitting double-array:  44% |##################                         | \remitting double-array:  45% |###################                        | \remitting double-array:  46% |###################                        | \remitting double-array:  47% |####################                       | \remitting double-array:  48% |####################                       | \remitting double-array:  49% |#####################                      | \remitting double-array:  50% |#####################                      | \remitting double-array:  51% |#####################                      | \remitting double-array:  52% |######################                     | \remitting double-array:  53% |######################                     | \remitting double-array:  54% |#######################                    | \remitting double-array:  55% |#######################                    | \remitting double-array:  56% |########################                   | \remitting double-array:  57% |########################                   | \remitting double-array:  58% |#########################                  | \remitting double-array:  59% |#########################                  | \remitting double-array:  60% |#########################                  | \remitting double-array:  61% |##########################                 | \remitting double-array:  62% |##########################                 | \remitting double-array:  63% |###########################                | \remitting double-array:  64% |###########################                | \remitting double-array:  65% |###########################                | \remitting double-array:  66% |############################               | \remitting double-array:  67% |############################               | \remitting double-array:  68% |#############################              | \remitting double-array:  69% |#############################              | \remitting double-array:  70% |##############################             | \remitting double-array:  71% |##############################             | \remitting double-array:  72% |##############################             | \remitting double-array:  73% |###############################            | \remitting double-array:  74% |###############################            | \remitting double-array:  75% |################################           | \remitting double-array:  76% |################################           | \remitting double-array:  77% |#################################          | \remitting double-array:  78% |#################################          | \remitting double-array:  79% |##################################         | \remitting double-array:  80% |##################################         | \remitting double-array:  81% |##################################         | \remitting double-array:  82% |###################################        | \remitting double-array:  83% |###################################        | \remitting double-array:  84% |####################################       | \remitting double-array:  85% |####################################       | \remitting double-array:  86% |#####################################      | \remitting double-array:  87% |#####################################      | \remitting double-array:  88% |#####################################      | \remitting double-array:  89% |######################################     | \remitting double-array:  90% |######################################     | \remitting double-array:  91% |#######################################    | \remitting double-array:  92% |#######################################    | \remitting double-array:  93% |########################################   | \remitting double-array:  94% |########################################   | \remitting double-array:  95% |########################################   | \remitting double-array:  96% |#########################################  | \remitting double-array:  97% |#########################################  | \remitting double-array:  98% |########################################## | \remitting double-array:  99% |########################################## | \remitting double-array: 100% |###########################################| \n",
            "reading ./matrix.def ... 1x1\n",
            "\n",
            "done!\n",
            "reading ./unk.def ... 2\n",
            "emitting double-array:  50% |#####################                      | \remitting double-array: 100% |###########################################| \n",
            "./model.def is not found. skipped.\n",
            "reading ./dic.csv ... 162\n",
            "emitting double-array:   1% |                                           | \remitting double-array:   2% |#                                          | \remitting double-array:   3% |#                                          | \remitting double-array:   4% |##                                         | \remitting double-array:   6% |##                                         | \remitting double-array:   7% |###                                        | \remitting double-array:   8% |###                                        | \remitting double-array:   9% |####                                       | \remitting double-array:  11% |####                                       | \remitting double-array:  12% |#####                                      | \remitting double-array:  13% |#####                                      | \remitting double-array:  14% |######                                     | \remitting double-array:  16% |######                                     | \remitting double-array:  17% |#######                                    | \remitting double-array:  18% |#######                                    | \remitting double-array:  19% |########                                   | \remitting double-array:  20% |#########                                  | \remitting double-array:  22% |#########                                  | \remitting double-array:  23% |##########                                 | \remitting double-array:  24% |##########                                 | \remitting double-array:  25% |###########                                | \remitting double-array:  27% |###########                                | \remitting double-array:  28% |############                               | \remitting double-array:  29% |############                               | \remitting double-array:  30% |#############                              | \remitting double-array:  32% |#############                              | \remitting double-array:  33% |##############                             | \remitting double-array:  34% |##############                             | \remitting double-array:  35% |###############                            | \remitting double-array:  37% |###############                            | \remitting double-array:  38% |################                           | \remitting double-array:  39% |################                           | \remitting double-array:  40% |#################                          | \remitting double-array:  41% |##################                         | \remitting double-array:  43% |##################                         | \remitting double-array:  44% |###################                        | \remitting double-array:  45% |###################                        | \remitting double-array:  46% |####################                       | \remitting double-array:  48% |####################                       | \remitting double-array:  49% |#####################                      | \remitting double-array:  50% |#####################                      | \remitting double-array:  51% |######################                     | \remitting double-array:  53% |######################                     | \remitting double-array:  54% |#######################                    | \remitting double-array:  55% |#######################                    | \remitting double-array:  56% |########################                   | \remitting double-array:  58% |########################                   | \remitting double-array:  59% |#########################                  | \remitting double-array:  60% |##########################                 | \remitting double-array:  61% |##########################                 | \remitting double-array:  62% |###########################                | \remitting double-array:  64% |###########################                | \remitting double-array:  65% |############################               | \remitting double-array:  66% |############################               | \remitting double-array:  67% |#############################              | \remitting double-array:  69% |#############################              | \remitting double-array:  70% |##############################             | \remitting double-array:  71% |##############################             | \remitting double-array:  72% |###############################            | \remitting double-array:  74% |###############################            | \remitting double-array:  75% |################################           | \remitting double-array:  76% |################################           | \remitting double-array:  77% |#################################          | \remitting double-array:  79% |#################################          | \remitting double-array:  80% |##################################         | \remitting double-array:  81% |###################################        | \remitting double-array:  82% |###################################        | \remitting double-array:  83% |####################################       | \remitting double-array:  85% |####################################       | \remitting double-array:  86% |#####################################      | \remitting double-array:  87% |#####################################      | \remitting double-array:  88% |######################################     | \remitting double-array:  90% |######################################     | \remitting double-array:  91% |#######################################    | \remitting double-array:  92% |#######################################    | \remitting double-array:  93% |########################################   | \remitting double-array:  95% |########################################   | \remitting double-array:  96% |#########################################  | \remitting double-array:  97% |#########################################  | \remitting double-array:  98% |########################################## | \remitting double-array: 100% |###########################################| \n",
            "reading ./matrix.def ... 3x3\n",
            "emitting matrix      :  33% |##############                             | \remitting matrix      :  66% |############################               | \remitting matrix      : 100% |###########################################| \n",
            "\n",
            "done!\n",
            "reading ./unk.def ... 2\n",
            "emitting double-array:  50% |#####################                      | \remitting double-array: 100% |###########################################| \n",
            "./model.def is not found. skipped.\n",
            "reading ./dic.csv ... 4\n",
            "emitting double-array:  25% |##########                                 | \remitting double-array:  50% |#####################                      | \remitting double-array:  75% |################################           | \remitting double-array: 100% |###########################################| \n",
            "reading ./matrix.def ... 1x1\n",
            "\n",
            "done!\n",
            "reading ./unk.def ... 11\n",
            "emitting double-array:   9% |###                                        | \remitting double-array:  18% |#######                                    | \remitting double-array:  27% |###########                                | \remitting double-array:  36% |###############                            | \remitting double-array:  45% |###################                        | \remitting double-array:  54% |#######################                    | \remitting double-array:  63% |###########################                | \remitting double-array:  72% |###############################            | \remitting double-array:  81% |###################################        | \remitting double-array:  90% |#######################################    | \remitting double-array: 100% |###########################################| \n",
            "./model.def is not found. skipped.\n",
            "reading ./dic.csv ... 1\n",
            "reading ./matrix.def ... 1x1\n",
            "\n",
            "done!\n",
            "reading ./unk.def ... 2\n",
            "emitting double-array:  50% |#####################                      | \remitting double-array: 100% |###########################################| \n",
            "./model.def is not found. skipped.\n",
            "reading ./dic.csv ... 1\n",
            "reading ./matrix.def ... 1x1\n",
            "\n",
            "done!\n",
            "PASS: run-dics.sh\n",
            "PASS: run-eval.sh\n",
            "reading seed/unk.def ... 40\n",
            "emitting double-array:   9% |###                                        | \remitting double-array:  18% |#######                                    | \remitting double-array:  27% |###########                                | \remitting double-array:  36% |###############                            | \remitting double-array:  45% |###################                        | \remitting double-array:  54% |#######################                    | \remitting double-array:  63% |###########################                | \remitting double-array:  72% |###############################            | \remitting double-array:  81% |###################################        | \remitting double-array:  90% |#######################################    | \remitting double-array: 100% |###########################################| \n",
            "seed/model.def is not found. skipped.\n",
            "reading seed/dic.csv ... 4335\n",
            "emitting double-array:   0% |                                           | \remitting double-array:   1% |                                           | \remitting double-array:   2% |                                           | \remitting double-array:   3% |#                                          | \remitting double-array:   4% |#                                          | \remitting double-array:   5% |##                                         | \remitting double-array:   6% |##                                         | \remitting double-array:   7% |###                                        | \remitting double-array:   8% |###                                        | \remitting double-array:   9% |###                                        | \remitting double-array:  10% |####                                       | \remitting double-array:  11% |####                                       | \remitting double-array:  12% |#####                                      | \remitting double-array:  13% |#####                                      | \remitting double-array:  14% |######                                     | \remitting double-array:  15% |######                                     | \remitting double-array:  16% |######                                     | \remitting double-array:  17% |#######                                    | \remitting double-array:  18% |#######                                    | \remitting double-array:  19% |########                                   | \remitting double-array:  20% |########                                   | \remitting double-array:  21% |#########                                  | \remitting double-array:  22% |#########                                  | \remitting double-array:  23% |#########                                  | \remitting double-array:  24% |##########                                 | \remitting double-array:  25% |##########                                 | \remitting double-array:  26% |###########                                | \remitting double-array:  27% |###########                                | \remitting double-array:  28% |############                               | \remitting double-array:  29% |############                               | \remitting double-array:  30% |############                               | \remitting double-array:  31% |#############                              | \remitting double-array:  32% |#############                              | \remitting double-array:  33% |##############                             | \remitting double-array:  34% |##############                             | \remitting double-array:  35% |###############                            | \remitting double-array:  36% |###############                            | \remitting double-array:  37% |###############                            | \remitting double-array:  38% |################                           | \remitting double-array:  39% |################                           | \remitting double-array:  40% |#################                          | \remitting double-array:  41% |#################                          | \remitting double-array:  42% |##################                         | \remitting double-array:  43% |##################                         | \remitting double-array:  44% |##################                         | \remitting double-array:  45% |###################                        | \remitting double-array:  46% |###################                        | \remitting double-array:  47% |####################                       | \remitting double-array:  48% |####################                       | \remitting double-array:  49% |#####################                      | \remitting double-array:  50% |#####################                      | \remitting double-array:  51% |#####################                      | \remitting double-array:  52% |######################                     | \remitting double-array:  53% |######################                     | \remitting double-array:  54% |#######################                    | \remitting double-array:  55% |#######################                    | \remitting double-array:  56% |########################                   | \remitting double-array:  57% |########################                   | \remitting double-array:  58% |########################                   | \remitting double-array:  59% |#########################                  | \remitting double-array:  60% |#########################                  | \remitting double-array:  61% |##########################                 | \remitting double-array:  62% |##########################                 | \remitting double-array:  63% |###########################                | \remitting double-array:  64% |###########################                | \remitting double-array:  65% |###########################                | \remitting double-array:  66% |############################               | \remitting double-array:  67% |############################               | \remitting double-array:  68% |#############################              | \remitting double-array:  69% |#############################              | \remitting double-array:  70% |##############################             | \remitting double-array:  71% |##############################             | \remitting double-array:  72% |##############################             | \remitting double-array:  73% |###############################            | \remitting double-array:  74% |###############################            | \remitting double-array:  75% |################################           | \remitting double-array:  76% |################################           | \remitting double-array:  77% |#################################          | \remitting double-array:  78% |#################################          | \remitting double-array:  79% |#################################          | \remitting double-array:  80% |##################################         | \remitting double-array:  81% |##################################         | \remitting double-array:  82% |###################################        | \remitting double-array:  83% |###################################        | \remitting double-array:  84% |####################################       | \remitting double-array:  85% |####################################       | \remitting double-array:  86% |#####################################      | \remitting double-array:  87% |#####################################      | \remitting double-array:  88% |#####################################      | \remitting double-array:  89% |######################################     | \remitting double-array:  90% |######################################     | \remitting double-array:  91% |#######################################    | \remitting double-array:  92% |#######################################    | \remitting double-array:  93% |########################################   | \remitting double-array:  94% |########################################   | \remitting double-array:  95% |########################################   | \remitting double-array:  96% |#########################################  | \remitting double-array:  97% |#########################################  | \remitting double-array:  98% |########################################## | \remitting double-array:  99% |########################################## | \remitting double-array: 100% |###########################################| \n",
            "reading seed/matrix.def ... 1x1\n",
            "\n",
            "done!\n",
            "reading corpus ...\n",
            "Number of sentences: 34\n",
            "Number of features:  64108\n",
            "eta:                 0.00005\n",
            "freq:                1\n",
            "eval-size:           6\n",
            "unk-eval-size:       4\n",
            "threads:             1\n",
            "charset:             EUC-JP\n",
            "C(sigma^2):          1.00000\n",
            "\n",
            "iter=0 err=1.00000 F=0.35771 target=2406.28355 diff=1.00000\n",
            "iter=1 err=0.97059 F=0.65652 target=1484.25231 diff=0.38318\n",
            "iter=2 err=0.91176 F=0.79331 target=863.32765 diff=0.41834\n",
            "iter=3 err=0.85294 F=0.89213 target=596.72480 diff=0.30881\n",
            "iter=4 err=0.61765 F=0.95467 target=336.30744 diff=0.43641\n",
            "iter=5 err=0.50000 F=0.96702 target=246.53039 diff=0.26695\n",
            "iter=6 err=0.35294 F=0.95472 target=188.93963 diff=0.23361\n",
            "iter=7 err=0.20588 F=0.99106 target=168.62665 diff=0.10751\n",
            "iter=8 err=0.05882 F=0.99777 target=158.64865 diff=0.05917\n",
            "iter=9 err=0.08824 F=0.99665 target=154.14530 diff=0.02839\n",
            "iter=10 err=0.08824 F=0.99665 target=151.94257 diff=0.01429\n",
            "iter=11 err=0.02941 F=0.99888 target=147.20825 diff=0.03116\n",
            "iter=12 err=0.00000 F=1.00000 target=147.34956 diff=0.00096\n",
            "iter=13 err=0.02941 F=0.99888 target=146.32592 diff=0.00695\n",
            "iter=14 err=0.00000 F=1.00000 target=145.77299 diff=0.00378\n",
            "iter=15 err=0.02941 F=0.99888 target=145.24641 diff=0.00361\n",
            "iter=16 err=0.00000 F=1.00000 target=144.96490 diff=0.00194\n",
            "iter=17 err=0.02941 F=0.99888 target=144.90246 diff=0.00043\n",
            "iter=18 err=0.00000 F=1.00000 target=144.75959 diff=0.00099\n",
            "iter=19 err=0.00000 F=1.00000 target=144.71727 diff=0.00029\n",
            "iter=20 err=0.00000 F=1.00000 target=144.66337 diff=0.00037\n",
            "iter=21 err=0.00000 F=1.00000 target=144.61349 diff=0.00034\n",
            "iter=22 err=0.00000 F=1.00000 target=144.62987 diff=0.00011\n",
            "iter=23 err=0.00000 F=1.00000 target=144.60060 diff=0.00020\n",
            "iter=24 err=0.00000 F=1.00000 target=144.59125 diff=0.00006\n",
            "iter=25 err=0.00000 F=1.00000 target=144.58619 diff=0.00004\n",
            "iter=26 err=0.00000 F=1.00000 target=144.58219 diff=0.00003\n",
            "iter=27 err=0.00000 F=1.00000 target=144.58059 diff=0.00001\n",
            "\n",
            "Done! writing model file ... \n",
            "model-ipadic.c1.0.f1.model is not a binary model. reopen it as text mode...\n",
            "reading seed/unk.def ... 40\n",
            "reading seed/dic.csv ... 4335\n",
            "emitting model-ipadic.c1.0.f1.dic/left-id.def/ model-ipadic.c1.0.f1.dic/right-id.def\n",
            "emitting model-ipadic.c1.0.f1.dic/unk.def ... 40\n",
            "emitting model-ipadic.c1.0.f1.dic/dic.csv ... 4335\n",
            "emitting matrix      :   1% |                                           | \remitting matrix      :   2% |                                           | \remitting matrix      :   3% |#                                          | \remitting matrix      :   4% |#                                          | \remitting matrix      :   5% |##                                         | \remitting matrix      :   6% |##                                         | \remitting matrix      :   7% |###                                        | \remitting matrix      :   8% |###                                        | \remitting matrix      :   9% |###                                        | \remitting matrix      :  10% |####                                       | \remitting matrix      :  11% |####                                       | \remitting matrix      :  12% |#####                                      | \remitting matrix      :  13% |#####                                      | \remitting matrix      :  14% |######                                     | \remitting matrix      :  15% |######                                     | \remitting matrix      :  16% |######                                     | \remitting matrix      :  17% |#######                                    | \remitting matrix      :  18% |#######                                    | \remitting matrix      :  19% |########                                   | \remitting matrix      :  20% |########                                   | \remitting matrix      :  21% |#########                                  | \remitting matrix      :  22% |#########                                  | \remitting matrix      :  23% |#########                                  | \remitting matrix      :  24% |##########                                 | \remitting matrix      :  25% |##########                                 | \remitting matrix      :  26% |###########                                | \remitting matrix      :  27% |###########                                | \remitting matrix      :  28% |############                               | \remitting matrix      :  29% |############                               | \remitting matrix      :  30% |############                               | \remitting matrix      :  31% |#############                              | \remitting matrix      :  32% |#############                              | \remitting matrix      :  33% |##############                             | \remitting matrix      :  34% |##############                             | \remitting matrix      :  35% |###############                            | \remitting matrix      :  36% |###############                            | \remitting matrix      :  37% |################                           | \remitting matrix      :  38% |################                           | \remitting matrix      :  39% |################                           | \remitting matrix      :  40% |#################                          | \remitting matrix      :  41% |#################                          | \remitting matrix      :  42% |##################                         | \remitting matrix      :  43% |##################                         | \remitting matrix      :  44% |###################                        | \remitting matrix      :  45% |###################                        | \remitting matrix      :  46% |###################                        | \remitting matrix      :  47% |####################                       | \remitting matrix      :  48% |####################                       | \remitting matrix      :  49% |#####################                      | \remitting matrix      :  50% |#####################                      | \remitting matrix      :  51% |#####################                      | \remitting matrix      :  52% |######################                     | \remitting matrix      :  53% |######################                     | \remitting matrix      :  54% |#######################                    | \remitting matrix      :  55% |#######################                    | \remitting matrix      :  56% |########################                   | \remitting matrix      :  57% |########################                   | \remitting matrix      :  58% |########################                   | \remitting matrix      :  59% |#########################                  | \remitting matrix      :  60% |#########################                  | \remitting matrix      :  61% |##########################                 | \remitting matrix      :  62% |##########################                 | \remitting matrix      :  63% |###########################                | \remitting matrix      :  64% |###########################                | \remitting matrix      :  65% |###########################                | \remitting matrix      :  66% |############################               | \remitting matrix      :  67% |############################               | \remitting matrix      :  68% |#############################              | \remitting matrix      :  69% |#############################              | \remitting matrix      :  70% |##############################             | \remitting matrix      :  71% |##############################             | \remitting matrix      :  72% |###############################            | \remitting matrix      :  73% |###############################            | \remitting matrix      :  74% |###############################            | \remitting matrix      :  75% |################################           | \remitting matrix      :  76% |################################           | \remitting matrix      :  77% |#################################          | \remitting matrix      :  78% |#################################          | \remitting matrix      :  79% |##################################         | \remitting matrix      :  80% |##################################         | \remitting matrix      :  81% |##################################         | \remitting matrix      :  82% |###################################        | \remitting matrix      :  83% |###################################        | \remitting matrix      :  84% |####################################       | \remitting matrix      :  85% |####################################       | \remitting matrix      :  86% |#####################################      | \remitting matrix      :  87% |#####################################      | \remitting matrix      :  88% |#####################################      | \remitting matrix      :  89% |######################################     | \remitting matrix      :  90% |######################################     | \remitting matrix      :  91% |#######################################    | \remitting matrix      :  92% |#######################################    | \remitting matrix      :  93% |########################################   | \remitting matrix      :  94% |########################################   | \remitting matrix      :  95% |########################################   | \remitting matrix      :  96% |#########################################  | \remitting matrix      :  97% |#########################################  | \remitting matrix      :  98% |########################################## | \remitting matrix      :  99% |########################################## | \remitting matrix      : 100% |###########################################| \n",
            "copying seed/char.def to model-ipadic.c1.0.f1.dic/char.def\n",
            "copying seed/rewrite.def to model-ipadic.c1.0.f1.dic/rewrite.def\n",
            "copying seed/dicrc to model-ipadic.c1.0.f1.dic/dicrc\n",
            "copying seed/feature.def to model-ipadic.c1.0.f1.dic/feature.def\n",
            "copying model-ipadic.c1.0.f1.model to model-ipadic.c1.0.f1.dic/model.def\n",
            "\n",
            "done!\n",
            "reading model-ipadic.c1.0.f1.dic/unk.def ... 40\n",
            "emitting double-array:   9% |###                                        | \remitting double-array:  18% |#######                                    | \remitting double-array:  27% |###########                                | \remitting double-array:  36% |###############                            | \remitting double-array:  45% |###################                        | \remitting double-array:  54% |#######################                    | \remitting double-array:  63% |###########################                | \remitting double-array:  72% |###############################            | \remitting double-array:  81% |###################################        | \remitting double-array:  90% |#######################################    | \remitting double-array: 100% |###########################################| \n",
            "reading model-ipadic.c1.0.f1.dic/dic.csv ... 4335\n",
            "emitting double-array:   0% |                                           | \remitting double-array:   1% |                                           | \remitting double-array:   2% |                                           | \remitting double-array:   3% |#                                          | \remitting double-array:   4% |#                                          | \remitting double-array:   5% |##                                         | \remitting double-array:   6% |##                                         | \remitting double-array:   7% |###                                        | \remitting double-array:   8% |###                                        | \remitting double-array:   9% |###                                        | \remitting double-array:  10% |####                                       | \remitting double-array:  11% |####                                       | \remitting double-array:  12% |#####                                      | \remitting double-array:  13% |#####                                      | \remitting double-array:  14% |######                                     | \remitting double-array:  15% |######                                     | \remitting double-array:  16% |######                                     | \remitting double-array:  17% |#######                                    | \remitting double-array:  18% |#######                                    | \remitting double-array:  19% |########                                   | \remitting double-array:  20% |########                                   | \remitting double-array:  21% |#########                                  | \remitting double-array:  22% |#########                                  | \remitting double-array:  23% |#########                                  | \remitting double-array:  24% |##########                                 | \remitting double-array:  25% |##########                                 | \remitting double-array:  26% |###########                                | \remitting double-array:  27% |###########                                | \remitting double-array:  28% |############                               | \remitting double-array:  29% |############                               | \remitting double-array:  30% |############                               | \remitting double-array:  31% |#############                              | \remitting double-array:  32% |#############                              | \remitting double-array:  33% |##############                             | \remitting double-array:  34% |##############                             | \remitting double-array:  35% |###############                            | \remitting double-array:  36% |###############                            | \remitting double-array:  37% |###############                            | \remitting double-array:  38% |################                           | \remitting double-array:  39% |################                           | \remitting double-array:  40% |#################                          | \remitting double-array:  41% |#################                          | \remitting double-array:  42% |##################                         | \remitting double-array:  43% |##################                         | \remitting double-array:  44% |##################                         | \remitting double-array:  45% |###################                        | \remitting double-array:  46% |###################                        | \remitting double-array:  47% |####################                       | \remitting double-array:  48% |####################                       | \remitting double-array:  49% |#####################                      | \remitting double-array:  50% |#####################                      | \remitting double-array:  51% |#####################                      | \remitting double-array:  52% |######################                     | \remitting double-array:  53% |######################                     | \remitting double-array:  54% |#######################                    | \remitting double-array:  55% |#######################                    | \remitting double-array:  56% |########################                   | \remitting double-array:  57% |########################                   | \remitting double-array:  58% |########################                   | \remitting double-array:  59% |#########################                  | \remitting double-array:  60% |#########################                  | \remitting double-array:  61% |##########################                 | \remitting double-array:  62% |##########################                 | \remitting double-array:  63% |###########################                | \remitting double-array:  64% |###########################                | \remitting double-array:  65% |###########################                | \remitting double-array:  66% |############################               | \remitting double-array:  67% |############################               | \remitting double-array:  68% |#############################              | \remitting double-array:  69% |#############################              | \remitting double-array:  70% |##############################             | \remitting double-array:  71% |##############################             | \remitting double-array:  72% |##############################             | \remitting double-array:  73% |###############################            | \remitting double-array:  74% |###############################            | \remitting double-array:  75% |################################           | \remitting double-array:  76% |################################           | \remitting double-array:  77% |#################################          | \remitting double-array:  78% |#################################          | \remitting double-array:  79% |#################################          | \remitting double-array:  80% |##################################         | \remitting double-array:  81% |##################################         | \remitting double-array:  82% |###################################        | \remitting double-array:  83% |###################################        | \remitting double-array:  84% |####################################       | \remitting double-array:  85% |####################################       | \remitting double-array:  86% |#####################################      | \remitting double-array:  87% |#####################################      | \remitting double-array:  88% |#####################################      | \remitting double-array:  89% |######################################     | \remitting double-array:  90% |######################################     | \remitting double-array:  91% |#######################################    | \remitting double-array:  92% |#######################################    | \remitting double-array:  93% |########################################   | \remitting double-array:  94% |########################################   | \remitting double-array:  95% |########################################   | \remitting double-array:  96% |#########################################  | \remitting double-array:  97% |#########################################  | \remitting double-array:  98% |########################################## | \remitting double-array:  99% |########################################## | \remitting double-array: 100% |###########################################| \n",
            "reading model-ipadic.c1.0.f1.dic/matrix.def ... 346x346\n",
            "emitting matrix      :   0% |                                           | \remitting matrix      :   1% |                                           | \remitting matrix      :   2% |                                           | \remitting matrix      :   3% |#                                          | \remitting matrix      :   4% |#                                          | \remitting matrix      :   5% |##                                         | \remitting matrix      :   6% |##                                         | \remitting matrix      :   7% |###                                        | \remitting matrix      :   8% |###                                        | \remitting matrix      :   9% |###                                        | \remitting matrix      :  10% |####                                       | \remitting matrix      :  11% |####                                       | \remitting matrix      :  12% |#####                                      | \remitting matrix      :  13% |#####                                      | \remitting matrix      :  14% |######                                     | \remitting matrix      :  15% |######                                     | \remitting matrix      :  16% |######                                     | \remitting matrix      :  17% |#######                                    | \remitting matrix      :  18% |#######                                    | \remitting matrix      :  19% |########                                   | \remitting matrix      :  20% |########                                   | \remitting matrix      :  21% |#########                                  | \remitting matrix      :  22% |#########                                  | \remitting matrix      :  23% |#########                                  | \remitting matrix      :  24% |##########                                 | \remitting matrix      :  25% |##########                                 | \remitting matrix      :  26% |###########                                | \remitting matrix      :  27% |###########                                | \remitting matrix      :  28% |############                               | \remitting matrix      :  29% |############                               | \remitting matrix      :  30% |############                               | \remitting matrix      :  31% |#############                              | \remitting matrix      :  32% |#############                              | \remitting matrix      :  33% |##############                             | \remitting matrix      :  34% |##############                             | \remitting matrix      :  35% |###############                            | \remitting matrix      :  36% |###############                            | \remitting matrix      :  37% |################                           | \remitting matrix      :  38% |################                           | \remitting matrix      :  39% |################                           | \remitting matrix      :  40% |#################                          | \remitting matrix      :  41% |#################                          | \remitting matrix      :  42% |##################                         | \remitting matrix      :  43% |##################                         | \remitting matrix      :  44% |###################                        | \remitting matrix      :  45% |###################                        | \remitting matrix      :  46% |###################                        | \remitting matrix      :  47% |####################                       | \remitting matrix      :  48% |####################                       | \remitting matrix      :  49% |#####################                      | \remitting matrix      :  50% |#####################                      | \remitting matrix      :  51% |#####################                      | \remitting matrix      :  52% |######################                     | \remitting matrix      :  53% |######################                     | \remitting matrix      :  54% |#######################                    | \remitting matrix      :  55% |#######################                    | \remitting matrix      :  56% |########################                   | \remitting matrix      :  57% |########################                   | \remitting matrix      :  58% |########################                   | \remitting matrix      :  59% |#########################                  | \remitting matrix      :  60% |#########################                  | \remitting matrix      :  61% |##########################                 | \remitting matrix      :  62% |##########################                 | \remitting matrix      :  63% |###########################                | \remitting matrix      :  64% |###########################                | \remitting matrix      :  65% |###########################                | \remitting matrix      :  66% |############################               | \remitting matrix      :  67% |############################               | \remitting matrix      :  68% |#############################              | \remitting matrix      :  69% |#############################              | \remitting matrix      :  70% |##############################             | \remitting matrix      :  71% |##############################             | \remitting matrix      :  72% |###############################            | \remitting matrix      :  73% |###############################            | \remitting matrix      :  74% |###############################            | \remitting matrix      :  75% |################################           | \remitting matrix      :  76% |################################           | \remitting matrix      :  77% |#################################          | \remitting matrix      :  78% |#################################          | \remitting matrix      :  79% |##################################         | \remitting matrix      :  80% |##################################         | \remitting matrix      :  81% |##################################         | \remitting matrix      :  82% |###################################        | \remitting matrix      :  83% |###################################        | \remitting matrix      :  84% |####################################       | \remitting matrix      :  85% |####################################       | \remitting matrix      :  86% |#####################################      | \remitting matrix      :  87% |#####################################      | \remitting matrix      :  88% |#####################################      | \remitting matrix      :  89% |######################################     | \remitting matrix      :  90% |######################################     | \remitting matrix      :  91% |#######################################    | \remitting matrix      :  92% |#######################################    | \remitting matrix      :  93% |########################################   | \remitting matrix      :  94% |########################################   | \remitting matrix      :  95% |########################################   | \remitting matrix      :  96% |#########################################  | \remitting matrix      :  97% |#########################################  | \remitting matrix      :  98% |########################################## | \remitting matrix      :  99% |########################################## | \remitting matrix      : 100% |###########################################| \n",
            "\n",
            "done!\n",
            "              precision          recall         F\n",
            "LEVEL 0:    12.8959(57/442) 11.8998(57/479) 12.3779\n",
            "LEVEL 1:    12.2172(54/442) 11.2735(54/479) 11.7264\n",
            "LEVEL 2:    11.7647(52/442) 10.8559(52/479) 11.2921\n",
            "LEVEL 4:    11.7647(52/442) 10.8559(52/479) 11.2921\n",
            "PASS: run-cost-train.sh\n",
            "==================\n",
            "All 3 tests passed\n",
            "==================\n",
            "make[2]: Leaving directory '/tmp/mecab-0.996-ko-0.9.2/tests'\n",
            "make[1]: Leaving directory '/tmp/mecab-0.996-ko-0.9.2/tests'\n",
            "make[1]: Entering directory '/tmp/mecab-0.996-ko-0.9.2'\n",
            "make[1]: Leaving directory '/tmp/mecab-0.996-ko-0.9.2'\n",
            "Making install in src\n",
            "make[1]: Entering directory '/tmp/mecab-0.996-ko-0.9.2/src'\n",
            "make[2]: Entering directory '/tmp/mecab-0.996-ko-0.9.2/src'\n",
            "test -z \"/usr/local/lib\" || /bin/mkdir -p \"/usr/local/lib\"\n",
            " /bin/bash ../libtool   --mode=install /usr/bin/install -c   libmecab.la '/usr/local/lib'\n",
            "libtool: install: /usr/bin/install -c .libs/libmecab.so.2.0.0 /usr/local/lib/libmecab.so.2.0.0\n",
            "libtool: install: (cd /usr/local/lib && { ln -s -f libmecab.so.2.0.0 libmecab.so.2 || { rm -f libmecab.so.2 && ln -s libmecab.so.2.0.0 libmecab.so.2; }; })\n",
            "libtool: install: (cd /usr/local/lib && { ln -s -f libmecab.so.2.0.0 libmecab.so || { rm -f libmecab.so && ln -s libmecab.so.2.0.0 libmecab.so; }; })\n",
            "libtool: install: /usr/bin/install -c .libs/libmecab.lai /usr/local/lib/libmecab.la\n",
            "libtool: install: /usr/bin/install -c .libs/libmecab.a /usr/local/lib/libmecab.a\n",
            "libtool: install: chmod 644 /usr/local/lib/libmecab.a\n",
            "libtool: install: ranlib /usr/local/lib/libmecab.a\n",
            "libtool: finish: PATH=\"/usr/local/sbin:/usr/local/bin:/usr/sbin:/usr/bin:/sbin:/bin:/snap/bin:/sbin\" ldconfig -n /usr/local/lib\n",
            "----------------------------------------------------------------------\n",
            "Libraries have been installed in:\n",
            "   /usr/local/lib\n",
            "\n",
            "If you ever happen to want to link against installed libraries\n",
            "in a given directory, LIBDIR, you must either use libtool, and\n",
            "specify the full pathname of the library, or use the `-LLIBDIR'\n",
            "flag during linking and do at least one of the following:\n",
            "   - add LIBDIR to the `LD_LIBRARY_PATH' environment variable\n",
            "     during execution\n",
            "   - add LIBDIR to the `LD_RUN_PATH' environment variable\n",
            "     during linking\n",
            "   - use the `-Wl,-rpath -Wl,LIBDIR' linker flag\n",
            "   - have your system administrator add LIBDIR to `/etc/ld.so.conf'\n",
            "\n",
            "See any operating system documentation about shared libraries for\n",
            "more information, such as the ld(1) and ld.so(8) manual pages.\n",
            "----------------------------------------------------------------------\n",
            "test -z \"/usr/local/bin\" || /bin/mkdir -p \"/usr/local/bin\"\n",
            "  /bin/bash ../libtool   --mode=install /usr/bin/install -c mecab '/usr/local/bin'\n",
            "libtool: install: /usr/bin/install -c .libs/mecab /usr/local/bin/mecab\n",
            "test -z \"/usr/local/libexec/mecab\" || /bin/mkdir -p \"/usr/local/libexec/mecab\"\n",
            "  /bin/bash ../libtool   --mode=install /usr/bin/install -c mecab-dict-index mecab-dict-gen mecab-cost-train mecab-system-eval mecab-test-gen '/usr/local/libexec/mecab'\n",
            "libtool: install: /usr/bin/install -c .libs/mecab-dict-index /usr/local/libexec/mecab/mecab-dict-index\n",
            "libtool: install: /usr/bin/install -c .libs/mecab-dict-gen /usr/local/libexec/mecab/mecab-dict-gen\n",
            "libtool: install: /usr/bin/install -c .libs/mecab-cost-train /usr/local/libexec/mecab/mecab-cost-train\n",
            "libtool: install: /usr/bin/install -c .libs/mecab-system-eval /usr/local/libexec/mecab/mecab-system-eval\n",
            "libtool: install: /usr/bin/install -c .libs/mecab-test-gen /usr/local/libexec/mecab/mecab-test-gen\n",
            "test -z \"/usr/local/include\" || /bin/mkdir -p \"/usr/local/include\"\n",
            " /usr/bin/install -c -m 644 mecab.h '/usr/local/include'\n",
            "make[2]: Leaving directory '/tmp/mecab-0.996-ko-0.9.2/src'\n",
            "make[1]: Leaving directory '/tmp/mecab-0.996-ko-0.9.2/src'\n",
            "Making install in man\n",
            "make[1]: Entering directory '/tmp/mecab-0.996-ko-0.9.2/man'\n",
            "make[2]: Entering directory '/tmp/mecab-0.996-ko-0.9.2/man'\n",
            "make[2]: Nothing to be done for 'install-exec-am'.\n",
            "test -z \"/usr/local/share/man/man1\" || /bin/mkdir -p \"/usr/local/share/man/man1\"\n",
            " /usr/bin/install -c -m 644 mecab.1 '/usr/local/share/man/man1'\n",
            "make[2]: Leaving directory '/tmp/mecab-0.996-ko-0.9.2/man'\n",
            "make[1]: Leaving directory '/tmp/mecab-0.996-ko-0.9.2/man'\n",
            "Making install in doc\n",
            "make[1]: Entering directory '/tmp/mecab-0.996-ko-0.9.2/doc'\n",
            "make[2]: Entering directory '/tmp/mecab-0.996-ko-0.9.2/doc'\n",
            "make[2]: Nothing to be done for 'install-exec-am'.\n",
            "make[2]: Nothing to be done for 'install-data-am'.\n",
            "make[2]: Leaving directory '/tmp/mecab-0.996-ko-0.9.2/doc'\n",
            "make[1]: Leaving directory '/tmp/mecab-0.996-ko-0.9.2/doc'\n",
            "Making install in tests\n",
            "make[1]: Entering directory '/tmp/mecab-0.996-ko-0.9.2/tests'\n",
            "make[2]: Entering directory '/tmp/mecab-0.996-ko-0.9.2/tests'\n",
            "make[2]: Nothing to be done for 'install-exec-am'.\n",
            "make[2]: Nothing to be done for 'install-data-am'.\n",
            "make[2]: Leaving directory '/tmp/mecab-0.996-ko-0.9.2/tests'\n",
            "make[1]: Leaving directory '/tmp/mecab-0.996-ko-0.9.2/tests'\n",
            "make[1]: Entering directory '/tmp/mecab-0.996-ko-0.9.2'\n",
            "make[2]: Entering directory '/tmp/mecab-0.996-ko-0.9.2'\n",
            "test -z \"/usr/local/bin\" || /bin/mkdir -p \"/usr/local/bin\"\n",
            " /usr/bin/install -c mecab-config '/usr/local/bin'\n",
            "test -z \"/usr/local/etc\" || /bin/mkdir -p \"/usr/local/etc\"\n",
            " /usr/bin/install -c -m 644 mecabrc '/usr/local/etc'\n",
            "make[2]: Leaving directory '/tmp/mecab-0.996-ko-0.9.2'\n",
            "make[1]: Leaving directory '/tmp/mecab-0.996-ko-0.9.2'\n",
            "Install mecab-ko-dic\n",
            "Install mecab-ko-dic\n",
            "mecab-ko-dic-2.1.1-20180720/\n",
            "mecab-ko-dic-2.1.1-20180720/configure\n",
            "mecab-ko-dic-2.1.1-20180720/COPYING\n",
            "mecab-ko-dic-2.1.1-20180720/autogen.sh\n",
            "mecab-ko-dic-2.1.1-20180720/Place-station.csv\n",
            "mecab-ko-dic-2.1.1-20180720/NNG.csv\n",
            "mecab-ko-dic-2.1.1-20180720/README\n",
            "mecab-ko-dic-2.1.1-20180720/EF.csv\n",
            "mecab-ko-dic-2.1.1-20180720/MAG.csv\n",
            "mecab-ko-dic-2.1.1-20180720/Preanalysis.csv\n",
            "mecab-ko-dic-2.1.1-20180720/NNB.csv\n",
            "mecab-ko-dic-2.1.1-20180720/Person-actor.csv\n",
            "mecab-ko-dic-2.1.1-20180720/VV.csv\n",
            "mecab-ko-dic-2.1.1-20180720/Makefile.in\n",
            "mecab-ko-dic-2.1.1-20180720/matrix.def\n",
            "mecab-ko-dic-2.1.1-20180720/EC.csv\n",
            "mecab-ko-dic-2.1.1-20180720/NNBC.csv\n",
            "mecab-ko-dic-2.1.1-20180720/clean\n",
            "mecab-ko-dic-2.1.1-20180720/ChangeLog\n",
            "mecab-ko-dic-2.1.1-20180720/J.csv\n",
            "mecab-ko-dic-2.1.1-20180720/.keep\n",
            "mecab-ko-dic-2.1.1-20180720/feature.def\n",
            "mecab-ko-dic-2.1.1-20180720/Foreign.csv\n",
            "mecab-ko-dic-2.1.1-20180720/XPN.csv\n",
            "mecab-ko-dic-2.1.1-20180720/EP.csv\n",
            "mecab-ko-dic-2.1.1-20180720/NR.csv\n",
            "mecab-ko-dic-2.1.1-20180720/left-id.def\n",
            "mecab-ko-dic-2.1.1-20180720/Place.csv\n",
            "mecab-ko-dic-2.1.1-20180720/Symbol.csv\n",
            "mecab-ko-dic-2.1.1-20180720/dicrc\n",
            "mecab-ko-dic-2.1.1-20180720/NP.csv\n",
            "mecab-ko-dic-2.1.1-20180720/ETM.csv\n",
            "mecab-ko-dic-2.1.1-20180720/IC.csv\n",
            "mecab-ko-dic-2.1.1-20180720/Place-address.csv\n",
            "mecab-ko-dic-2.1.1-20180720/Group.csv\n",
            "mecab-ko-dic-2.1.1-20180720/model.def\n",
            "mecab-ko-dic-2.1.1-20180720/XSN.csv\n",
            "mecab-ko-dic-2.1.1-20180720/INSTALL\n",
            "mecab-ko-dic-2.1.1-20180720/rewrite.def\n",
            "mecab-ko-dic-2.1.1-20180720/Inflect.csv\n",
            "mecab-ko-dic-2.1.1-20180720/configure.ac\n",
            "mecab-ko-dic-2.1.1-20180720/NNP.csv\n",
            "mecab-ko-dic-2.1.1-20180720/CoinedWord.csv\n",
            "mecab-ko-dic-2.1.1-20180720/XSV.csv\n",
            "mecab-ko-dic-2.1.1-20180720/pos-id.def\n",
            "mecab-ko-dic-2.1.1-20180720/Makefile.am\n",
            "mecab-ko-dic-2.1.1-20180720/unk.def\n",
            "mecab-ko-dic-2.1.1-20180720/missing\n",
            "mecab-ko-dic-2.1.1-20180720/VCP.csv\n",
            "mecab-ko-dic-2.1.1-20180720/install-sh\n",
            "mecab-ko-dic-2.1.1-20180720/Hanja.csv\n",
            "mecab-ko-dic-2.1.1-20180720/MAJ.csv\n",
            "mecab-ko-dic-2.1.1-20180720/XSA.csv\n",
            "mecab-ko-dic-2.1.1-20180720/Wikipedia.csv\n",
            "mecab-ko-dic-2.1.1-20180720/tools/\n",
            "mecab-ko-dic-2.1.1-20180720/tools/add-userdic.sh\n",
            "mecab-ko-dic-2.1.1-20180720/tools/mecab-bestn.sh\n",
            "mecab-ko-dic-2.1.1-20180720/tools/convert_for_using_store.sh\n",
            "mecab-ko-dic-2.1.1-20180720/user-dic/\n",
            "mecab-ko-dic-2.1.1-20180720/user-dic/nnp.csv\n",
            "mecab-ko-dic-2.1.1-20180720/user-dic/place.csv\n",
            "mecab-ko-dic-2.1.1-20180720/user-dic/person.csv\n",
            "mecab-ko-dic-2.1.1-20180720/user-dic/README.md\n",
            "mecab-ko-dic-2.1.1-20180720/NorthKorea.csv\n",
            "mecab-ko-dic-2.1.1-20180720/VX.csv\n",
            "mecab-ko-dic-2.1.1-20180720/right-id.def\n",
            "mecab-ko-dic-2.1.1-20180720/VA.csv\n",
            "mecab-ko-dic-2.1.1-20180720/char.def\n",
            "mecab-ko-dic-2.1.1-20180720/NEWS\n",
            "mecab-ko-dic-2.1.1-20180720/MM.csv\n",
            "mecab-ko-dic-2.1.1-20180720/ETN.csv\n",
            "mecab-ko-dic-2.1.1-20180720/AUTHORS\n",
            "mecab-ko-dic-2.1.1-20180720/Person.csv\n",
            "mecab-ko-dic-2.1.1-20180720/XR.csv\n",
            "mecab-ko-dic-2.1.1-20180720/VCN.csv\n",
            "Looking in current directory for macros.\n",
            "checking for a BSD-compatible install... /usr/bin/install -c\n",
            "checking whether build environment is sane... yes\n",
            "checking for a thread-safe mkdir -p... /bin/mkdir -p\n",
            "checking for gawk... no\n",
            "checking for mawk... mawk\n",
            "checking whether make sets $(MAKE)... yes\n",
            "checking whether make supports nested variables... yes\n",
            "checking for mecab-config... /usr/local/bin/mecab-config\n",
            "checking that generated files are newer than configure... done\n",
            "configure: creating ./config.status\n",
            "config.status: creating Makefile\n",
            "/usr/local/lib\n",
            "/usr/local/libexec/mecab/mecab-dict-index -d . -o . -f UTF-8 -t UTF-8\n",
            "reading ./unk.def ... 13\n",
            "emitting double-array:   7% |###                                        | \remitting double-array:  15% |######                                     | \remitting double-array:  23% |#########                                  | \remitting double-array:  30% |#############                              | \remitting double-array:  38% |################                           | \remitting double-array:  46% |###################                        | \remitting double-array:  53% |#######################                    | \remitting double-array:  61% |##########################                 | \remitting double-array:  69% |#############################              | \remitting double-array:  76% |#################################          | \remitting double-array:  84% |####################################       | \remitting double-array:  92% |#######################################    | \remitting double-array: 100% |###########################################| \n",
            "reading ./NorthKorea.csv ... 3\n",
            "reading ./XR.csv ... 3637\n",
            "reading ./EF.csv ... 1820\n",
            "reading ./XSN.csv ... 124\n",
            "reading ./Place.csv ... 30303\n",
            "reading ./XPN.csv ... 83\n",
            "reading ./Inflect.csv ... 44820\n",
            "reading ./Wikipedia.csv ... 36762\n",
            "reading ./MAG.csv ... 14242\n",
            "reading ./ETN.csv ... 14\n",
            "reading ./EP.csv ... 51\n",
            "reading ./Foreign.csv ... 11690\n",
            "reading ./NNG.csv ... 208524\n",
            "reading ./EC.csv ... 2547\n",
            "reading ./VCP.csv ... 9\n",
            "reading ./Place-address.csv ... 19301\n",
            "reading ./VCN.csv ... 7\n",
            "reading ./CoinedWord.csv ... 148\n",
            "reading ./XSV.csv ... 23\n",
            "reading ./VA.csv ... 2360\n",
            "reading ./NR.csv ... 482\n",
            "reading ./IC.csv ... 1305\n",
            "reading ./Symbol.csv ... 16\n",
            "reading ./Hanja.csv ... 125750\n",
            "reading ./J.csv ... 416\n",
            "reading ./Group.csv ... 3176\n",
            "reading ./Person.csv ... 196459\n",
            "reading ./MM.csv ... 453\n",
            "reading ./NP.csv ... 342\n",
            "reading ./NNB.csv ... 140\n",
            "reading ./ETM.csv ... 133\n",
            "reading ./VV.csv ... 7331\n",
            "reading ./NNBC.csv ... 677\n",
            "reading ./VX.csv ... 125\n",
            "reading ./NNP.csv ... 2371\n",
            "reading ./Place-station.csv ... 1145\n",
            "reading ./Person-actor.csv ... 99230\n",
            "reading ./Preanalysis.csv ... 5\n",
            "reading ./MAJ.csv ... 240\n",
            "reading ./XSA.csv ... 19\n",
            "emitting double-array:   0% |                                           | \remitting double-array:   1% |                                           | \remitting double-array:   2% |                                           | \remitting double-array:   3% |#                                          | \remitting double-array:   4% |#                                          | \remitting double-array:   5% |##                                         | \remitting double-array:   6% |##                                         | \remitting double-array:   7% |###                                        | \remitting double-array:   8% |###                                        | \remitting double-array:   9% |###                                        | \remitting double-array:  10% |####                                       | \remitting double-array:  11% |####                                       | \remitting double-array:  12% |#####                                      | \remitting double-array:  13% |#####                                      | \remitting double-array:  14% |######                                     | \remitting double-array:  15% |######                                     | \remitting double-array:  16% |######                                     | \remitting double-array:  17% |#######                                    | \remitting double-array:  18% |#######                                    | \remitting double-array:  19% |########                                   | \remitting double-array:  20% |########                                   | \remitting double-array:  21% |#########                                  | \remitting double-array:  22% |#########                                  | \remitting double-array:  23% |#########                                  | \remitting double-array:  24% |##########                                 | \remitting double-array:  25% |##########                                 | \remitting double-array:  26% |###########                                | \remitting double-array:  27% |###########                                | \remitting double-array:  28% |############                               | \remitting double-array:  29% |############                               | \remitting double-array:  30% |############                               | \remitting double-array:  31% |#############                              | \remitting double-array:  32% |#############                              | \remitting double-array:  33% |##############                             | \remitting double-array:  34% |##############                             | \remitting double-array:  35% |###############                            | \remitting double-array:  36% |###############                            | \remitting double-array:  37% |###############                            | \remitting double-array:  38% |################                           | \remitting double-array:  39% |################                           | \remitting double-array:  40% |#################                          | \remitting double-array:  41% |#################                          | \remitting double-array:  42% |##################                         | \remitting double-array:  43% |##################                         | \remitting double-array:  44% |##################                         | \remitting double-array:  45% |###################                        | \remitting double-array:  46% |###################                        | \remitting double-array:  47% |####################                       | \remitting double-array:  48% |####################                       | \remitting double-array:  49% |#####################                      | \remitting double-array:  50% |#####################                      | \remitting double-array:  51% |#####################                      | \remitting double-array:  52% |######################                     | \remitting double-array:  53% |######################                     | \remitting double-array:  54% |#######################                    | \remitting double-array:  55% |#######################                    | \remitting double-array:  56% |########################                   | \remitting double-array:  57% |########################                   | \remitting double-array:  58% |########################                   | \remitting double-array:  59% |#########################                  | \remitting double-array:  60% |#########################                  | \remitting double-array:  61% |##########################                 | \remitting double-array:  62% |##########################                 | \remitting double-array:  63% |###########################                | \remitting double-array:  64% |###########################                | \remitting double-array:  65% |###########################                | \remitting double-array:  66% |############################               | \remitting double-array:  67% |############################               | \remitting double-array:  68% |#############################              | \remitting double-array:  69% |#############################              | \remitting double-array:  70% |##############################             | \remitting double-array:  71% |##############################             | \remitting double-array:  72% |##############################             | \remitting double-array:  73% |###############################            | \remitting double-array:  74% |###############################            | \remitting double-array:  75% |################################           | \remitting double-array:  76% |################################           | \remitting double-array:  77% |#################################          | \remitting double-array:  78% |#################################          | \remitting double-array:  79% |#################################          | \remitting double-array:  80% |##################################         | \remitting double-array:  81% |##################################         | \remitting double-array:  82% |###################################        | \remitting double-array:  83% |###################################        | \remitting double-array:  84% |####################################       | \remitting double-array:  85% |####################################       | \remitting double-array:  86% |####################################       | \remitting double-array:  87% |#####################################      | \remitting double-array:  88% |#####################################      | \remitting double-array:  89% |######################################     | \remitting double-array:  90% |######################################     | \remitting double-array:  91% |#######################################    | \remitting double-array:  92% |#######################################    | \remitting double-array:  93% |#######################################    | \remitting double-array:  94% |########################################   | \remitting double-array:  95% |########################################   | \remitting double-array:  96% |#########################################  | \remitting double-array:  97% |#########################################  | \remitting double-array:  98% |########################################## | \remitting double-array:  99% |########################################## | \remitting double-array: 100% |###########################################| \n",
            "reading ./matrix.def ... 3822x2693\n",
            "emitting matrix      :   0% |                                           | \remitting matrix      :   1% |                                           | \remitting matrix      :   2% |                                           | \remitting matrix      :   3% |#                                          | \remitting matrix      :   4% |#                                          | \remitting matrix      :   5% |##                                         | \remitting matrix      :   6% |##                                         | \remitting matrix      :   7% |###                                        | \remitting matrix      :   8% |###                                        | \remitting matrix      :   9% |###                                        | \remitting matrix      :  10% |####                                       | \remitting matrix      :  11% |####                                       | \remitting matrix      :  12% |#####                                      | \remitting matrix      :  13% |#####                                      | \remitting matrix      :  14% |######                                     | \remitting matrix      :  15% |######                                     | \remitting matrix      :  16% |######                                     | \remitting matrix      :  17% |#######                                    | \remitting matrix      :  18% |#######                                    | \remitting matrix      :  19% |########                                   | \remitting matrix      :  20% |########                                   | \remitting matrix      :  21% |#########                                  | \remitting matrix      :  22% |#########                                  | \remitting matrix      :  23% |#########                                  | \remitting matrix      :  24% |##########                                 | \remitting matrix      :  25% |##########                                 | \remitting matrix      :  26% |###########                                | \remitting matrix      :  27% |###########                                | \remitting matrix      :  28% |############                               | \remitting matrix      :  29% |############                               | \remitting matrix      :  30% |############                               | \remitting matrix      :  31% |#############                              | \remitting matrix      :  32% |#############                              | \remitting matrix      :  33% |##############                             | \remitting matrix      :  34% |##############                             | \remitting matrix      :  35% |###############                            | \remitting matrix      :  36% |###############                            | \remitting matrix      :  37% |###############                            | \remitting matrix      :  38% |################                           | \remitting matrix      :  39% |################                           | \remitting matrix      :  40% |#################                          | \remitting matrix      :  41% |#################                          | \remitting matrix      :  42% |##################                         | \remitting matrix      :  43% |##################                         | \remitting matrix      :  44% |##################                         | \remitting matrix      :  45% |###################                        | \remitting matrix      :  46% |###################                        | \remitting matrix      :  47% |####################                       | \remitting matrix      :  48% |####################                       | \remitting matrix      :  49% |#####################                      | \remitting matrix      :  50% |#####################                      | \remitting matrix      :  51% |#####################                      | \remitting matrix      :  52% |######################                     | \remitting matrix      :  53% |######################                     | \remitting matrix      :  54% |#######################                    | \remitting matrix      :  55% |#######################                    | \remitting matrix      :  56% |########################                   | \remitting matrix      :  57% |########################                   | \remitting matrix      :  58% |########################                   | \remitting matrix      :  59% |#########################                  | \remitting matrix      :  60% |#########################                  | \remitting matrix      :  61% |##########################                 | \remitting matrix      :  62% |##########################                 | \remitting matrix      :  63% |###########################                | \remitting matrix      :  64% |###########################                | \remitting matrix      :  65% |###########################                | \remitting matrix      :  66% |############################               | \remitting matrix      :  67% |############################               | \remitting matrix      :  68% |#############################              | \remitting matrix      :  69% |#############################              | \remitting matrix      :  70% |##############################             | \remitting matrix      :  71% |##############################             | \remitting matrix      :  72% |##############################             | \remitting matrix      :  73% |###############################            | \remitting matrix      :  74% |###############################            | \remitting matrix      :  75% |################################           | \remitting matrix      :  76% |################################           | \remitting matrix      :  77% |#################################          | \remitting matrix      :  78% |#################################          | \remitting matrix      :  79% |#################################          | \remitting matrix      :  80% |##################################         | \remitting matrix      :  81% |##################################         | \remitting matrix      :  82% |###################################        | \remitting matrix      :  83% |###################################        | \remitting matrix      :  84% |####################################       | \remitting matrix      :  85% |####################################       | \remitting matrix      :  86% |####################################       | \remitting matrix      :  87% |#####################################      | \remitting matrix      :  88% |#####################################      | \remitting matrix      :  89% |######################################     | \remitting matrix      :  90% |######################################     | \remitting matrix      :  91% |#######################################    | \remitting matrix      :  92% |#######################################    | \remitting matrix      :  93% |#######################################    | \remitting matrix      :  94% |########################################   | \remitting matrix      :  95% |########################################   | \remitting matrix      :  96% |#########################################  | \remitting matrix      :  97% |#########################################  | \remitting matrix      :  98% |########################################## | \remitting matrix      :  99% |########################################## | \remitting matrix      : 100% |###########################################| \n",
            "\n",
            "done!\n",
            "echo To enable dictionary, rewrite /usr/local/etc/mecabrc as \\\"dicdir = /usr/local/lib/mecab/dic/mecab-ko-dic\\\"\n",
            "To enable dictionary, rewrite /usr/local/etc/mecabrc as \"dicdir = /usr/local/lib/mecab/dic/mecab-ko-dic\"\n",
            "make[1]: Entering directory '/tmp/mecab-ko-dic-2.1.1-20180720'\n",
            "make[1]: Nothing to be done for 'install-exec-am'.\n",
            " /bin/mkdir -p '/usr/local/lib/mecab/dic/mecab-ko-dic'\n",
            " /usr/bin/install -c -m 644 model.bin matrix.bin char.bin sys.dic unk.dic left-id.def right-id.def rewrite.def pos-id.def dicrc '/usr/local/lib/mecab/dic/mecab-ko-dic'\n",
            "make[1]: Leaving directory '/tmp/mecab-ko-dic-2.1.1-20180720'\n",
            "Install mecab-python\n",
            "/tmp /tmp/mecab-ko-dic-2.1.1-20180720\n",
            "/tmp/mecab-ko-dic-2.1.1-20180720\n",
            "Looking in indexes: https://pypi.org/simple, https://us-python.pkg.dev/colab-wheels/public/simple/\n",
            "Processing /tmp/mecab-python-0.996\n",
            "Building wheels for collected packages: mecab-python\n",
            "  Building wheel for mecab-python (setup.py): started\n",
            "  Building wheel for mecab-python (setup.py): finished with status 'done'\n",
            "  Created wheel for mecab-python: filename=mecab_python-0.996_ko_0.9.2-cp37-cp37m-linux_x86_64.whl size=141806 sha256=c737d2a51bb54a9bdbdd15ca8fb62a51354519fafef7da7428d998a66127988a\n",
            "  Stored in directory: /root/.cache/pip/wheels/40/7b/9f/2922869bef86c3354ae7034f7a3647c573ee1997c2dad0290a\n",
            "Failed to build mecab-python\n",
            "Installing collected packages: mecab-python\n",
            "    Running setup.py install for mecab-python: started\n",
            "    Running setup.py install for mecab-python: finished with status 'done'\n",
            "Successfully installed mecab-python-0.996-ko-0.9.2\n",
            "Done.\n",
            "Looking in indexes: https://pypi.org/simple, https://us-python.pkg.dev/colab-wheels/public/simple/\n",
            "Processing /tmp/mecab-python-0.996\n",
            "Building wheels for collected packages: mecab-python\n",
            "  Building wheel for mecab-python (setup.py): started\n",
            "  Building wheel for mecab-python (setup.py): finished with status 'done'\n",
            "  Created wheel for mecab-python: filename=mecab_python-0.996_ko_0.9.2-cp37-cp37m-linux_x86_64.whl size=141802 sha256=8bff255edc99f42b6b61c4f70dd440af6bfe8995560ecbd3bd92ec398b06902a\n",
            "  Stored in directory: /root/.cache/pip/wheels/40/7b/9f/2922869bef86c3354ae7034f7a3647c573ee1997c2dad0290a\n",
            "Failed to build mecab-python\n",
            "Installing collected packages: mecab-python\n",
            "  Attempting uninstall: mecab-python\n",
            "    Found existing installation: mecab-python 0.996-ko-0.9.2\n",
            "    Uninstalling mecab-python-0.996-ko-0.9.2:\n",
            "      Successfully uninstalled mecab-python-0.996-ko-0.9.2\n",
            "    Running setup.py install for mecab-python: started\n",
            "    Running setup.py install for mecab-python: finished with status 'done'\n",
            "Successfully installed mecab-python-0.996-ko-0.9.2\n"
          ]
        },
        {
          "output_type": "stream",
          "name": "stderr",
          "text": [
            "debconf: unable to initialize frontend: Dialog\n",
            "debconf: (No usable dialog-like program is installed, so the dialog based frontend cannot be used. at /usr/share/perl5/Debconf/FrontEnd/Dialog.pm line 76, <> line 5.)\n",
            "debconf: falling back to frontend: Readline\n",
            "debconf: unable to initialize frontend: Readline\n",
            "debconf: (This frontend requires a controlling tty.)\n",
            "debconf: falling back to frontend: Teletype\n",
            "dpkg-preconfigure: unable to re-open stdin: \n",
            "  % Total    % Received % Xferd  Average Speed   Time    Time     Time  Current\n",
            "                                 Dload  Upload   Total   Spent    Left  Speed\n",
            "\r  0     0    0     0    0     0      0      0 --:--:-- --:--:-- --:--:--     0\r  0     0    0     0    0     0      0      0 --:--:-- --:--:-- --:--:--     0\n",
            "\r100 1381k  100 1381k    0     0  2946k      0 --:--:-- --:--:-- --:--:-- 2946k\n",
            "./configure: line 7378: /usr/bin/file: No such file or directory\n",
            "In file included from viterbi.cpp:14:0:\n",
            "param.h:30:13: warning: 'Target {anonymous}::lexical_cast(Source) [with Target = std::__cxx11::basic_string<char>; Source = std::__cxx11::basic_string<char>]' defined but not used [-Wunused-function]\n",
            " std::string lexical_cast<std::string, std::string>(std::string arg) {\n",
            "             ^~~~~~~~~~~~~~~~~~~~~~~~~~~~~~~~~~~~~~\n",
            "learner_tagger.cpp:25:7: warning: 'char* MeCab::{anonymous}::mystrdup(const string&)' defined but not used [-Wunused-function]\n",
            " char *mystrdup(const std::string &str) {\n",
            "       ^~~~~~~~\n",
            "ar: `u' modifier ignored since `D' is the default (see `U')\n",
            "./pos-id.def is not found. minimum setting is used\n",
            "./pos-id.def is not found. minimum setting is used\n",
            "./pos-id.def is not found. minimum setting is used\n",
            "./pos-id.def is not found. minimum setting is used\n",
            "./pos-id.def is not found. minimum setting is used\n",
            "./pos-id.def is not found. minimum setting is used\n",
            "./pos-id.def is not found. minimum setting is used\n",
            "./pos-id.def is not found. minimum setting is used\n",
            "./pos-id.def is not found. minimum setting is used\n",
            "./pos-id.def is not found. minimum setting is used\n",
            "./pos-id.def is not found. minimum setting is used\n",
            "./pos-id.def is not found. minimum setting is used\n",
            "./pos-id.def is not found. minimum setting is used\n",
            "./pos-id.def is not found. minimum setting is used\n",
            "seed/pos-id.def is not found. minimum setting is used\n",
            "seed/pos-id.def is not found. minimum setting is used\n",
            "model-ipadic.c1.0.f1.dic/pos-id.def is not found. minimum setting is used\n",
            "model-ipadic.c1.0.f1.dic/pos-id.def is not found. minimum setting is used\n",
            "  % Total    % Received % Xferd  Average Speed   Time    Time     Time  Current\n",
            "                                 Dload  Upload   Total   Spent    Left  Speed\n",
            "\r  0     0    0     0    0     0      0      0 --:--:-- --:--:-- --:--:--     0\r  0     0    0     0    0     0      0      0 --:--:-- --:--:-- --:--:--     0\r  0     0    0     0    0     0      0      0 --:--:-- --:--:-- --:--:--     0\n",
            "\r100 47.4M  100 47.4M    0     0  39.1M      0  0:00:01  0:00:01 --:--:-- 39.1M\n",
            "configure.ac:2: warning: AM_INIT_AUTOMAKE: two- and three-arguments forms are deprecated.  For more info, see:\n",
            "configure.ac:2: http://www.gnu.org/software/automake/manual/automake.html#Modernize-AM_005fINIT_005fAUTOMAKE-invocation\n",
            "/tmp/mecab-ko-dic-2.1.1-20180720/missing: Unknown `--is-lightweight' option\n",
            "Try `/tmp/mecab-ko-dic-2.1.1-20180720/missing --help' for more information\n",
            "configure: WARNING: 'missing' script is too old or missing\n",
            "/sbin/ldconfig.real: /usr/local/lib/python3.7/dist-packages/ideep4py/lib/libmkldnn.so.0 is not a symbolic link\n",
            "\n",
            "Cloning into 'mecab-python-0.996'...\n",
            "  DEPRECATION: A future pip version will change local packages to be built in-place without first copying to a temporary directory. We recommend you use --use-feature=in-tree-build to test your packages with this new behavior before it becomes the default.\n",
            "   pip 21.3 will remove support for this functionality. You can find discussion regarding this at https://github.com/pypa/pip/issues/7555.\n",
            "  WARNING: Built wheel for mecab-python is invalid: Metadata 1.2 mandates PEP 440 version, but '0.996-ko-0.9.2' is not\n",
            "  DEPRECATION: mecab-python was installed using the legacy 'setup.py install' method, because a wheel could not be built for it. A possible replacement is to fix the wheel build issue reported above. You can find discussion regarding this at https://github.com/pypa/pip/issues/8368.\n",
            "  DEPRECATION: A future pip version will change local packages to be built in-place without first copying to a temporary directory. We recommend you use --use-feature=in-tree-build to test your packages with this new behavior before it becomes the default.\n",
            "   pip 21.3 will remove support for this functionality. You can find discussion regarding this at https://github.com/pypa/pip/issues/7555.\n",
            "  WARNING: Built wheel for mecab-python is invalid: Metadata 1.2 mandates PEP 440 version, but '0.996-ko-0.9.2' is not\n",
            "  DEPRECATION: mecab-python was installed using the legacy 'setup.py install' method, because a wheel could not be built for it. A possible replacement is to fix the wheel build issue reported above. You can find discussion regarding this at https://github.com/pypa/pip/issues/8368.\n"
          ]
        }
      ],
      "source": [
        "%%bash\n",
        "bash <(curl -s https://raw.githubusercontent.com/konlpy/konlpy/master/scripts/mecab.sh)\n",
        "pip3 install /tmp/mecab-python-0.996"
      ]
    },
    {
      "cell_type": "code",
      "execution_count": null,
      "metadata": {
        "id": "J0DmxpkD4P5l"
      },
      "outputs": [],
      "source": [
        "# !git clone https://github.com/kakao/khaiii.git\n",
        "\n",
        "# !pip install cmake"
      ]
    },
    {
      "cell_type": "code",
      "execution_count": null,
      "metadata": {
        "id": "t_1wXPdb4S8G"
      },
      "outputs": [],
      "source": [
        "# !mkdir build\n",
        "# !cd build && cmake /content/khaiii\n",
        "# !cd /content/build/ && make all\n",
        "# !cd /content/build/ && make resource\n",
        "# !cd /content/build && make install\n",
        "# !cd /content/build && make package_python\n",
        "# !pip install /content/build/package_python"
      ]
    },
    {
      "cell_type": "code",
      "execution_count": 8,
      "metadata": {
        "colab": {
          "base_uri": "https://localhost:8080/"
        },
        "id": "HTh_wqwmBAJM",
        "outputId": "10aad3df-36cb-4f3a-d8ca-69936ca4938d"
      },
      "outputs": [
        {
          "output_type": "stream",
          "name": "stdout",
          "text": [
            "Looking in indexes: https://pypi.org/simple, https://us-python.pkg.dev/colab-wheels/public/simple/\n",
            "Collecting soynlp\n",
            "  Downloading soynlp-0.0.493-py3-none-any.whl (416 kB)\n",
            "\u001b[K     |████████████████████████████████| 416 kB 5.2 MB/s \n",
            "\u001b[?25hRequirement already satisfied: numpy>=1.12.1 in /usr/local/lib/python3.7/dist-packages (from soynlp) (1.21.6)\n",
            "Requirement already satisfied: scipy>=1.1.0 in /usr/local/lib/python3.7/dist-packages (from soynlp) (1.7.3)\n",
            "Requirement already satisfied: scikit-learn>=0.20.0 in /usr/local/lib/python3.7/dist-packages (from soynlp) (1.0.2)\n",
            "Requirement already satisfied: psutil>=5.0.1 in /usr/local/lib/python3.7/dist-packages (from soynlp) (5.4.8)\n",
            "Requirement already satisfied: joblib>=0.11 in /usr/local/lib/python3.7/dist-packages (from scikit-learn>=0.20.0->soynlp) (1.1.0)\n",
            "Requirement already satisfied: threadpoolctl>=2.0.0 in /usr/local/lib/python3.7/dist-packages (from scikit-learn>=0.20.0->soynlp) (3.1.0)\n",
            "Installing collected packages: soynlp\n",
            "Successfully installed soynlp-0.0.493\n"
          ]
        }
      ],
      "source": [
        "!pip install soynlp"
      ]
    },
    {
      "cell_type": "code",
      "execution_count": 9,
      "metadata": {
        "id": "UuZgECoSQf88"
      },
      "outputs": [],
      "source": [
        "import pandas as pd\n",
        "import numpy as np\n",
        "import matplotlib.pyplot as plt\n",
        "import re\n",
        "from pykospacing import Spacing\n",
        "from hanspell import spell_checker\n",
        "import urllib.request\n",
        "import konlpy\n",
        "from konlpy.tag import Kkma, Komoran, Hannanum, Okt\n",
        "from konlpy.utils import pprint\n",
        "from konlpy.tag import Mecab\n",
        "from tqdm import tqdm\n",
        "from tensorflow.keras.preprocessing.text import Tokenizer\n",
        "from tensorflow.keras.preprocessing.sequence import pad_sequences\n",
        "from tensorflow.keras.layers import Embedding, Dense, LSTM, GRU\n",
        "from tensorflow.keras.models import Sequential\n",
        "from tensorflow.keras.models import load_model\n",
        "from tensorflow.keras.callbacks import EarlyStopping, ModelCheckpoint"
      ]
    },
    {
      "cell_type": "markdown",
      "metadata": {
        "id": "fwWUUtxvXIjk"
      },
      "source": [
        "# 1. 데이터 불러오기"
      ]
    },
    {
      "cell_type": "code",
      "execution_count": 10,
      "metadata": {
        "colab": {
          "base_uri": "https://localhost:8080/",
          "height": 137,
          "resources": {
            "http://localhost:8080/nbextensions/google.colab/files.js": {
              "data": "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",
              "headers": [
                [
                  "content-type",
                  "application/javascript"
                ]
              ],
              "ok": true,
              "status": 200,
              "status_text": ""
            }
          }
        },
        "id": "FtNFHMD2U2qP",
        "outputId": "ef604ce3-2c6d-4387-f75a-4d547939b11a"
      },
      "outputs": [
        {
          "output_type": "display_data",
          "data": {
            "text/plain": [
              "<IPython.core.display.HTML object>"
            ],
            "text/html": [
              "\n",
              "     <input type=\"file\" id=\"files-cb0f546a-48a3-4d37-be81-e6a02a1267d0\" name=\"files[]\" multiple disabled\n",
              "        style=\"border:none\" />\n",
              "     <output id=\"result-cb0f546a-48a3-4d37-be81-e6a02a1267d0\">\n",
              "      Upload widget is only available when the cell has been executed in the\n",
              "      current browser session. Please rerun this cell to enable.\n",
              "      </output>\n",
              "      <script src=\"/nbextensions/google.colab/files.js\"></script> "
            ]
          },
          "metadata": {}
        },
        {
          "output_type": "stream",
          "name": "stdout",
          "text": [
            "Saving train.hate.csv to train.hate.csv\n"
          ]
        },
        {
          "output_type": "display_data",
          "data": {
            "text/plain": [
              "<IPython.core.display.HTML object>"
            ],
            "text/html": [
              "\n",
              "     <input type=\"file\" id=\"files-78551df3-e84b-4997-bdaa-5e190471330e\" name=\"files[]\" multiple disabled\n",
              "        style=\"border:none\" />\n",
              "     <output id=\"result-78551df3-e84b-4997-bdaa-5e190471330e\">\n",
              "      Upload widget is only available when the cell has been executed in the\n",
              "      current browser session. Please rerun this cell to enable.\n",
              "      </output>\n",
              "      <script src=\"/nbextensions/google.colab/files.js\"></script> "
            ]
          },
          "metadata": {}
        },
        {
          "output_type": "stream",
          "name": "stdout",
          "text": [
            "Saving dev.hate.csv to dev.hate.csv\n"
          ]
        }
      ],
      "source": [
        "from google.colab import files\n",
        "\n",
        "train = files.upload()\n",
        "test = files.upload()"
      ]
    },
    {
      "cell_type": "code",
      "execution_count": 11,
      "metadata": {
        "id": "7fSmJtxlVtY0"
      },
      "outputs": [],
      "source": [
        "train_df = pd.read_csv('train.hate.csv')\n",
        "test_df = pd.read_csv('dev.hate.csv')"
      ]
    },
    {
      "cell_type": "markdown",
      "metadata": {
        "id": "ZSsGECI1XOUt"
      },
      "source": [
        "## train data"
      ]
    },
    {
      "cell_type": "code",
      "execution_count": 12,
      "metadata": {
        "id": "EgkvUidaV9SC",
        "colab": {
          "base_uri": "https://localhost:8080/",
          "height": 206
        },
        "outputId": "c6f6343f-3dd9-4981-9e0f-1489186d9b2b"
      },
      "outputs": [
        {
          "output_type": "execute_result",
          "data": {
            "text/plain": [
              "                                            comments label\n",
              "0  (현재 호텔주인 심정) 아18 난 마른하늘에 날벼락맞고 호텔망하게생겼는데 누군 계속...  hate\n",
              "1  ....한국적인 미인의 대표적인 분...너무나 곱고아름다운모습...그모습뒤의 슬픔을...  none\n",
              "2  ...못된 넘들...남의 고통을 즐겼던 넘들..이젠 마땅한 처벌을 받아야지..,그래...  hate\n",
              "3                 1,2화 어설펐는데 3,4화 지나서부터는 갈수록 너무 재밌던데  none\n",
              "4  1. 사람 얼굴 손톱으로 긁은것은 인격살해이고2. 동영상이 몰카냐? 메걸리안들 생각...  hate"
            ],
            "text/html": [
              "\n",
              "  <div id=\"df-4dcc4eb5-4f42-4117-86d9-b2ebd289e10e\">\n",
              "    <div class=\"colab-df-container\">\n",
              "      <div>\n",
              "<style scoped>\n",
              "    .dataframe tbody tr th:only-of-type {\n",
              "        vertical-align: middle;\n",
              "    }\n",
              "\n",
              "    .dataframe tbody tr th {\n",
              "        vertical-align: top;\n",
              "    }\n",
              "\n",
              "    .dataframe thead th {\n",
              "        text-align: right;\n",
              "    }\n",
              "</style>\n",
              "<table border=\"1\" class=\"dataframe\">\n",
              "  <thead>\n",
              "    <tr style=\"text-align: right;\">\n",
              "      <th></th>\n",
              "      <th>comments</th>\n",
              "      <th>label</th>\n",
              "    </tr>\n",
              "  </thead>\n",
              "  <tbody>\n",
              "    <tr>\n",
              "      <th>0</th>\n",
              "      <td>(현재 호텔주인 심정) 아18 난 마른하늘에 날벼락맞고 호텔망하게생겼는데 누군 계속...</td>\n",
              "      <td>hate</td>\n",
              "    </tr>\n",
              "    <tr>\n",
              "      <th>1</th>\n",
              "      <td>....한국적인 미인의 대표적인 분...너무나 곱고아름다운모습...그모습뒤의 슬픔을...</td>\n",
              "      <td>none</td>\n",
              "    </tr>\n",
              "    <tr>\n",
              "      <th>2</th>\n",
              "      <td>...못된 넘들...남의 고통을 즐겼던 넘들..이젠 마땅한 처벌을 받아야지..,그래...</td>\n",
              "      <td>hate</td>\n",
              "    </tr>\n",
              "    <tr>\n",
              "      <th>3</th>\n",
              "      <td>1,2화 어설펐는데 3,4화 지나서부터는 갈수록 너무 재밌던데</td>\n",
              "      <td>none</td>\n",
              "    </tr>\n",
              "    <tr>\n",
              "      <th>4</th>\n",
              "      <td>1. 사람 얼굴 손톱으로 긁은것은 인격살해이고2. 동영상이 몰카냐? 메걸리안들 생각...</td>\n",
              "      <td>hate</td>\n",
              "    </tr>\n",
              "  </tbody>\n",
              "</table>\n",
              "</div>\n",
              "      <button class=\"colab-df-convert\" onclick=\"convertToInteractive('df-4dcc4eb5-4f42-4117-86d9-b2ebd289e10e')\"\n",
              "              title=\"Convert this dataframe to an interactive table.\"\n",
              "              style=\"display:none;\">\n",
              "        \n",
              "  <svg xmlns=\"http://www.w3.org/2000/svg\" height=\"24px\"viewBox=\"0 0 24 24\"\n",
              "       width=\"24px\">\n",
              "    <path d=\"M0 0h24v24H0V0z\" fill=\"none\"/>\n",
              "    <path d=\"M18.56 5.44l.94 2.06.94-2.06 2.06-.94-2.06-.94-.94-2.06-.94 2.06-2.06.94zm-11 1L8.5 8.5l.94-2.06 2.06-.94-2.06-.94L8.5 2.5l-.94 2.06-2.06.94zm10 10l.94 2.06.94-2.06 2.06-.94-2.06-.94-.94-2.06-.94 2.06-2.06.94z\"/><path d=\"M17.41 7.96l-1.37-1.37c-.4-.4-.92-.59-1.43-.59-.52 0-1.04.2-1.43.59L10.3 9.45l-7.72 7.72c-.78.78-.78 2.05 0 2.83L4 21.41c.39.39.9.59 1.41.59.51 0 1.02-.2 1.41-.59l7.78-7.78 2.81-2.81c.8-.78.8-2.07 0-2.86zM5.41 20L4 18.59l7.72-7.72 1.47 1.35L5.41 20z\"/>\n",
              "  </svg>\n",
              "      </button>\n",
              "      \n",
              "  <style>\n",
              "    .colab-df-container {\n",
              "      display:flex;\n",
              "      flex-wrap:wrap;\n",
              "      gap: 12px;\n",
              "    }\n",
              "\n",
              "    .colab-df-convert {\n",
              "      background-color: #E8F0FE;\n",
              "      border: none;\n",
              "      border-radius: 50%;\n",
              "      cursor: pointer;\n",
              "      display: none;\n",
              "      fill: #1967D2;\n",
              "      height: 32px;\n",
              "      padding: 0 0 0 0;\n",
              "      width: 32px;\n",
              "    }\n",
              "\n",
              "    .colab-df-convert:hover {\n",
              "      background-color: #E2EBFA;\n",
              "      box-shadow: 0px 1px 2px rgba(60, 64, 67, 0.3), 0px 1px 3px 1px rgba(60, 64, 67, 0.15);\n",
              "      fill: #174EA6;\n",
              "    }\n",
              "\n",
              "    [theme=dark] .colab-df-convert {\n",
              "      background-color: #3B4455;\n",
              "      fill: #D2E3FC;\n",
              "    }\n",
              "\n",
              "    [theme=dark] .colab-df-convert:hover {\n",
              "      background-color: #434B5C;\n",
              "      box-shadow: 0px 1px 3px 1px rgba(0, 0, 0, 0.15);\n",
              "      filter: drop-shadow(0px 1px 2px rgba(0, 0, 0, 0.3));\n",
              "      fill: #FFFFFF;\n",
              "    }\n",
              "  </style>\n",
              "\n",
              "      <script>\n",
              "        const buttonEl =\n",
              "          document.querySelector('#df-4dcc4eb5-4f42-4117-86d9-b2ebd289e10e button.colab-df-convert');\n",
              "        buttonEl.style.display =\n",
              "          google.colab.kernel.accessAllowed ? 'block' : 'none';\n",
              "\n",
              "        async function convertToInteractive(key) {\n",
              "          const element = document.querySelector('#df-4dcc4eb5-4f42-4117-86d9-b2ebd289e10e');\n",
              "          const dataTable =\n",
              "            await google.colab.kernel.invokeFunction('convertToInteractive',\n",
              "                                                     [key], {});\n",
              "          if (!dataTable) return;\n",
              "\n",
              "          const docLinkHtml = 'Like what you see? Visit the ' +\n",
              "            '<a target=\"_blank\" href=https://colab.research.google.com/notebooks/data_table.ipynb>data table notebook</a>'\n",
              "            + ' to learn more about interactive tables.';\n",
              "          element.innerHTML = '';\n",
              "          dataTable['output_type'] = 'display_data';\n",
              "          await google.colab.output.renderOutput(dataTable, element);\n",
              "          const docLink = document.createElement('div');\n",
              "          docLink.innerHTML = docLinkHtml;\n",
              "          element.appendChild(docLink);\n",
              "        }\n",
              "      </script>\n",
              "    </div>\n",
              "  </div>\n",
              "  "
            ]
          },
          "metadata": {},
          "execution_count": 12
        }
      ],
      "source": [
        "train_df.head()"
      ]
    },
    {
      "cell_type": "code",
      "execution_count": 13,
      "metadata": {
        "id": "v-W_lC-NWG7_",
        "colab": {
          "base_uri": "https://localhost:8080/"
        },
        "outputId": "f438e945-5cf6-42e0-934e-a5e255193c2b"
      },
      "outputs": [
        {
          "output_type": "stream",
          "name": "stdout",
          "text": [
            "<class 'pandas.core.frame.DataFrame'>\n",
            "RangeIndex: 7896 entries, 0 to 7895\n",
            "Data columns (total 2 columns):\n",
            " #   Column    Non-Null Count  Dtype \n",
            "---  ------    --------------  ----- \n",
            " 0   comments  7896 non-null   object\n",
            " 1   label     7896 non-null   object\n",
            "dtypes: object(2)\n",
            "memory usage: 123.5+ KB\n"
          ]
        }
      ],
      "source": [
        "train_df.info()"
      ]
    },
    {
      "cell_type": "code",
      "execution_count": 14,
      "metadata": {
        "id": "rvFG9y8sWS6B",
        "colab": {
          "base_uri": "https://localhost:8080/"
        },
        "outputId": "a800ef08-ccdc-40d5-fffc-237f20e6eeb2"
      },
      "outputs": [
        {
          "output_type": "execute_result",
          "data": {
            "text/plain": [
              "none         3486\n",
              "offensive    2499\n",
              "hate         1911\n",
              "Name: label, dtype: int64"
            ]
          },
          "metadata": {},
          "execution_count": 14
        }
      ],
      "source": [
        "train_df['label'].value_counts()"
      ]
    },
    {
      "cell_type": "code",
      "execution_count": 15,
      "metadata": {
        "id": "tIQyZ6ucMUPf",
        "colab": {
          "base_uri": "https://localhost:8080/"
        },
        "outputId": "ae39f62e-1702-426b-bece-e5ee48e44d64"
      },
      "outputs": [
        {
          "output_type": "execute_result",
          "data": {
            "text/plain": [
              "False"
            ]
          },
          "metadata": {},
          "execution_count": 15
        }
      ],
      "source": [
        "train_df['comments'].duplicated().any()"
      ]
    },
    {
      "cell_type": "markdown",
      "metadata": {
        "id": "k7Pp3u7WXSx_"
      },
      "source": [
        "## test data"
      ]
    },
    {
      "cell_type": "code",
      "execution_count": 16,
      "metadata": {
        "id": "CC-EgP9xV_bk",
        "colab": {
          "base_uri": "https://localhost:8080/",
          "height": 206
        },
        "outputId": "8e983c31-6862-4e09-cdf5-9b1efe1dcb1c"
      },
      "outputs": [
        {
          "output_type": "execute_result",
          "data": {
            "text/plain": [
              "                                            comments      label\n",
              "0                        송중기 시대극은 믿고본다. 첫회 신선하고 좋았다.       none\n",
              "1                                            지현우 나쁜놈  offensive\n",
              "2         알바쓰고많이만들면되지 돈욕심없으면골목식당왜나온겨 기댕기게나하고 산에가서팔어라       hate\n",
              "3                                   설마 ㅈ 현정 작가 아니지??       hate\n",
              "4  이미자씨 송혜교씨 돈이 그리 많으면 탈세말고 그돈으로 평소에 불우이웃에게 기부도 좀...  offensive"
            ],
            "text/html": [
              "\n",
              "  <div id=\"df-cc05ca1f-35fe-4673-bd89-d717fc7d9260\">\n",
              "    <div class=\"colab-df-container\">\n",
              "      <div>\n",
              "<style scoped>\n",
              "    .dataframe tbody tr th:only-of-type {\n",
              "        vertical-align: middle;\n",
              "    }\n",
              "\n",
              "    .dataframe tbody tr th {\n",
              "        vertical-align: top;\n",
              "    }\n",
              "\n",
              "    .dataframe thead th {\n",
              "        text-align: right;\n",
              "    }\n",
              "</style>\n",
              "<table border=\"1\" class=\"dataframe\">\n",
              "  <thead>\n",
              "    <tr style=\"text-align: right;\">\n",
              "      <th></th>\n",
              "      <th>comments</th>\n",
              "      <th>label</th>\n",
              "    </tr>\n",
              "  </thead>\n",
              "  <tbody>\n",
              "    <tr>\n",
              "      <th>0</th>\n",
              "      <td>송중기 시대극은 믿고본다. 첫회 신선하고 좋았다.</td>\n",
              "      <td>none</td>\n",
              "    </tr>\n",
              "    <tr>\n",
              "      <th>1</th>\n",
              "      <td>지현우 나쁜놈</td>\n",
              "      <td>offensive</td>\n",
              "    </tr>\n",
              "    <tr>\n",
              "      <th>2</th>\n",
              "      <td>알바쓰고많이만들면되지 돈욕심없으면골목식당왜나온겨 기댕기게나하고 산에가서팔어라</td>\n",
              "      <td>hate</td>\n",
              "    </tr>\n",
              "    <tr>\n",
              "      <th>3</th>\n",
              "      <td>설마 ㅈ 현정 작가 아니지??</td>\n",
              "      <td>hate</td>\n",
              "    </tr>\n",
              "    <tr>\n",
              "      <th>4</th>\n",
              "      <td>이미자씨 송혜교씨 돈이 그리 많으면 탈세말고 그돈으로 평소에 불우이웃에게 기부도 좀...</td>\n",
              "      <td>offensive</td>\n",
              "    </tr>\n",
              "  </tbody>\n",
              "</table>\n",
              "</div>\n",
              "      <button class=\"colab-df-convert\" onclick=\"convertToInteractive('df-cc05ca1f-35fe-4673-bd89-d717fc7d9260')\"\n",
              "              title=\"Convert this dataframe to an interactive table.\"\n",
              "              style=\"display:none;\">\n",
              "        \n",
              "  <svg xmlns=\"http://www.w3.org/2000/svg\" height=\"24px\"viewBox=\"0 0 24 24\"\n",
              "       width=\"24px\">\n",
              "    <path d=\"M0 0h24v24H0V0z\" fill=\"none\"/>\n",
              "    <path d=\"M18.56 5.44l.94 2.06.94-2.06 2.06-.94-2.06-.94-.94-2.06-.94 2.06-2.06.94zm-11 1L8.5 8.5l.94-2.06 2.06-.94-2.06-.94L8.5 2.5l-.94 2.06-2.06.94zm10 10l.94 2.06.94-2.06 2.06-.94-2.06-.94-.94-2.06-.94 2.06-2.06.94z\"/><path d=\"M17.41 7.96l-1.37-1.37c-.4-.4-.92-.59-1.43-.59-.52 0-1.04.2-1.43.59L10.3 9.45l-7.72 7.72c-.78.78-.78 2.05 0 2.83L4 21.41c.39.39.9.59 1.41.59.51 0 1.02-.2 1.41-.59l7.78-7.78 2.81-2.81c.8-.78.8-2.07 0-2.86zM5.41 20L4 18.59l7.72-7.72 1.47 1.35L5.41 20z\"/>\n",
              "  </svg>\n",
              "      </button>\n",
              "      \n",
              "  <style>\n",
              "    .colab-df-container {\n",
              "      display:flex;\n",
              "      flex-wrap:wrap;\n",
              "      gap: 12px;\n",
              "    }\n",
              "\n",
              "    .colab-df-convert {\n",
              "      background-color: #E8F0FE;\n",
              "      border: none;\n",
              "      border-radius: 50%;\n",
              "      cursor: pointer;\n",
              "      display: none;\n",
              "      fill: #1967D2;\n",
              "      height: 32px;\n",
              "      padding: 0 0 0 0;\n",
              "      width: 32px;\n",
              "    }\n",
              "\n",
              "    .colab-df-convert:hover {\n",
              "      background-color: #E2EBFA;\n",
              "      box-shadow: 0px 1px 2px rgba(60, 64, 67, 0.3), 0px 1px 3px 1px rgba(60, 64, 67, 0.15);\n",
              "      fill: #174EA6;\n",
              "    }\n",
              "\n",
              "    [theme=dark] .colab-df-convert {\n",
              "      background-color: #3B4455;\n",
              "      fill: #D2E3FC;\n",
              "    }\n",
              "\n",
              "    [theme=dark] .colab-df-convert:hover {\n",
              "      background-color: #434B5C;\n",
              "      box-shadow: 0px 1px 3px 1px rgba(0, 0, 0, 0.15);\n",
              "      filter: drop-shadow(0px 1px 2px rgba(0, 0, 0, 0.3));\n",
              "      fill: #FFFFFF;\n",
              "    }\n",
              "  </style>\n",
              "\n",
              "      <script>\n",
              "        const buttonEl =\n",
              "          document.querySelector('#df-cc05ca1f-35fe-4673-bd89-d717fc7d9260 button.colab-df-convert');\n",
              "        buttonEl.style.display =\n",
              "          google.colab.kernel.accessAllowed ? 'block' : 'none';\n",
              "\n",
              "        async function convertToInteractive(key) {\n",
              "          const element = document.querySelector('#df-cc05ca1f-35fe-4673-bd89-d717fc7d9260');\n",
              "          const dataTable =\n",
              "            await google.colab.kernel.invokeFunction('convertToInteractive',\n",
              "                                                     [key], {});\n",
              "          if (!dataTable) return;\n",
              "\n",
              "          const docLinkHtml = 'Like what you see? Visit the ' +\n",
              "            '<a target=\"_blank\" href=https://colab.research.google.com/notebooks/data_table.ipynb>data table notebook</a>'\n",
              "            + ' to learn more about interactive tables.';\n",
              "          element.innerHTML = '';\n",
              "          dataTable['output_type'] = 'display_data';\n",
              "          await google.colab.output.renderOutput(dataTable, element);\n",
              "          const docLink = document.createElement('div');\n",
              "          docLink.innerHTML = docLinkHtml;\n",
              "          element.appendChild(docLink);\n",
              "        }\n",
              "      </script>\n",
              "    </div>\n",
              "  </div>\n",
              "  "
            ]
          },
          "metadata": {},
          "execution_count": 16
        }
      ],
      "source": [
        "test_df.head()"
      ]
    },
    {
      "cell_type": "code",
      "execution_count": 17,
      "metadata": {
        "id": "s0CqNnzKWKL5",
        "colab": {
          "base_uri": "https://localhost:8080/"
        },
        "outputId": "42e6d41b-1e1f-48eb-9d60-f714d2b481c5"
      },
      "outputs": [
        {
          "output_type": "stream",
          "name": "stdout",
          "text": [
            "<class 'pandas.core.frame.DataFrame'>\n",
            "RangeIndex: 471 entries, 0 to 470\n",
            "Data columns (total 2 columns):\n",
            " #   Column    Non-Null Count  Dtype \n",
            "---  ------    --------------  ----- \n",
            " 0   comments  471 non-null    object\n",
            " 1   label     471 non-null    object\n",
            "dtypes: object(2)\n",
            "memory usage: 7.5+ KB\n"
          ]
        }
      ],
      "source": [
        "test_df.info()"
      ]
    },
    {
      "cell_type": "code",
      "execution_count": 18,
      "metadata": {
        "id": "Tg6bb25vWadp",
        "colab": {
          "base_uri": "https://localhost:8080/"
        },
        "outputId": "9fd50204-a4eb-4680-ed8a-be03302c435e"
      },
      "outputs": [
        {
          "output_type": "execute_result",
          "data": {
            "text/plain": [
              "offensive    189\n",
              "none         160\n",
              "hate         122\n",
              "Name: label, dtype: int64"
            ]
          },
          "metadata": {},
          "execution_count": 18
        }
      ],
      "source": [
        "test_df['label'].value_counts()"
      ]
    },
    {
      "cell_type": "code",
      "execution_count": 19,
      "metadata": {
        "id": "5PBigQMsMaA3",
        "colab": {
          "base_uri": "https://localhost:8080/"
        },
        "outputId": "e9964400-311b-4ec3-eeff-df9a0ce65bee"
      },
      "outputs": [
        {
          "output_type": "execute_result",
          "data": {
            "text/plain": [
              "False"
            ]
          },
          "metadata": {},
          "execution_count": 19
        }
      ],
      "source": [
        "test_df['comments'].duplicated().any()"
      ]
    },
    {
      "cell_type": "markdown",
      "metadata": {
        "id": "x9WGPiwgXauM"
      },
      "source": [
        "# 2. 전처리"
      ]
    },
    {
      "cell_type": "markdown",
      "metadata": {
        "id": "VymDWL0ZtClq"
      },
      "source": [
        "### 라벨링"
      ]
    },
    {
      "cell_type": "code",
      "execution_count": 20,
      "metadata": {
        "id": "WVWGrdBytDuq"
      },
      "outputs": [],
      "source": [
        "# 이진분류를 위해 hate와 offensive 는 1, none은 0으로 라벨링\n",
        "def labeling(data):\n",
        "    label = []\n",
        "\n",
        "    if 'none' in data:\n",
        "        label = 0\n",
        "    else:\n",
        "        label = 1\n",
        "    \n",
        "    data = label\n",
        "\n",
        "    return data"
      ]
    },
    {
      "cell_type": "code",
      "execution_count": 21,
      "metadata": {
        "id": "NSF8KqONtIE-",
        "colab": {
          "base_uri": "https://localhost:8080/",
          "height": 423
        },
        "outputId": "3710987b-2665-4f73-9136-e966ce109be0"
      },
      "outputs": [
        {
          "output_type": "execute_result",
          "data": {
            "text/plain": [
              "                                               comments  label\n",
              "0     (현재 호텔주인 심정) 아18 난 마른하늘에 날벼락맞고 호텔망하게생겼는데 누군 계속...      1\n",
              "1     ....한국적인 미인의 대표적인 분...너무나 곱고아름다운모습...그모습뒤의 슬픔을...      0\n",
              "2     ...못된 넘들...남의 고통을 즐겼던 넘들..이젠 마땅한 처벌을 받아야지..,그래...      1\n",
              "3                    1,2화 어설펐는데 3,4화 지나서부터는 갈수록 너무 재밌던데      0\n",
              "4     1. 사람 얼굴 손톱으로 긁은것은 인격살해이고2. 동영상이 몰카냐? 메걸리안들 생각...      1\n",
              "...                                                 ...    ...\n",
              "7891                                      힘내세요~ 응원합니다!!      0\n",
              "7892                             힘내세요~~삼가 고인의 명복을 빕니다..      0\n",
              "7893                              힘내세용 ^^ 항상 응원합니닷 ^^ !      0\n",
              "7894  힘내소...연기로 답해요.나도 53살 인데 이런일 저런일 다 있더라구요.인격을 믿습...      0\n",
              "7895                                 힘들면 관뒀어야지 그게 현명한거다      0\n",
              "\n",
              "[7896 rows x 2 columns]"
            ],
            "text/html": [
              "\n",
              "  <div id=\"df-db6ec178-f115-466c-8df5-c15b7d9a61ef\">\n",
              "    <div class=\"colab-df-container\">\n",
              "      <div>\n",
              "<style scoped>\n",
              "    .dataframe tbody tr th:only-of-type {\n",
              "        vertical-align: middle;\n",
              "    }\n",
              "\n",
              "    .dataframe tbody tr th {\n",
              "        vertical-align: top;\n",
              "    }\n",
              "\n",
              "    .dataframe thead th {\n",
              "        text-align: right;\n",
              "    }\n",
              "</style>\n",
              "<table border=\"1\" class=\"dataframe\">\n",
              "  <thead>\n",
              "    <tr style=\"text-align: right;\">\n",
              "      <th></th>\n",
              "      <th>comments</th>\n",
              "      <th>label</th>\n",
              "    </tr>\n",
              "  </thead>\n",
              "  <tbody>\n",
              "    <tr>\n",
              "      <th>0</th>\n",
              "      <td>(현재 호텔주인 심정) 아18 난 마른하늘에 날벼락맞고 호텔망하게생겼는데 누군 계속...</td>\n",
              "      <td>1</td>\n",
              "    </tr>\n",
              "    <tr>\n",
              "      <th>1</th>\n",
              "      <td>....한국적인 미인의 대표적인 분...너무나 곱고아름다운모습...그모습뒤의 슬픔을...</td>\n",
              "      <td>0</td>\n",
              "    </tr>\n",
              "    <tr>\n",
              "      <th>2</th>\n",
              "      <td>...못된 넘들...남의 고통을 즐겼던 넘들..이젠 마땅한 처벌을 받아야지..,그래...</td>\n",
              "      <td>1</td>\n",
              "    </tr>\n",
              "    <tr>\n",
              "      <th>3</th>\n",
              "      <td>1,2화 어설펐는데 3,4화 지나서부터는 갈수록 너무 재밌던데</td>\n",
              "      <td>0</td>\n",
              "    </tr>\n",
              "    <tr>\n",
              "      <th>4</th>\n",
              "      <td>1. 사람 얼굴 손톱으로 긁은것은 인격살해이고2. 동영상이 몰카냐? 메걸리안들 생각...</td>\n",
              "      <td>1</td>\n",
              "    </tr>\n",
              "    <tr>\n",
              "      <th>...</th>\n",
              "      <td>...</td>\n",
              "      <td>...</td>\n",
              "    </tr>\n",
              "    <tr>\n",
              "      <th>7891</th>\n",
              "      <td>힘내세요~ 응원합니다!!</td>\n",
              "      <td>0</td>\n",
              "    </tr>\n",
              "    <tr>\n",
              "      <th>7892</th>\n",
              "      <td>힘내세요~~삼가 고인의 명복을 빕니다..</td>\n",
              "      <td>0</td>\n",
              "    </tr>\n",
              "    <tr>\n",
              "      <th>7893</th>\n",
              "      <td>힘내세용 ^^ 항상 응원합니닷 ^^ !</td>\n",
              "      <td>0</td>\n",
              "    </tr>\n",
              "    <tr>\n",
              "      <th>7894</th>\n",
              "      <td>힘내소...연기로 답해요.나도 53살 인데 이런일 저런일 다 있더라구요.인격을 믿습...</td>\n",
              "      <td>0</td>\n",
              "    </tr>\n",
              "    <tr>\n",
              "      <th>7895</th>\n",
              "      <td>힘들면 관뒀어야지 그게 현명한거다</td>\n",
              "      <td>0</td>\n",
              "    </tr>\n",
              "  </tbody>\n",
              "</table>\n",
              "<p>7896 rows × 2 columns</p>\n",
              "</div>\n",
              "      <button class=\"colab-df-convert\" onclick=\"convertToInteractive('df-db6ec178-f115-466c-8df5-c15b7d9a61ef')\"\n",
              "              title=\"Convert this dataframe to an interactive table.\"\n",
              "              style=\"display:none;\">\n",
              "        \n",
              "  <svg xmlns=\"http://www.w3.org/2000/svg\" height=\"24px\"viewBox=\"0 0 24 24\"\n",
              "       width=\"24px\">\n",
              "    <path d=\"M0 0h24v24H0V0z\" fill=\"none\"/>\n",
              "    <path d=\"M18.56 5.44l.94 2.06.94-2.06 2.06-.94-2.06-.94-.94-2.06-.94 2.06-2.06.94zm-11 1L8.5 8.5l.94-2.06 2.06-.94-2.06-.94L8.5 2.5l-.94 2.06-2.06.94zm10 10l.94 2.06.94-2.06 2.06-.94-2.06-.94-.94-2.06-.94 2.06-2.06.94z\"/><path d=\"M17.41 7.96l-1.37-1.37c-.4-.4-.92-.59-1.43-.59-.52 0-1.04.2-1.43.59L10.3 9.45l-7.72 7.72c-.78.78-.78 2.05 0 2.83L4 21.41c.39.39.9.59 1.41.59.51 0 1.02-.2 1.41-.59l7.78-7.78 2.81-2.81c.8-.78.8-2.07 0-2.86zM5.41 20L4 18.59l7.72-7.72 1.47 1.35L5.41 20z\"/>\n",
              "  </svg>\n",
              "      </button>\n",
              "      \n",
              "  <style>\n",
              "    .colab-df-container {\n",
              "      display:flex;\n",
              "      flex-wrap:wrap;\n",
              "      gap: 12px;\n",
              "    }\n",
              "\n",
              "    .colab-df-convert {\n",
              "      background-color: #E8F0FE;\n",
              "      border: none;\n",
              "      border-radius: 50%;\n",
              "      cursor: pointer;\n",
              "      display: none;\n",
              "      fill: #1967D2;\n",
              "      height: 32px;\n",
              "      padding: 0 0 0 0;\n",
              "      width: 32px;\n",
              "    }\n",
              "\n",
              "    .colab-df-convert:hover {\n",
              "      background-color: #E2EBFA;\n",
              "      box-shadow: 0px 1px 2px rgba(60, 64, 67, 0.3), 0px 1px 3px 1px rgba(60, 64, 67, 0.15);\n",
              "      fill: #174EA6;\n",
              "    }\n",
              "\n",
              "    [theme=dark] .colab-df-convert {\n",
              "      background-color: #3B4455;\n",
              "      fill: #D2E3FC;\n",
              "    }\n",
              "\n",
              "    [theme=dark] .colab-df-convert:hover {\n",
              "      background-color: #434B5C;\n",
              "      box-shadow: 0px 1px 3px 1px rgba(0, 0, 0, 0.15);\n",
              "      filter: drop-shadow(0px 1px 2px rgba(0, 0, 0, 0.3));\n",
              "      fill: #FFFFFF;\n",
              "    }\n",
              "  </style>\n",
              "\n",
              "      <script>\n",
              "        const buttonEl =\n",
              "          document.querySelector('#df-db6ec178-f115-466c-8df5-c15b7d9a61ef button.colab-df-convert');\n",
              "        buttonEl.style.display =\n",
              "          google.colab.kernel.accessAllowed ? 'block' : 'none';\n",
              "\n",
              "        async function convertToInteractive(key) {\n",
              "          const element = document.querySelector('#df-db6ec178-f115-466c-8df5-c15b7d9a61ef');\n",
              "          const dataTable =\n",
              "            await google.colab.kernel.invokeFunction('convertToInteractive',\n",
              "                                                     [key], {});\n",
              "          if (!dataTable) return;\n",
              "\n",
              "          const docLinkHtml = 'Like what you see? Visit the ' +\n",
              "            '<a target=\"_blank\" href=https://colab.research.google.com/notebooks/data_table.ipynb>data table notebook</a>'\n",
              "            + ' to learn more about interactive tables.';\n",
              "          element.innerHTML = '';\n",
              "          dataTable['output_type'] = 'display_data';\n",
              "          await google.colab.output.renderOutput(dataTable, element);\n",
              "          const docLink = document.createElement('div');\n",
              "          docLink.innerHTML = docLinkHtml;\n",
              "          element.appendChild(docLink);\n",
              "        }\n",
              "      </script>\n",
              "    </div>\n",
              "  </div>\n",
              "  "
            ]
          },
          "metadata": {},
          "execution_count": 21
        }
      ],
      "source": [
        "train_df['label'] = train_df['label'].apply(labeling)\n",
        "train_df"
      ]
    },
    {
      "cell_type": "code",
      "execution_count": 22,
      "metadata": {
        "id": "c7f50TUdtNFf",
        "colab": {
          "base_uri": "https://localhost:8080/",
          "height": 423
        },
        "outputId": "49a537d6-dc5d-4bca-8feb-8b3ec285806a"
      },
      "outputs": [
        {
          "output_type": "execute_result",
          "data": {
            "text/plain": [
              "                                              comments  label\n",
              "0                          송중기 시대극은 믿고본다. 첫회 신선하고 좋았다.      0\n",
              "1                                              지현우 나쁜놈      1\n",
              "2           알바쓰고많이만들면되지 돈욕심없으면골목식당왜나온겨 기댕기게나하고 산에가서팔어라      1\n",
              "3                                     설마 ㅈ 현정 작가 아니지??      1\n",
              "4    이미자씨 송혜교씨 돈이 그리 많으면 탈세말고 그돈으로 평소에 불우이웃에게 기부도 좀...      1\n",
              "..                                                 ...    ...\n",
              "466                                  지현우 범죄 저지르지 않았나요?      1\n",
              "467                                    여자인생 망칠 일 있나 ㅋㅋ      1\n",
              "468            근데 전라도에서 사고가 났는데 굳이 서울까지 와서 병원에 가느 이유는?      1\n",
              "469  할매젖x, 뱃살x, 몸매 s라인, 유륜은 적당해야됨(너무크거나 너무 작아도 x), ...      1\n",
              "470  남자가 잘못한거라면... 반성도 없다면...나였다면 ... 여자처럼 아주 못되게 할...      0\n",
              "\n",
              "[471 rows x 2 columns]"
            ],
            "text/html": [
              "\n",
              "  <div id=\"df-593b2ed1-7d9a-4d6e-b97d-82829a6c6a4f\">\n",
              "    <div class=\"colab-df-container\">\n",
              "      <div>\n",
              "<style scoped>\n",
              "    .dataframe tbody tr th:only-of-type {\n",
              "        vertical-align: middle;\n",
              "    }\n",
              "\n",
              "    .dataframe tbody tr th {\n",
              "        vertical-align: top;\n",
              "    }\n",
              "\n",
              "    .dataframe thead th {\n",
              "        text-align: right;\n",
              "    }\n",
              "</style>\n",
              "<table border=\"1\" class=\"dataframe\">\n",
              "  <thead>\n",
              "    <tr style=\"text-align: right;\">\n",
              "      <th></th>\n",
              "      <th>comments</th>\n",
              "      <th>label</th>\n",
              "    </tr>\n",
              "  </thead>\n",
              "  <tbody>\n",
              "    <tr>\n",
              "      <th>0</th>\n",
              "      <td>송중기 시대극은 믿고본다. 첫회 신선하고 좋았다.</td>\n",
              "      <td>0</td>\n",
              "    </tr>\n",
              "    <tr>\n",
              "      <th>1</th>\n",
              "      <td>지현우 나쁜놈</td>\n",
              "      <td>1</td>\n",
              "    </tr>\n",
              "    <tr>\n",
              "      <th>2</th>\n",
              "      <td>알바쓰고많이만들면되지 돈욕심없으면골목식당왜나온겨 기댕기게나하고 산에가서팔어라</td>\n",
              "      <td>1</td>\n",
              "    </tr>\n",
              "    <tr>\n",
              "      <th>3</th>\n",
              "      <td>설마 ㅈ 현정 작가 아니지??</td>\n",
              "      <td>1</td>\n",
              "    </tr>\n",
              "    <tr>\n",
              "      <th>4</th>\n",
              "      <td>이미자씨 송혜교씨 돈이 그리 많으면 탈세말고 그돈으로 평소에 불우이웃에게 기부도 좀...</td>\n",
              "      <td>1</td>\n",
              "    </tr>\n",
              "    <tr>\n",
              "      <th>...</th>\n",
              "      <td>...</td>\n",
              "      <td>...</td>\n",
              "    </tr>\n",
              "    <tr>\n",
              "      <th>466</th>\n",
              "      <td>지현우 범죄 저지르지 않았나요?</td>\n",
              "      <td>1</td>\n",
              "    </tr>\n",
              "    <tr>\n",
              "      <th>467</th>\n",
              "      <td>여자인생 망칠 일 있나 ㅋㅋ</td>\n",
              "      <td>1</td>\n",
              "    </tr>\n",
              "    <tr>\n",
              "      <th>468</th>\n",
              "      <td>근데 전라도에서 사고가 났는데 굳이 서울까지 와서 병원에 가느 이유는?</td>\n",
              "      <td>1</td>\n",
              "    </tr>\n",
              "    <tr>\n",
              "      <th>469</th>\n",
              "      <td>할매젖x, 뱃살x, 몸매 s라인, 유륜은 적당해야됨(너무크거나 너무 작아도 x), ...</td>\n",
              "      <td>1</td>\n",
              "    </tr>\n",
              "    <tr>\n",
              "      <th>470</th>\n",
              "      <td>남자가 잘못한거라면... 반성도 없다면...나였다면 ... 여자처럼 아주 못되게 할...</td>\n",
              "      <td>0</td>\n",
              "    </tr>\n",
              "  </tbody>\n",
              "</table>\n",
              "<p>471 rows × 2 columns</p>\n",
              "</div>\n",
              "      <button class=\"colab-df-convert\" onclick=\"convertToInteractive('df-593b2ed1-7d9a-4d6e-b97d-82829a6c6a4f')\"\n",
              "              title=\"Convert this dataframe to an interactive table.\"\n",
              "              style=\"display:none;\">\n",
              "        \n",
              "  <svg xmlns=\"http://www.w3.org/2000/svg\" height=\"24px\"viewBox=\"0 0 24 24\"\n",
              "       width=\"24px\">\n",
              "    <path d=\"M0 0h24v24H0V0z\" fill=\"none\"/>\n",
              "    <path d=\"M18.56 5.44l.94 2.06.94-2.06 2.06-.94-2.06-.94-.94-2.06-.94 2.06-2.06.94zm-11 1L8.5 8.5l.94-2.06 2.06-.94-2.06-.94L8.5 2.5l-.94 2.06-2.06.94zm10 10l.94 2.06.94-2.06 2.06-.94-2.06-.94-.94-2.06-.94 2.06-2.06.94z\"/><path d=\"M17.41 7.96l-1.37-1.37c-.4-.4-.92-.59-1.43-.59-.52 0-1.04.2-1.43.59L10.3 9.45l-7.72 7.72c-.78.78-.78 2.05 0 2.83L4 21.41c.39.39.9.59 1.41.59.51 0 1.02-.2 1.41-.59l7.78-7.78 2.81-2.81c.8-.78.8-2.07 0-2.86zM5.41 20L4 18.59l7.72-7.72 1.47 1.35L5.41 20z\"/>\n",
              "  </svg>\n",
              "      </button>\n",
              "      \n",
              "  <style>\n",
              "    .colab-df-container {\n",
              "      display:flex;\n",
              "      flex-wrap:wrap;\n",
              "      gap: 12px;\n",
              "    }\n",
              "\n",
              "    .colab-df-convert {\n",
              "      background-color: #E8F0FE;\n",
              "      border: none;\n",
              "      border-radius: 50%;\n",
              "      cursor: pointer;\n",
              "      display: none;\n",
              "      fill: #1967D2;\n",
              "      height: 32px;\n",
              "      padding: 0 0 0 0;\n",
              "      width: 32px;\n",
              "    }\n",
              "\n",
              "    .colab-df-convert:hover {\n",
              "      background-color: #E2EBFA;\n",
              "      box-shadow: 0px 1px 2px rgba(60, 64, 67, 0.3), 0px 1px 3px 1px rgba(60, 64, 67, 0.15);\n",
              "      fill: #174EA6;\n",
              "    }\n",
              "\n",
              "    [theme=dark] .colab-df-convert {\n",
              "      background-color: #3B4455;\n",
              "      fill: #D2E3FC;\n",
              "    }\n",
              "\n",
              "    [theme=dark] .colab-df-convert:hover {\n",
              "      background-color: #434B5C;\n",
              "      box-shadow: 0px 1px 3px 1px rgba(0, 0, 0, 0.15);\n",
              "      filter: drop-shadow(0px 1px 2px rgba(0, 0, 0, 0.3));\n",
              "      fill: #FFFFFF;\n",
              "    }\n",
              "  </style>\n",
              "\n",
              "      <script>\n",
              "        const buttonEl =\n",
              "          document.querySelector('#df-593b2ed1-7d9a-4d6e-b97d-82829a6c6a4f button.colab-df-convert');\n",
              "        buttonEl.style.display =\n",
              "          google.colab.kernel.accessAllowed ? 'block' : 'none';\n",
              "\n",
              "        async function convertToInteractive(key) {\n",
              "          const element = document.querySelector('#df-593b2ed1-7d9a-4d6e-b97d-82829a6c6a4f');\n",
              "          const dataTable =\n",
              "            await google.colab.kernel.invokeFunction('convertToInteractive',\n",
              "                                                     [key], {});\n",
              "          if (!dataTable) return;\n",
              "\n",
              "          const docLinkHtml = 'Like what you see? Visit the ' +\n",
              "            '<a target=\"_blank\" href=https://colab.research.google.com/notebooks/data_table.ipynb>data table notebook</a>'\n",
              "            + ' to learn more about interactive tables.';\n",
              "          element.innerHTML = '';\n",
              "          dataTable['output_type'] = 'display_data';\n",
              "          await google.colab.output.renderOutput(dataTable, element);\n",
              "          const docLink = document.createElement('div');\n",
              "          docLink.innerHTML = docLinkHtml;\n",
              "          element.appendChild(docLink);\n",
              "        }\n",
              "      </script>\n",
              "    </div>\n",
              "  </div>\n",
              "  "
            ]
          },
          "metadata": {},
          "execution_count": 22
        }
      ],
      "source": [
        "test_df['label']=test_df['label'].apply(labeling)\n",
        "test_df"
      ]
    },
    {
      "cell_type": "code",
      "execution_count": 23,
      "metadata": {
        "id": "3rHY962ttNgM",
        "colab": {
          "base_uri": "https://localhost:8080/"
        },
        "outputId": "68dc3e78-28bb-49ff-b5c9-8d4b78d38b01"
      },
      "outputs": [
        {
          "output_type": "stream",
          "name": "stdout",
          "text": [
            "1    0.558511\n",
            "0    0.441489\n",
            "Name: label, dtype: float64\n",
            "1    0.660297\n",
            "0    0.339703\n",
            "Name: label, dtype: float64\n"
          ]
        }
      ],
      "source": [
        "print(train_df.label.value_counts(normalize=True))\n",
        "print(test_df.label.value_counts(normalize=True)) # baseline 정확도 0.66"
      ]
    },
    {
      "cell_type": "markdown",
      "metadata": {
        "id": "qjMUEMKTSjFR"
      },
      "source": [
        "### 특수문자 삭제 및 띄어쓰기 제거"
      ]
    },
    {
      "cell_type": "code",
      "execution_count": 24,
      "metadata": {
        "id": "faPJrsrWNAhw",
        "colab": {
          "base_uri": "https://localhost:8080/",
          "height": 423
        },
        "outputId": "f0165ed4-d2bc-4d17-ecfc-a519d878f817"
      },
      "outputs": [
        {
          "output_type": "execute_result",
          "data": {
            "text/plain": [
              "                                               comments  label\n",
              "0      현재 호텔주인 심정  아18 난 마른하늘에 날벼락맞고 호텔망하게생겼는데 누군 계속...      1\n",
              "1         한국적인 미인의 대표적인 분   너무나 곱고아름다운모습   그모습뒤의 슬픔을...      0\n",
              "2        못된 넘들   남의 고통을 즐겼던 넘들  이젠 마땅한 처벌을 받아야지   그래...      1\n",
              "3                    1 2화 어설펐는데 3 4화 지나서부터는 갈수록 너무 재밌던데      0\n",
              "4     1  사람 얼굴 손톱으로 긁은것은 인격살해이고2  동영상이 몰카냐  메걸리안들 생각...      1\n",
              "...                                                 ...    ...\n",
              "7891                                      힘내세요  응원합니다        0\n",
              "7892                             힘내세요  삼가 고인의 명복을 빕니다        0\n",
              "7893                              힘내세용    항상 응원합니닷           0\n",
              "7894  힘내소   연기로 답해요 나도 53살 인데 이런일 저런일 다 있더라구요 인격을 믿습...      0\n",
              "7895                                 힘들면 관뒀어야지 그게 현명한거다      0\n",
              "\n",
              "[7896 rows x 2 columns]"
            ],
            "text/html": [
              "\n",
              "  <div id=\"df-97284b3f-6069-4e47-801d-d7fda8a7e444\">\n",
              "    <div class=\"colab-df-container\">\n",
              "      <div>\n",
              "<style scoped>\n",
              "    .dataframe tbody tr th:only-of-type {\n",
              "        vertical-align: middle;\n",
              "    }\n",
              "\n",
              "    .dataframe tbody tr th {\n",
              "        vertical-align: top;\n",
              "    }\n",
              "\n",
              "    .dataframe thead th {\n",
              "        text-align: right;\n",
              "    }\n",
              "</style>\n",
              "<table border=\"1\" class=\"dataframe\">\n",
              "  <thead>\n",
              "    <tr style=\"text-align: right;\">\n",
              "      <th></th>\n",
              "      <th>comments</th>\n",
              "      <th>label</th>\n",
              "    </tr>\n",
              "  </thead>\n",
              "  <tbody>\n",
              "    <tr>\n",
              "      <th>0</th>\n",
              "      <td>현재 호텔주인 심정  아18 난 마른하늘에 날벼락맞고 호텔망하게생겼는데 누군 계속...</td>\n",
              "      <td>1</td>\n",
              "    </tr>\n",
              "    <tr>\n",
              "      <th>1</th>\n",
              "      <td>한국적인 미인의 대표적인 분   너무나 곱고아름다운모습   그모습뒤의 슬픔을...</td>\n",
              "      <td>0</td>\n",
              "    </tr>\n",
              "    <tr>\n",
              "      <th>2</th>\n",
              "      <td>못된 넘들   남의 고통을 즐겼던 넘들  이젠 마땅한 처벌을 받아야지   그래...</td>\n",
              "      <td>1</td>\n",
              "    </tr>\n",
              "    <tr>\n",
              "      <th>3</th>\n",
              "      <td>1 2화 어설펐는데 3 4화 지나서부터는 갈수록 너무 재밌던데</td>\n",
              "      <td>0</td>\n",
              "    </tr>\n",
              "    <tr>\n",
              "      <th>4</th>\n",
              "      <td>1  사람 얼굴 손톱으로 긁은것은 인격살해이고2  동영상이 몰카냐  메걸리안들 생각...</td>\n",
              "      <td>1</td>\n",
              "    </tr>\n",
              "    <tr>\n",
              "      <th>...</th>\n",
              "      <td>...</td>\n",
              "      <td>...</td>\n",
              "    </tr>\n",
              "    <tr>\n",
              "      <th>7891</th>\n",
              "      <td>힘내세요  응원합니다</td>\n",
              "      <td>0</td>\n",
              "    </tr>\n",
              "    <tr>\n",
              "      <th>7892</th>\n",
              "      <td>힘내세요  삼가 고인의 명복을 빕니다</td>\n",
              "      <td>0</td>\n",
              "    </tr>\n",
              "    <tr>\n",
              "      <th>7893</th>\n",
              "      <td>힘내세용    항상 응원합니닷</td>\n",
              "      <td>0</td>\n",
              "    </tr>\n",
              "    <tr>\n",
              "      <th>7894</th>\n",
              "      <td>힘내소   연기로 답해요 나도 53살 인데 이런일 저런일 다 있더라구요 인격을 믿습...</td>\n",
              "      <td>0</td>\n",
              "    </tr>\n",
              "    <tr>\n",
              "      <th>7895</th>\n",
              "      <td>힘들면 관뒀어야지 그게 현명한거다</td>\n",
              "      <td>0</td>\n",
              "    </tr>\n",
              "  </tbody>\n",
              "</table>\n",
              "<p>7896 rows × 2 columns</p>\n",
              "</div>\n",
              "      <button class=\"colab-df-convert\" onclick=\"convertToInteractive('df-97284b3f-6069-4e47-801d-d7fda8a7e444')\"\n",
              "              title=\"Convert this dataframe to an interactive table.\"\n",
              "              style=\"display:none;\">\n",
              "        \n",
              "  <svg xmlns=\"http://www.w3.org/2000/svg\" height=\"24px\"viewBox=\"0 0 24 24\"\n",
              "       width=\"24px\">\n",
              "    <path d=\"M0 0h24v24H0V0z\" fill=\"none\"/>\n",
              "    <path d=\"M18.56 5.44l.94 2.06.94-2.06 2.06-.94-2.06-.94-.94-2.06-.94 2.06-2.06.94zm-11 1L8.5 8.5l.94-2.06 2.06-.94-2.06-.94L8.5 2.5l-.94 2.06-2.06.94zm10 10l.94 2.06.94-2.06 2.06-.94-2.06-.94-.94-2.06-.94 2.06-2.06.94z\"/><path d=\"M17.41 7.96l-1.37-1.37c-.4-.4-.92-.59-1.43-.59-.52 0-1.04.2-1.43.59L10.3 9.45l-7.72 7.72c-.78.78-.78 2.05 0 2.83L4 21.41c.39.39.9.59 1.41.59.51 0 1.02-.2 1.41-.59l7.78-7.78 2.81-2.81c.8-.78.8-2.07 0-2.86zM5.41 20L4 18.59l7.72-7.72 1.47 1.35L5.41 20z\"/>\n",
              "  </svg>\n",
              "      </button>\n",
              "      \n",
              "  <style>\n",
              "    .colab-df-container {\n",
              "      display:flex;\n",
              "      flex-wrap:wrap;\n",
              "      gap: 12px;\n",
              "    }\n",
              "\n",
              "    .colab-df-convert {\n",
              "      background-color: #E8F0FE;\n",
              "      border: none;\n",
              "      border-radius: 50%;\n",
              "      cursor: pointer;\n",
              "      display: none;\n",
              "      fill: #1967D2;\n",
              "      height: 32px;\n",
              "      padding: 0 0 0 0;\n",
              "      width: 32px;\n",
              "    }\n",
              "\n",
              "    .colab-df-convert:hover {\n",
              "      background-color: #E2EBFA;\n",
              "      box-shadow: 0px 1px 2px rgba(60, 64, 67, 0.3), 0px 1px 3px 1px rgba(60, 64, 67, 0.15);\n",
              "      fill: #174EA6;\n",
              "    }\n",
              "\n",
              "    [theme=dark] .colab-df-convert {\n",
              "      background-color: #3B4455;\n",
              "      fill: #D2E3FC;\n",
              "    }\n",
              "\n",
              "    [theme=dark] .colab-df-convert:hover {\n",
              "      background-color: #434B5C;\n",
              "      box-shadow: 0px 1px 3px 1px rgba(0, 0, 0, 0.15);\n",
              "      filter: drop-shadow(0px 1px 2px rgba(0, 0, 0, 0.3));\n",
              "      fill: #FFFFFF;\n",
              "    }\n",
              "  </style>\n",
              "\n",
              "      <script>\n",
              "        const buttonEl =\n",
              "          document.querySelector('#df-97284b3f-6069-4e47-801d-d7fda8a7e444 button.colab-df-convert');\n",
              "        buttonEl.style.display =\n",
              "          google.colab.kernel.accessAllowed ? 'block' : 'none';\n",
              "\n",
              "        async function convertToInteractive(key) {\n",
              "          const element = document.querySelector('#df-97284b3f-6069-4e47-801d-d7fda8a7e444');\n",
              "          const dataTable =\n",
              "            await google.colab.kernel.invokeFunction('convertToInteractive',\n",
              "                                                     [key], {});\n",
              "          if (!dataTable) return;\n",
              "\n",
              "          const docLinkHtml = 'Like what you see? Visit the ' +\n",
              "            '<a target=\"_blank\" href=https://colab.research.google.com/notebooks/data_table.ipynb>data table notebook</a>'\n",
              "            + ' to learn more about interactive tables.';\n",
              "          element.innerHTML = '';\n",
              "          dataTable['output_type'] = 'display_data';\n",
              "          await google.colab.output.renderOutput(dataTable, element);\n",
              "          const docLink = document.createElement('div');\n",
              "          docLink.innerHTML = docLinkHtml;\n",
              "          element.appendChild(docLink);\n",
              "        }\n",
              "      </script>\n",
              "    </div>\n",
              "  </div>\n",
              "  "
            ]
          },
          "metadata": {},
          "execution_count": 24
        }
      ],
      "source": [
        "def clean(text):\n",
        "    text = re.sub('[^가-힣ㄱ-ㅎㅏ-ㅣa-zA-Z0-9]', ' ', text)\n",
        "    # text = text.replace(' ','')\n",
        "    return text\n",
        "\n",
        "train_df['comments'] = train_df['comments'].apply(clean)\n",
        "train_df"
      ]
    },
    {
      "cell_type": "code",
      "execution_count": 25,
      "metadata": {
        "id": "tnlBlhQRSdJ4",
        "colab": {
          "base_uri": "https://localhost:8080/",
          "height": 423
        },
        "outputId": "e448db17-c224-42cf-f599-5215ec1aef92"
      },
      "outputs": [
        {
          "output_type": "execute_result",
          "data": {
            "text/plain": [
              "                                              comments  label\n",
              "0                          송중기 시대극은 믿고본다  첫회 신선하고 좋았다       0\n",
              "1                                              지현우 나쁜놈      1\n",
              "2           알바쓰고많이만들면되지 돈욕심없으면골목식당왜나온겨 기댕기게나하고 산에가서팔어라      1\n",
              "3                                     설마 ㅈ 현정 작가 아니지        1\n",
              "4    이미자씨 송혜교씨 돈이 그리 많으면 탈세말고 그돈으로 평소에 불우이웃에게 기부도 좀...      1\n",
              "..                                                 ...    ...\n",
              "466                                  지현우 범죄 저지르지 않았나요       1\n",
              "467                                    여자인생 망칠 일 있나 ㅋㅋ      1\n",
              "468            근데 전라도에서 사고가 났는데 굳이 서울까지 와서 병원에 가느 이유는       1\n",
              "469  할매젖x  뱃살x  몸매 s라인  유륜은 적당해야됨 너무크거나 너무 작아도 x   ...      1\n",
              "470  남자가 잘못한거라면    반성도 없다면   나였다면     여자처럼 아주 못되게 할...      0\n",
              "\n",
              "[471 rows x 2 columns]"
            ],
            "text/html": [
              "\n",
              "  <div id=\"df-12f49d0c-7209-47a9-9d9f-38d08085d6f8\">\n",
              "    <div class=\"colab-df-container\">\n",
              "      <div>\n",
              "<style scoped>\n",
              "    .dataframe tbody tr th:only-of-type {\n",
              "        vertical-align: middle;\n",
              "    }\n",
              "\n",
              "    .dataframe tbody tr th {\n",
              "        vertical-align: top;\n",
              "    }\n",
              "\n",
              "    .dataframe thead th {\n",
              "        text-align: right;\n",
              "    }\n",
              "</style>\n",
              "<table border=\"1\" class=\"dataframe\">\n",
              "  <thead>\n",
              "    <tr style=\"text-align: right;\">\n",
              "      <th></th>\n",
              "      <th>comments</th>\n",
              "      <th>label</th>\n",
              "    </tr>\n",
              "  </thead>\n",
              "  <tbody>\n",
              "    <tr>\n",
              "      <th>0</th>\n",
              "      <td>송중기 시대극은 믿고본다  첫회 신선하고 좋았다</td>\n",
              "      <td>0</td>\n",
              "    </tr>\n",
              "    <tr>\n",
              "      <th>1</th>\n",
              "      <td>지현우 나쁜놈</td>\n",
              "      <td>1</td>\n",
              "    </tr>\n",
              "    <tr>\n",
              "      <th>2</th>\n",
              "      <td>알바쓰고많이만들면되지 돈욕심없으면골목식당왜나온겨 기댕기게나하고 산에가서팔어라</td>\n",
              "      <td>1</td>\n",
              "    </tr>\n",
              "    <tr>\n",
              "      <th>3</th>\n",
              "      <td>설마 ㅈ 현정 작가 아니지</td>\n",
              "      <td>1</td>\n",
              "    </tr>\n",
              "    <tr>\n",
              "      <th>4</th>\n",
              "      <td>이미자씨 송혜교씨 돈이 그리 많으면 탈세말고 그돈으로 평소에 불우이웃에게 기부도 좀...</td>\n",
              "      <td>1</td>\n",
              "    </tr>\n",
              "    <tr>\n",
              "      <th>...</th>\n",
              "      <td>...</td>\n",
              "      <td>...</td>\n",
              "    </tr>\n",
              "    <tr>\n",
              "      <th>466</th>\n",
              "      <td>지현우 범죄 저지르지 않았나요</td>\n",
              "      <td>1</td>\n",
              "    </tr>\n",
              "    <tr>\n",
              "      <th>467</th>\n",
              "      <td>여자인생 망칠 일 있나 ㅋㅋ</td>\n",
              "      <td>1</td>\n",
              "    </tr>\n",
              "    <tr>\n",
              "      <th>468</th>\n",
              "      <td>근데 전라도에서 사고가 났는데 굳이 서울까지 와서 병원에 가느 이유는</td>\n",
              "      <td>1</td>\n",
              "    </tr>\n",
              "    <tr>\n",
              "      <th>469</th>\n",
              "      <td>할매젖x  뱃살x  몸매 s라인  유륜은 적당해야됨 너무크거나 너무 작아도 x   ...</td>\n",
              "      <td>1</td>\n",
              "    </tr>\n",
              "    <tr>\n",
              "      <th>470</th>\n",
              "      <td>남자가 잘못한거라면    반성도 없다면   나였다면     여자처럼 아주 못되게 할...</td>\n",
              "      <td>0</td>\n",
              "    </tr>\n",
              "  </tbody>\n",
              "</table>\n",
              "<p>471 rows × 2 columns</p>\n",
              "</div>\n",
              "      <button class=\"colab-df-convert\" onclick=\"convertToInteractive('df-12f49d0c-7209-47a9-9d9f-38d08085d6f8')\"\n",
              "              title=\"Convert this dataframe to an interactive table.\"\n",
              "              style=\"display:none;\">\n",
              "        \n",
              "  <svg xmlns=\"http://www.w3.org/2000/svg\" height=\"24px\"viewBox=\"0 0 24 24\"\n",
              "       width=\"24px\">\n",
              "    <path d=\"M0 0h24v24H0V0z\" fill=\"none\"/>\n",
              "    <path d=\"M18.56 5.44l.94 2.06.94-2.06 2.06-.94-2.06-.94-.94-2.06-.94 2.06-2.06.94zm-11 1L8.5 8.5l.94-2.06 2.06-.94-2.06-.94L8.5 2.5l-.94 2.06-2.06.94zm10 10l.94 2.06.94-2.06 2.06-.94-2.06-.94-.94-2.06-.94 2.06-2.06.94z\"/><path d=\"M17.41 7.96l-1.37-1.37c-.4-.4-.92-.59-1.43-.59-.52 0-1.04.2-1.43.59L10.3 9.45l-7.72 7.72c-.78.78-.78 2.05 0 2.83L4 21.41c.39.39.9.59 1.41.59.51 0 1.02-.2 1.41-.59l7.78-7.78 2.81-2.81c.8-.78.8-2.07 0-2.86zM5.41 20L4 18.59l7.72-7.72 1.47 1.35L5.41 20z\"/>\n",
              "  </svg>\n",
              "      </button>\n",
              "      \n",
              "  <style>\n",
              "    .colab-df-container {\n",
              "      display:flex;\n",
              "      flex-wrap:wrap;\n",
              "      gap: 12px;\n",
              "    }\n",
              "\n",
              "    .colab-df-convert {\n",
              "      background-color: #E8F0FE;\n",
              "      border: none;\n",
              "      border-radius: 50%;\n",
              "      cursor: pointer;\n",
              "      display: none;\n",
              "      fill: #1967D2;\n",
              "      height: 32px;\n",
              "      padding: 0 0 0 0;\n",
              "      width: 32px;\n",
              "    }\n",
              "\n",
              "    .colab-df-convert:hover {\n",
              "      background-color: #E2EBFA;\n",
              "      box-shadow: 0px 1px 2px rgba(60, 64, 67, 0.3), 0px 1px 3px 1px rgba(60, 64, 67, 0.15);\n",
              "      fill: #174EA6;\n",
              "    }\n",
              "\n",
              "    [theme=dark] .colab-df-convert {\n",
              "      background-color: #3B4455;\n",
              "      fill: #D2E3FC;\n",
              "    }\n",
              "\n",
              "    [theme=dark] .colab-df-convert:hover {\n",
              "      background-color: #434B5C;\n",
              "      box-shadow: 0px 1px 3px 1px rgba(0, 0, 0, 0.15);\n",
              "      filter: drop-shadow(0px 1px 2px rgba(0, 0, 0, 0.3));\n",
              "      fill: #FFFFFF;\n",
              "    }\n",
              "  </style>\n",
              "\n",
              "      <script>\n",
              "        const buttonEl =\n",
              "          document.querySelector('#df-12f49d0c-7209-47a9-9d9f-38d08085d6f8 button.colab-df-convert');\n",
              "        buttonEl.style.display =\n",
              "          google.colab.kernel.accessAllowed ? 'block' : 'none';\n",
              "\n",
              "        async function convertToInteractive(key) {\n",
              "          const element = document.querySelector('#df-12f49d0c-7209-47a9-9d9f-38d08085d6f8');\n",
              "          const dataTable =\n",
              "            await google.colab.kernel.invokeFunction('convertToInteractive',\n",
              "                                                     [key], {});\n",
              "          if (!dataTable) return;\n",
              "\n",
              "          const docLinkHtml = 'Like what you see? Visit the ' +\n",
              "            '<a target=\"_blank\" href=https://colab.research.google.com/notebooks/data_table.ipynb>data table notebook</a>'\n",
              "            + ' to learn more about interactive tables.';\n",
              "          element.innerHTML = '';\n",
              "          dataTable['output_type'] = 'display_data';\n",
              "          await google.colab.output.renderOutput(dataTable, element);\n",
              "          const docLink = document.createElement('div');\n",
              "          docLink.innerHTML = docLinkHtml;\n",
              "          element.appendChild(docLink);\n",
              "        }\n",
              "      </script>\n",
              "    </div>\n",
              "  </div>\n",
              "  "
            ]
          },
          "metadata": {},
          "execution_count": 25
        }
      ],
      "source": [
        "test_df['comments'] = test_df['comments'].apply(clean)\n",
        "test_df"
      ]
    },
    {
      "cell_type": "markdown",
      "metadata": {
        "id": "xT8uoXcfSnpZ"
      },
      "source": [
        "### 띄어쓰기"
      ]
    },
    {
      "cell_type": "code",
      "execution_count": 26,
      "metadata": {
        "id": "ioWSH3F2Pq3l",
        "colab": {
          "base_uri": "https://localhost:8080/",
          "height": 423
        },
        "outputId": "12dd54eb-64b2-4b7e-8c08-08322456ba7d"
      },
      "outputs": [
        {
          "output_type": "execute_result",
          "data": {
            "text/plain": [
              "                                               comments  label\n",
              "0     현재 호텔 주인 심정 아18 난 마른 하늘에 날벼락 맞고 호텔 망하게 생겼는데 누군...      1\n",
              "1     한국적인 미인의 대표적인 분 너무나 곱고 아름다운 모습 그 모습 뒤의 슬픔을 미 처...      0\n",
              "2     못된 넘들 남의 고통을 즐겼던 넘들 이젠 마땅한 처벌을 받아야지 그래야 공정한 사회...      1\n",
              "3                1 2 화 어설 펐는데 3 4 화 지나서부터는 갈수록 너무 재밌던 데      0\n",
              "4     1 사람 얼굴 손톱으로 긁은 것은 인격 살해이고 2 동영상이 몰카냐 메걸리안 들 생...      1\n",
              "...                                                 ...    ...\n",
              "7891                                         힘내세요 응원합니다      0\n",
              "7892                               힘내세요 삼가 고인의 명복을 빕니 다      0\n",
              "7893                                      힘내세용 항상 응원합니닷      0\n",
              "7894  힘내 소 연기로 답해요 나도 53살 인데 이런 일 저런 일 다 있더라구 요 인격을 ...      0\n",
              "7895                                힘들면 관뒀어야지 그게 현명한 거다      0\n",
              "\n",
              "[7896 rows x 2 columns]"
            ],
            "text/html": [
              "\n",
              "  <div id=\"df-4e4a66b9-6b1a-4671-bc11-ff022dd8849d\">\n",
              "    <div class=\"colab-df-container\">\n",
              "      <div>\n",
              "<style scoped>\n",
              "    .dataframe tbody tr th:only-of-type {\n",
              "        vertical-align: middle;\n",
              "    }\n",
              "\n",
              "    .dataframe tbody tr th {\n",
              "        vertical-align: top;\n",
              "    }\n",
              "\n",
              "    .dataframe thead th {\n",
              "        text-align: right;\n",
              "    }\n",
              "</style>\n",
              "<table border=\"1\" class=\"dataframe\">\n",
              "  <thead>\n",
              "    <tr style=\"text-align: right;\">\n",
              "      <th></th>\n",
              "      <th>comments</th>\n",
              "      <th>label</th>\n",
              "    </tr>\n",
              "  </thead>\n",
              "  <tbody>\n",
              "    <tr>\n",
              "      <th>0</th>\n",
              "      <td>현재 호텔 주인 심정 아18 난 마른 하늘에 날벼락 맞고 호텔 망하게 생겼는데 누군...</td>\n",
              "      <td>1</td>\n",
              "    </tr>\n",
              "    <tr>\n",
              "      <th>1</th>\n",
              "      <td>한국적인 미인의 대표적인 분 너무나 곱고 아름다운 모습 그 모습 뒤의 슬픔을 미 처...</td>\n",
              "      <td>0</td>\n",
              "    </tr>\n",
              "    <tr>\n",
              "      <th>2</th>\n",
              "      <td>못된 넘들 남의 고통을 즐겼던 넘들 이젠 마땅한 처벌을 받아야지 그래야 공정한 사회...</td>\n",
              "      <td>1</td>\n",
              "    </tr>\n",
              "    <tr>\n",
              "      <th>3</th>\n",
              "      <td>1 2 화 어설 펐는데 3 4 화 지나서부터는 갈수록 너무 재밌던 데</td>\n",
              "      <td>0</td>\n",
              "    </tr>\n",
              "    <tr>\n",
              "      <th>4</th>\n",
              "      <td>1 사람 얼굴 손톱으로 긁은 것은 인격 살해이고 2 동영상이 몰카냐 메걸리안 들 생...</td>\n",
              "      <td>1</td>\n",
              "    </tr>\n",
              "    <tr>\n",
              "      <th>...</th>\n",
              "      <td>...</td>\n",
              "      <td>...</td>\n",
              "    </tr>\n",
              "    <tr>\n",
              "      <th>7891</th>\n",
              "      <td>힘내세요 응원합니다</td>\n",
              "      <td>0</td>\n",
              "    </tr>\n",
              "    <tr>\n",
              "      <th>7892</th>\n",
              "      <td>힘내세요 삼가 고인의 명복을 빕니 다</td>\n",
              "      <td>0</td>\n",
              "    </tr>\n",
              "    <tr>\n",
              "      <th>7893</th>\n",
              "      <td>힘내세용 항상 응원합니닷</td>\n",
              "      <td>0</td>\n",
              "    </tr>\n",
              "    <tr>\n",
              "      <th>7894</th>\n",
              "      <td>힘내 소 연기로 답해요 나도 53살 인데 이런 일 저런 일 다 있더라구 요 인격을 ...</td>\n",
              "      <td>0</td>\n",
              "    </tr>\n",
              "    <tr>\n",
              "      <th>7895</th>\n",
              "      <td>힘들면 관뒀어야지 그게 현명한 거다</td>\n",
              "      <td>0</td>\n",
              "    </tr>\n",
              "  </tbody>\n",
              "</table>\n",
              "<p>7896 rows × 2 columns</p>\n",
              "</div>\n",
              "      <button class=\"colab-df-convert\" onclick=\"convertToInteractive('df-4e4a66b9-6b1a-4671-bc11-ff022dd8849d')\"\n",
              "              title=\"Convert this dataframe to an interactive table.\"\n",
              "              style=\"display:none;\">\n",
              "        \n",
              "  <svg xmlns=\"http://www.w3.org/2000/svg\" height=\"24px\"viewBox=\"0 0 24 24\"\n",
              "       width=\"24px\">\n",
              "    <path d=\"M0 0h24v24H0V0z\" fill=\"none\"/>\n",
              "    <path d=\"M18.56 5.44l.94 2.06.94-2.06 2.06-.94-2.06-.94-.94-2.06-.94 2.06-2.06.94zm-11 1L8.5 8.5l.94-2.06 2.06-.94-2.06-.94L8.5 2.5l-.94 2.06-2.06.94zm10 10l.94 2.06.94-2.06 2.06-.94-2.06-.94-.94-2.06-.94 2.06-2.06.94z\"/><path d=\"M17.41 7.96l-1.37-1.37c-.4-.4-.92-.59-1.43-.59-.52 0-1.04.2-1.43.59L10.3 9.45l-7.72 7.72c-.78.78-.78 2.05 0 2.83L4 21.41c.39.39.9.59 1.41.59.51 0 1.02-.2 1.41-.59l7.78-7.78 2.81-2.81c.8-.78.8-2.07 0-2.86zM5.41 20L4 18.59l7.72-7.72 1.47 1.35L5.41 20z\"/>\n",
              "  </svg>\n",
              "      </button>\n",
              "      \n",
              "  <style>\n",
              "    .colab-df-container {\n",
              "      display:flex;\n",
              "      flex-wrap:wrap;\n",
              "      gap: 12px;\n",
              "    }\n",
              "\n",
              "    .colab-df-convert {\n",
              "      background-color: #E8F0FE;\n",
              "      border: none;\n",
              "      border-radius: 50%;\n",
              "      cursor: pointer;\n",
              "      display: none;\n",
              "      fill: #1967D2;\n",
              "      height: 32px;\n",
              "      padding: 0 0 0 0;\n",
              "      width: 32px;\n",
              "    }\n",
              "\n",
              "    .colab-df-convert:hover {\n",
              "      background-color: #E2EBFA;\n",
              "      box-shadow: 0px 1px 2px rgba(60, 64, 67, 0.3), 0px 1px 3px 1px rgba(60, 64, 67, 0.15);\n",
              "      fill: #174EA6;\n",
              "    }\n",
              "\n",
              "    [theme=dark] .colab-df-convert {\n",
              "      background-color: #3B4455;\n",
              "      fill: #D2E3FC;\n",
              "    }\n",
              "\n",
              "    [theme=dark] .colab-df-convert:hover {\n",
              "      background-color: #434B5C;\n",
              "      box-shadow: 0px 1px 3px 1px rgba(0, 0, 0, 0.15);\n",
              "      filter: drop-shadow(0px 1px 2px rgba(0, 0, 0, 0.3));\n",
              "      fill: #FFFFFF;\n",
              "    }\n",
              "  </style>\n",
              "\n",
              "      <script>\n",
              "        const buttonEl =\n",
              "          document.querySelector('#df-4e4a66b9-6b1a-4671-bc11-ff022dd8849d button.colab-df-convert');\n",
              "        buttonEl.style.display =\n",
              "          google.colab.kernel.accessAllowed ? 'block' : 'none';\n",
              "\n",
              "        async function convertToInteractive(key) {\n",
              "          const element = document.querySelector('#df-4e4a66b9-6b1a-4671-bc11-ff022dd8849d');\n",
              "          const dataTable =\n",
              "            await google.colab.kernel.invokeFunction('convertToInteractive',\n",
              "                                                     [key], {});\n",
              "          if (!dataTable) return;\n",
              "\n",
              "          const docLinkHtml = 'Like what you see? Visit the ' +\n",
              "            '<a target=\"_blank\" href=https://colab.research.google.com/notebooks/data_table.ipynb>data table notebook</a>'\n",
              "            + ' to learn more about interactive tables.';\n",
              "          element.innerHTML = '';\n",
              "          dataTable['output_type'] = 'display_data';\n",
              "          await google.colab.output.renderOutput(dataTable, element);\n",
              "          const docLink = document.createElement('div');\n",
              "          docLink.innerHTML = docLinkHtml;\n",
              "          element.appendChild(docLink);\n",
              "        }\n",
              "      </script>\n",
              "    </div>\n",
              "  </div>\n",
              "  "
            ]
          },
          "metadata": {},
          "execution_count": 26
        }
      ],
      "source": [
        "spacing = Spacing()\n",
        "train_df['comments'] = train_df['comments'].apply(spacing)\n",
        "train_df"
      ]
    },
    {
      "cell_type": "code",
      "execution_count": 27,
      "metadata": {
        "id": "9k3V8wKgpKkx",
        "colab": {
          "base_uri": "https://localhost:8080/",
          "height": 423
        },
        "outputId": "7687ca37-a375-40ce-cbd8-0e7ceaaff4dd"
      },
      "outputs": [
        {
          "output_type": "execute_result",
          "data": {
            "text/plain": [
              "                                              comments  label\n",
              "0                          송중기 시대극은 믿고 본다 첫 회 신선하고 좋았다      0\n",
              "1                                             지현우 나쁜 놈      1\n",
              "2    알바 쓰고 많이 만들면 되지 돈 욕심 없으면 골목식당 왜 나온 겨 기댕기게나 하고 ...      1\n",
              "3                                       설마 ㅈ 현정 작가 아니지      1\n",
              "4    이미 자씨 송혜교씨 돈이 그리 많으면 탈세 말고 그 돈으로 평소에 불우이웃에게 기부...      1\n",
              "..                                                 ...    ...\n",
              "466                                   지현우 범죄 저지르지 않았나요      1\n",
              "467                                   여자 인생 망칠 일 있나 ㅋㅋ      1\n",
              "468            근데 전라도에서 사고가 났는데 굳이 서울까지 와서 병원에 가 느 이유는      1\n",
              "469  할매젖x 뱃살x 몸매 s 라인 유륜은 적당해야 됨 너무 크거나 너무 작아도 x 엉덩...      1\n",
              "470  남자가 잘못한 거라면 반성도 없다면 나였다면 여자처럼 아주 못되게 할 것 같다 왜 ...      0\n",
              "\n",
              "[471 rows x 2 columns]"
            ],
            "text/html": [
              "\n",
              "  <div id=\"df-2f93c3b7-f197-444f-848c-8329ce5c85d2\">\n",
              "    <div class=\"colab-df-container\">\n",
              "      <div>\n",
              "<style scoped>\n",
              "    .dataframe tbody tr th:only-of-type {\n",
              "        vertical-align: middle;\n",
              "    }\n",
              "\n",
              "    .dataframe tbody tr th {\n",
              "        vertical-align: top;\n",
              "    }\n",
              "\n",
              "    .dataframe thead th {\n",
              "        text-align: right;\n",
              "    }\n",
              "</style>\n",
              "<table border=\"1\" class=\"dataframe\">\n",
              "  <thead>\n",
              "    <tr style=\"text-align: right;\">\n",
              "      <th></th>\n",
              "      <th>comments</th>\n",
              "      <th>label</th>\n",
              "    </tr>\n",
              "  </thead>\n",
              "  <tbody>\n",
              "    <tr>\n",
              "      <th>0</th>\n",
              "      <td>송중기 시대극은 믿고 본다 첫 회 신선하고 좋았다</td>\n",
              "      <td>0</td>\n",
              "    </tr>\n",
              "    <tr>\n",
              "      <th>1</th>\n",
              "      <td>지현우 나쁜 놈</td>\n",
              "      <td>1</td>\n",
              "    </tr>\n",
              "    <tr>\n",
              "      <th>2</th>\n",
              "      <td>알바 쓰고 많이 만들면 되지 돈 욕심 없으면 골목식당 왜 나온 겨 기댕기게나 하고 ...</td>\n",
              "      <td>1</td>\n",
              "    </tr>\n",
              "    <tr>\n",
              "      <th>3</th>\n",
              "      <td>설마 ㅈ 현정 작가 아니지</td>\n",
              "      <td>1</td>\n",
              "    </tr>\n",
              "    <tr>\n",
              "      <th>4</th>\n",
              "      <td>이미 자씨 송혜교씨 돈이 그리 많으면 탈세 말고 그 돈으로 평소에 불우이웃에게 기부...</td>\n",
              "      <td>1</td>\n",
              "    </tr>\n",
              "    <tr>\n",
              "      <th>...</th>\n",
              "      <td>...</td>\n",
              "      <td>...</td>\n",
              "    </tr>\n",
              "    <tr>\n",
              "      <th>466</th>\n",
              "      <td>지현우 범죄 저지르지 않았나요</td>\n",
              "      <td>1</td>\n",
              "    </tr>\n",
              "    <tr>\n",
              "      <th>467</th>\n",
              "      <td>여자 인생 망칠 일 있나 ㅋㅋ</td>\n",
              "      <td>1</td>\n",
              "    </tr>\n",
              "    <tr>\n",
              "      <th>468</th>\n",
              "      <td>근데 전라도에서 사고가 났는데 굳이 서울까지 와서 병원에 가 느 이유는</td>\n",
              "      <td>1</td>\n",
              "    </tr>\n",
              "    <tr>\n",
              "      <th>469</th>\n",
              "      <td>할매젖x 뱃살x 몸매 s 라인 유륜은 적당해야 됨 너무 크거나 너무 작아도 x 엉덩...</td>\n",
              "      <td>1</td>\n",
              "    </tr>\n",
              "    <tr>\n",
              "      <th>470</th>\n",
              "      <td>남자가 잘못한 거라면 반성도 없다면 나였다면 여자처럼 아주 못되게 할 것 같다 왜 ...</td>\n",
              "      <td>0</td>\n",
              "    </tr>\n",
              "  </tbody>\n",
              "</table>\n",
              "<p>471 rows × 2 columns</p>\n",
              "</div>\n",
              "      <button class=\"colab-df-convert\" onclick=\"convertToInteractive('df-2f93c3b7-f197-444f-848c-8329ce5c85d2')\"\n",
              "              title=\"Convert this dataframe to an interactive table.\"\n",
              "              style=\"display:none;\">\n",
              "        \n",
              "  <svg xmlns=\"http://www.w3.org/2000/svg\" height=\"24px\"viewBox=\"0 0 24 24\"\n",
              "       width=\"24px\">\n",
              "    <path d=\"M0 0h24v24H0V0z\" fill=\"none\"/>\n",
              "    <path d=\"M18.56 5.44l.94 2.06.94-2.06 2.06-.94-2.06-.94-.94-2.06-.94 2.06-2.06.94zm-11 1L8.5 8.5l.94-2.06 2.06-.94-2.06-.94L8.5 2.5l-.94 2.06-2.06.94zm10 10l.94 2.06.94-2.06 2.06-.94-2.06-.94-.94-2.06-.94 2.06-2.06.94z\"/><path d=\"M17.41 7.96l-1.37-1.37c-.4-.4-.92-.59-1.43-.59-.52 0-1.04.2-1.43.59L10.3 9.45l-7.72 7.72c-.78.78-.78 2.05 0 2.83L4 21.41c.39.39.9.59 1.41.59.51 0 1.02-.2 1.41-.59l7.78-7.78 2.81-2.81c.8-.78.8-2.07 0-2.86zM5.41 20L4 18.59l7.72-7.72 1.47 1.35L5.41 20z\"/>\n",
              "  </svg>\n",
              "      </button>\n",
              "      \n",
              "  <style>\n",
              "    .colab-df-container {\n",
              "      display:flex;\n",
              "      flex-wrap:wrap;\n",
              "      gap: 12px;\n",
              "    }\n",
              "\n",
              "    .colab-df-convert {\n",
              "      background-color: #E8F0FE;\n",
              "      border: none;\n",
              "      border-radius: 50%;\n",
              "      cursor: pointer;\n",
              "      display: none;\n",
              "      fill: #1967D2;\n",
              "      height: 32px;\n",
              "      padding: 0 0 0 0;\n",
              "      width: 32px;\n",
              "    }\n",
              "\n",
              "    .colab-df-convert:hover {\n",
              "      background-color: #E2EBFA;\n",
              "      box-shadow: 0px 1px 2px rgba(60, 64, 67, 0.3), 0px 1px 3px 1px rgba(60, 64, 67, 0.15);\n",
              "      fill: #174EA6;\n",
              "    }\n",
              "\n",
              "    [theme=dark] .colab-df-convert {\n",
              "      background-color: #3B4455;\n",
              "      fill: #D2E3FC;\n",
              "    }\n",
              "\n",
              "    [theme=dark] .colab-df-convert:hover {\n",
              "      background-color: #434B5C;\n",
              "      box-shadow: 0px 1px 3px 1px rgba(0, 0, 0, 0.15);\n",
              "      filter: drop-shadow(0px 1px 2px rgba(0, 0, 0, 0.3));\n",
              "      fill: #FFFFFF;\n",
              "    }\n",
              "  </style>\n",
              "\n",
              "      <script>\n",
              "        const buttonEl =\n",
              "          document.querySelector('#df-2f93c3b7-f197-444f-848c-8329ce5c85d2 button.colab-df-convert');\n",
              "        buttonEl.style.display =\n",
              "          google.colab.kernel.accessAllowed ? 'block' : 'none';\n",
              "\n",
              "        async function convertToInteractive(key) {\n",
              "          const element = document.querySelector('#df-2f93c3b7-f197-444f-848c-8329ce5c85d2');\n",
              "          const dataTable =\n",
              "            await google.colab.kernel.invokeFunction('convertToInteractive',\n",
              "                                                     [key], {});\n",
              "          if (!dataTable) return;\n",
              "\n",
              "          const docLinkHtml = 'Like what you see? Visit the ' +\n",
              "            '<a target=\"_blank\" href=https://colab.research.google.com/notebooks/data_table.ipynb>data table notebook</a>'\n",
              "            + ' to learn more about interactive tables.';\n",
              "          element.innerHTML = '';\n",
              "          dataTable['output_type'] = 'display_data';\n",
              "          await google.colab.output.renderOutput(dataTable, element);\n",
              "          const docLink = document.createElement('div');\n",
              "          docLink.innerHTML = docLinkHtml;\n",
              "          element.appendChild(docLink);\n",
              "        }\n",
              "      </script>\n",
              "    </div>\n",
              "  </div>\n",
              "  "
            ]
          },
          "metadata": {},
          "execution_count": 27
        }
      ],
      "source": [
        "test_df['comments'] = test_df['comments'].apply(spacing)\n",
        "test_df"
      ]
    },
    {
      "cell_type": "code",
      "execution_count": 28,
      "metadata": {
        "id": "I-gpyX6eVBuD"
      },
      "outputs": [],
      "source": [
        "# 맞춤법 검사만 해주고 띄어쓰기 안 해줌\n",
        "# train['comments2'] = train_df['comments'].apply(spell_checker.check)\n",
        "# train['comments2']"
      ]
    },
    {
      "cell_type": "code",
      "execution_count": 29,
      "metadata": {
        "id": "Thk7FTlw9g_y"
      },
      "outputs": [],
      "source": [
        "# import kss\n",
        "# train_df['comments'] = train_df['comments'].apply(kss.split_sentences)\n",
        "# train_df['comments'] = [','.join(map(str, ls)) for ls in train_df['comments']]"
      ]
    },
    {
      "cell_type": "code",
      "execution_count": 30,
      "metadata": {
        "id": "b0bFv1CR97Sy"
      },
      "outputs": [],
      "source": [
        "# test_df['comments'] = test_df['comments'].apply(kss.split_sentences)\n",
        "# test_df['comments'] = [','.join(map(str, ls)) for ls in test_df['comments']]"
      ]
    },
    {
      "cell_type": "markdown",
      "metadata": {
        "id": "BLPm_eV5-0sK"
      },
      "source": [
        "### 중복 제거"
      ]
    },
    {
      "cell_type": "code",
      "execution_count": 31,
      "metadata": {
        "id": "nRzWDj5a-CkT"
      },
      "outputs": [],
      "source": [
        "from soynlp.normalizer import *\n",
        "train_df['comments'] = [repeat_normalize(comment, num_repeats=2) for comment in train_df['comments']]"
      ]
    },
    {
      "cell_type": "code",
      "execution_count": 32,
      "metadata": {
        "id": "0hE3Jg0P-F7F"
      },
      "outputs": [],
      "source": [
        "test_df['comments'] = [repeat_normalize(comment, num_repeats=2) for comment in test_df['comments']]"
      ]
    },
    {
      "cell_type": "code",
      "execution_count": 33,
      "metadata": {
        "id": "Vw4HDXRSrkIr",
        "colab": {
          "base_uri": "https://localhost:8080/"
        },
        "outputId": "8e10ca7a-bb51-4b8e-eaf8-ac6e62f49303"
      },
      "outputs": [
        {
          "output_type": "stream",
          "name": "stdout",
          "text": [
            "comments    0\n",
            "label       0\n",
            "dtype: int64\n",
            "comments    0\n",
            "label       0\n",
            "dtype: int64\n"
          ]
        }
      ],
      "source": [
        "print(train_df.isnull().sum())\n",
        "print(test_df.isnull().sum())"
      ]
    },
    {
      "cell_type": "markdown",
      "metadata": {
        "id": "OxM95W7zy4jP"
      },
      "source": [
        "### 불용어 제거, 토큰화(KoNLPy의 Okt)"
      ]
    },
    {
      "cell_type": "code",
      "source": [
        "from google.colab import files\n",
        "\n",
        "file = files.upload()"
      ],
      "metadata": {
        "colab": {
          "resources": {
            "http://localhost:8080/nbextensions/google.colab/files.js": {
              "data": "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",
              "ok": true,
              "headers": [
                [
                  "content-type",
                  "application/javascript"
                ]
              ],
              "status": 200,
              "status_text": ""
            }
          },
          "base_uri": "https://localhost:8080/",
          "height": 77
        },
        "id": "-K_5c-M00Mw8",
        "outputId": "2c916351-94bc-409d-b296-82bc300b9b46"
      },
      "execution_count": 59,
      "outputs": [
        {
          "output_type": "display_data",
          "data": {
            "text/plain": [
              "<IPython.core.display.HTML object>"
            ],
            "text/html": [
              "\n",
              "     <input type=\"file\" id=\"files-9a4133e7-9d0e-4bd0-99cd-2d1bd7cadefd\" name=\"files[]\" multiple disabled\n",
              "        style=\"border:none\" />\n",
              "     <output id=\"result-9a4133e7-9d0e-4bd0-99cd-2d1bd7cadefd\">\n",
              "      Upload widget is only available when the cell has been executed in the\n",
              "      current browser session. Please rerun this cell to enable.\n",
              "      </output>\n",
              "      <script src=\"/nbextensions/google.colab/files.js\"></script> "
            ]
          },
          "metadata": {}
        },
        {
          "output_type": "stream",
          "name": "stdout",
          "text": [
            "Saving stopword.txt to stopword.txt\n"
          ]
        }
      ]
    },
    {
      "cell_type": "code",
      "execution_count": 60,
      "metadata": {
        "id": "BmNqx6oly6ec"
      },
      "outputs": [],
      "source": [
        "stopwords = pd.read_csv('stopword.txt')"
      ]
    },
    {
      "cell_type": "code",
      "source": [
        "stopwords = stopwords.values.tolist()"
      ],
      "metadata": {
        "id": "oMvT8sYN0t6P"
      },
      "execution_count": 71,
      "outputs": []
    },
    {
      "cell_type": "code",
      "execution_count": 72,
      "metadata": {
        "id": "ss04A1Av3RE8",
        "colab": {
          "base_uri": "https://localhost:8080/"
        },
        "outputId": "f9fa57bc-eb4e-489c-9b9b-6a68742d2367"
      },
      "outputs": [
        {
          "output_type": "stream",
          "name": "stderr",
          "text": [
            "100%|██████████| 7896/7896 [00:30<00:00, 255.11it/s]\n"
          ]
        }
      ],
      "source": [
        "okt = Okt()\n",
        "\n",
        "X_train = []\n",
        "for sentence in tqdm(train_df['comments']):\n",
        "    tokenized_sentence = okt.morphs(sentence, stem=True) # 토큰화\n",
        "    stopwords_removed_sentence = [word for word in tokenized_sentence if not word in stopwords] # 불용어 제거\n",
        "    X_train.append(stopwords_removed_sentence)"
      ]
    },
    {
      "cell_type": "code",
      "execution_count": 73,
      "metadata": {
        "id": "nZXJ4_tQ5oZA",
        "colab": {
          "base_uri": "https://localhost:8080/"
        },
        "outputId": "4dfb4a16-3e13-42b4-eeb3-5734f0fe0fbf"
      },
      "outputs": [
        {
          "output_type": "execute_result",
          "data": {
            "text/plain": [
              "[['현재',\n",
              "  '호텔',\n",
              "  '주인',\n",
              "  '심정',\n",
              "  '아',\n",
              "  '18',\n",
              "  '난',\n",
              "  '마르다',\n",
              "  '하늘',\n",
              "  '에',\n",
              "  '날벼락',\n",
              "  '맞다',\n",
              "  '호텔',\n",
              "  '망하다',\n",
              "  '생기다',\n",
              "  '누',\n",
              "  '군',\n",
              "  '계속',\n",
              "  '추모',\n",
              "  '받다'],\n",
              " ['한국',\n",
              "  '적',\n",
              "  '인',\n",
              "  '미인',\n",
              "  '의',\n",
              "  '대표',\n",
              "  '적',\n",
              "  '인',\n",
              "  '분',\n",
              "  '너무나',\n",
              "  '곱',\n",
              "  '고',\n",
              "  '아름답다',\n",
              "  '모습',\n",
              "  '그',\n",
              "  '모습',\n",
              "  '뒤',\n",
              "  '의',\n",
              "  '슬픔',\n",
              "  '을',\n",
              "  '밉다',\n",
              "  '처',\n",
              "  '알',\n",
              "  '지',\n",
              "  '못',\n",
              "  '하다',\n",
              "  'ㅠ'],\n",
              " ['못',\n",
              "  '되다',\n",
              "  '넘다',\n",
              "  '들다',\n",
              "  '남',\n",
              "  '의',\n",
              "  '고통',\n",
              "  '을',\n",
              "  '즐기다',\n",
              "  '넘다',\n",
              "  '들다',\n",
              "  '이',\n",
              "  '젠',\n",
              "  '마땅하다',\n",
              "  '처벌',\n",
              "  '을',\n",
              "  '받다',\n",
              "  '그',\n",
              "  '래야',\n",
              "  '공정하다',\n",
              "  '사회',\n",
              "  '지다',\n",
              "  '심다',\n",
              "  '대로',\n",
              "  '거두다']]"
            ]
          },
          "metadata": {},
          "execution_count": 73
        }
      ],
      "source": [
        "X_train[:3]"
      ]
    },
    {
      "cell_type": "code",
      "execution_count": 74,
      "metadata": {
        "id": "v0RoGwOV5_u4",
        "colab": {
          "base_uri": "https://localhost:8080/"
        },
        "outputId": "66dc6760-5d33-4c5d-df58-48326fc91c73"
      },
      "outputs": [
        {
          "output_type": "stream",
          "name": "stderr",
          "text": [
            "100%|██████████| 471/471 [00:03<00:00, 153.94it/s]\n"
          ]
        }
      ],
      "source": [
        "X_test = []\n",
        "for sentence in tqdm(test_df['comments']):\n",
        "    tokenized_sentence = okt.morphs(sentence, stem=True) # 토큰화\n",
        "    stopwords_removed_sentence = [word for word in tokenized_sentence if not word in stopwords] # 불용어 제거\n",
        "    X_test.append(stopwords_removed_sentence)"
      ]
    },
    {
      "cell_type": "code",
      "execution_count": 38,
      "metadata": {
        "id": "D41pW2w41FhA"
      },
      "outputs": [],
      "source": [
        "# from khaiii import KhaiiiApi\n",
        "# kh = KhaiiiApi()\n",
        "\n",
        "# words = []\n",
        "# X_train_kh = []\n",
        "# for comment in train_df['comments']:\n",
        "#     sentence = kh.analyze(comment)\n",
        "#     stopwords_removed_sentence = [word for word in sentence if not word in stopwords] # 불용어 제거\n",
        "#     words.append(' '.join([morph.lex for morph in stopwords_removed_sentence]))\n",
        "#     X_train_kh.append(words)"
      ]
    },
    {
      "cell_type": "code",
      "execution_count": 39,
      "metadata": {
        "id": "eTN9X6GL8G1s"
      },
      "outputs": [],
      "source": [
        "# X_train_kh[:3]"
      ]
    },
    {
      "cell_type": "code",
      "execution_count": 40,
      "metadata": {
        "id": "FVCUFlZE8Dpu"
      },
      "outputs": [],
      "source": [
        "# words = []\n",
        "# X_test_kh = []\n",
        "# for comment in test_df['comments']:\n",
        "#     sentence = kh.analyze(comment)\n",
        "#     stopwords_removed_sentence = [word for word in sentence if not word in stopwords] # 불용어 제거\n",
        "#     words.append(' '.join([morph.lex for morph in stopwords_removed_sentence]))\n",
        "#     X_test_kh.append(words)"
      ]
    },
    {
      "cell_type": "code",
      "execution_count": 75,
      "metadata": {
        "id": "fjSxreOi8y9-"
      },
      "outputs": [],
      "source": [
        "# 데이터프레임 토큰 수 추출하는 함수\n",
        "def get_token_count(df):\n",
        "    tokens = []\n",
        "    for sentence in df['comments']:\n",
        "        words = sentence.split()\n",
        "        for word in words:\n",
        "            tokens.append(word)\n",
        "    tmp = np.unique(np.array(tokens), return_counts=True)\n",
        "    tokens_df = pd.DataFrame({\"token\" : tmp[0],\n",
        "                             \"count\" : tmp[1]})\n",
        "    tokens_df.sort_values(\"count\", ascending=False, inplace=True)\n",
        "    return tokens_df"
      ]
    },
    {
      "cell_type": "code",
      "execution_count": 76,
      "metadata": {
        "id": "OZdHfUYE81QO"
      },
      "outputs": [],
      "source": [
        "train_tcounts = get_token_count(train_df)\n",
        "test_tcounts = get_token_count(test_df)\n"
      ]
    },
    {
      "cell_type": "code",
      "execution_count": 77,
      "metadata": {
        "id": "K55P3U_g87qx",
        "colab": {
          "base_uri": "https://localhost:8080/",
          "height": 676
        },
        "outputId": "052166c4-d139-4b9d-f263-0d8253487580"
      },
      "outputs": [
        {
          "output_type": "execute_result",
          "data": {
            "text/plain": [
              "       token  count\n",
              "12391    배려인      1\n",
              "12390   배려석이      1\n",
              "12389   배려라곤      1\n",
              "12386   배드신은      1\n",
              "12385   배드신도      1\n",
              "12384     배도      1\n",
              "12383    배댓인      1\n",
              "12381   배달시켜      1\n",
              "12366    배경에      1\n",
              "12380     배달      1\n",
              "12377     배놔      1\n",
              "12375     배꼽      1\n",
              "12374    배까지      1\n",
              "12373    배기성      1\n",
              "12371   배구선수      1\n",
              "12370     배구      1\n",
              "12369  배경지식이      1\n",
              "12368    배경임      1\n",
              "12367    배경은      1\n",
              "32202   힙합하면      1"
            ],
            "text/html": [
              "\n",
              "  <div id=\"df-b98215d9-aa71-4e99-a0d9-eabb487f7d25\">\n",
              "    <div class=\"colab-df-container\">\n",
              "      <div>\n",
              "<style scoped>\n",
              "    .dataframe tbody tr th:only-of-type {\n",
              "        vertical-align: middle;\n",
              "    }\n",
              "\n",
              "    .dataframe tbody tr th {\n",
              "        vertical-align: top;\n",
              "    }\n",
              "\n",
              "    .dataframe thead th {\n",
              "        text-align: right;\n",
              "    }\n",
              "</style>\n",
              "<table border=\"1\" class=\"dataframe\">\n",
              "  <thead>\n",
              "    <tr style=\"text-align: right;\">\n",
              "      <th></th>\n",
              "      <th>token</th>\n",
              "      <th>count</th>\n",
              "    </tr>\n",
              "  </thead>\n",
              "  <tbody>\n",
              "    <tr>\n",
              "      <th>12391</th>\n",
              "      <td>배려인</td>\n",
              "      <td>1</td>\n",
              "    </tr>\n",
              "    <tr>\n",
              "      <th>12390</th>\n",
              "      <td>배려석이</td>\n",
              "      <td>1</td>\n",
              "    </tr>\n",
              "    <tr>\n",
              "      <th>12389</th>\n",
              "      <td>배려라곤</td>\n",
              "      <td>1</td>\n",
              "    </tr>\n",
              "    <tr>\n",
              "      <th>12386</th>\n",
              "      <td>배드신은</td>\n",
              "      <td>1</td>\n",
              "    </tr>\n",
              "    <tr>\n",
              "      <th>12385</th>\n",
              "      <td>배드신도</td>\n",
              "      <td>1</td>\n",
              "    </tr>\n",
              "    <tr>\n",
              "      <th>12384</th>\n",
              "      <td>배도</td>\n",
              "      <td>1</td>\n",
              "    </tr>\n",
              "    <tr>\n",
              "      <th>12383</th>\n",
              "      <td>배댓인</td>\n",
              "      <td>1</td>\n",
              "    </tr>\n",
              "    <tr>\n",
              "      <th>12381</th>\n",
              "      <td>배달시켜</td>\n",
              "      <td>1</td>\n",
              "    </tr>\n",
              "    <tr>\n",
              "      <th>12366</th>\n",
              "      <td>배경에</td>\n",
              "      <td>1</td>\n",
              "    </tr>\n",
              "    <tr>\n",
              "      <th>12380</th>\n",
              "      <td>배달</td>\n",
              "      <td>1</td>\n",
              "    </tr>\n",
              "    <tr>\n",
              "      <th>12377</th>\n",
              "      <td>배놔</td>\n",
              "      <td>1</td>\n",
              "    </tr>\n",
              "    <tr>\n",
              "      <th>12375</th>\n",
              "      <td>배꼽</td>\n",
              "      <td>1</td>\n",
              "    </tr>\n",
              "    <tr>\n",
              "      <th>12374</th>\n",
              "      <td>배까지</td>\n",
              "      <td>1</td>\n",
              "    </tr>\n",
              "    <tr>\n",
              "      <th>12373</th>\n",
              "      <td>배기성</td>\n",
              "      <td>1</td>\n",
              "    </tr>\n",
              "    <tr>\n",
              "      <th>12371</th>\n",
              "      <td>배구선수</td>\n",
              "      <td>1</td>\n",
              "    </tr>\n",
              "    <tr>\n",
              "      <th>12370</th>\n",
              "      <td>배구</td>\n",
              "      <td>1</td>\n",
              "    </tr>\n",
              "    <tr>\n",
              "      <th>12369</th>\n",
              "      <td>배경지식이</td>\n",
              "      <td>1</td>\n",
              "    </tr>\n",
              "    <tr>\n",
              "      <th>12368</th>\n",
              "      <td>배경임</td>\n",
              "      <td>1</td>\n",
              "    </tr>\n",
              "    <tr>\n",
              "      <th>12367</th>\n",
              "      <td>배경은</td>\n",
              "      <td>1</td>\n",
              "    </tr>\n",
              "    <tr>\n",
              "      <th>32202</th>\n",
              "      <td>힙합하면</td>\n",
              "      <td>1</td>\n",
              "    </tr>\n",
              "  </tbody>\n",
              "</table>\n",
              "</div>\n",
              "      <button class=\"colab-df-convert\" onclick=\"convertToInteractive('df-b98215d9-aa71-4e99-a0d9-eabb487f7d25')\"\n",
              "              title=\"Convert this dataframe to an interactive table.\"\n",
              "              style=\"display:none;\">\n",
              "        \n",
              "  <svg xmlns=\"http://www.w3.org/2000/svg\" height=\"24px\"viewBox=\"0 0 24 24\"\n",
              "       width=\"24px\">\n",
              "    <path d=\"M0 0h24v24H0V0z\" fill=\"none\"/>\n",
              "    <path d=\"M18.56 5.44l.94 2.06.94-2.06 2.06-.94-2.06-.94-.94-2.06-.94 2.06-2.06.94zm-11 1L8.5 8.5l.94-2.06 2.06-.94-2.06-.94L8.5 2.5l-.94 2.06-2.06.94zm10 10l.94 2.06.94-2.06 2.06-.94-2.06-.94-.94-2.06-.94 2.06-2.06.94z\"/><path d=\"M17.41 7.96l-1.37-1.37c-.4-.4-.92-.59-1.43-.59-.52 0-1.04.2-1.43.59L10.3 9.45l-7.72 7.72c-.78.78-.78 2.05 0 2.83L4 21.41c.39.39.9.59 1.41.59.51 0 1.02-.2 1.41-.59l7.78-7.78 2.81-2.81c.8-.78.8-2.07 0-2.86zM5.41 20L4 18.59l7.72-7.72 1.47 1.35L5.41 20z\"/>\n",
              "  </svg>\n",
              "      </button>\n",
              "      \n",
              "  <style>\n",
              "    .colab-df-container {\n",
              "      display:flex;\n",
              "      flex-wrap:wrap;\n",
              "      gap: 12px;\n",
              "    }\n",
              "\n",
              "    .colab-df-convert {\n",
              "      background-color: #E8F0FE;\n",
              "      border: none;\n",
              "      border-radius: 50%;\n",
              "      cursor: pointer;\n",
              "      display: none;\n",
              "      fill: #1967D2;\n",
              "      height: 32px;\n",
              "      padding: 0 0 0 0;\n",
              "      width: 32px;\n",
              "    }\n",
              "\n",
              "    .colab-df-convert:hover {\n",
              "      background-color: #E2EBFA;\n",
              "      box-shadow: 0px 1px 2px rgba(60, 64, 67, 0.3), 0px 1px 3px 1px rgba(60, 64, 67, 0.15);\n",
              "      fill: #174EA6;\n",
              "    }\n",
              "\n",
              "    [theme=dark] .colab-df-convert {\n",
              "      background-color: #3B4455;\n",
              "      fill: #D2E3FC;\n",
              "    }\n",
              "\n",
              "    [theme=dark] .colab-df-convert:hover {\n",
              "      background-color: #434B5C;\n",
              "      box-shadow: 0px 1px 3px 1px rgba(0, 0, 0, 0.15);\n",
              "      filter: drop-shadow(0px 1px 2px rgba(0, 0, 0, 0.3));\n",
              "      fill: #FFFFFF;\n",
              "    }\n",
              "  </style>\n",
              "\n",
              "      <script>\n",
              "        const buttonEl =\n",
              "          document.querySelector('#df-b98215d9-aa71-4e99-a0d9-eabb487f7d25 button.colab-df-convert');\n",
              "        buttonEl.style.display =\n",
              "          google.colab.kernel.accessAllowed ? 'block' : 'none';\n",
              "\n",
              "        async function convertToInteractive(key) {\n",
              "          const element = document.querySelector('#df-b98215d9-aa71-4e99-a0d9-eabb487f7d25');\n",
              "          const dataTable =\n",
              "            await google.colab.kernel.invokeFunction('convertToInteractive',\n",
              "                                                     [key], {});\n",
              "          if (!dataTable) return;\n",
              "\n",
              "          const docLinkHtml = 'Like what you see? Visit the ' +\n",
              "            '<a target=\"_blank\" href=https://colab.research.google.com/notebooks/data_table.ipynb>data table notebook</a>'\n",
              "            + ' to learn more about interactive tables.';\n",
              "          element.innerHTML = '';\n",
              "          dataTable['output_type'] = 'display_data';\n",
              "          await google.colab.output.renderOutput(dataTable, element);\n",
              "          const docLink = document.createElement('div');\n",
              "          docLink.innerHTML = docLinkHtml;\n",
              "          element.appendChild(docLink);\n",
              "        }\n",
              "      </script>\n",
              "    </div>\n",
              "  </div>\n",
              "  "
            ]
          },
          "metadata": {},
          "execution_count": 77
        }
      ],
      "source": [
        "train_tcounts.tail(20)"
      ]
    },
    {
      "cell_type": "markdown",
      "metadata": {
        "id": "i8LmeCFR6H4_"
      },
      "source": [
        "### 정수 인코딩"
      ]
    },
    {
      "cell_type": "code",
      "execution_count": 78,
      "metadata": {
        "id": "1PM-y2Ks6JMK",
        "colab": {
          "base_uri": "https://localhost:8080/"
        },
        "outputId": "fd7c080a-018f-421f-f64b-f8757538c94f"
      },
      "outputs": [
        {
          "output_type": "stream",
          "name": "stdout",
          "text": [
            "{'하다': 1, '이': 2, '들': 3, '가': 4, '도': 5, '에': 6, '은': 7, '다': 8, '보다': 9, '는': 10, '거': 11, '있다': 12, '안': 13, '아니다': 14, '을': 15, '되다': 16, '없다': 17, 'ㅋㅋ': 18, '좋다': 19, '같다': 20, '게': 21, '의': 22, '고': 23, '만': 24, '사람': 25, '여자': 26, '왜': 27, '나': 28, '것': 29, '로': 30, '못': 31, '나오다': 32, '를': 33, '가다': 34, '자다': 35, '좀': 36, '네': 37, '으로': 38, '그렇다': 39, '한': 40, '너무': 41, '진짜': 42, '에서': 43, '요': 44, '듯': 45, '이다': 46, '인': 47, '때': 48, '아': 49, '더': 50, '들다': 51, '남자': 52, '지다': 53, '그': 54, '말': 55, '하고': 56, '뭐': 57, '건': 58, '많다': 59, '않다': 60, '먹다': 61, 'ㅋㅋㅋ': 62, '애': 63, '지': 64, '연기': 65, '저': 66, '인데': 67, '니': 68, '결혼': 69, '그냥': 70, '라': 71, '씨': 72, '알다': 73, '돈': 74, '내': 75, '드라마': 76, '싶다': 77, '보고': 78, '적': 79, '얼굴': 80, 'ㅋ': 81, '야': 82, '이렇다': 83, '살': 84, '까지': 85, '냐': 86, '모르다': 87, '면': 88, '받다': 89, '생각': 90, '잘': 91, '오다': 92, '대다': 93, '랑': 94, '기사': 95, '데': 96, '개': 97, '수': 98, '하나': 99, '일': 100, '연예인': 101, '한테': 102, '차다': 103, '넘다': 104, 'ㅠㅠ': 105, '기': 106, '해': 107, '과': 108, '또': 109, '난': 110, '이나': 111, '예쁘다': 112, '제': 113, '살다': 114, '맞다': 115, '전': 116, '방송': 117, '댓글': 118, '남': 119, '끄다': 120, '걸': 121, '나다': 122, '생기다': 123, '욕': 124, '근데': 125, '서': 126, '치다': 127, '정말': 128, '배우': 129, '보이다': 130, '줄': 131, '분': 132, '무슨': 133, '둘': 134, '부터': 135, '많이': 136, '님': 137, '나이': 138, '싫다': 139, '거지': 140, '돼다': 141, '정도': 142, '중': 143, '여': 144, '해주다': 145, '응원': 146, '지금': 147, '이쁘다': 148, '이랑': 149, '임': 150, '자': 151, '처럼': 152, 'ㅠ': 153, '크다': 154, '놈': 155, '너': 156, '한국': 157, '역시': 158, '말다': 159, '문제': 160, '엄마': 161, '뭔': 162, '요즘': 163, '시': 164, '와': 165, '보기': 166, '팬': 167, '이렇게': 168, '인생': 169, '솔직하다': 170, '밉다': 171, 'ㅎㅎ': 172, '만나다': 173, '같이': 174, '다른': 175, '얘': 176, '이제': 177, '년': 178, '쓰다': 179, '주다': 180, '어': 181, '두': 182, '남편': 183, '자기': 184, '사랑': 185, '알': 186, '말고': 187, '어떻다': 188, '함': 189, '잘못': 190, '하': 191, '그만': 192, '때문': 193, '번': 194, '좋아하다': 195, '재밌다': 196, '저런': 197, '시키다': 198, '악플': 199, '1': 200, '얼마나': 201, '어리다': 202, '집': 203, '라고': 204, '누구': 205, '만들다': 206, 'ㅉㅉ': 207, '딸': 208, '이라': 209, '내다': 210, 'ㅜㅜ': 211, '노래': 212, '죄': 213, '믿다': 214, '찍다': 215, '텐데': 216, '인간': 217, '다시': 218, '마르다': 219, '뜨다': 220, '에게': 221, 'ㅡㅡ': 222, '누가': 223, '올리다': 224, '사': 225, '죽다': 226, '명': 227, '이냐': 228, '원': 229, '기자': 230, '간': 231, '그래도': 232, '이야': 233, '관심': 234, '들이다': 235, '이지': 236, '다니다': 237, '행복하다': 238, '그렇게': 239, '프로': 240, '그리고': 241, '힘들다': 242, '2': 243, '눈': 244, '사진': 245, '서다': 246, '힘내다': 247, '아깝다': 248, '이라고': 249, '앞': 250, '혼자': 251, '성': 252, '따다': 253, '뭘': 254, '녀': 255, '잘생기다': 256, '문': 257, '예능': 258, '빠지다': 259, '군대': 260, '세': 261, '오늘': 262, '본인': 263, '이해': 264, '글': 265, '수도': 266, '연': 267, '머리': 268, '꼭': 269, '볼': 270, '해도': 271, '제발': 272, '구': 273, '부럽다': 274, '모습': 275, '빼다': 276, '부모': 277, '축하': 278, '별': 279, '나라': 280, '급': 281, '불쌍하다': 282, '보': 283, '계속': 284, '우리': 285, '꼴': 286, '아이': 287, '주': 288, 'ㅎ': 289, '아프다': 290, '해보다': 291, '별로': 292, '늘다': 293, '느낌': 294, '써다': 295, '소리': 296, '세상': 297, '사다': 298, '낳다': 299, '최고': 300, '멋지다': 301, '모': 302, '닮다': 303, '망하다': 304, '재미': 305, '짓': 306, '사귀다': 307, '거야': 308, '딱': 309, '갈다': 310, '이고': 311, '아줌마': 312, '진심': 313, '사실': 314, '여기': 315, '화이팅': 316, '비다': 317, '연애': 318, '가족': 319, '쓰레기': 320, '버리다': 321, '어울리다': 322, '마음': 323, '인지': 324, '속': 325, '없이': 326, 'ㅡ': 327, '3': 328, '대단하다': 329, '수준': 330, '가지': 331, '임신': 332, '아이돌': 333, '뿐': 334, '쁘': 335, '이유': 336, '제일': 337, '자식': 338, '항상': 339, '위': 340, '나가다': 341, '척': 342, '이름': 343, '아들': 344, '30': 345, '저렇게': 346, '머': 347, '놓다': 348, '하차': 349, '언니': 350, '엄청': 351, '인가': 352, '이미지': 353, '노잼': 354, '당하다': 355, '니까': 356, '남다': 357, '얘기': 358, '정': 359, '발': 360, '쓸다': 361, '늙다': 362, '일본': 363, '가수': 364, '매력': 365, '성형': 366, '처': 367, '상': 368, '끝나다': 369, '비': 370, '기다': 371, '입': 372, '떨어지다': 373, '여성': 374, '입다': 375, '피해자': 376, '완전': 377, '인기': 378, '더럽다': 379, '벌다': 380, '자꾸': 381, '티비': 382, '정신': 383, '어디': 384, '심하다': 385, '부부': 386, '이네': 387, '난리': 388, '방탄': 389, '시간': 390, '몇': 391, '재앙': 392, '에는': 393, '돼지': 394, '물': 395, '아주': 396, '그리다': 397, '잡다': 398, '걍': 399, '엔': 400, '쪽': 401, '멀다': 402, '나쁘다': 403, '보여주다': 404, '영화': 405, '활동': 406, '승리': 407, 'ㅜ': 408, '성격': 409, '안타깝다': 410, '유재석': 411, '봄': 412, '대': 413, '휴': 414, '존': 415, '언제': 416, '프로그램': 417, '라는': 418, '맛': 419, '뒤': 420, '전현무': 421, '건지다': 422, '멤버': 423, '조': 424, '잇다': 425, '조용하다': 426, '똑같다': 427, '쉬다': 428, '진': 429, '인성': 430, '들어가다': 431, '백종원': 432, '든': 433, '커플': 434, '화': 435, '자랑': 436, '달': 437, '40': 438, '분들': 439, '웃기다': 440, '리': 441, '국민': 442, '사과': 443, '등': 444, '혼': 445, '후': 446, '한남': 447, '찌다': 448, '식': 449, '오': 450, '이르다': 451, '아직도': 452, '당': 453, '아무리': 454, '건가': 455, '아쉽다': 456, '질': 457, '걸리다': 458, '키': 459, '재미없다': 460, '뭔가': 461, '극': 462, '강': 463, '키우다': 464, '라도': 465, '자살': 466, '관리': 467, '걸다': 468, '배우다': 469, '친': 470, '그게': 471, '만큼': 472, '이면': 473, '타다': 474, '몸': 475, '부르다': 476, '건데': 477, '아빠': 478, '죽이다': 479, '결국': 480, '마약': 481, '궁금하다': 482, '마다': 483, '깔다': 484, '일반인': 485, '외모': 486, '끝': 487, '괜찮다': 488, '아직': 489, '젠': 490, '두다': 491, '연예': 492, '감': 493, '뻐': 494, '젊다': 495, '바람': 496, '죠': 497, '이라도': 498, '약': 499, '소속사': 500, '오빠': 501, '산': 502, '예전': 503, '인정': 504, '래': 505, '귀엽다': 506, '몸매': 507, '술': 508, '사건': 509, '무섭다': 510, '이상': 511, '드리다': 512, '이라는': 513, '친구': 514, '불편하다': 515, '저러다': 516, '이혼': 517, '형': 518, '이상하다': 519, '군': 520, '느끼다': 521, '능력': 522, '박': 523, '되어다': 524, '쿵쾅': 525, '이란': 526, '배': 527, '대상': 528, '싸다': 529, '거임': 530, '뭐라다': 531, '마': 532, '작가': 533, '단': 534, '잼': 535, '에도': 536, '출연': 537, '다음': 538, '보이': 539, '이번': 540, '돌리다': 541, '공개': 542, '힘드다': 543, '맘': 544, '20': 545, '서로': 546, '문재인': 547, '달다': 548, '열심히': 549, 'ㄷㄷ': 550, '비호감': 551, '바': 552, '노력': 553, '선': 554, '음': 555, '노': 556, '누군지': 557, '재': 558, '차': 559, '심': 560, '티': 561, '신': 562, '다르다': 563, '짱': 564, '설리': 565, '일이': 566, '제대로': 567, '걱정': 568, '예': 569, '짜다': 570, '보내다': 571, '옷': 572, '박나래': 573, '명복': 574, '미치다': 575, '바라다': 576, '당연하다': 577, '신경': 578, '폐지': 579, '대한민국': 580, '얼': 581, '답': 582, '새': 583, '이건': 584, '처음': 585, '장난': 586, '인들': 587, '음악': 588, '오지': 589, '전라도': 590, '김치': 591, '중국': 592, '고인': 593, '애가': 594, '듣다': 595, '손': 596, '편': 597, '눈물': 598, '밖에': 599, '빨': 600, '그래서': 601, '애기': 602, '디': 603, '양': 604, '피': 605, '멋있다': 606, '준': 607, '죽': 608, '날': 609, '터지다': 610, '열': 611, '목소리': 612, '절대': 613, '훨씬': 614, '김': 615, '구혜선': 616, '송혜교': 617, '아이유': 618, '싫어하다': 619, '악플달다': 620, '현빈': 621, '당신': 622, '상관': 623, '보임': 624, '거기': 625, '모든': 626, '굳이': 627, '끼': 628, '착하다': 629, '고생': 630, '거고': 631, '현': 632, '적당하다': 633, '새끼': 634, '현실': 635, '곳': 636, '사고': 637, '입장': 638, '거리': 639, '관계': 640, '인가요': 641, 'ㅈㄴ': 642, '원래': 643, '아무': 644, '평생': 645, '밥': 646, '헤어지다': 647, '웃다': 648, '뻔하다': 649, '상처': 650, '우리나라': 651, '자체': 652, '작': 653, '케': 654, '불다': 655, '길': 656, '생활': 657, '백': 658, '왕': 659, '삼가다': 660, '장': 661, '악플러': 662, '차이': 663, '갖다': 664, '아내': 665, '질투': 666, '뉴스': 667, 'yg': 668, '겠다': 669, '쟁이': 670, '제목': 671, '현아': 672, '채널': 673, '바꾸다': 674, '작품': 675, 'ㅉ': 676, '내용': 677, '온': 678, '솔': 679, '스럽다': 680, '탓': 681, '따르다': 682, '정준영': 683, '전부': 684, '생': 685, '나서다': 686, '사기': 687, '개인': 688, '놀다': 689, '맨날': 690, '하지만': 691, '한혜진': 692, '설정': 693, '사이': 694, '스타일': 695, '필요': 696, '무조건': 697, '이야기': 698, '우': 699, 'ooo': 700, '빨다': 701, '넌': 702, '영': 703, '시작': 704, '부인': 705, '슬프다': 706, '달라': 707, '행동': 708, '똥': 709, '늘': 710, '먼저': 711, '코': 712, '피해': 713, '몰다': 714, '이미': 715, '매니저': 716, '기다리다': 717, '변하다': 718, '회사': 719, '곧': 720, '여행': 721, '편하다': 722, '햇': 723, '바로': 724, 'ㅎㅎㅎ': 725, '가슴': 726, '땐': 727, '갑자기': 728, '조심하다': 729, '유': 730, '과거': 731, '겁나다': 732, '오래': 733, '어느': 734, '페미': 735, '여주': 736, '4': 737, '10': 738, '자리': 739, '생각나다': 740, '보단': 741, '드럽다': 742, '역겹다': 743, '홍진영': 744, '차라리': 745, '라면': 746, '실망': 747, '지만': 748, '그것': 749, '살리다': 750, '상황': 751, '수지': 752, '중요하다': 753, '이니': 754, '재현': 755, '기부': 756, '논란': 757, '도대체': 758, '아름답다': 759, '무': 760, '가지다': 761, '시청률': 762, '반': 763, '아저씨': 764, '갚다': 765, '연예계': 766, '확실하다': 767, 'ㅈ': 768, '시즌': 769, '미모': 770, '빨리': 771, '연기자': 772, '쇼': 773, '끼다': 774, '동안': 775, '특히': 776, '팀': 777, '치고': 778, '엑소': 779, '미국': 780, '던데': 781, '응': 782, '에선': 783, '박보검': 784, '메': 785, '뜯다': 786, '위해': 787, '비주': 788, '화사': 789, 'sns': 790, '병': 791, '젤': 792, '동': 793, '반성': 794, '법': 795, '언': 796, '스타': 797, '방': 798, '마닷': 799, '비난': 800, '책임': 801, '기안': 802, '마누라': 803, '벌써': 804, '돌아가다': 805, '바보': 806, '헐다': 807, '옛날': 808, '움': 809, '용': 810, '추다': 811, '누나': 812, '즐기다': 813, '사회': 814, '다이어트': 815, '충분하다': 816, '건강하다': 817, '매': 818, '혐': 819, '빚': 820, '실제': 821, '떠나다': 822, '에서는': 823, '때리다': 824, '그만하다': 825, '조사': 826, 'ㅉㅉㅉ': 827, '테': 828, '쁜': 829, '무대': 830, '팩트': 831, '아버지': 832, '증거': 833, '정부': 834, '해결': 835, '그걸': 836, '김태희': 837, '에서도': 838, '인스타': 839, '쟤': 840, '듣보잡': 841, '낫다': 842, '지겹다': 843, '귀': 844, '정권': 845, '챙기다': 846, '막장': 847, '유리': 848, '송중기': 849, '대로': 850, '남녀': 851, '한번': 852, '비율': 853, '기레기': 854, '혜진': 855, '직업': 856, '아나운서': 857, '산이': 858, '저렇다': 859, '넣다': 860, '라인': 861, '하자': 862, '니깐': 863, '들어오다': 864, '관': 865, '갓': 866, '없어지다': 867, '감정': 868, '어차피': 869, '괜히': 870, '짜증나다': 871, '광고': 872, '조작': 873, '한다는': 874, '줄다': 875, '범죄자': 876, '구하라': 877, '대체': 878, '기대': 879, '쫌': 880, '실력': 881, '점점': 882, '홍보': 883, '주말': 884, '빛': 885, '옆': 886, '표정': 887, '범죄': 888, '나와라': 889, '전혀': 890, '다가': 891, '시기': 892, '욕먹다': 893, '다니엘': 894, '끼리': 895, '열폭': 896, '애초': 897, '막': 898, '미안하다': 899, '복귀': 900, '풀다': 901, '버': 902, '내리다': 903, '앉다': 904, '호감': 905, '고치다': 906, '강남': 907, '잊다': 908, '언급': 909, '냄새': 910, '나중': 911, '하든': 912, '조금': 913, '보지': 914, '패': 915, '마지막': 916, '국': 917, '타': 918, '와중': 919, '재미있다': 920, '동생': 921, '작다': 922, '계': 923, '모두': 924, '어제': 925, '암': 926, '시대': 927, '정치': 928, '울다': 929, '가능하다': 930, '유지': 931, '억울하다': 932, '그동안': 933, '탑': 934, '높다': 935, '상대': 936, '정상': 937, '장윤정': 938, '화장': 939, '운동': 940, '꾸다': 941, '지키다': 942, '워': 943, '잘나가다': 944, '으': 945, '거의': 946, '개다': 947, '산다': 948, '떨다': 949, '돌아오다': 950, '읽다': 951, '거짓말': 952, '덮다': 953, '민': 954, '그때': 955, '불륜': 956, '이병헌': 957, '맞추다': 958, '밝히다': 959, '하니': 960, '형님': 961, '유명하다': 962, '음주운전': 963, '찾다': 964, '아기': 965, '성공하다': 966, '물어': 967, '스토리': 968, '역': 969, '수가': 970, '누': 971, '대표': 972, '일단': 973, '기억': 974, '울': 975, '시절': 976, '바뀌다': 977, '희다': 978, '비슷하다': 979, '어쩔': 980, '가장': 981, '6': 982, '방송국': 983, '어쩌': 984, '그룹': 985, '밀다': 986, '식당': 987, '정해': 988, '기분': 989, '이후': 990, '소': 991, '당당하다': 992, '올라오다': 993, '합의': 994, '가면': 995, '곡': 996, '가식': 997, '자신': 998, '미투': 999, '가보다': 1000, '도박': 1001, '표': 1002, '그대로': 1003, '밤': 1004, '첨': 1005, '안재현': 1006, '올라가다': 1007, '여자도': 1008, '자연': 1009, '데뷔': 1010, '라서': 1011, '지랄': 1012, '꺼지다': 1013, '장면': 1014, '분위기': 1015, '구만': 1016, '대박': 1017, '모델': 1018, '비교': 1019, '세계': 1020, '뒤지다': 1021, '웃기': 1022, '5': 1023, '그나마': 1024, '캐릭터': 1025, '확인': 1026, '아이즈': 1027, '개돼지': 1028, '순간': 1029, '부끄럽다': 1030, '외': 1031, 'ㄴ': 1032, '왠': 1033, '박명수': 1034, '살이': 1035, '김종국': 1036, '대통령': 1037, '성매매': 1038, '빼': 1039, '공효진': 1040, '께': 1041, '한지민': 1042, '한데': 1043, '사생활': 1044, '언론': 1045, '복': 1046, '검사': 1047, '촬영': 1048, '느껴지다': 1049, '기적': 1050, '불': 1051, '피디': 1052, '오히려': 1053, '남친': 1054, '기도': 1055, '스럽게': 1056, '허다': 1057, '부모님': 1058, '물론': 1059, '이기다': 1060, 'ㅠㅠㅠ': 1061, '어찌': 1062, '혜선': 1063, '부분': 1064, '갈수록': 1065, '꼬': 1066, '2년': 1067, '주인공': 1068, '땜': 1069, '50': 1070, '좌파': 1071, '표현': 1072, '퇴': 1073, '인물': 1074, '신인': 1075, '공': 1076, '관종': 1077, '경': 1078, '맙시': 1079, '듣보다': 1080, '어머니': 1081, '가즈': 1082, '외국': 1083, '이라니': 1084, '성폭행': 1085, '음식': 1086, '담다': 1087, '대부분': 1088, '실검': 1089, '결과': 1090, '걷다': 1091, '평범하다': 1092, '집안': 1093, '되게': 1094, '대중': 1095, '수사': 1096, '잖다': 1097, '어휴': 1098, '대한': 1099, '그거': 1100, '짓다': 1101, '꽃': 1102, '실': 1103, '송': 1104, '무도': 1105, '웃': 1106, '예원': 1107, '오창석': 1108, '하늘': 1109, '벌': 1110, '여배우': 1111, '충': 1112, '가정': 1113, '싸우다': 1114, '점': 1115, '새롭다': 1116, '다행': 1117, '시집': 1118, '적다': 1119, '안되다': 1120, '얼마': 1121, '곱다': 1122, '참다': 1123, '잠': 1124, '씩': 1125, '억': 1126, 'ㅈㄹ': 1127, '밝혀지다': 1128, '빅뱅': 1129, '박다': 1130, '걸그룹': 1131, '치': 1132, 'ㅅ': 1133, '무시': 1134, '친하다': 1135, '경찰': 1136, '하여간': 1137, '첫': 1138, '암튼': 1139, '네이버': 1140, '취급': 1141, '반응': 1142, '돌림': 1143, '짧다': 1144, '히': 1145, '실수': 1146, '유치하다': 1147, '사장': 1148, '어울림': 1149, '영상': 1150, '고소': 1151, '치료': 1152, '데리': 1153, '알바': 1154, '애도': 1155, '인상': 1156, '시청자': 1157, '설현': 1158, '폭력': 1159, '조보아': 1160, '미나': 1161, '브라': 1162, '꽃뱀': 1163, '지도': 1164, '삼': 1165, '찌': 1166, '대해': 1167, '셋': 1168, '반대': 1169, '웃음': 1170, '터': 1171, '박한별': 1172, '가요': 1173, '함께': 1174, '구속': 1175, '이던': 1176, '정우성': 1177, '처벌': 1178, '크게': 1179, '10년': 1180, '놀라다': 1181, '로는': 1182, '계집': 1183, '말투': 1184, '카톡': 1185, '째': 1186, '원하다': 1187, '안보': 1188, '돌다': 1189, '흠': 1190, '피다': 1191, '올해': 1192, '대세': 1193, '맨': 1194, '업다': 1195, '엇': 1196, '그런데': 1197, '흥': 1198, '이니까': 1199, '주제': 1200, '어이': 1201, '근': 1202, '약하다': 1203, '태어나다': 1204, '성추행': 1205, '몰려오다': 1206, '답답하다': 1207, '가라': 1208, '은퇴': 1209, '지나': 1210, '차리다': 1211, '빈': 1212, '용서': 1213, '신고': 1214, '메인': 1215, '지는': 1216, '소름': 1217, '짐': 1218, '존경': 1219, '며느리': 1220, '띄우다': 1221, '컨셉': 1222, '준영': 1223, '선택': 1224, '고맙다': 1225, '공부': 1226, 'ㄷ': 1227, '북한': 1228, '구나': 1229, '재수': 1230, '꽃길': 1231, '살인': 1232, '너희': 1233, '낫': 1234, '로서': 1235, '역할': 1236, '평소': 1237, '마스크': 1238, '조카': 1239, '틀다': 1240, '남궁민': 1241, '범': 1242, '연기력': 1243, '판': 1244, '붙다': 1245, '해봤다': 1246, '자주': 1247, '몰입': 1248, '이기': 1249, '감독': 1250, '뇌': 1251, '조재현': 1252, '몰카': 1253, '평가': 1254, '틀리다': 1255, 'ㅇㅇ': 1256, '키로': 1257, '망': 1258, '뻔': 1259, '이래서': 1260, '바르다': 1261, '속이다': 1262, '묻다': 1263, '줌': 1264, '아치': 1265, '삶': 1266, '하나요': 1267, '가야': 1268, '쯧쯧': 1269, '다리': 1270, '3년': 1271, '잃다': 1272, '방법': 1273, '인지도': 1274, '컴백': 1275, '핑크': 1276, '기대하다': 1277, '일반': 1278, '섭외': 1279, '병원': 1280, '개그맨': 1281, '법적': 1282, '끊다': 1283, '책임지다': 1284, '적폐': 1285, '가만히': 1286, '채': 1287, '부디': 1288, '게스트': 1289, '으로도': 1290, '팔리다': 1291, '훨': 1292, '한효주': 1293, '거품': 1294, '트와이스': 1295, '비리': 1296, '덜': 1297, '묘': 1298, '보다는': 1299, '사라지다': 1300, '방탄소년단': 1301, '준비': 1302, '개념': 1303, '듣기': 1304, '선수': 1305, '여서': 1306, '끌다': 1307, '협박': 1308, '당시': 1309, '진실': 1310, '빵': 1311, '오르다': 1312, '얻다': 1313, '숨다': 1314, '겁니다': 1315, '이든': 1316, '뚱뚱하다': 1317, '욕심': 1318, '지내다': 1319, '힘': 1320, '재혼': 1321, '기본': 1322, '사거리': 1323, '예의': 1324, '상상': 1325, '동네': 1326, '이랑은': 1327, '뛰다': 1328, '이리': 1329, '뽕': 1330, '중기': 1331, '저리': 1332, '설마': 1333, '토': 1334, '내내': 1335, '면상': 1336, '줌마': 1337, '연출': 1338, '아래': 1339, '인터뷰': 1340, '어쩌라고': 1341, '장애': 1342, '지나다': 1343, '동영상': 1344, '승기': 1345, '일도': 1346, '건강': 1347, '부': 1348, '아침': 1349, '타고': 1350, '윤아': 1351, '배려': 1352, 'kbs': 1353, '란': 1354, '얼다': 1355, '반전': 1356, 'x': 1357, '우려': 1358, '일상': 1359, '영원하다': 1360, '성별': 1361, 'ㅇ': 1362, '보통': 1363, '여전하다': 1364, '무엇': 1365, '젝키': 1366, '태국': 1367, '성희롱': 1368, '진행': 1369, '의도': 1370, '언플': 1371, '국가': 1372, '요리': 1373, '감사하다': 1374, 'ㄷㄷㄷ': 1375, '이구나': 1376, '일어나다': 1377, '여러': 1378, '칼': 1379, '노출': 1380, '늦다': 1381, '틀': 1382, '판단': 1383, '랄': 1384, '불법': 1385, '기준': 1386, '남아': 1387, '겨': 1388, '팔이': 1389, '탈': 1390, '어색하다': 1391, '서울대': 1392, '짜증': 1393, '철': 1394, '직접': 1395, '라지': 1396, '창': 1397, '카메라': 1398, '스스로': 1399, '도움': 1400, '똑바로': 1401, '출신': 1402, '주변': 1403, '퇴물': 1404, '누르다': 1405, '악': 1406, '84': 1407, '주가': 1408, '아가': 1409, '의사': 1410, '완벽하다': 1411, '공감': 1412, '하필': 1413, '눈빛': 1414, '조국': 1415, '로써': 1416, '이지만': 1417, '덥다': 1418, '린': 1419, '해외': 1420, '식상하다': 1421, '육아': 1422, '생기': 1423, '날다': 1424, '송가': 1425, '운전': 1426, 'ㄱ': 1427, '부탁': 1428, '전형': 1429, '라니': 1430, '현재': 1431, '18': 1432, '문화': 1433, '졸라': 1434, '모양': 1435, '20년': 1436, 'c': 1437, '력': 1438, '집중': 1439, '로맨스': 1440, '퍼': 1441, '하라': 1442, '나머지': 1443, '좌빨': 1444, '흘리다': 1445, 'sm': 1446, '추천': 1447, '지인': 1448, '던지다': 1449, '주작': 1450, '붙이다': 1451, '정신병': 1452, '사기꾼': 1453, '려': 1454, '요새': 1455, '파다': 1456, '바지': 1457, '해명': 1458, '콘서트': 1459, '덩어리': 1460, '알리다': 1461, '각': 1462, '개월': 1463, '박근혜': 1464, '여론': 1465, '조만간': 1466, '시끄럽다': 1467, '잡히다': 1468, '초': 1469, '강하다': 1470, '이수근': 1471, '가리다': 1472, '찌질하다': 1473, '잘나다': 1474, '덕': 1475, '약속': 1476, '배다': 1477, '월': 1478, '담배': 1479, '사업': 1480, '실명': 1481, '통': 1482, '일베': 1483, '해체': 1484, '예요': 1485, '어렵다': 1486, '고소하다': 1487, '난리치다': 1488, '지나가다': 1489, '교육': 1490, '긋다': 1491, '공인': 1492, '졸': 1493, '관상': 1494, '선동': 1495, '티아라': 1496, '미우다': 1497, '자숙': 1498, '여신': 1499, '상한': 1500, '발언': 1501, '뎅': 1502, '엔딩': 1503, '누군데': 1504, '화나다': 1505, '고만': 1506, '맡다': 1507, '이슈': 1508, '자극': 1509, '투': 1510, '선생님': 1511, '편집': 1512, '트': 1513, '추억': 1514, '검색': 1515, '쌈디': 1516, '김건모': 1517, '김구라': 1518, '빌리다': 1519, '날리다': 1520, '살림': 1521, '효': 1522, '피부': 1523, '똑똑하다': 1524, '손예진': 1525, '일부러': 1526, '소식': 1527, '목': 1528, '착': 1529, '존재': 1530, '추자현': 1531, '소원': 1532, '1등': 1533, '슈': 1534, '임현주': 1535, '사랑스럽다': 1536, '둥': 1537, '써주다': 1538, '저기': 1539, '살아가다': 1540, '논': 1541, '대사': 1542, '부탁드리다': 1543, '이상민': 1544, '현명하다': 1545, '여우': 1546, '뜻': 1547, '오버': 1548, '홍어': 1549, '예수님': 1550, '상하': 1551, '찬': 1552, '죽음': 1553, '승': 1554, '여러분': 1555, '이종석': 1556, '호텔': 1557, '미인': 1558, '만에': 1559, '거니': 1560, '1년': 1561, '멋': 1562, '0': 1563, '마냥': 1564, '가해자': 1565, '한참': 1566, '입대': 1567, '꿀': 1568, '아예': 1569, '캐스팅': 1570, '지고': 1571, '문희준': 1572, 'ㅎㄷㄷ': 1573, '9': 1574, '관련': 1575, '유진': 1576, '여기저기': 1577, '노무현': 1578, '특징': 1579, '괴롭히다': 1580, '참고': 1581, '윤': 1582, '실화': 1583, '뽑다': 1584, '나래': 1585, '정보': 1586, '예민하다': 1587, '애쓰다': 1588, '빠순이': 1589, '으로만': 1590, '결말': 1591, '축구': 1592, '겹': 1593, '현무': 1594, '천사': 1595, '기르다': 1596, '구석': 1597, '아이고': 1598, '만하': 1599, '면서': 1600, '간다': 1601, '호구': 1602, '여기다': 1603, '지원': 1604, '잘살다': 1605, '최': 1606, '와이프': 1607, '앨범': 1608, '갑': 1609, '행복': 1610, '신선하다': 1611, '넘치다': 1612, '강간': 1613, '100': 1614, '상해': 1615, '징그럽다': 1616, '돋다': 1617, '많아지다': 1618, '시청': 1619, '지적': 1620, '나대다': 1621, '노처녀': 1622, '쁨': 1623, '먹이다': 1624, '의미': 1625, '젖': 1626, '재다': 1627, '엿': 1628, '소시': 1629, '확': 1630, '꼭지': 1631, '변호사': 1632, '선배': 1633, '골목': 1634, '오죽하다': 1635, '집다': 1636, '그저': 1637, '가기': 1638, '구라': 1639, '재능': 1640, '꿈': 1641, '라이': 1642, '얼른': 1643, '장동건': 1644, '마무리': 1645, '쭉': 1646, '억지': 1647, '한쪽': 1648, '며': 1649, '업': 1650, '감성': 1651, '민폐': 1652, '일인': 1653, '궁금': 1654, '서현진': 1655, '채다': 1656, '당한': 1657, '혼하': 1658, '김수현': 1659, '쎄다': 1660, '중이': 1661, '누군가': 1662, '자유': 1663, '학교': 1664, '성인': 1665, '모름': 1666, '속상하다': 1667, '세다': 1668, '눈치': 1669, '책': 1670, '명품': 1671, '길다': 1672, '김흥국': 1673, '절친': 1674, '드': 1675, '어째': 1676, '김제동': 1677, '7': 1678, '얜': 1679, '자격': 1680, '벗다': 1681, '임산부': 1682, '오달수': 1683, '설치다': 1684, '한심하다': 1685, '붐': 1686, '태': 1687, '감동': 1688, '혜나': 1689, '핵': 1690, '상태': 1691, '영재': 1692, '왠지': 1693, '보컬': 1694, '파': 1695, '저지르다': 1696, '세월호': 1697, '먹기': 1698, '짝': 1699, '순': 1700, '오지랖': 1701, '혹시': 1702, '상관없다': 1703, '찍': 1704, '댁': 1705, '회': 1706, '잔나비': 1707, '열애설': 1708, '혀': 1709, '참나': 1710, '작작': 1711, '하드': 1712, '조민기': 1713, '유이': 1714, '이호석': 1715, '곱': 1716, '넘어가다': 1717, '트리': 1718, '썩다': 1719, '모이다': 1720, '심각하다': 1721, '주연': 1722, '기어': 1723, '아마': 1724, '초반': 1725, '신다': 1726, '한마디': 1727, '안쓰럽다': 1728, '살기': 1729, '함부로': 1730, '쯧': 1731, '노답': 1732, '신기하다': 1733, '추하다': 1734, '털다': 1735, '가르치다': 1736, '남성': 1737, '어른': 1738, '대가': 1739, '그닥': 1740, 'm': 1741, '징': 1742, '이라서': 1743, '무죄': 1744, '조선': 1745, '밟다': 1746, '독보': 1747, '오글거리다': 1748, '칭찬': 1749, '애인': 1750, '선생': 1751, '홍상수': 1752, '김민희': 1753, 'ㄹㅇ': 1754, '슬슬': 1755, '하루': 1756, '따위': 1757, '까진': 1758, '다시다': 1759, '개그': 1760, '25': 1761, '섹시하다': 1762, '들리다': 1763, '넘기다': 1764, '거나': 1765, '자녀': 1766, '기간': 1767, '최악': 1768, '아무렇다': 1769, '이상윤': 1770, '고백': 1771, '이승기': 1772, '장나라': 1773, '내놓다': 1774, '동료': 1775, '자르다': 1776, '창피하다': 1777, 'ㅂㅅ': 1778, '민국': 1779, '인터넷': 1780, '운': 1781, '급하다': 1782, '크러쉬': 1783, '망치다': 1784, '언능': 1785, '은우': 1786, '언젠가': 1787, '대신': 1788, '도망가다': 1789, '데려오다': 1790, '시상식': 1791, '층': 1792, '고현정': 1793, '일으키다': 1794, '방송사': 1795, '읍': 1796, '종이': 1797, '솔로': 1798, '코스프레': 1799, '수술': 1800, '엠씨': 1801, '싸이': 1802, '금': 1803, '권리': 1804, '성적': 1805, '그건': 1806, '유튜브': 1807, '올': 1808, '부산': 1809, '대충': 1810, '박유천': 1811, '버닝': 1812, '찾아보다': 1813, '헛': 1814, '엉': 1815, '저번': 1816, '미혼': 1817, '중간': 1818, '경우': 1819, '없애다': 1820, '쁜데': 1821, '돌': 1822, '매번': 1823, '육': 1824, '예상': 1825, '김남주': 1826, '진리': 1827, '김원희': 1828, '박서준': 1829, '김지원': 1830, '싹': 1831, '십': 1832, '설다': 1833, '센터': 1834, '덕분': 1835, '깜놀': 1836, '토니': 1837, '김영희': 1838, '짠하다': 1839, '청춘': 1840, '폭행': 1841, '도깨비': 1842, '지민': 1843, '막다': 1844, '표절': 1845, '바리': 1846, '계시다': 1847, '드립': 1848, '부자': 1849, '다나': 1850, '나타나다': 1851, '숨': 1852, '게임': 1853, '에만': 1854, '축': 1855, '닷': 1856, '박민영': 1857, '밝다': 1858, '안달': 1859, '미녀': 1860, '최근': 1861, '탄핵': 1862, '윗': 1863, 'ㅣ': 1864, '차별': 1865, '헨리': 1866, '잠깐': 1867, '한고은': 1868, '효리': 1869, '진우': 1870, '흐르다': 1871, '폐': 1872, '클라라': 1873, '워낙': 1874, '정준': 1875, '이영자': 1876, '너무나': 1877, '고통': 1878, '투표': 1879, '것임': 1880, '성공': 1881, '술집': 1882, '마시다': 1883, '겨우': 1884, '지난': 1885, '최수종': 1886, '온갖': 1887, '공익': 1888, '고소영': 1889, '팔': 1890, '지지': 1891, '값': 1892, '그러면': 1893, 'kg': 1894, '출산': 1895, '님들': 1896, '번째': 1897, '색': 1898, '달라지다': 1899, '천재': 1900, 'jyp': 1901, '연습생': 1902, '새다': 1903, 'tv': 1904, '저걸': 1905, '러브': 1906, '핑계': 1907, '향': 1908, '정용화': 1909, '골프': 1910, '감히': 1911, '재산': 1912, '피우다': 1913, '따로': 1914, '말로': 1915, '정신차리다': 1916, '중인': 1917, '뜰': 1918, '멍청하다': 1919, '신부': 1920, '마찬가지': 1921, '빡치다': 1922, '만날': 1923, '주의': 1924, '매일': 1925, '따지다': 1926, '만약': 1927, '가게': 1928, '잊혀지다': 1929, '들어서다': 1930, '실망하다': 1931, '본': 1932, '불구': 1933, '억지로': 1934, '씬': 1935, '먹방': 1936, '물어보다': 1937, '강호동': 1938, '나잇': 1939, '주장': 1940, '소나': 1941, '청원': 1942, '붙이': 1943, '커리어': 1944, '전설': 1945, '총': 1946, '하여튼': 1947, '싫어지다': 1948, '묻히다': 1949, '스카이': 1950, '캐슬': 1951, '믄': 1952, '개론': 1953, '생명': 1954, '검색어': 1955, '외국인': 1956, '판사': 1957, '뒷': 1958, '구걸': 1959, '대가리': 1960, '사부': 1961, '지루하다': 1962, '론': 1963, '결혼식': 1964, '게다가': 1965, '유부': 1966, '버티다': 1967, '비싸다': 1968, '똑': 1969, '고마': 1970, '처리': 1971, '작년': 1972, '박하다': 1973, '경기': 1974, '미화': 1975, '만의': 1976, '배우자': 1977, '멍': 1978, '최종범': 1979, '끝내다': 1980, '깔끔하다': 1981, '맘대로': 1982, '돌보다': 1983, '하고도': 1984, '환자': 1985, '감탄': 1986, '자가': 1987, '장사': 1988, '천': 1989, '예인': 1990, '체': 1991, '라이프': 1992, '황': 1993, '김현주': 1994, '탈세': 1995, '쉬': 1996, '직원': 1997, '누굴': 1998, '다치다': 1999, '사형': 2000, '그렇다고': 2001, '축복': 2002, '줍다': 2003, '위험하다': 2004, '바쁘다': 2005, '조폭': 2006, '입맛': 2007, '김정훈': 2008, '불가': 2009, '재력': 2010, '효린': 2011, '안티': 2012, '믿음': 2013, '벗어나다': 2014, '금방': 2015, '건물': 2016, '행': 2017, '로만': 2018, '원작': 2019, '듯이': 2020, '든지': 2021, '씹다': 2022, '무식하다': 2023, '양반': 2024, '알아보다': 2025, '둥이': 2026, '손가락': 2027, '배역': 2028, '김수미': 2029, '인증': 2030, '유일하다': 2031, '서도': 2032, '치매': 2033, '연습': 2034, '거구': 2035, '수영복': 2036, '짓거리': 2037, '쩐': 2038, '뵈다': 2039, '70': 2040, '어디서': 2041, '설레다': 2042, '대리': 2043, '유독': 2044, '랑은': 2045, '꺼내다': 2046, '잡고': 2047, '섹스': 2048, '포기': 2049, '재결합': 2050, '역대': 2051, '남기다': 2052, '남충': 2053, '느끼하다': 2054, '려고': 2055, '런닝맨': 2056, '휘': 2057, '센스': 2058, '노인': 2059, '경제': 2060, '가나': 2061, '입술': 2062, '아티스트': 2063, '댓글달다': 2064, '거짓': 2065, '꾸미다': 2066, '망신': 2067, '소감': 2068, '으로는': 2069, '댓': 2070, '히트': 2071, '걔': 2072, '펴다': 2073, '이상화': 2074, '똑같이': 2075, '페': 2076, '더니': 2077, '이용': 2078, '자라다': 2079, '악마': 2080, '양심': 2081, '교회': 2082, '솔지': 2083, '안다': 2084, '찍히다': 2085, '완': 2086, '시선': 2087, '황민': 2088, '오랜': 2089, '거들다': 2090, '쿨하다': 2091, '지은': 2092, '식이': 2093, '팔자': 2094, '예진': 2095, '밀리다': 2096, '담': 2097, '세월': 2098, '딱이다': 2099, '안감': 2100, '합': 2101, '소녀시대': 2102, '송종국': 2103, '장자연': 2104, '의심': 2105, '내면': 2106, '엥': 2107, '개뿔': 2108, '할머니': 2109, '이효리': 2110, '예서': 2111, '피자': 2112, '심정': 2113, '추모': 2114, '마땅하다': 2115, '심다': 2116, '전쟁': 2117, '금지': 2118, '권': 2119, '잡': 2120, '분명하다': 2121, '박수': 2122, '2일': 2123, '급식': 2124, '사극': 2125, '열애': 2126, '21': 2127, '고딩': 2128, '성범죄자': 2129, '아무튼': 2130, '안이': 2131, '양세종': 2132, '꼬리': 2133, '에게는': 2134, '52': 2135, '앙': 2136, '먼지': 2137, '60': 2138, '초딩': 2139, '김종민': 2140, 'jtbc': 2141, '꿀잼': 2142, '황금': 2143, '영자': 2144, '마녀사냥': 2145, '류': 2146, '지르다': 2147, '증': 2148, '클럽': 2149, '리도': 2150, '블랙': 2151, '쩔다': 2152, 'bts': 2153, '몽': 2154, '대기': 2155, '비비다': 2156, '바닥': 2157, '쉰': 2158, '떠오르다': 2159, '쉴드': 2160, '빨갱이': 2161, '죄인': 2162, '절': 2163, '충격': 2164, 'ㅆ': 2165, '분량': 2166, '이형': 2167, '소설': 2168, '선처': 2169, '접다': 2170, '계약': 2171, '투어': 2172, '춤': 2173, '상품화': 2174, '대응': 2175, '차예련': 2176, '뇬': 2177, '농구': 2178, '엘리야': 2179, '정의': 2180, '중성': 2181, '난민': 2182, '성장하다': 2183, '반갑다': 2184, 'ㄹ': 2185, '가볍다': 2186, '가세': 2187, '대마': 2188, '재기': 2189, '도끼': 2190, '그로': 2191, '강성훈': 2192, '특': 2193, '네티즌': 2194, '편이': 2195, '비판': 2196, '호': 2197, '안나': 2198, '연결': 2199, '양준': 2200, '건축학': 2201, '정작': 2202, '검찰': 2203, '법원': 2204, '롤': 2205, '쁘긴': 2206, '냄비': 2207, '까지는': 2208, '아끼다': 2209, '핑': 2210, '결론': 2211, '송지효': 2212, '연락': 2213, '겸손하다': 2214, '그만큼': 2215, '여친': 2216, '떡': 2217, '훈훈하다': 2218, '이석훈': 2219, '골': 2220, '따뜻하다': 2221, '단독': 2222, '밑': 2223, '자연스럽다': 2224, '상이': 2225, '부리다': 2226, '추': 2227, '지구': 2228, '불만': 2229, '징역': 2230, '뽀': 2231, '눕다': 2232, '국내': 2233, '옹호': 2234, '국뽕': 2235, '다녀오다': 2236, '포장': 2237, '꽤': 2238, '끼리끼리': 2239, '우울증': 2240, '달리다': 2241, '그나저나': 2242, '민망하다': 2243, '애교': 2244, '숙이다': 2245, '그녀': 2246, '필요하다': 2247, '중국인': 2248, '환영': 2249, '쯤': 2250, '후배': 2251, '루': 2252, '이어지다': 2253, '깨끗하다': 2254, '바다': 2255, '정겨운': 2256, '유난': 2257, '그러니까': 2258, '나나': 2259, '대본': 2260, '홍': 2261, '지성': 2262, '빽': 2263, '이국주': 2264, '최소': 2265, '꽂다': 2266, '찾아가다': 2267, '변기': 2268, '유천': 2269, '세금': 2270, '실종': 2271, '쩔': 2272, '숨기다': 2273, '가능성': 2274, '치우다': 2275, '예술': 2276, '팬티': 2277, '스트레스': 2278, '싸움': 2279, '비추다': 2280, '어쨌든': 2281, '마인드': 2282, '상영': 2283, '짤': 2284, '소지섭': 2285, '벌레': 2286, '일부': 2287, '명도': 2288, '심해': 2289, '재방': 2290, '묵': 2291, '김태리': 2292, '설': 2293, '나름': 2294, '지연': 2295, '종': 2296, '부담스럽다': 2297, '흔하다': 2298, '신랑': 2299, '파이팅': 2300, '물리다': 2301, '요구': 2302, '종국': 2303, '주먹': 2304, '싸가지': 2305, '낼': 2306, '발전': 2307, '대도': 2308, '김희선': 2309, '사람인': 2310, '라며': 2311, '둘째': 2312, '나은': 2313, '이자': 2314, '깨다': 2315, '순수하다': 2316, '만이': 2317, '필': 2318, '만족': 2319, '김소연': 2320, '절대로': 2321, '우린': 2322, '엄': 2323, '성관계': 2324, '형제': 2325, '실물': 2326, '율': 2327, '음주': 2328, '거래': 2329, '가득': 2330, '물이': 2331, '동의': 2332, '논리': 2333, '심판': 2334, '공항': 2335, '벌리다': 2336, '연좌제': 2337, '화면': 2338, '월드': 2339, '화제': 2340, '리더': 2341, '프듀': 2342, '연하남': 2343, '겪다': 2344, '훌륭하다': 2345, '거르': 2346, '영석': 2347, '첫째': 2348, '요요': 2349, '반드시': 2350, '공격': 2351, '빠르다': 2352, '쥐': 2353, '제작': 2354, '부들': 2355, '사투리': 2356, '보수': 2357, '수고': 2358, '신동': 2359, '깽': 2360, '의상': 2361, '차려': 2362, '뺏다': 2363, '돌아다니다': 2364, '발음': 2365, '키스': 2366, '고르다': 2367, '전개': 2368, '이도': 2369, '보아': 2370, '오해': 2371, '만남': 2372, '쩌리': 2373, '랩': 2374, '범인': 2375, '로이킴': 2376, '리즈': 2377, '닫다': 2378, '매장': 2379, '중독': 2380, '좋아지다': 2381, '마이크로': 2382, '알콩달콩': 2383, '달달': 2384, '이시언': 2385, '맘껏': 2386, '조연': 2387, '무당': 2388, '및': 2389, '보정': 2390, '웬': 2391, '미래': 2392, '엑스': 2393, '종교': 2394, '인하다': 2395, '박진영': 2396, '뮤지컬': 2397, '째다': 2398, '포스': 2399, '클라스': 2400, '닮음': 2401, '희한하다': 2402, '혜교': 2403, '진정': 2404, '선물': 2405, '살짝': 2406, '선미': 2407, '슴': 2408, '소재': 2409, '이를': 2410, '좌좀': 2411, '애나': 2412, '하나님': 2413, '직장': 2414, '리가': 2415, '오정연': 2416, '이채': 2417, '왕따': 2418, '이민호': 2419, '혼전': 2420, '전소민': 2421, '준희': 2422, 'ㅜㅜㅜ': 2423, '탁재훈': 2424, '인격': 2425, '8': 2426, '삭제': 2427, '만으로': 2428, '듬': 2429, '이하': 2430, '마셈': 2431, '유전자': 2432, '19': 2433, '1회': 2434, '마취': 2435, '차갑다': 2436, '성우': 2437, '끌리다': 2438, '통수': 2439, '고기': 2440, '48': 2441, '더욱': 2442, '큰일': 2443, '폭로': 2444, '14': 2445, '국제': 2446, '애매하다': 2447, '적도': 2448, 'tvn': 2449, '야하다': 2450, 'no': 2451, '퇴사': 2452, '뇬들': 2453, '위너': 2454, '17': 2455, 'mc': 2456, '이사': 2457, '잠잠하다': 2458, '보이지': 2459, '총경': 2460, 'ㅅㅅ': 2461, '영애': 2462, '본성': 2463, '미워하다': 2464, '굳다': 2465, '뿌리': 2466, '구먼': 2467, '션': 2468, '인도': 2469, '적어도': 2470, '스브스': 2471, '톡방': 2472, '좀비': 2473, '신분': 2474, '휴가': 2475, '돌아보다': 2476, '거울': 2477, '하노': 2478, '핫': 2479, '게이': 2480, '끝내': 2481, '햇던': 2482, '딴': 2483, '의원': 2484, '부대': 2485, '고요': 2486, '장가': 2487, '하트': 2488, '릴': 2489, '집착': 2490, '천박하다': 2491, '회장': 2492, '복무': 2493, '섭': 2494, '이명박': 2495, '어이없다': 2496, '달려들다': 2497, '주도': 2498, '정확하다': 2499, '가보': 2500, '강지환': 2501, '강타': 2502, '이자나': 2503, '보호': 2504, '촌': 2505, '배경': 2506, '집단': 2507, '사촌': 2508, '땅': 2509, '불매': 2510, '환장하다': 2511, '어도': 2512, '정돈': 2513, '음원': 2514, '게요': 2515, '개판': 2516, '차태현': 2517, '갠': 2518, '싸': 2519, '쩝': 2520, '거부': 2521, '코로나': 2522, '보도': 2523, '여자애': 2524, '겉': 2525, '일만': 2526, '로또': 2527, '까발리다': 2528, '지켜보다': 2529, '다솜': 2530, '실패하다': 2531, '발표': 2532, '빼먹다': 2533, '고발': 2534, '하지원': 2535, '언제나': 2536, '옴': 2537, '하하': 2538, '깊다': 2539, '지하': 2540, '가끔': 2541, '등장': 2542, '타이틀': 2543, '다운': 2544, '놀이': 2545, '벼슬': 2546, '공연': 2547, '끼치다': 2548, '이러니': 2549, '팔다': 2550, '차이다': 2551, '전국': 2552, '순식간': 2553, '옹': 2554, '광대': 2555, '감옥': 2556, '화보': 2557, '죗값': 2558, '스런': 2559, '무책임하다': 2560, '미리': 2561, 'ㅅㄲ': 2562, '손절': 2563, '기계': 2564, '김희철': 2565, '금수': 2566, '시점': 2567, '튀다': 2568, '주위': 2569, '하늘나라': 2570, '나물': 2571, '채우다': 2572, '노이즈': 2573, '마케팅': 2574, '스탈': 2575, '자도': 2576, '관계자': 2577, '섬': 2578, '옥주현': 2579, '스러운': 2580, '유가': 2581, '출연자': 2582, '뿌리다': 2583, '본질': 2584, '년도': 2585, '그니까': 2586, '부러': 2587, '혜빈': 2588, '너무하다': 2589, '깜짝': 2590, '개그우먼': 2591, '비공개': 2592, '물다': 2593, '불쌍': 2594, '죄송하다': 2595, '비키니': 2596, '소유진': 2597, '질리다': 2598, '멈추다': 2599, '시장': 2600, '장인': 2601, '김성주': 2602, '서장훈': 2603, '아무나': 2604, '격': 2605, '삼다': 2606, '잠자리': 2607, '바하': 2608, '반박': 2609, '세우다': 2610, '갈아': 2611, '유명': 2612, '이어서': 2613, '학폭': 2614, '화려하다': 2615, '어쩜': 2616, '기대다': 2617, '기독교': 2618, '닭': 2619, '캐': 2620, '내지': 2621, '플': 2622, '혼산': 2623, '악의': 2624, '가관': 2625, '묵다': 2626, '뿌': 2627, '판결': 2628, '부족하다': 2629, '김생민': 2630, '딸도': 2631, '입담': 2632, '드러나다': 2633, '막상': 2634, '불임': 2635, '장미희': 2636, '연하': 2637, '빌다': 2638, '일방': 2639, '세탁': 2640, '허리': 2641, '전화': 2642, '그치다': 2643, '낮다': 2644, '케이스': 2645, '갖추다': 2646, '조문': 2647, '과정': 2648, '지리': 2649, '작고': 2650, '망정': 2651, '칠': 2652, '모자라다': 2653, '천지': 2654, '찢다': 2655, '드디어': 2656, '또한': 2657, '최소한': 2658, '동갑': 2659, '성비': 2660, '아지': 2661, '마블': 2662, '초대': 2663, '손승연': 2664, '매우': 2665, '비누': 2666, '첨부': 2667, '몰입도': 2668, '자매': 2669, '재벌': 2670, '연인': 2671, '수치심': 2672, '쿨': 2673, '맛있다': 2674, '전체': 2675, '조아': 2676, '열다': 2677, '남자친구': 2678, '치르다': 2679, '사람과': 2680, '백지영': 2681, '정우': 2682, '마녀': 2683, '자제': 2684, '가만': 2685, '와이지': 2686, '정미': 2687, '위로': 2688, '빠순': 2689, '인사': 2690, '세대': 2691, '강요': 2692, '예고': 2693, '삼고': 2694, '신동엽': 2695, '어딜': 2696, '보상': 2697, '시집가다': 2698, '아부지': 2699, '염': 2700, '원인': 2701, '모으다': 2702, '어떻': 2703, '분명': 2704, '당장': 2705, '시리': 2706, '백퍼': 2707, '줄이다': 2708, '컷': 2709, '힙합': 2710, '장례식': 2711, '받아들이다': 2712, '동방신기': 2713, '질질': 2714, '부들부들': 2715, '소속': 2716, '마치': 2717, '윤세아': 2718, '우파': 2719, '망가지다': 2720, '데려가다': 2721, '한예슬': 2722, '내일': 2723, '임지연': 2724, '유포': 2725, '정답': 2726, '시댁': 2727, '떼다': 2728, '명예훼손': 2729, '문죄인': 2730, '천국': 2731, '라미란': 2732, '양동근': 2733, '띠': 2734, '현우': 2735, '육중': 2736, '박해미': 2737, '자세': 2738, '멘탈': 2739, '의식': 2740, '따라오다': 2741, '사용': 2742, '소녀': 2743, '라이브': 2744, '먹이': 2745, '도배': 2746, '병문안': 2747, '조신': 2748, '호들갑': 2749, '같잖다': 2750, '꼬이다': 2751, '필립': 2752, '한지혜': 2753, '국적': 2754, '하나로': 2755, '케미': 2756, '근거': 2757, '뜬금': 2758, '넓다': 2759, '소연': 2760, '딜': 2761, '각자': 2762, '유산': 2763, '득': 2764, '징글징글': 2765, '쿵': 2766, '비위': 2767, '예능인': 2768, '홍윤': 2769, '사쿠라': 2770, '질린다': 2771, '상식': 2772, '한국인': 2773, '아시': 2774, '오래오래': 2775, '석': 2776, '지옥': 2777, '우승': 2778, '천만': 2779, '불편': 2780, '조인성': 2781, '헉': 2782, '촌스럽다': 2783, '야동': 2784, '신비': 2785, '인맥': 2786, '깎다': 2787, '느그': 2788, '윤지성': 2789, '희망': 2790, '깊이': 2791, '귀지': 2792, '자라': 2793, '찾아오다': 2794, '유희열': 2795, '제니': 2796, '쌓다': 2797, '정준호': 2798, '양세형': 2799, '잘만': 2800, '열등감': 2801, '예은': 2802, '단어': 2803, '에이': 2804, '우와': 2805, '으론': 2806, '포함': 2807, '내보내다': 2808, '테이블': 2809, '원호': 2810, '한의사': 2811, '제주도': 2812, '큐브': 2813, '주인': 2814, '슬픔': 2815, '참여': 2816, '댐': 2817, '윤서인': 2818, '여름': 2819, '유모차': 2820, '15': 2821, '주지': 2822, '자고': 2823, '로스쿨': 2824, '진출': 2825, '꾸준하다': 2826, '식다': 2827, '교도소': 2828, '커피': 2829, '청율': 2830, '골빈': 2831, '밭': 2832, '단아': 2833, '떠들다': 2834, '지우다': 2835, '진정하다': 2836, '승자': 2837, '사정': 2838, '이루다': 2839, '충실하다': 2840, '양보': 2841, '조리': 2842, '외식': 2843, '넘어서다': 2844, '냥': 2845, '청년': 2846, '이모': 2847, '43': 2848, '살찌다': 2849, '날씬하다': 2850, 'b': 2851, 'hot': 2852, '해안': 2853, '침': 2854, '찡': 2855, 'sbs': 2856, '행사': 2857, '차원': 2858, 'xx': 2859, '아이콘': 2860, '블핑': 2861, '엉망': 2862, '천명훈': 2863, 'ㅆㄹㄱ': 2864, '옛': 2865, '꼰대들': 2866, '김연아': 2867, '쏘다': 2868, '성과': 2869, '맴버': 2870, '어나': 2871, '깝': 2872, '깜방': 2873, '염병': 2874, '꼬시': 2875, '후진국': 2876, '실체': 2877, '퀄리티': 2878, '합류': 2879, '과학': 2880, 'ㅂ': 2881, '광수': 2882, '짴': 2883, '스': 2884, '인연': 2885, '벌금': 2886, '딱하다': 2887, '책임감': 2888, '레전드': 2889, '여럿': 2890, '빻': 2891, '앗': 2892, '앗다': 2893, '흑역사': 2894, '따라가다': 2895, '커서': 2896, '힐링': 2897, '작업': 2898, '께서': 2899, '구르다': 2900, '보시': 2901, '쾌차': 2902, '권력': 2903, '가운데': 2904, '군인': 2905, '유혹': 2906, '그러나': 2907, '더하다': 2908, '싸구려': 2909, '감당': 2910, '보답': 2911, '뿐이다': 2912, '흔들다': 2913, '사이비': 2914, '불행': 2915, '안해': 2916, '발리다': 2917, '신나다': 2918, '터트린': 2919, '강용석': 2920, '가져오다': 2921, '치면': 2922, '단발': 2923, '취지': 2924, '비쥬': 2925, '정이': 2926, '조합': 2927, '싱어': 2928, '통해': 2929, '알려지다': 2930, '자리다': 2931, '욤': 2932, '임마': 2933, '부류': 2934, '민족': 2935, '박씨': 2936, '정리': 2937, '개성': 2938, '라디오': 2939, '졋': 2940, '취향': 2941, '장도': 2942, '무혐의': 2943, '차트': 2944, '비꼬다': 2945, '굉장하다': 2946, '벌이다': 2947, '감다': 2948, '리얼': 2949, '비즈니스': 2950, '숟가락': 2951, '거참': 2952, '타령': 2953, '킬로': 2954, '검다': 2955, '심사': 2956, '조사해': 2957, 'g': 2958, '겁': 2959, '박보영': 2960, '조차': 2961, '조건': 2962, '신동욱': 2963, '깨': 2964, '유연석': 2965, '소송': 2966, '중반': 2967, '확정': 2968, '헌': 2969, '피임': 2970, '틈': 2971, '약간': 2972, '결혼식장': 2973, '성욕': 2974, '지대': 2975, '참으로': 2976, '여자친구': 2977, '구리다': 2978, '허니': 2979, '종특': 2980, '상폐': 2981, '한두': 2982, '김주혁': 2983, '고집': 2984, '묶다': 2985, '연말': 2986, '버릇': 2987, '고음': 2988, '지능': 2989, '90': 2990, '카리스마': 2991, '스포츠': 2992, '기회': 2993, '부추기다': 2994, '저쩌': 2995, '공산당': 2996, '박정희': 2997, '공유': 2998, '바가지': 2999, '승부': 3000, '서태지': 3001, '플레이': 3002, '민간인': 3003, '선비': 3004, '형사': 3005, '구구단': 3006, '절하': 3007, '김세정': 3008, '탈출': 3009, '구씨': 3010, '엄청나다': 3011, '옌': 3012, '어쩌다': 3013, '성질': 3014, '주민': 3015, '내주다': 3016, '정법': 3017, '김미화': 3018, '블랙리스트': 3019, '거도': 3020, '외도': 3021, '유아인': 3022, '미국인': 3023, '갈리다': 3024, '심리': 3025, '씌우다': 3026, '과는': 3027, '성년': 3028, '등골': 3029, '시원하다': 3030, '품다': 3031, '나인': 3032, '선예': 3033, '난쟁이': 3034, '흥분하다': 3035, '한창': 3036, '결정': 3037, '잘해야': 3038, '무릎': 3039, '거미': 3040, '침대': 3041, '보검': 3042, '우유': 3043, '더구나': 3044, '골고루': 3045, '대고': 3046, '지치다': 3047, '신뢰': 3048, '박수홍': 3049, '닥치다': 3050, '해주': 3051, '굿': 3052, '장모': 3053, '김지석': 3054, '삼촌': 3055, '들어주다': 3056, '미세먼지': 3057, '이스': 3058, '의문': 3059, '영업': 3060, '기록': 3061, '죄값': 3062, '에서만': 3063, '일진': 3064, '시도': 3065, '조선일보': 3066, '소문': 3067, '무지': 3068, '근육': 3069, 'bj': 3070, '보신': 3071, '수무': 3072, '신자': 3073, '미개하다': 3074, '람': 3075, '지목': 3076, '짜져': 3077, '판타지': 3078, '웹툰': 3079, '이진': 3080, '프리': 3081, '발톱': 3082, '김명민': 3083, '애정': 3084, '김사랑': 3085, '피곤하다': 3086, '트롯': 3087, '김승현': 3088, '유동근': 3089, '계획': 3090, '찔리다': 3091, '노릇': 3092, '이에요': 3093, '추락': 3094, '몰리다': 3095, '김학래': 3096, '팍팍': 3097, '승무원': 3098, '티나': 3099, '청': 3100, '23': 3101, '폭': 3102, '댕': 3103, '서진': 3104, '유명인': 3105, '알아주다': 3106, '뮤지션': 3107, '지리다': 3108, '찌라시': 3109, '잘해주다': 3110, '둘이서': 3111, '딸리다': 3112, '한류': 3113, '모유': 3114, '80': 3115, '잡아가다': 3116, '푸다': 3117, '찾기': 3118, '방해': 3119, '순서': 3120, '중년': 3121, '에다': 3122, '지럴': 3123, '못생': 3124, '떼': 3125, '동물': 3126, '복수': 3127, '잡아먹다': 3128, '남주혁': 3129, '남태현': 3130, '성기': 3131, '병헌': 3132, '장담': 3133, '나르다': 3134, '대학': 3135, '자랑스럽다': 3136, '정국': 3137, '화목': 3138, '왠만하다': 3139, '유기': 3140, '정액': 3141, '최지우': 3142, '젠데': 3143, '지드래곤': 3144, '내기': 3145, '올려주다': 3146, '낸시랭': 3147, '즐겁다': 3148, '후회': 3149, '상당하다': 3150, '나누다': 3151, '노노': 3152, '성실하다': 3153, '좃': 3154, '전두환': 3155, '안함': 3156, '노홍철': 3157, '불리다': 3158, '호강': 3159, '해달라다': 3160, '쌍': 3161, '박신혜': 3162, '불청': 3163, '누리다': 3164, '스럽지': 3165, '주사': 3166, '캡쳐': 3167, '피하': 3168, '널': 3169, '원걸': 3170, '재밋': 3171, '기획사': 3172, '박성광': 3173, '유행': 3174, '새벽': 3175, '길이': 3176, '손흥민': 3177, '막히다': 3178, '근무': 3179, '재원': 3180, '짖다': 3181, '모자': 3182, '아가씨': 3183, '대역': 3184, '중심': 3185, '공짜': 3186, '시국': 3187, '화가': 3188, '연령': 3189, '송윤아': 3190, 'd': 3191, '상도': 3192, '환': 3193, '두루': 3194, '외치다': 3195, '까지도': 3196, '출시': 3197, '99': 3198, '도리': 3199, '어짜피': 3200, '멜로': 3201, '엮어': 3202, '트집': 3203, '찢어지다': 3204, '남매': 3205, '가인': 3206, '케이윌': 3207, '거른다': 3208, '넘사벽': 3209, '허위': 3210, '말고는': 3211, '맛집': 3212, '라이머': 3213, '수면': 3214, '유부녀': 3215, '레즈': 3216, '프': 3217, '로코': 3218, '퀸': 3219, '루머': 3220, '밖': 3221, '와도': 3222, '단속': 3223, '업자': 3224, '쌩': 3225, 'com': 3226, '막내딸': 3227, '만지다': 3228, '기지': 3229, '반복': 3230, '다리다': 3231, '마스': 3232, '맴': 3233, '만드': 3234, '울리다': 3235, '허전하다': 3236, '머리카락': 3237, '악질': 3238, '체질': 3239, '메다': 3240, '안경': 3241, '깨어나다': 3242, '쏠': 3243, '대하': 3244, '데이트': 3245, '자신감': 3246, '장이': 3247, '두렵다': 3248, '뭉치다': 3249, '교체': 3250, '감흥': 3251, '공황장애': 3252, '막말': 3253, '이상우': 3254, '출연료': 3255, '붕어빵': 3256, '미애': 3257, '엄현경': 3258, '우익': 3259, '핀': 3260, '이용진': 3261, '거슬리다': 3262, '성훈': 3263, '썸': 3264, '턱': 3265, '고급': 3266, '쩜': 3267, '박봄': 3268, '중요': 3269, '사이다': 3270, '일본인': 3271, '방금': 3272, '갈구다': 3273, '찬양': 3274, '오나라': 3275, '휘재': 3276, '풀': 3277, '타인': 3278, '베댓': 3279, '변명': 3280, '별개': 3281, '만난': 3282, '물건': 3283, '켜다': 3284, '하이': 3285, '보살': 3286, '편안하다': 3287, '좁다': 3288, 'https': 3289, '환경': 3290, '스펙': 3291, '이민정': 3292, '감정이입': 3293, '이경규': 3294, '에겐': 3295, '어딨다': 3296, '옮기다': 3297, '긴장': 3298, '야구': 3299, '뮤': 3300, '이쯤': 3301, '살빼다': 3302, '기사화': 3303, '유병재': 3304, '진도': 3305, '대면': 3306, '혜': 3307, '우동': 3308, '틴': 3309, '가짜': 3310, '12': 3311, '전역': 3312, '속도': 3313, '위반': 3314, '씁쓸하다': 3315, '존중': 3316, '고정': 3317, '모시다': 3318, '영어': 3319, '훈남': 3320, '팅': 3321, '배기': 3322, '아스': 3323, '송창의': 3324, '채린': 3325, '수아': 3326, '스노우': 3327, '연극': 3328, '시아버지': 3329, '프로도': 3330, '신성록': 3331, '신정환': 3332, '어케': 3333, '실시간': 3334, '홧팅': 3335, '내려놓다': 3336, '얄밉다': 3337, '목표': 3338, '정유미': 3339, '이승윤': 3340, '멀쩡하다': 3341, '내부': 3342, '노랗다': 3343, '족': 3344, '끌': 3345, '징징대다': 3346, '아아': 3347, '던': 3348, '일지': 3349, '연옌': 3350, '윤종신': 3351, '방향': 3352, '접': 3353, '양쪽': 3354, '진진': 3355, '아픔': 3356, '연상': 3357, '안현모': 3358, '엄지': 3359, '양녀': 3360, 'ㅜㅠ': 3361, '러': 3362, '발견': 3363, '어쩐지': 3364, '사업가': 3365, '오크': 3366, '디게': 3367, '하은': 3368, '에구': 3369, '에스': 3370, '수입': 3371, '징징': 3372, '잉': 3373, '깡패': 3374, '최진혁': 3375, '가난하다': 3376, '전성기': 3377, '강아지': 3378, '률': 3379, '진국': 3380, '돋보이다': 3381, '지방': 3382, '영혼': 3383, '유승준': 3384, '윤진이': 3385, '호란': 3386, '토착': 3387, '왜구': 3388, '나오니': 3389, '이서진': 3390, '이소라': 3391, '수연': 3392, '이휘재': 3393, '졸리다': 3394, '지코': 3395, '코르셋': 3396, '초밥': 3397, '추카': 3398, '충재': 3399, '래야': 3400, '공정하다': 3401, '거두다': 3402, '억울': 3403, '15년': 3404, '전현': 3405, '도저히': 3406, '180': 3407, '후손': 3408, '하버드': 3409, '이제야': 3410, '저녁': 3411, '뜨겁다': 3412, '통증': 3413, '정소영': 3414, '더빙': 3415, '꼴다': 3416, '2018년': 3417, '2020년': 3418, '불안하다': 3419, '그땐': 3420, '25년': 3421, '왕성': 3422, '결': 3423, '수단': 3424, '온몸': 3425, '위치': 3426, '38': 3427, '거르세': 3428, '최종훈': 3429, '탈락': 3430, '부리': 3431, '말르다': 3432, '파급': 3433, '조롱': 3434, '토나오다': 3435, '튀어나오다': 3436, '흉': 3437, '32': 3438, '쓸모': 3439, '45': 3440, '4년': 3441, '53': 3442, '60만원': 3443, '안습': 3444, '낙인': 3445, '거가': 3446, '론데': 3447, '김지영': 3448, '82': 3449, '러시': 3450, '동거': 3451, '톤': 3452, '극성': 3453, '안녕하다': 3454, '전문가': 3455, 'mb': 3456, '조개': 3457, '맘충': 3458, '소신': 3459, '혐오': 3460, '만들어지다': 3461, '띄다': 3462, '훅': 3463, '드나들다': 3464, '부활': 3465, '빌보드': 3466, 'aoa': 3467, '뮤비': 3468, '일베충': 3469, 'mbc': 3470, '거론': 3471, '먹튀': 3472, 'k': 3473, '커지다': 3474, '일로': 3475, '조용필': 3476, '경이': 3477, 'ㅅㅂ': 3478, '꼰대': 3479, '궁합': 3480, '직': 3481, '작위': 3482, '안내': 3483, '이별': 3484, '발부': 3485, '미루다': 3486, '방영': 3487, '신입': 3488, '개꿀': 3489, '지네': 3490, '김새론': 3491, '쉴드치다': 3492, '상담': 3493, '타이밍': 3494, '한서희': 3495, '남욕': 3496, '늬들': 3497, '해대': 3498, '복면': 3499, '소향': 3500, '으이': 3501, '병자': 3502, '장태준': 3503, '어쩐': 3504, '에게도': 3505, '안심': 3506, '시어머니': 3507, '말씀': 3508, '뵙다': 3509, '스엠': 3510, '배달': 3511, '김태호': 3512, 'pd': 3513, '나들이': 3514, '가요무대': 3515, '남자에게': 3516, '으로써': 3517, '별거': 3518, '간만': 3519, '힘겹다': 3520, '풍상': 3521, '고로': 3522, '기만': 3523, '정아': 3524, '동참': 3525, '전자발찌': 3526, '챙녀': 3527, '정글': 3528, '목적': 3529, '순위': 3530, '니엘': 3531, '즐': 3532, '한동안': 3533, '강인': 3534, '핸드폰': 3535, '투샷': 3536, '멀리': 3537, '두르다': 3538, '평일': 3539, '라스': 3540, '실상': 3541, '상임': 3542, '맥주': 3543, '고양이': 3544, '정상인': 3545, '이겠다': 3546, '대국민': 3547, '개티즌들': 3548, '쓴다': 3549, '다지다': 3550, '아웃': 3551, '송강호': 3552, '노총각': 3553, '무한도전': 3554, '신혜선': 3555, '밥상': 3556, '도둑': 3557, '우수': 3558, '꽝': 3559, '복장': 3560, '떨어뜨리다': 3561, '백만': 3562, '미숙': 3563, '접근': 3564, '여도': 3565, '견찰': 3566, '오픈': 3567, '할리': 3568, '홀랑': 3569, '수치': 3570, '종종': 3571, '올인': 3572, '자연인': 3573, '역사': 3574, '시간대': 3575, '자백': 3576, '껍데기': 3577, 'bye': 3578, '주기': 3579, '지면': 3580, '유흥업소': 3581, '과의': 3582, '고사': 3583, '경규': 3584, '림': 3585, '경솔하다': 3586, '조커': 3587, '부러지다': 3588, '럼': 3589, '왼쪽': 3590, '성숙하다': 3591, '태도': 3592, '수상하다': 3593, '장르': 3594, '다양하다': 3595, '점수': 3596, '상위': 3597, '고주원': 3598, '늘리다': 3599, '중하': 3600, '동남아': 3601, '아대': 3602, '민가': 3603, '저희': 3604, '손잡다': 3605, '공장': 3606, '에를': 3607, '파헤치다': 3608, '망치': 3609, '저건': 3610, '호응': 3611, '문씨': 3612, '일자리': 3613, '지상파': 3614, '종자': 3615, '가격': 3616, '노리개': 3617, '광희': 3618, '에이스': 3619, '애국': 3620, '절절': 3621, '시비': 3622, '겟': 3623, '성폭력': 3624, '적용': 3625, '젖꼭지': 3626, '늘어지다': 3627, '여론몰이': 3628, '뱉다': 3629, '보이드': 3630, '시구': 3631, '용인': 3632, '달리': 3633, '의견': 3634, '법안': 3635, '주니': 3636, '손님': 3637, '대다수': 3638, '키크': 3639, '도와주다': 3640, '럿': 3641, '규현': 3642, '쭉쭉': 3643, '수작': 3644, '권상우': 3645, '권태기': 3646, '수십': 3647, '놀래다': 3648, '오징어': 3649, '쁘네': 3650, '노리다': 3651, '떳떳하다': 3652, '비방': 3653, '봉사': 3654, '리지': 3655, '휘두르다': 3656, '단지': 3657, '착각': 3658, '분해': 3659, '푹': 3660, '서점': 3661, '가든': 3662, '그간': 3663, '우롱': 3664, '유착': 3665, '차마': 3666, '대지': 3667, '환희': 3668, '모텔': 3669, '명곡': 3670, '꼽': 3671, '유서': 3672, '겄': 3673, '발뺌': 3674, '우기다': 3675, '분야': 3676, '활약': 3677, '위생': 3678, '음식점': 3679, '베풀다': 3680, '세용': 3681, '투입': 3682, '넹': 3683, '청와대': 3684, '자발': 3685, '살찐': 3686, '미수': 3687, '작곡': 3688, '수록': 3689, '특별하다': 3690, '이뿌다': 3691, '외롭다': 3692, '어그': 3693, '레시피': 3694, '그렇지만': 3695, '수형': 3696, '스포': 3697, '풍년': 3698, 'ㅇㅈㄹ': 3699, '성은': 3700, '대놓고': 3701, '주시': 3702, '지역': 3703, '근대': 3704, '경험': 3705, '학창시절': 3706, '모성애': 3707, '후반': 3708, '특집': 3709, '민아': 3710, '허세': 3711, '집도': 3712, '먹히다': 3713, '빠들': 3714, '이세영': 3715, '신소율': 3716, '잠수': 3717, '사단': 3718, '리그': 3719, '일일': 3720, '진자': 3721, '종방': 3722, '쉐프': 3723, '정선희': 3724, '타살': 3725, '내년': 3726, '치마': 3727, '이혁': 3728, '부로': 3729, '서희': 3730, '달이': 3731, '근혜': 3732, '셈': 3733, '글쎄': 3734, '대박나다': 3735, '불행하다': 3736, '읍니': 3737, '해내다': 3738, '가치관': 3739, '꾼': 3740, '홍수현': 3741, '망작': 3742, '분별': 3743, '벼': 3744, '궁': 3745, '개꿀잼': 3746, '이국': 3747, '낚': 3748, '다루다': 3749, '할아버지': 3750, '오로지': 3751, '김고은': 3752, '법대': 3753, '그만두다': 3754, '시궁창': 3755, '김동명': 3756, '김민규': 3757, '폭망': 3758, '조장': 3759, '우울하다': 3760, '교': 3761, '김성수': 3762, '혹': 3763, '받치다': 3764, '옆집': 3765, '여적': 3766, '진지하다': 3767, '연배': 3768, '김정은': 3769, '김정현': 3770, '짬뽕': 3771, '에게서': 3772, '빵빵': 3773, '대안': 3774, '성범죄': 3775, '몸무게': 3776, '베트남': 3777, '양배추': 3778, '서서': 3779, '윤소희': 3780, '가루': 3781, '김해숙': 3782, '시르다': 3783, '김희애': 3784, '걸치다': 3785, '적나라하다': 3786, '파악': 3787, '미용': 3788, '용기': 3789, '으로서': 3790, '이태임': 3791, '나경': 3792, '비걸': 3793, '땜시': 3794, '사르다': 3795, '황당하다': 3796, '아프리카': 3797, '아쉬움': 3798, '수많다': 3799, '황제': 3800, '양현석': 3801, 'ㄴㄴ': 3802, '나코': 3803, '시름': 3804, '하현우': 3805, '솔직': 3806, '탑인': 3807, 'ㅇㅈ': 3808, '레이저': 3809, '불호': 3810, '신체': 3811, '민호': 3812, '사과문': 3813, '싸이코패스': 3814, '땡': 3815, '악역': 3816, '딨': 3817, '정은': 3818, '낭비': 3819, '잊어버리다': 3820, '애국자': 3821, '탈모': 3822, '살인자': 3823, '오줌': 3824, '남규리': 3825, '일찍': 3826, '씨엔블루': 3827, '괴롭다': 3828, '본능': 3829, '사나': 3830, '정재': 3831, '무명': 3832, '내미다': 3833, '호스트': 3834, '삘': 3835, '필수': 3836, '증명': 3837, '리기': 3838, '패스': 3839, '신수지': 3840, '낮': 3841, '싸잡다': 3842, '만큼은': 3843, '사랑받다': 3844, '당사자': 3845, '양다리': 3846, '윤박': 3847, '숭': 3848, '편성': 3849, '이군': 3850, '취집': 3851, '다고': 3852, '꼬박꼬박': 3853, '몫': 3854, '슈가': 3855, 'jk': 3856, '헤어': 3857, '샤이니': 3858, '투애니원': 3859, '증말': 3860, '사냥': 3861, 'ㅠㅜ': 3862, '탐욕': 3863, '이목구비': 3864, '에서나': 3865, '명예': 3866, '높이다': 3867, '만찬': 3868, '비디오': 3869, '우연히': 3870, '고프다': 3871, '철구': 3872, '조절': 3873, '노라조': 3874, '다큐': 3875, '노래방': 3876, '유학': 3877, '영감': 3878, '실루엣': 3879, '자막': 3880, '똥폼': 3881, '별루': 3882, '슈퍼맨': 3883, '쌍둥이': 3884, '놀': 3885, '앵두': 3886, '이창섭': 3887, '단역': 3888, '보태': 3889, '쓰시': 3890, '가득하다': 3891, '민주당': 3892, '찌르다': 3893, '천생': 3894, '부시': 3895, '연세대': 3896, '서울': 3897, '폭발': 3898, '변': 3899, '갈라': 3900, '코요테': 3901, '선하다': 3902, '옥': 3903, '가버리다': 3904, '배신': 3905, '좌표': 3906, '조세호': 3907, '조언': 3908, '남양유업': 3909, '헤': 3910, '사모님': 3911, '살아오다': 3912, '대왕': 3913, '퉤': 3914, '뛰어나다': 3915, '베다': 3916, '작정': 3917, '명의': 3918, '육갑': 3919, '대기업': 3920, '질책': 3921, '합법': 3922, '대만': 3923, '샘': 3924, '쪽팔리다': 3925, '트루': 3926, '킹': 3927, '마디': 3928, '답지': 3929, '쓰러지다': 3930, '프로듀서': 3931, '학': 3932, '전지현': 3933, '매달리다': 3934, '더불다': 3935, '덕선': 3936, '됫': 3937, '일리': 3938, '감추다': 3939, '감싸다': 3940, '상습': 3941, '도덕': 3942, '개발': 3943, '생리': 3944, '탈퇴': 3945, '랍시고': 3946, '이상은': 3947, '구요': 3948, '동백꽃': 3949, '대출': 3950, '윌리엄': 3951, '패션': 3952, '이성': 3953, '덜덜': 3954, '뻤는데': 3955, '다만': 3956, '진작': 3957, '듀엣': 3958, '추가': 3959, '사망': 3960, '다음주': 3961, '연장': 3962, '해피엔딩': 3963, '딘': 3964, '위장': 3965, '버프': 3966, '부사': 3967, '터뜨리다': 3968, '뼈': 3969, '기러기': 3970, '덩': 3971, '이마': 3972, '변신': 3973, '효광': 3974, '에릭': 3975, '특유': 3976, '담그다': 3977, '프랜차이즈': 3978, '백정': 3979, '제품': 3980, '개막': 3981, '룸': 3982, '섞다': 3983, '류준열': 3984, '수만': 3985, '풀리다': 3986, '옳다': 3987, '무사하다': 3988, '독점': 3989, '반면': 3990, '복권': 3991, '크림': 3992, '명수': 3993, '백수': 3994, '임창정': 3995, '고스': 3996, '어려움': 3997, '매주': 3998, '매회': 3999, '수신료': 4000, '풋풋하다': 4001, '지긋지긋하다': 4002, '버들': 4003, '변태': 4004, '태연': 4005, '본방': 4006, '아가리': 4007, '해소': 4008, '쫑': 4009, '유하': 4010, '목숨': 4011, '긴장감': 4012, '섹시': 4013, '발정': 4014, '극혐': 4015, '남불': 4016, '불쌍타': 4017, '종일': 4018, '유행어': 4019, '안무': 4020, '껏': 4021, '안주': 4022, '무자식': 4023, '덧': 4024, '애먼': 4025, '캐럿': 4026, '웬디': 4027, '설명': 4028, 'cf': 4029, '용어': 4030, '뮤지': 4031, '흑인': 4032, '오래되다': 4033, '빡': 4034, '미스코리아': 4035, '국악': 4036, '기운': 4037, '고래': 4038, '민수': 4039, '소개': 4040, '혜리': 4041, '정선': 4042, '세기': 4043, '사범': 4044, '바르게': 4045, '애액': 4046, '뷔': 4047, '목사': 4048, 'vs': 4049, '여왕': 4050, '들보': 4051, '빛나다': 4052, '독하다': 4053, '설사': 4054, '청순': 4055, '얹다': 4056, '장소': 4057, '번의': 4058, '박호': 4059, '시기하다': 4060, '빅': 4061, '상가': 4062, '촬영장': 4063, '편의점': 4064, '직장인': 4065, '경력': 4066, '단절': 4067, '타고나다': 4068, '백상': 4069, '기웃': 4070, '백승': 4071, '장님': 4072, '지혜': 4073, '발암': 4074, '필터': 4075, '쯔': 4076, '서민': 4077, '회생': 4078, '보라': 4079, '베베': 4080, '화재': 4081, '보나마나': 4082, '스튜디오': 4083, '인형': 4084, '늙음': 4085, '간지': 4086, '변제': 4087, '수백': 4088, '스텝': 4089, '기고': 4090, '존예': 4091, '블로그': 4092, '외교': 4093, '번호': 4094, '전작': 4095, '주의자': 4096, '본받다': 4097, '외다': 4098, '투비': 4099, '제시카': 4100, '개국': 4101, '뽑히다': 4102, '삐지다': 4103, '개무시': 4104, '껄': 4105, '사내': 4106, '손해': 4107, '들러리': 4108, '사인': 4109, '심심하다': 4110, '남한': 4111, '심장마비': 4112, '사죄': 4113, '개극혐': 4114, 'to': 4115, '고작': 4116, '몇십': 4117, '색기': 4118, '표본': 4119, '순진하다': 4120, '이러쿵저러쿵': 4121, '사시': 4122, '일해': 4123, '서준이': 4124, '행보': 4125, '혜성': 4126, '서현': 4127, '헬': 4128, '증세': 4129, '가정사': 4130, '구원파': 4131, '세프': 4132, '앵벌이': 4133, '느': 4134, '당기다': 4135, '소이현': 4136, '손담비': 4137, '이익': 4138, '약국': 4139, '엠씨몽': 4140, '전액': 4141, '주신': 4142, '양예원': 4143, '나니': 4144, '신천지': 4145, '영화로': 4146, '웬만하다': 4147, '노산': 4148, '멘트': 4149, '송민호': 4150, '지아': 4151, '그러다가': 4152, '특급': 4153, '은혁': 4154, '인위': 4155, '트로트': 4156, '수상': 4157, '밥맛': 4158, '슈돌': 4159, '승재': 4160, '시아': 4161, '친정': 4162, '기원': 4163, '해투': 4164, '스윗': 4165, '신다은': 4166, '신동미': 4167, '신민아': 4168, '보나': 4169, '신봉선': 4170, '신상': 4171, '신혼': 4172, '양성': 4173, '우선': 4174, '실장': 4175, '스파이': 4176, '재상': 4177, '이구': 4178, '심장': 4179, '고치': 4180, '제시': 4181, '자상하다': 4182, '훈': 4183, '쌍방': 4184, '므': 4185, '쌍수': 4186, '루저': 4187, '윤서': 4188, '돈벌이': 4189, '분도': 4190, '바라보다': 4191, '죽지': 4192, '아버님': 4193, '사주다': 4194, '강제': 4195, '9000원': 4196, '여지': 4197, '며칠': 4198, '정복': 4199, '종료': 4200, '바랬는데': 4201, '행실': 4202, '나빠지다': 4203, '씩씩': 4204, '대수': 4205, '허락': 4206, '임영웅': 4207, '조기': 4208, '상주': 4209, '회복하다': 4210, '뻘': 4211, '차장': 4212, '독박': 4213, '심지어': 4214, '여운': 4215, '후보': 4216, '바이러스': 4217, '푼': 4218, '이종현': 4219, '백년': 4220, '스폰': 4221, '립': 4222, '광신도': 4223, '무관심': 4224, '완치': 4225, '한때': 4226, '습관': 4227, '독': 4228, '36': 4229, '안효섭': 4230, '이탈리아': 4231, '궁전': 4232, '경쟁': 4233, '적응': 4234, '쁘기': 4235, '여하튼': 4236, '몽땅': 4237, '폐인': 4238, '양악수술': 4239, '규': 4240, '위기': 4241, '조회': 4242, '이다해': 4243, '만화': 4244, '널리': 4245, '열리다': 4246, '차서': 4247, '끼우다': 4248, '초기': 4249, '에스더': 4250, '뻥': 4251, '에이미': 4252, '에이프릴': 4253, '알리': 4254, '흥미': 4255, '추측': 4256, '배알': 4257, '꼴리다': 4258, '찌들다': 4259, '쉽다': 4260, '욕함': 4261, '따라다니다': 4262, '장신영': 4263, '방송인': 4264, '여태': 4265, '입국': 4266, '혜원': 4267, '로부터': 4268, '차선': 4269, '보복': 4270, '운동선수': 4271, '이연희': 4272, '유시민': 4273, '운명': 4274, '패배': 4275, '특이하다': 4276, '쩌': 4277, '위대하다': 4278, '투자': 4279, '염정아': 4280, '일주일': 4281, '진지': 4282, '조혜련': 4283, '대구': 4284, '파리': 4285, '씹선비': 4286, '잔': 4287, '하루아침': 4288, '온통': 4289, '그레이': 4290, '와우': 4291, '았': 4292, '소환': 4293, '주자': 4294, '표적': 4295, '왤케': 4296, '재범': 4297, '태생': 4298, '콘돔': 4299, '선정': 4300, '독도': 4301, '훗날': 4302, '당췌': 4303, '기사도': 4304, '뭣': 4305, '마이': 4306, '따먹다': 4307, '유시춘': 4308, '한물가다': 4309, '스럽지도': 4310, '홍콩': 4311, '윤은혜': 4312, '혼외자': 4313, '체널': 4314, '전생': 4315, '유투브': 4316, '할배': 4317, '상종': 4318, '한체대': 4319, '위자료': 4320, '해외여행': 4321, '경로': 4322, '보람': 4323, '순산': 4324, '애비': 4325, '이성우': 4326, '홍진경': 4327, '패밀리': 4328, '무리하다': 4329, '이완': 4330, '쟈': 4331, '이준': 4332, '발리': 4333, '이필': 4334, '캬': 4335, '원숭이': 4336, '대화': 4337, '김순옥': 4338, '구역질': 4339, '자동차': 4340, '타입': 4341, '사위': 4342, '장백지': 4343, '진보': 4344, '주방': 4345, '현지': 4346, '살아나다': 4347, '실어': 4348, '드레스': 4349, '김범룡': 4350, '가사': 4351, '조여정': 4352, '진영': 4353, '지창욱': 4354, '보석': 4355, '바깥': 4356, '천우': 4357, '초콜릿': 4358, '탕웨이': 4359, '필모': 4360, '하승진': 4361, '여성인권': 4362, '날벼락': 4363, '손톱': 4364, '긁다': 4365, '살해': 4366, '100년': 4367, '공통': 4368, '암탉': 4369, '부하': 4370, '생인': 4371, '안타': 4372, '마르': 4373, '호빗': 4374, '감량': 4375, '입학': 4376, '할리우드': 4377, '전인': 4378, '학부모': 4379, '1억': 4380, '1일': 4381, '점심': 4382, '거만': 4383, '북': 4384, '2014년': 4385, '마마': 4386, '중립': 4387, '박아': 4388, '30년': 4389, '덤벼': 4390, '24': 4391, '전이': 4392, '이십': 4393, '혈기': 4394, '동원': 4395, '분하다': 4396, '명백하다': 4397, '라면서': 4398, '33': 4399, '모형': 4400, '세로': 4401, '측': 4402, '분리수거': 4403, '45억': 4404, '47': 4405, '짜르': 4406, '5억': 4407, '면티': 4408, '모음': 4409, '6월': 4410, '비보': 4411, '내려오다': 4412, '37': 4413, '노려보다': 4414, '양치': 4415, '연하다': 4416, 'edm': 4417, '홍기': 4418, '이동국': 4419, 'a': 4420, '종사': 4421, '모임': 4422, '설립': 4423, '다한': 4424, '새삼': 4425, '저딴': 4426, '출하': 4427, '톱': 4428, '가치': 4429, '유나': 4430, 'cg': 4431, 'god': 4432, '박준형': 4433, 'p': 4434, '진창': 4435, '반칙': 4436, '메달': 4437, 'oecd': 4438, '선진국': 4439, '임금': 4440, '주식': 4441, 'y': 4442, '고재': 4443, '케이팝': 4444, '버티고': 4445, '카이': 4446, '운영': 4447, 'ㅁㅊ': 4448, 'ㅈㅅ': 4449, 'ㅇㄴ': 4450, 'ㄹㅏㄹ': 4451, '시전': 4452, 'ㅇㅅㅇ': 4453, 'ㅇㅏ': 4454, '1조': 4455, 'ㅈㅇ': 4456, '족보': 4457, '충전': 4458, '선강': 4459, '미스터': 4460, '140': 4461, '데니': 4462, '시효': 4463, '마당': 4464, '정신과': 4465, '츄': 4466, '코미디': 4467, '퍼센트': 4468, '더러': 4469, '상품': 4470, '화하다': 4471, '서빙': 4472, '달러': 4473, '달려오다': 4474, '조지': 4475, '세뇌': 4476, '예수': 4477, '이순재': 4478, '제외': 4479, '작자': 4480, '심증': 4481, '호의': 4482, '로운': 4483, '레벨': 4484, '근성': 4485, '계시': 4486, '가로세로': 4487, '뱔': 4488, 'dm': 4489, '명확하다': 4490, '우월': 4491, '도태': 4492, '3만원': 4493, '음반': 4494, '엔터테이먼트': 4495, '가시': 4496, '빤스': 4497, '메뚜기': 4498, '장미여관': 4499, '도의': 4500, '보이콧': 4501, '풋': 4502, '까지만': 4503, '토크': 4504, '사유': 4505, '26': 4506, '브': 4507, '예언': 4508, '박자': 4509, '갑작스럽다': 4510, '교주': 4511, '전씨': 4512, '골로': 4513, '강가': 4514, '고해': 4515, '맛녀': 4516, '망조': 4517, '명절': 4518, '것일': 4519, '넼': 4520, '강대': 4521, '박지훈': 4522, '웅': 4523, '강변': 4524, '강수지': 4525, '가로': 4526, '연구소': 4527, '강철': 4528, '동해': 4529, '하단': 4530, '실타': 4531, '항': 4532, '리다': 4533, '사례': 4534, '철저하다': 4535, '진위': 4536, '여부': 4537, '종족': 4538, '괜': 4539, 'oo': 4540, '가스': 4541, '천이슬': 4542, '활용': 4543, '열심': 4544, '열정': 4545, '철거': 4546, '블': 4547, '개종': 4548, '사면': 4549, '기업': 4550, '유니클로': 4551, '소비': 4552, '교묘하다': 4553, '면접': 4554, '학원': 4555, '개인정보': 4556, '수익': 4557, '김광석': 4558, '똥꼬': 4559, '김남길': 4560, '이벤트': 4561, '라니까': 4562, '예비': 4563, '접대': 4564, '거부권': 4565, '삥': 4566, '노친': 4567, '건모': 4568, '삐': 4569, '에로': 4570, '갇': 4571, '런': 4572, 'ㅁ': 4573, '옵니다': 4574, '어설프다': 4575, '마이너스': 4576, '슬쩍': 4577, '실질': 4578, '신청': 4579, '겨울': 4580, '불우': 4581, '이웃': 4582, '필로폰': 4583, '사상': 4584, 'ses': 4585, '무인도': 4586, '쥬비스': 4587, '돌파': 4588, '결백': 4589, '결별': 4590, '양육비': 4591, '알베': 4592, '사라': 4593, '소꿉': 4594, '외박': 4595, '하락': 4596, '증가': 4597, '이견': 4598, '맥락': 4599, '미남': 4600, '대체로': 4601, '테이프': 4602, '질도': 4603, '영화계': 4604, '개집': 4605, '귀찮다': 4606, '고모': 4607, '난무': 4608, '회수': 4609, '금액': 4610, '얽히다': 4611, '고승': 4612, '만큼이나': 4613, '우시': 4614, '원희': 4615, '고지용': 4616, '아파트': 4617, '이탈': 4618, '설치': 4619, '공블리': 4620, '매너': 4621, '한국말': 4622, '허겁지겁': 4623, '달려가다': 4624, '조상': 4625, '다방': 4626, '커피숍': 4627, '이질': 4628, '카이스트': 4629, '과연': 4630, '딛다': 4631, '근본': 4632, '노출하다': 4633, '관상학': 4634, '들락날락': 4635, '불과': 4636, '승질': 4637, '벽': 4638, '칠하다': 4639, '전남': 4640, '친일': 4641, '종인': 4642, '광규': 4643, '외로': 4644, '완쾌': 4645, '서기': 4646, '교통사고': 4647, '합의금': 4648, '원만': 4649, '교활하다': 4650, '위협': 4651, '라다': 4652, '구찌': 4653, '상해죄': 4654, '해당': 4655, '기억나다': 4656, '구질구질하다': 4657, '붙잡다': 4658, '추잡': 4659, '얌전하다': 4660, '무너지다': 4661, '천벌': 4662, '에요': 4663, '쌓이다': 4664, '재정': 4665, '통과': 4666, '국립공원': 4667, '피고': 4668, '강행': 4669, '신성하다': 4670, '검머': 4671, '대타': 4672, '인민': 4673, '구경': 4674, '단물': 4675, 'very': 4676, '팔면': 4677, '밖에는': 4678, '강쥐': 4679, '신세경': 4680, '라이네': 4681, '욕구': 4682, '잠시': 4683, '양인': 4684, '엉뚱하다': 4685, '용감하다': 4686, '김충재': 4687, '제적': 4688, '상대방': 4689, '가희': 4690, '먹고다': 4691, '부들대다': 4692, '손태영': 4693, '처렁': 4694, '사서': 4695, '암암리': 4696, '공산주의': 4697, '음탕': 4698, '허벅지': 4699, '당황': 4700, '펼치다': 4701, '네나': 4702, '가꾸다': 4703, '입자': 4704, '관찰': 4705, '19년': 4706, '혼나다': 4707, '반짝': 4708, '린지': 4709, '여관': 4710, '하겄': 4711, '그대': 4712, '특검': 4713, '자루': 4714, '연재': 4715, '한텐': 4716, '사신': 4717, '재료': 4718, '이해해': 4719, '지장': 4720, '기념': 4721, '매진': 4722, '양호': 4723, '만들기': 4724, '봣': 4725, '그랫구': 4726, '꿇다': 4727, '조정석': 4728, '리포터': 4729, '맑다': 4730, '일일이': 4731, '컴플': 4732, '금메달': 4733, '리스트': 4734, '전원': 4735, '적임': 4736, '티켓': 4737, '스승': 4738, '한계': 4739, '인스턴트': 4740, '본업': 4741, '최강': 4742, '으로라도': 4743, '웨딩': 4744, '구멍': 4745, '나가야': 4746, '엠마': 4747, '힐': 4748, '무얼': 4749, '짜깁다': 4750, '의혹': 4751, '늘어놓다': 4752, '짜장면': 4753, '찰떡': 4754, '경호': 4755, '스캐': 4756, '버스': 4757, '생겻': 4758, '곽선영': 4759, '불가능': 4760, '호칭': 4761, '청국장': 4762, '김은숙': 4763, '간이': 4764, '라기보다는': 4765, '얘넨': 4766, '빨대': 4767, '내버리다': 4768, '스크린': 4769, '뿌기': 4770, '수컷': 4771, '조화': 4772, '롭고': 4773, '건드리다': 4774, '혼내다': 4775, '철썩': 4776, '남돌': 4777, '창업': 4778, '첫사랑': 4779, '승진': 4780, '베스트': 4781, '마자': 4782, '아마추어': 4783, '광주': 4784, '이색': 4785, '장재인': 4786, '난감하다': 4787, '주진모': 4788, '패턴': 4789, '부부인': 4790, '유가족': 4791, '청룡': 4792, '택연': 4793, '교과서': 4794, '학창': 4795, '떄리다': 4796, '서리': 4797, '발목': 4798, '황우': 4799, '합산': 4800, '혜택': 4801, '가스나': 4802, '3억': 4803, '근래': 4804, '하와이': 4805, '빡시다': 4806, '진부하다': 4807, '2019년': 4808, '볼거리': 4809, '토르': 4810, '짚다': 4811, '용이': 4812, '돕다': 4813, '속옷': 4814, '농담': 4815, '단단하다': 4816, '오디션': 4817, '크리스탈': 4818, '줌씨': 4819, '성하다': 4820, '스킵': 4821, '김성은': 4822, '주홍글씨': 4823, '질문': 4824, '올려놓다': 4825, '쥐랄': 4826, '깡': 4827, '장군': 4828, '길가': 4829, '김갑수': 4830, '깨지다': 4831, '삽질': 4832, '김대중': 4833, '박완규': 4834, '부족': 4835, '김동준': 4836, '김민서': 4837, '김병만': 4838, '김보라': 4839, '비극': 4840, '김새롬': 4841, '띵': 4842, '차이나': 4843, '화끈하다': 4844, '김수민': 4845, '김수찬': 4846, '김숙': 4847, '김우빈': 4848, '해어지다': 4849, '김유석': 4850, '똥꾸': 4851, '녕': 4852, '촛불': 4853, '향수': 4854, '소드': 4855, '위함': 4856, '답변': 4857, '응답': 4858, '노무': 4859, '7억': 4860, '연봉': 4861, '룬': 4862, '최대': 4863, '주먹질': 4864, '쌍욕': 4865, '취하': 4866, '김주원': 4867, '광분': 4868, '너비': 4869, '처녀': 4870, '털털': 4871, '남동생': 4872, '꼬마': 4873, '에다가': 4874, 'j': 4875, '김혜준': 4876, '길거리': 4877, '아침밥': 4878, '민경훈': 4879, '브랜드': 4880, '깁스': 4881, '불필요하다': 4882, '변질': 4883, '꼴값': 4884, '와는': 4885, '꼴깝': 4886, '꼴랑': 4887, '질라': 4888, '뒤집어지다': 4889, '극복': 4890, '그림자': 4891, '공존': 4892, '월세': 4893, '애절하다': 4894, '짜지다': 4895, '현역': 4896, '유미': 4897, '무겁다': 4898, '부자연': 4899, '아리': 4900, '공주': 4901, '갈이': 4902, '스시': 4903, '최애': 4904, '엎어': 4905, '모하': 4906, '저따위': 4907, '초월': 4908, '국경': 4909, '밀': 4910, '낄낄': 4911, '모토': 4912, '쌤통': 4913, '66': 4914, '77': 4915, '쪼금': 4916, '요한': 4917, '중후': 4918, '신혜성': 4919, '앤디': 4920, '하현': 4921, '정현': 4922, '그다음': 4923, '링크': 4924, '시술': 4925, '이시영': 4926, '가깝다': 4927, '발끈': 4928, '최명길': 4929, '구성': 4930, '사가': 4931, '피트': 4932, '통역': 4933, '너머': 4934, '협찬': 4935, '조심': 4936, '보신탕': 4937, '태임': 4938, '사생아': 4939, '미혼모': 4940, '혜교님': 4941, '으루': 4942, '패러디': 4943, '일생': 4944, '애사': 4945, '단순하다': 4946, '럴': 4947, '불가능하다': 4948, '피지': 4949, '컬': 4950, '아이린': 4951, '텅텅': 4952, '16': 4953, '짘': 4954, '다가는': 4955, '통장': 4956, '마음먹다': 4957, '삶다': 4958, '엄연하다': 4959, '자부심': 4960, '생활비': 4961, '낳을': 4962, '초점': 4963, '지갑': 4964, '명함': 4965, '폭풍': 4966, '미드': 4967, '집밥': 4968, '뺑소니': 4969, '정당하다': 4970, '흐': 4971, '다지': 4972, '알베르토': 4973, '남자라면': 4974, '오오': 4975, '부친': 4976, '사지': 4977, '왤다': 4978, '서강준': 4979, '어르다': 4980, '공경': 4981, '보급': 4982, '광팬': 4983, '벌떡': 4984, '일어나서': 4985, '꽂히다': 4986, '리턴': 4987, '김혜수': 4988, '티라노': 4989, '후속작': 4990, '한씨': 4991, '귄다': 4992, '간질': 4993, '우상': 4994, '친근하다': 4995, '조아하다': 4996, '엽다': 4997, '우진': 4998, '모녀': 4999, '이영애': 5000, '인신공격': 5001, '개리': 5002, '왈가': 5003, '왈부': 5004, '연승': 5005, '받드': 5006, '파티': 5007, '꺼리다': 5008, '대성': 5009, '김광규': 5010, '시나': 5011, '윤두준': 5012, '봉사활동': 5013, '기형': 5014, '재팬': 5015, '위안': 5016, '뜸': 5017, '도우미': 5018, '탱': 5019, '현이': 5020, '대선': 5021, '측근': 5022, '이승만': 5023, '불평': 5024, '노출증': 5025, '비키다': 5026, '넷플릭스': 5027, '노지훈': 5028, '불후': 5029, 'ㅡㅡㅋ': 5030, '발연기': 5031, '부엉이': 5032, '하래': 5033, '네마': 5034, '에서의': 5035, '슥': 5036, '하수도': 5037, '아구창': 5038, '신혼여행': 5039, '누구신지': 5040, '순이': 5041, '봉': 5042, '걘': 5043, '유라': 5044, '지지자': 5045, '누명': 5046, '눈가': 5047, '주름': 5048, '연분': 5049, '쳐다보다': 5050, '홍수': 5051, '뉴욕대': 5052, '귀족': 5053, '뉴이스트': 5054, 'ㄱㅈㅎ': 5055, '늑대': 5056, '방콕': 5057, '소년': 5058, '늙탱': 5059, '대디': 5060, '이체': 5061, '악녀': 5062, '엠빙신': 5063, 'th': 5064, 'ㅏ': 5065, '키라': 5066, '구매': 5067, '12년': 5068, '득실': 5069, '6년': 5070, '업보': 5071, '숙행': 5072, '메퇘': 5073, '기생충': 5074, '잔치': 5075, '안현': 5076, '기름': 5077, '랍': 5078, '지식': 5079, '상속': 5080, '부잣집': 5081, '잣': 5082, '슈퍼': 5083, '추잡하다': 5084, '비정상': 5085, '치료받다': 5086, '흉하다': 5087, '꾸밈': 5088, '백숙': 5089, '멀어지다': 5090, '막내': 5091, '다야': 5092, '액션': 5093, '쁘더': 5094, '풍부하다': 5095, '톡': 5096, '유출': 5097, '선발': 5098, '용하다': 5099, '나아가다': 5100, '전보': 5101, '장성규': 5102, '면전': 5103, '방구': 5104, '투도': 5105, '철판': 5106, '대머리': 5107, '오십': 5108, '대은': 5109, '부정': 5110, '집어넣다': 5111, '연명': 5112, '놔두다': 5113, '인스타그램': 5114, '주지훈': 5115, '연설': 5116, '앞서': 5117, '치안': 5118, '입김': 5119, '인구': 5120, '5천만': 5121, '자존심': 5122, '타협': 5123, '개개인': 5124, '취미': 5125, '판빙빙': 5126, '치네다': 5127, '신의': 5128, '소음': 5129, '포방터': 5130, '실하다': 5131, '짝짓기': 5132, '천하다': 5133, '남일': 5134, '탄수화물': 5135, '문의': 5136, '침묵': 5137, '몇몇': 5138, '스타킹': 5139, '랴': 5140, '도경': 5141, '현주': 5142, '소름끼치다': 5143, '코믹': 5144, '얼핏': 5145, '죄진': 5146, '도상': 5147, '비치': 5148, '도시': 5149, '어부': 5150, '단체': 5151, '즁': 5152, '도희': 5153, '캐릭': 5154, '스파이크': 5155, '필라테스': 5156, '8년': 5157, '호르몬': 5158, '들뜨다': 5159, '로고': 5160, '확률': 5161, '주혁': 5162, '스님': 5163, '어서': 5164, '함정': 5165, '빠져나오다': 5166, '이경': 5167, '종영': 5168, '동성애': 5169, '쓸데없다': 5170, '동윤': 5171, '35': 5172, '조이': 5173, '발성': 5174, '흘러내리다': 5175, '쑤시다': 5176, '징징거리다': 5177, '아랫': 5178, '제도': 5179, '두둔': 5180, '전문': 5181, '줄줄이': 5182, '봉건': 5183, '이세': 5184, '헷갈리다': 5185, '황소개구리': 5186, '생쇼': 5187, '니미': 5188, '포옹': 5189, '케이': 5190, '부유': 5191, '선희': 5192, '욱일기': 5193, '곽시양': 5194, '대의': 5195, '톱스타': 5196, '빠수니': 5197, '장사꾼': 5198, '스탭': 5199, '여편네': 5200, '주차': 5201, '널다': 5202, '이빨': 5203, '드러내다': 5204, '조센징': 5205, '채연': 5206, '마드': 5207, '선풍기': 5208, '카드': 5209, '어묵': 5210, '신화': 5211, '다가오다': 5212, '타진': 5213, '오기': 5214, '놀리다': 5215, '발악': 5216, '고등학교': 5217, '이즈': 5218, '데이': 5219, '설탕': 5220, '똘': 5221, '벤츠': 5222, '진솔하다': 5223, '절실': 5224, '레기': 5225, '랑께': 5226, '미스캐스팅': 5227, '어마': 5228, '하고는': 5229, '퍼펙트': 5230, '정형돈': 5231, '랩퍼': 5232, '가창력': 5233, '채원': 5234, '삼류': 5235, '러블리즈': 5236, '레깅스': 5237, '성룡': 5238, '불화': 5239, '슬': 5240, '학생': 5241, '희생': 5242, '히어로': 5243, '흐리다': 5244, '장동': 5245, '윤건': 5246, '유유상종': 5247, '망삘': 5248, '이호': 5249, '장우혁': 5250, '자영': 5251, '다섯': 5252, '쾌활하다': 5253, '박수진': 5254, '자연스레': 5255, '카': 5256, '음성': 5257, '이루어지다': 5258, '마흔': 5259, '판박이': 5260, '트렌디': 5261, '맞고소': 5262, 'ㅑ': 5263, '재동': 5264, '단순': 5265, '옥탑방': 5266, '해지니': 5267, '밴드': 5268, '시나리오': 5269, '라디언들': 5270, '관둘': 5271, '주원': 5272, '흔': 5273, '퇘': 5274, '이서': 5275, '아오이': 5276, '최우수상': 5277, '페이스': 5278, '숏컷': 5279, '폰': 5280, '안정환': 5281, '보리': 5282, '박혜미': 5283, '환불': 5284, '물의': 5285, '각오': 5286, '멸치': 5287, '시청율': 5288, '사수': 5289, '명치': 5290, '쏠리다': 5291, '씌': 5292, '디자인': 5293, '챙피': 5294, '여드름': 5295, '껀': 5296, '안고': 5297, '중단': 5298, '구해': 5299, '견제': 5300, '어지럽다': 5301, '의지': 5302, '아주머니': 5303, '엄친딸': 5304, '신영수': 5305, '무고': 5306, '재석': 5307, '털': 5308, '모독': 5309, '살인마': 5310, '재판': 5311, '회견': 5312, '패션쇼': 5313, '홍정욱': 5314, '의료': 5315, '고장': 5316, '누님': 5317, '무표정': 5318, '공간': 5319, '처무': 5320, '문란하다': 5321, '문소리': 5322, '경수': 5323, '문신': 5324, '감방': 5325, '왁스': 5326, '걸레': 5327, '애꿎': 5328, '깝깝': 5329, '슛': 5330, 'h': 5331, '만도': 5332, '저격': 5333, '젊은이': 5334, '세무조사': 5335, '국정감사': 5336, '국정': 5337, '농단': 5338, '게시판': 5339, '드루': 5340, '공통점': 5341, '물곰': 5342, '얼간이': 5343, '상대로': 5344, '전제': 5345, '원한': 5346, '작전': 5347, '괴물': 5348, '냉': 5349, '앞가림': 5350, '마눌': 5351, '미련': 5352, '신랑감': 5353, '옛말': 5354, '하소': 5355, '생존': 5356, '음서': 5357, '취해': 5358, '삼성': 5359, '가능': 5360, 'www': 5361, '보험': 5362, '개피': 5363, '꼰': 5364, '미씨': 5365, '인방': 5366, '미안': 5367, '국과수': 5368, '머물다': 5369, '웩': 5370, '미코': 5371, '백화점': 5372, '믹스': 5373, '본격': 5374, 'ㄱㅐ': 5375, '돌대가리': 5376, '현씨': 5377, '박경': 5378, '블레스': 5379, '공중파': 5380, '삭았': 5381, '스캔들': 5382, '비공': 5383, '방부제': 5384, '애니콜': 5385, '보이스': 5386, '방귀': 5387, '박지민': 5388, '반듯하다': 5389, '단도': 5390, '잔잔하다': 5391, '염치': 5392, '글래머': 5393, '반민정': 5394, '가증': 5395, '김혜나': 5396, '반쪽': 5397, '핰': 5398, '정정': 5399, '근처': 5400, '놀람': 5401, '방송작가': 5402, '자전': 5403, '일가': 5404, '최초': 5405, '전범': 5406, '소년단': 5407, '압': 5408, '배구': 5409, '이수경': 5410, '배드': 5411, '신도': 5412, '배신자': 5413, '내조': 5414, '이솜': 5415, '최선': 5416, '감치': 5417, '서른': 5418, '버럭': 5419, '기세': 5420, '체인': 5421, '상권': 5422, '업그레이드': 5423, '초심': 5424, '녹화': 5425, '방사': 5426, '버닝썬': 5427, '나사': 5428, '벌린': 5429, '방도': 5430, '베드': 5431, '베컴': 5432, '마약범': 5433, '로봇': 5434, '각종': 5435, '별것': 5436, '추방': 5437, '한수민': 5438, '이득': 5439, '퍼포먼스': 5440, '이대로': 5441, '무치': 5442, '범접': 5443, '압도': 5444, '어깨': 5445, '발연': 5446, '성경': 5447, '건너가다': 5448, '흉터': 5449, '증상': 5450, '69': 5451, '반하다': 5452, '벨트': 5453, '메이크업': 5454, '쓰기': 5455, '자숙해': 5456, '테스트': 5457, '고민': 5458, '부동산': 5459, '구분': 5460, '오랄': 5461, '여학생': 5462, '터트려': 5463, '제재': 5464, '바람나다': 5465, '김해': 5466, '숙': 5467, '자유롭다': 5468, '오드': 5469, '누리': 5470, '인류': 5471, '이며': 5472, '어쩌다가': 5473, 't': 5474, '쾅년': 5475, '뷔페': 5476, '슨': 5477, '쌈': 5478, '서원': 5479, '요기': 5480, '후기': 5481, 'naver': 5482, '헐리우드': 5483, '쓰래': 5484, '비만': 5485, '토요일': 5486, '제작비': 5487, '앉히다': 5488, '잡음': 5489, '슴가': 5490, '몬스타': 5491, '빚투': 5492, '리드': 5493, '관대하다': 5494, '마주': 5495, '붕': 5496, '주무르다': 5497, '비실': 5498, '해킹': 5499, '예고편': 5500, '시민': 5501, '파트너': 5502, '혼녀': 5503, '사생': 5504, '이심': 5505, '견디다': 5506, '선언': 5507, '2등': 5508, '서인': 5509, '수행': 5510, '신기': 5511, '피오': 5512, '비비고': 5513, 'me': 5514, 'up': 5515, '이재용': 5516, '시세': 5517, '나영석': 5518, '해먹': 5519, '생가': 5520, '반감': 5521, '뻐졌다': 5522, '회춘': 5523, '화만': 5524, '부턴': 5525, '표준': 5526, '박효신': 5527, '원조': 5528, '눈앞': 5529, '무법': 5530, '연속': 5531, '제동': 5532, '정신질환': 5533, '연출자': 5534, '현숙': 5535, '선대': 5536, '국민성': 5537, '걸스': 5538, '설계': 5539, '10월': 5540, '일루미나티': 5541, '마나': 5542, '외계': 5543, '상민': 5544, '정장': 5545, '식사': 5546, '만은': 5547, '성광': 5548, '증언': 5549, '사리': 5550, '나왓': 5551, '입증': 5552, '말리다': 5553, '성현아': 5554, '갸름하다': 5555, '성장기': 5556, '탄생': 5557, '령': 5558, '세븐': 5559, '한가인': 5560, '시지': 5561, '부실': 5562, '세자빈': 5563, '언어': 5564, '셋째': 5565, '인종': 5566, '셔누': 5567, '개비': 5568, '굶다': 5569, '소율': 5570, '진씨': 5571, '빌딩': 5572, '윤소이': 5573, '라인업': 5574, '작업실': 5575, '원수': 5576, '솔루션': 5577, '정성': 5578, '집시': 5579, '안남': 5580, '죄다': 5581, '적지': 5582, '성유리': 5583, '키도': 5584, '이만': 5585, '우길': 5586, '호랑이': 5587, '컨트롤': 5588, '최상': 5589, '송은이': 5590, 'ㅛ': 5591, '송찌질': 5592, '열차': 5593, '판치다': 5594, '거듭': 5595, '자세하다': 5596, '방이': 5597, '신재은': 5598, '막무가내': 5599, '정체': 5600, '쫒다': 5601, '수임': 5602, '장어': 5603, '봉태규': 5604, '수향': 5605, '넘어지다': 5606, '기쁨': 5607, '강원도': 5608, '슈스케': 5609, '나레이션': 5610, '스페인': 5611, '양준혁': 5612, '엿다': 5613, '악화': 5614, '변화': 5615, '시급하다': 5616, '대변인': 5617, '나이트클럽': 5618, '박살': 5619, '사항': 5620, '모씨': 5621, '준수': 5622, '귀머거리': 5623, '어지간하다': 5624, '느님': 5625, '윈도우': 5626, '관종끼': 5627, '국회의원': 5628, '동상': 5629, '이몽': 5630, '신발': 5631, '꾸기다': 5632, '신성일': 5633, '침착하다': 5634, '신지': 5635, '미만': 5636, '신해철': 5637, '주영훈': 5638, '인간성': 5639, '잡것': 5640, '명성': 5641, '귀하다': 5642, '얼음': 5643, '볼일': 5644, '노선': 5645, '앤데': 5646, '엉덩이': 5647, '줄줄': 5648, '추석': 5649, '단계': 5650, '하기야': 5651, '쌍판': 5652, '유사': 5653, '합치다': 5654, '퍼오': 5655, '뉴욕': 5656, '자수': 5657, '성가': 5658, '홍자매': 5659, '환상': 5660, '빌어': 5661, '익': 5662, '형식': 5663, '대니': 5664, '동반': 5665, '부작': 5666, '오영주': 5667, '이규': 5668, '온라인': 5669, '굴뚝': 5670, '준회': 5671, '드네': 5672, '치고는': 5673, '감사': 5674, '노조': 5675, '비밀': 5676, '먹음': 5677, '대처': 5678, '게시': 5679, '도망치다': 5680, '음모론': 5681, '입히다': 5682, '구원': 5683, '양은': 5684, '리본': 5685, '옥자': 5686, '김씨': 5687, '식구': 5688, '실리다': 5689, '전주': 5690, '원칙': 5691, '아무래도': 5692, '윤지오': 5693, '거북하다': 5694, '비우다': 5695, '성품': 5696, 'ㄲ': 5697, '젠더': 5698, '고자': 5699, '집들이': 5700, '한순간': 5701, '쫑난다': 5702, '날아가다': 5703, '정경호': 5704, '코리아': 5705, '고은님': 5706, '풍자': 5707, '아앙': 5708, '아역': 5709, '아오': 5710, '아유': 5711, '풋살': 5712, '부러워하다': 5713, '스밍': 5714, '아이언맨': 5715, '타샤': 5716, '오케이': 5717, '민주': 5718, '대들다': 5719, '심보': 5720, '토니안': 5721, '앞뒤': 5722, 'ㅂㄷㅂㄷ': 5723, '체험': 5724, '등신': 5725, '오연서': 5726, '악성': 5727, '태진아': 5728, '전과': 5729, '한숨': 5730, 'ㅇㄱㄹㅇ': 5731, '노안': 5732, '간의': 5733, '왜인': 5734, '안검': 5735, '생생하다': 5736, '안도': 5737, '진즉': 5738, '하나같이': 5739, '일어서다': 5740, '11월': 5741, '들통': 5742, '이기심': 5743, '천천히': 5744, '안희정': 5745, '가시다': 5746, '페트': 5747, '앞머리': 5748, '10분': 5749, '신격화': 5750, '명인': 5751, '스케치북': 5752, '음이탈': 5753, '신중하다': 5754, '태환': 5755, '지워지다': 5756, '개이득': 5757, '처제': 5758, '방씨': 5759, '쁠거': 5760, '호흡': 5761, '팬덤': 5762, '거세': 5763, '축구선수': 5764, '뛰어나오다': 5765, '경리': 5766, '고소장': 5767, '갈등': 5768, '어기': 5769, '미가': 5770, '제자': 5771, '영악': 5772, '막귀': 5773, '수수하다': 5774, '쁘신데': 5775, '어우': 5776, '김지민': 5777, '오리': 5778, '음해': 5779, '시상': 5780, '어쩌면': 5781, '청탁': 5782, '색깔': 5783, '구제': 5784, '불능': 5785, '소두': 5786, '소중하다': 5787, '만기': 5788, '맹세': 5789, '유물': 5790, '발달': 5791, 'ㅍ': 5792, '윤정': 5793, '조그만': 5794, '떠벌리다': 5795, '자진': 5796, '앖': 5797, '짝퉁': 5798, '추적': 5799, '전환': 5800, '초등학생': 5801, '차세대': 5802, '소라': 5803, '땡기다': 5804, '엘': 5805, '셔틀': 5806, '싸하다': 5807, '엠블랙': 5808, '운지': 5809, '싸이코': 5810, '댄스': 5811, '소망': 5812, '콩밥': 5813, '출현': 5814, '정죄': 5815, '허구': 5816, '만석': 5817, '오윤아': 5818, '외간': 5819, '자이언트': 5820, '부담': 5821, '부풀다': 5822, '주네': 5823, '풀메이크업': 5824, '여진구': 5825, '나야': 5826, '재밋었다': 5827, '손색': 5828, '상납': 5829, '싱싱하다': 5830, '학벌': 5831, '헬조선': 5832, '젖다': 5833, '개빻': 5834, '장땡': 5835, '기술': 5836, '시발': 5837, '딩': 5838, '가도': 5839, '이계인': 5840, '연대': 5841, '학력': 5842, '생계': 5843, '노동자': 5844, '특혜': 5845, '싸대기': 5846, '똘망': 5847, '방식': 5848, '대우': 5849, '들키다': 5850, '홧': 5851, '이태란': 5852, '터치': 5853, '걸어오다': 5854, '하얗다': 5855, '카페': 5856, '광우병': 5857, '에디킴': 5858, '이상형': 5859, '원빈': 5860, '억이': 5861, 'atp': 5862, 'ost': 5863, '쌀': 5864, '굿굿': 5865, '재야': 5866, '오션': 5867, '이현': 5868, '장하다': 5869, 'tmi': 5870, '절묘하다': 5871, '요청': 5872, '저능': 5873, '인턴': 5874, '움직이다': 5875, '독일': 5876, '온유': 5877, '콤': 5878, 'ㅌ': 5879, '가을': 5880, '요정': 5881, '페미니스트': 5882, '순하다': 5883, '런닝': 5884, '사전': 5885, '상복': 5886, '몰래': 5887, '스케줄': 5888, '경장': 5889, '갑질': 5890, '니넨': 5891, '오른쪽': 5892, '툭하면': 5893, '르노': 5894, '험담': 5895, '후학': 5896, '여유': 5897, '의학': 5898, '상폐녀': 5899, '주적': 5900, '태희': 5901, '디아크': 5902, '지오': 5903, '아베': 5904, '뷰': 5905, '박사': 5906, '워너': 5907, '장동민': 5908, '고향': 5909, '인준': 5910, '세준': 5911, '대요': 5912, '이의': 5913, '유건': 5914, '유권': 5915, '유느님': 5916, '유민상': 5917, '유영': 5918, '기럭': 5919, '유인나': 5920, '정해지다': 5921, '지각': 5922, '그림': 5923, '유포자': 5924, '레스토랑': 5925, '코피': 5926, '조강지처': 5927, '타이거': 5928, '유엔': 5929, '차분하다': 5930, '도도': 5931, '보드': 5932, '윤식당': 5933, '컵': 5934, '경로당': 5935, '윤정수': 5936, '이대': 5937, '승소': 5938, '써니': 5939, '은근': 5940, '산불': 5941, '오이지': 5942, '면죄부': 5943, '무리수': 5944, '응애': 5945, '용다': 5946, '왕국': 5947, '반일': 5948, '불리하다': 5949, '지배': 5950, '쏙': 5951, '시리즈': 5952, '관성': 5953, '단국대': 5954, '혈액암': 5955, '재발': 5956, '불타다': 5957, '살풀이': 5958, '귀신': 5959, '열사': 5960, '판정': 5961, '실언': 5962, '인식': 5963, '비유': 5964, '이나영': 5965, '쁠까': 5966, '돈돈': 5967, '근황': 5968, '십년': 5969, 'http': 5970, '신파극': 5971, '틀어놓다': 5972, '비트': 5973, '부증': 5974, '먹듯': 5975, '베': 5976, '참석': 5977, 'ㅊㅋ': 5978, '이민기': 5979, '5년': 5980, '냉정하다': 5981, '사부로': 5982, '출발': 5983, '체크': 5984, '벌어지다': 5985, '이선정': 5986, '앓다': 5987, '이성경': 5988, '남여': 5989, '이성욱': 5990, '만치': 5991, '최진실': 5992, '불쾌하다': 5993, '편견': 5994, '팬미팅': 5995, '사원': 5996, '공안': 5997, '밀실': 5998, '쩍': 5999, '이열음': 6000, '청자': 6001, '돌싱': 6002, '개명': 6003, '끝물': 6004, '주기도': 6005, '빚쟁이': 6006, '팁': 6007, '탁': 6008, '반점': 6009, '흘러가다': 6010, '종현': 6011, '정소민': 6012, '이준기': 6013, '이채연': 6014, '마리': 6015, '이하이': 6016, '즈': 6017, '핑클': 6018, '2억': 6019, '사칭': 6020, 'av': 6021, '유도': 6022, '현장': 6023, '계단': 6024, '일장기': 6025, '정력': 6026, '박히다': 6027, '롱런': 6028, '뇨': 6029, '자궁': 6030, '햇으': 6031, '대답': 6032, '무례하다': 6033, '자연미인': 6034, '왕식': 6035, '밑바닥': 6036, '고도': 6037, '도환': 6038, '장도연': 6039, '장모님': 6040, '큰딸': 6041, '우아하다': 6042, '색녀': 6043, '장애인': 6044, '수로': 6045, '구지': 6046, '쑈': 6047, '밤새': 6048, '변호': 6049, '친일파': 6050, '컨텐츠': 6051, '겸손': 6052, '저년': 6053, '교만': 6054, '주현': 6055, '소도': 6056, '통역사': 6057, '볶다': 6058, '제기': 6059, '8등': 6060, '샤바': 6061, '상상력': 6062, '황도': 6063, 'cctv': 6064, '번은': 6065, '헤어지자': 6066, '궁굼': 6067, '점유': 6068, '국회': 6069, '견': 6070, '덕지덕지': 6071, '태규': 6072, '뻣': 6073, '성금': 6074, '커밍아웃': 6075, '셀카': 6076, '적극': 6077, '뿜': 6078, '넷': 6079, '입지': 6080, '지니': 6081, '주로': 6082, '임수향': 6083, '퍼지다': 6084, '에나': 6085, '똘마': 6086, '출동': 6087, '앵': 6088, '뉴': 6089, '제대': 6090, '이여': 6091, '줜': 6092, '씽': 6093, '벼르': 6094, '서열': 6095, '저만큼': 6096, '명박': 6097, '치과': 6098, '투철': 6099, '반지': 6100, '차고': 6101, '서양인': 6102, '진화': 6103, '500': 6104, '소스': 6105, '차화연': 6106, '참치': 6107, '빠이팅': 6108, '미소': 6109, '에드': 6110, '지난번': 6111, '청주': 6112, '충청도': 6113, '최씨': 6114, '최정훈': 6115, '태아': 6116, '치과의사': 6117, '잃어버리다': 6118, '취소': 6119, '무관': 6120, '남다르다': 6121, '박정수': 6122, '스위스': 6123, '유럽': 6124, '라운드': 6125, '핏': 6126, '이전': 6127, '스타크': 6128, '나무': 6129, '지나치다': 6130, '틱': 6131, '일관': 6132, '노예': 6133, '페지': 6134, '광탈': 6135, '크루': 6136, '등산로': 6137, '푸핫': 6138, '선후배': 6139, '커녕': 6140, '할머님': 6141, '하연수': 6142, '치도': 6143, '한글': 6144, '한채아': 6145, '글씨체': 6146, '치이다': 6147, '헐리웃': 6148, '가입': 6149, '625': 6150, '참전': 6151, '터키': 6152, '곽': 6153, '홍석천': 6154, '화교': 6155, '확실': 6156, '위주': 6157, '환하다': 6158, '황교익': 6159, '댄서': 6160, '흥국': 6161, '어설': 6162, '펐는데': 6163, '치룬': 6164, '일부다처제': 6165, '긍금하': 6166, '12월': 6167, '1월': 6168, '수기': 6169, '5월': 6170, '13': 6171, '1400억': 6172, '166': 6173, '57': 6174, '17년': 6175, '27년': 6176, '납득': 6177, '기럭지': 6178, '78': 6179, '79180': 6180, '구심': 6181, '죄임': 6182, '1959년': 6183, '자유당': 6184, '연남동': 6185, '부도덕하다': 6186, '공복': 6187, '흐흐': 6188, '한상진': 6189, '꿰매다': 6190, '아랏는데': 6191, '무감각': 6192, '엠넷': 6193, '사전투표': 6194, '2002년': 6195, '지영': 6196, '스포츠카': 6197, '18년': 6198, '2006년': 6199, '포도': 6200, '사나이': 6201, '가운': 6202, '연구원': 6203, '200억': 6204, '수집': 6205, '장씨': 6206, '2016년': 6207, '영배': 6208, '206000달러': 6209, '계약금': 6210, '34700': 6211, '화성': 6212, '주술': 6213, '발랑': 6214, '까졋': 6215, '먹엇': 6216, '팔팔하다': 6217, '콩': 6218, '혓재': 6219, '26년': 6220, '290억': 6221, '29': 6222, '악하다': 6223, '바질': 6224, '꿀꿀': 6225, 'ㅇㅈㅎ': 6226, '차로': 6227, '가려지다': 6228, '2천만원': 6229, '짜리': 6230, '여요': 6231, '빙의': 6232, '39': 6233, '세라': 6234, '술수': 6235, '3일': 6236, '12억원': 6237, '어치': 6238, '야노': 6239, '씨방': 6240, '경포대': 6241, '하악하악': 6242, '뱃살': 6243, 'ㅠㅜㅠㅜ': 6244, '폐경': 6245, '빚진': 6246, '저물다': 6247, '무겐': 6248, '소멸': 6249, '기구': 6250, '4억': 6251, '껌값일': 6252, '비정하다': 6253, '강한나': 6254, '테러': 6255, '곽부성': 6256, '쌩까다': 6257, '신상털기': 6258, '120': 6259, '68': 6260, '그깟': 6261, '29일': 6262, '전미선': 6263, '7월': 6264, '31일': 6265, '75': 6266, '79년': 6267, '82년': 6268, '90년': 6269, '웨꺼': 6270, '어린이': 6271, '죄송': 6272, '여태껏': 6273, '박명': 6274, 'ft': 6275, '아일랜드': 6276, '쇼지': 6277, '창률': 6278, 'pf': 6279, '금융업': 6280, 'metoo': 6281, 'youtoo': 6282, '항해': 6283, 'japan': 6284, '태콩': 6285, '촐싹대다': 6286, '1분': 6287, '뒷방': 6288, '친문': 6289, '나로': 6290, '소명': 6291, '배현진': 6292, '빤쯔': 6293, '그려지다': 6294, '중계': 6295, 'se': 6296, 'sea': 6297, 'eugene': 6298, 'hoo': 6299, '희트곡': 6300, '룰': 6301, '메세지': 6302, '얼쩡거리다': 6303, '제국': 6304, '쉐키들': 6305, '장원영': 6306, 'itzy': 6307, 'dna': 6308, '페이크': 6309, 'ebs': 6310, '입사': 6311, 'fm': 6312, '행진': 6313, 'jy': 6314, '구내': 6315, 'life': 6316, '민국이': 6317, '베충': 6318, '정당성': 6319, '의욕': 6320, 'sun': 6321, 'ubd': 6322, '안마': 6323, '이튠': 6324, 'pop': 6325, '오그라들다': 6326, '독특하다': 6327, '72': 6328, '고향이': 6329, '박지성': 6330, '동향': 6331, '영업정지': 6332, '분리': 6333, 'ㄱㅣ': 6334, 'ㄴㅏ': 6335, '경원': 6336, 'ㅅㄹ': 6337, '핵폭발': 6338, '팜므파탈': 6339, '자연미': 6340, '씨뱅': 6341, '무안': 6342, '줫다': 6343, '생글': 6344, '헤드라인': 6345, '비꼬기': 6346, 'ㅇㄴㅇ': 6347, 'ㅇㅣ': 6348, '아즘마': 6349, '치더': 6350, '관종임': 6351, '질소': 6352, '병들다': 6353, '절도': 6354, '천억': 6355, '옘병': 6356, '친가': 6357, 'ㅊㅈ': 6358, '했짘': 6359, '210': 6360, 'km': 6361, '스티커': 6362, '로마': 6363, '샤': 6364, '다느니': 6365, '4회': 6366, '베뎃': 6367, '쫄리겠': 6368, '진흙탕': 6369, '41': 6370, '영계': 6371, '킬러': 6372, '사촌형': 6373, 'ㅇㅈㄹㅋㅋ': 6374, '맹목': 6375, '개꼬시': 6376, '훈훈거려': 6377, 'ㅌㅋㅋ': 6378, '공소': 6379, '맑드': 6380, '불체': 6381, '쉐리': 6382, '우르르': 6383, '배차': 6384, 'ㅋㅋㅅ': 6385, '헤어졋으': 6386, '민우': 6387, '정존': 6388, '티비조선': 6389, '가져가다': 6390, '혜자': 6391, '느긋하다': 6392, '면허증': 6393, '땄넼': 6394, '븐': 6395, '상장폐지': 6396, '전신': 6397, '남새': 6398, '레기짓': 6399, '퍼뜩': 6400, '봨': 6401, '원정': 6402, '맥': 6403, '건더기': 6404, '차유람': 6405, '토끼다': 6406, '단막극': 6407, '이레': 6408, '위스플': 6409, '명단': 6410, '사재기': 6411, '확증': 6412, '까지나': 6413, 'ㅋㅎ': 6414, 'ㅎㅋ': 6415, '알렉스': 6416, '바느질': 6417, '보풀': 6418, '이뤄지다': 6419, '급수': 6420, '최정': 6421, '송희섭': 6422, '성민': 6423, '보좌': 6424, '한도': 6425, '룬데': 6426, '7시': 6427, '도리어': 6428, '역효과': 6429, '현석': 6430, '대책': 6431, '박일성': 6432, '우님': 6433, '독자': 6434, '구독': 6435, 'ㅗㅗ': 6436, '하치': 6437, '가부장제': 6438, '가사노동': 6439, '오우야': 6440, 'bc': 6441, '월급': 6442, '40억': 6443, '분양': 6444, '분석': 6445, '소서': 6446, '지름길': 6447, '닥치': 6448, '보증': 6449, '립스틱': 6450, '임기': 6451, '구한': 6452, '모티브': 6453, 'ppl': 6454, '빠트린': 6455, '피의자': 6456, '구설': 6457, '의자': 6458, '수목': 6459, '걸루': 6460, '간통죄': 6461, '결격': 6462, '무감': 6463, '이치': 6464, '출국': 6465, '외력': 6466, '종답': 6467, '천도': 6468, '수십억': 6469, '변상': 6470, '감우성': 6471, '동정': 6472, '갑상선': 6473, '항진': 6474, '튀어': 6475, '붓다': 6476, '뇌출혈': 6477, '일리네어': 6478, '적중': 6479, 'ㅇㄷ': 6480, '차야': 6481, '셀프': 6482, '강경헌': 6483, '연수': 6484, '강기영': 6485, '점차': 6486, '날라리': 6487, '이런저런': 6488, '스피드': 6489, '합닏': 6490, '강단': 6491, '강동': 6492, '추스려': 6493, '흰색': 6494, '강씨': 6495, '햇님': 6496, '강원래': 6497, '강은비': 6498, '감금': 6499, '85': 6500, '보넹': 6501, '영웅재중': 6502, '시원': 6503, '강혁': 6504, 'ㄷㅔ': 6505, '낌새': 6506, '강현석': 6507, '강형우': 6508, '캍': 6509, '냉정': 6510, '강효진': 6511, '제보자': 6512, '12조': 6513, '보듬다': 6514, '구서': 6515, '둘입': 6516, '검증': 6517, '지졍': 6518, '개강': 6519, '김경민': 6520, '쁘노': 6521, '스랍': 6522, '미션': 6523, '훠': 6524, '얼씬': 6525, '개독': 6526, '무었': 6527, '진실인': 6528, '이념': 6529, '한민족': 6530, '스파이더맨': 6531, '프로게이머': 6532, '망나니': 6533, '개복': 6534, '개뻥': 6535, '이라곤': 6536, '소유자': 6537, '낌': 6538, '둔하다': 6539, '답글': 6540, '개웃': 6541, '교수': 6542, '면담': 6543, '올림픽': 6544, '종합': 6545, '4등': 6546, '강사': 6547, '피겨': 6548, '세리': 6549, '서단': 6550, '도용': 6551, '공평하다': 6552, '개존잼임': 6553, '금술': 6554, '개콘': 6555, '장대': 6556, '법석': 6557, '김준호': 6558, '디엔에이': 6559, '개폭망': 6560, '따리': 6561, '억지스럽다': 6562, '300': 6563, '빼액': 6564, '김윤석': 6565, '눈요기': 6566, '될런': 6567, '붉다': 6568, '피시': 6569, '청산': 6570, '주구': 6571, '거거': 6572, '장악': 6573, '듯합': 6574, '블리': 6575, '모도': 6576, '건들': 6577, '애려': 6578, '메퉤': 6579, '동이': 6580, '방울': 6581, '사제': 6582, '천만이': 6583, '개혁': 6584, '어딧': 6585, '서바이벌': 6586, '졋겟': 6587, '게리': 6588, '서우': 6589, 'seki': 6590, '게임기': 6591, '저작권': 6592, '돕기': 6593, '투약': 6594, '편도': 6595, '부편': 6596, '뇨쟈들': 6597, '순결': 6598, '아다라': 6599, '부랭이': 6600, '봉준': 6601, '소위': 6602, '처지': 6603, '빠돌이': 6604, '프렌즈': 6605, '장혁': 6606, '이성계': 6607, '한석규': 6608, '아씨': 6609, '애죽': 6610, '갑작스레': 6611, '가히': 6612, '명과': 6613, '화장실': 6614, '인륜': 6615, '정나미': 6616, '상장': 6617, '폐기': 6618, '쫓다': 6619, '가르다': 6620, '백치': 6621, '그릇': 6622, '옹이': 6623, '방증': 6624, '출판사': 6625, '경준': 6626, '경허': 6627, '싹싹하다': 6628, '요가': 6629, '기성복': 6630, '비지': 6631, '광대뼈': 6632, '패일': 6633, '브라자': 6634, '접착': 6635, '내의': 6636, '거물': 6637, '고급스럽다': 6638, '진성': 6639, '벨': 6640, '아우라': 6641, '지현': 6642, '채무자': 6643, '손발': 6644, '고영욱': 6645, '촤': 6646, '섬세하다': 6647, '먹혓': 6648, '나왓거': 6649, '이은주': 6650, '고정관념': 6651, '서툴다': 6652, '고층': 6653, '무뢰한': 6654, '까먹다': 6655, '미실': 6656, '볼날': 6657, '골키퍼': 6658, '공모': 6659, '골프대회': 6660, '무단': 6661, '전도': 6662, '콘텐츠': 6663, '캐다': 6664, '공과': 6665, '중딩': 6666, '즈그': 6667, '자랏우': 6668, '신들': 6669, '무서움': 6670, '꼴일': 6671, '당근': 6672, '청념': 6673, '모범': 6674, '내심': 6675, '공정위': 6676, '길래': 6677, '프랜': 6678, '헤엄': 6679, '기존': 6680, '쇼핑몰': 6681, '연일': 6682, '김래원': 6683, '원아': 6684, '손지창': 6685, '박형준': 6686, '중대': 6687, '동호회': 6688, '고조': 6689, '극찬': 6690, '과고': 6691, '조부': 6692, '손자': 6693, '명일': 6694, 'xxx': 6695, '나바': 6696, '원폭': 6697, '행위': 6698, '현상': 6699, '후덕': 6700, '숙연': 6701, '종도': 6702, '격하': 6703, '화영': 6704, '효영': 6705, '아름': 6706, '한낱': 6707, '격전': 6708, '면모': 6709, '오자': 6710, '괜시리': 6711, '꿰찬다': 6712, '괸찬': 6713, '갑상선암': 6714, '노엘': 6715, '성사': 6716, '황구라': 6717, '구두': 6718, '기레': 6719, '구미호': 6720, '나이다': 6721, '꼬셔놓': 6722, '200만원': 6723, '집행유예': 6724, '예방': 6725, '이수': 6726, '40시간': 6727, '하혈': 6728, '죠깥': 6729, '변심': 6730, '뱀': 6731, '구차': 6732, '얍': 6733, '삽': 6734, '바짓가랑이': 6735, '차암': 6736, '학업': 6737, '형태': 6738, '생매장': 6739, '고얀': 6740, '양해': 6741, '지누': 6742, '충돌': 6743, '수북하다': 6744, '하루빨리': 6745, '일간': 6746, '난입': 6747, '난장': 6748, '불지': 6749, '당국': 6750, '덥석': 6751, '국방': 6752, '주씨': 6753, '국주': 6754, '천상여자': 6755, '발치': 6756, 'girls': 6757, 'can': 6758, 'do': 6759, 'anything': 6760, '환향': 6761, '병역기피': 6762, '얼탱': 6763, '뺑기': 6764, '무병': 6765, '목격담': 6766, '군복': 6767, '인공': 6768, '갑툭': 6769, 'ㅋㅋㅋㄹㅇ': 6770, '궂': 6771, '아방궁': 6772, '대북': 6773, '송금': 6774, '영부인': 6775, '해치다': 6776, '해묵': 6777, '저리다': 6778, '김희원': 6779, '희한': 6780, '미생': 6781, 'dog': 6782, '11년': 6783, '안락사': 6784, '치욕스럽다': 6785, '오래도록': 6786, '줄기차다': 6787, '시화': 6788, '소품': 6789, '치장': 6790, '황수정': 6791, '상판': 6792, '거인': 6793, '등치': 6794, '리더십': 6795, '상남자': 6796, '무작정': 6797, '믿어지다': 6798, '개탄': 6799, '의중': 6800, '귀어': 6801, '양지': 6802, '삼자': 6803, '네일': 6804, '틀니': 6805, '할애비': 6806, '깡마르다': 6807, '바이': 6808, '벙': 6809, '잡지': 6810, '등산': 6811, '소금': 6812, '거르셈': 6813, '손절함': 6814, '물든': 6815, '정경': 6816, '헬쥐팀': 6817, '넘': 6818, '3월': 6819, '30일': 6820, '헬쥐': 6821, '유광': 6822, '점퍼': 6823, '메이크': 6824, '커버': 6825, '모라': 6826, '발바닥': 6827, '컴': 6828, '썸녀': 6829, '그니': 6830, '그다지': 6831, '낱낱이': 6832, '실시': 6833, '정원': 6834, '허상': 6835, '전념': 6836, '디어': 6837, '클라우드': 6838, '치루': 6839, '일석이조': 6840, '얏호': 6841, '눕힌': 6842, '평창올림픽': 6843, '김용진': 6844, '파격': 6845, '죄책감': 6846, '측은': 6847, '빠샷': 6848, '시랭': 6849, '포상': 6850, '창자': 6851, '우승하다': 6852, '가창': 6853, '중점': 6854, '우승자': 6855, '차분해지다': 6856, '자비': 6857, '성황리': 6858, '초희': 6859, '모자이크': 6860, '은인': 6861, '밤일': 6862, 'sex': 6863, '누드': 6864, '연결고리': 6865, '거미줄': 6866, '툭': 6867, '오랬': 6868, '트러블': 6869, '결식': 6870, '개솔찍찍': 6871, '오죽': 6872, '먹잇감': 6873, '발생': 6874, '영리활동': 6875, '까짓': 6876, '훈련소': 6877, '계산': 6878, '포주': 6879, '주관': 6880, '뚜렷하다': 6881, '서브': 6882, '백진희': 6883, '성미': 6884, '가택': 6885, '침입': 6886, '리벤지': 6887, '포르노': 6888, '반값': 6889, '할인': 6890, '재난': 6891, '마사지': 6892, '침해': 6893, '서나': 6894, '본래': 6895, '가맹': 6896, '점주': 6897, '이끌다': 6898, '그러므로': 6899, '퍽': 6900, '캐리': 6901, '터들': 6902, '분배': 6903, '노스': 6904, '신라': 6905, '스몰': 6906, '굼': 6907, '나소': 6908, '하넼': 6909, '꼽시': 6910, '충족': 6911, '간장': 6912, '끓이다': 6913, '탁제훈': 6914, '개빡': 6915, '분과': 6916, '거일': 6917, '남발': 6918, '김상중': 6919, '요코': 6920, '철수': 6921, '퇴각': 6922, '해리포터': 6923, '피터': 6924, 'ㅈㄱㅇ': 6925, '재는': 6926, '괴롭힘': 6927, '문자': 6928, '출생': 6929, '배치': 6930, '창백하다': 6931, '럭셔리': 6932, '22시': 6933, '외출': 6934, '강조': 6935, '매핑': 6936, '짬밥': 6937, '낯빛': 6938, '두운': 6939, '델루': 6940, '존심': 6941, '문구': 6942, '컨펌': 6943, '고함': 6944, '맛보다': 6945, '마카롱': 6946, '호색': 6947, '불친절하다': 6948, '수탄': 6949, '스프': 6950, '정겹다': 6951, '셰프': 6952, '9월': 6953, '역풍': 6954, 'apt': 6955, '다투다': 6956, '문수': 6957, '즐비하다': 6958, '영화배우': 6959, '뺨': 6960, '2900': 6961, '선빈': 6962, '파장': 6963, '아니냨': 6964, '산모': 6965, '꼬셔': 6966, '송승헌': 6967, '독설': 6968, '재환': 6969, '암시': 6970, '병적': 6971, '후원': 6972, '프틴': 6973, '바돌': 6974, '따갑다': 6975, '오뉴월': 6976, '펄럭이다': 6977, '황우슬혜': 6978, '단위': 6979, '과세': 6980, '쁘다': 6981, '응급실': 6982, '유투': 6983, '조중동': 6984, '일맥상통': 6985, '경치': 6986, '불수': 6987, '근력': 6988, '정심': 6989, '70년': 6990, '오싱': 6991, '경고': 6992, '교감': 6993, '드물다': 6994, '저니': 6995, '까페': 6996, '쎗다면': 6997, '긍데': 6998, '긍정': 6999, '전투씬': 7000, '3시간': 7001, '세계관': 7002, '유트브': 7003, '정지': 7004, '기무라': 7005, '타쿠야': 7006, '카츠': 7007, '에리': 7008, '스멜': 7009, '나노': 7010, '단박': 7011, '상혀': 7012, '셜리씨': 7013, '내달': 7014, '거릿': 7015, '고아': 7016, '에까지': 7017, '세균전': 7018, '지층': 7019, '사립': 7020, '봉투': 7021, '무성': 7022, '청아': 7023, '발일': 7024, '몸값': 7025, '마이크': 7026, '동굴': 7027, '기센': 7028, '승전': 7029, '서로서로': 7030, '혜연': 7031, '한냄퇘': 7032, '꿀잼임': 7033, '피아': 7034, '식별': 7035, '기은세': 7036, '손나은': 7037, '이성재': 7038, '뒷모습': 7039, '일임': 7040, '정착': 7041, '증조': 7042, '아디': 7043, '버맀': 7044, '도자기': 7045, '김창환': 7046, '고연': 7047, '한결같다': 7048, '전력': 7049, '법치': 7050, '떼법': 7051, '법관': 7052, '김기리': 7053, '김나영': 7054, '살피다': 7055, '고씨': 7056, '악행': 7057, 'im': 7058, 'f': 7059, '끌어당기다': 7060, '김동현': 7061, '도장': 7062, '만만해': 7063, '우만': 7064, '순진': 7065, '김민경': 7066, '우걱우걱': 7067, '송형준': 7068, '김민준': 7069, '김밥': 7070, '김병철': 7071, '김보미': 7072, '골절': 7073, '매만지다': 7074, '김상': 7075, '룰루랄라': 7076, '김성구': 7077, '궈': 7078, '어쨌': 7079, '아재쑈': 7080, '김성재': 7081, '힙': 7082, '40년': 7083, '횡무진할': 7084, '구수하다': 7085, '마음씨': 7086, '고의': 7087, '아자': 7088, '남서': 7089, '라라': 7090, '김신영': 7091, '김영광': 7092, '같슴': 7093, '근다': 7094, '김옥빈': 7095, '제삿밥': 7096, '김윤경': 7097, '다림질': 7098, '피셧': 7099, '김윤아': 7100, '김인권': 7101, '김재욱': 7102, '김재중': 7103, '핥다': 7104, '실실': 7105, '심상정': 7106, '오승훈': 7107, '미로': 7108, '보증금': 7109, '쪼잔': 7110, '모기': 7111, '신일': 7112, '박력': 7113, '인거': 7114, '유진우': 7115, '쾡': 7116, '분장': 7117, '김지훈': 7118, '형아': 7119, '좌궁': 7120, '떨리다': 7121, '꾸': 7122, '김태링': 7123, '진표': 7124, '표명': 7125, '패널': 7126, '얹히다': 7127, '상승세': 7128, '미대': 7129, '루트': 7130, '김포': 7131, '우루루': 7132, '깽판': 7133, '쯥': 7134, '김하늘': 7135, '서리다': 7136, '김현중': 7137, '댕댕': 7138, '백합': 7139, '다음생': 7140, '쥐다': 7141, '어중간하다': 7142, '1959': 7143, '2018': 7144, '햇음함': 7145, '워터스포츠': 7146, '웨어': 7147, '벌거숭이': 7148, '청문회': 7149, '어어': 7150, '소화': 7151, '쌍폐': 7152, '꼰대임': 7153, '뻐기다': 7154, '삼백': 7155, '삼억': 7156, '꽃값': 7157, '로구나': 7158, '본보기': 7159, '처형': 7160, '배지': 7161, '꾹': 7162, '막판': 7163, '능사': 7164, '소심하다': 7165, '비굴하다': 7166, '11': 7167, '천이': 7168, '학수고대': 7169, '한국영': 7170, '인재': 7171, '보겄다': 7172, '불현듯': 7173, '중학교': 7174, 'lgvip': 7175, '오정': 7176, '라곤': 7177, '만큼도': 7178, '토토가': 7179, '엇디': 7180, '빛과': 7181, '1000만원': 7182, '탁씨': 7183, '살구': 7184, '실적': 7185, '알짛': 7186, '천녀': 7187, '유혼': 7188, '임청': 7189, '몽환': 7190, '뻤다': 7191, '나왓다': 7192, '군부': 7193, 'pc': 7194, '들엇누': 7195, '나랏님': 7196, '존칭': 7197, '큐리': 7198, '무거워': 7199, '나르샤': 7200, '만족스럽다': 7201, '고난': 7202, '역경': 7203, '꾸역꾸역': 7204, '띵작': 7205, '이찬오': 7206, '나미': 7207, '야인': 7208, '182': 7209, 'ㅆㅂ': 7210, '되돌리다': 7211, '사악하다': 7212, '안목': 7213, '뚱': 7214, '뚱하다': 7215, '홍현희': 7216, '히어로즈': 7217, '파워레인저': 7218, '튜엣': 7219, '메보': 7220, '나탈리': 7221, '포트': 7222, '나혼산': 7223, '욕처': 7224, 'or': 7225, '아싸': 7226, '망각': 7227, '54': 7228, '키론데': 7229, '그립다': 7230, '김요': 7231, '답임': 7232, '개꼴': 7233, '말타': 7234, '영화인': 7235, '절로': 7236, '투리': 7237, '전도연': 7238, '데도': 7239, '고통스럽다': 7240, '티격태격': 7241, '여유롭다': 7242, '보심': 7243, '상담사': 7244, '대동': 7245, '상인': 7246, '부진': 7247, '탄탄하다': 7248, '껌': 7249, '브래드': 7250, '황동주': 7251, '인선': 7252, '91년': 7253, '81년': 7254, '소수': 7255, '친해지다': 7256, '국민훈장': 7257, '저출산': 7258, '애견': 7259, '부인과': 7260, '보배': 7261, '일박': 7262, '난임': 7263, '콧수염': 7264, '뿌까': 7265, '난파선': 7266, '련': 7267, '취직': 7268, '냉랭하다': 7269, '보도자료': 7270, '오정세': 7271, '어마어마하다': 7272, '대판': 7273, '제갈공명': 7274, '평민': 7275, '충년': 7276, '구강성교': 7277, '옵션': 7278, '애무': 7279, '항목': 7280, '평등하다': 7281, '이상인': 7282, '떡밥': 7283, '우르를': 7284, '르르': 7285, 'ㅋㅋㄹㅇ': 7286, 'ㅠㅋㅋ': 7287, '남송': 7288, '대학교': 7289, '명품시계': 7290, '테크': 7291, '로스': 7292, '특화된': 7293, '평균': 7294, '건장하다': 7295, '관광지': 7296, '눈동자': 7297, '터내': 7298, '갤러리아': 7299, '퍼레사': 7300, '20억': 7301, '마츠': 7302, '황찬성': 7303, '배포': 7304, '참견': 7305, '스치다': 7306, '랄부': 7307, '슈한테': 7308, '크리스마스': 7309, '케잌': 7310, '시야': 7311, '특정': 7312, '부위': 7313, '스캔': 7314, '피부색': 7315, '비아': 7316, '깔껀': 7317, '로망': 7318, '너마저': 7319, '애원': 7320, '케바케': 7321, '진솔': 7322, '제어': 7323, '안대': 7324, '않넫': 7325, '낙태': 7326, '원망': 7327, '에러': 7328, '가십': 7329, '제법': 7330, '밍': 7331, '맹숭한데': 7332, '햤': 7333, '시쳥률': 7334, '성대': 7335, '호식': 7336, '2조': 7337, '상무': 7338, '바알': 7339, '어려워지다': 7340, '화류': 7341, '컨데': 7342, '구타': 7343, '고려대': 7344, '영재교육': 7345, '인하대': 7346, '상명대': 7347, '중앙대': 7348, '동국대': 7349, '명문': 7350, '테리': 7351, '우스': 7352, '멋대로': 7353, '서운하다': 7354, '쇼아': 7355, '딩크': 7356, '마더': 7357, '흑기사': 7358, '아토피': 7359, '첫날': 7360, '일곱': 7361, '나볼': 7362, '카지노': 7363, '뽀찌': 7364, '송치': 7365, '바둑': 7366, '당구': 7367, 'ㅂㅅㄷ': 7368, '59': 7369, '김혜림': 7370, 'ddr': 7371, '내레이션': 7372, '박정현': 7373, '윤미래': 7374, '원타임': 7375, '간질간질': 7376, '이병': 7377, 'ㅜㅜㅜㅠ': 7378, '발버둥치다': 7379, '클래스': 7380, '유형': 7381, '승승장구': 7382, '상미': 7383, '완성': 7384, '희극': 7385, '색감': 7386, '사내연애': 7387, '일정하다': 7388, 'ㅅㅅㅅ': 7389, '회보': 7390, '그란': 7391, '지반': 7392, '편임': 7393, '괴감': 7394, '쁘세': 7395, '강문영': 7396, '최성국': 7397, '오디': 7398, '꼴쮜': 7399, '딘씨': 7400, '오만하다': 7401, '네다섯': 7402, '이론': 7403, '설득': 7404, '즐거움': 7405, '최하': 7406, '여윽시': 7407, '뒷받침': 7408, '노망': 7409, '어거지': 7410, '안건': 7411, '좃선': 7412, '둘리': 7413, '부서': 7414, '노사연': 7415, '착용': 7416, '하겟': 7417, '인생살이': 7418, '노화': 7419, '가중': 7420, '만세': 7421, '매국': 7422, '언져': 7423, '27': 7424, '농농': 7425, '뇌물': 7426, '봉하마을': 7427, '바위': 7428, '일햐': 7429, '독립운동': 7430, '햄버거': 7431, '80년': 7432, '물결': 7433, '빠졋': 7434, '의료사': 7435, '고가': 7436, '올드보이': 7437, '오물': 7438, '통채': 7439, '삼키다': 7440, '쑤다': 7441, '셧잖': 7442, '절세미인': 7443, '저급': 7444, '이지훈': 7445, '야광': 7446, '화살': 7447, '영구': 7448, '출가자': 7449, '쇄도': 7450, '발라': 7451, '올튜닝': 7452, '핸디캡': 7453, '마저': 7454, '뉘세': 7455, '뉴스룸': 7456, '백마': 7457, '멸시': 7458, '모종': 7459, '소장': 7460, '느무': 7461, '김완선': 7462, '모시': 7463, '호사': 7464, '독감': 7465, '구체': 7466, '계좌': 7467, '중고나라': 7468, 'ㅍㅎㅎ': 7469, '덯케': 7470, '케치북': 7471, '니놈': 7472, '천운': 7473, '마는': 7474, '24시간': 7475, '언들': 7476, '니키': 7477, '170': 7478, '밧다': 7479, '골수팬': 7480, '원망하다': 7481, '르': 7482, '경찰서': 7483, '정모': 7484, '상콤': 7485, '쥬': 7486, '평': 7487, '땡깡': 7488, '부리고': 7489, '돈줄': 7490, '끊기다': 7491, '남양': 7492, '유업': 7493, '짓안': 7494, '턴': 7495, '삼십': 7496, '뻐지겠': 7497, '양념치킨': 7498, '앙념': 7499, '모양새': 7500, '날개': 7501, '공룡': 7502, '분쟁': 7503, '뱃대지': 7504, '넙죽': 7505, '섣부르다': 7506, '괸심': 7507, '어봐': 7508, '의적': 7509, '성의': 7510, '대질': 7511, '틀탁': 7512, '꼰대질': 7513, '고구마': 7514, '퉁퉁': 7515, '띨띨': 7516, '크라잉랩': 7517, '순리': 7518, '거슬렀으면': 7519, '견자': 7520, '돌이키다': 7521, '왜소하다': 7522, '안치우': 7523, '배댓': 7524, '좋드': 7525, '개예': 7526, '도란': 7527, '곤란하다': 7528, '재형': 7529, '첩보': 7530, '물리학자': 7531, '차례': 7532, '크기': 7533, '단기간': 7534, '오피스': 7535, '버전': 7536, '에너지': 7537, '넘어오다': 7538, '전자레인지': 7539, '끼니': 7540, '이참': 7541, '금연': 7542, '단합': 7543, '첩': 7544, '허지웅': 7545, '구절': 7546, '신념': 7547, '팔로우': 7548, '전국구': 7549, '뀌기': 7550, '트림': 7551, '36년': 7552, '코앞': 7553, 'la': 7554, '박태환': 7555, '추도': 7556, '죙일': 7557, '모레': 7558, '유두': 7559, '영화관': 7560, '약점': 7561, '보크': 7562, '대장': 7563, '불통': 7564, '자료': 7565, '딜까': 7566, '다수': 7567, '맥힌': 7568, '쯔쯔': 7569, '대패': 7570, '삼겹살': 7571, '팔고': 7572, '극적': 7573, '요소': 7574, '대표팀': 7575, '대학가요제': 7576, '대학생': 7577, '조세형': 7578, '간장게장': 7579, 'ㅂㄹ': 7580, '후련햇': 7581, 'ㅕㅑㅑ': 7582, '안전': 7583, '안정': 7584, '부처': 7585, '민족성': 7586, '풀이': 7587, '수법': 7588, '어렇': 7589, '의뢰': 7590, '끄적': 7591, '투척': 7592, '공산': 7593, '갇히다': 7594, '형편': 7595, '수다': 7596, '13년': 7597, '안마방': 7598, '많넴': 7599, '뎀': 7600, '개빻아': 7601, '암놈': 7602, '숫놈': 7603, '득달': 7604, '읽히다': 7605, '저주': 7606, '절반': 7607, '쿵쾅거리다': 7608, '평이': 7609, '갈리': 7610, '일진설': 7611, '2010년': 7612, '보살피다': 7613, '통통하다': 7614, '통통이': 7615, '꽃미남': 7616, '행쇼': 7617, '쁘겠다': 7618, '더치페이': 7619, '계란': 7620, '메갈워마드': 7621, '덕후': 7622, '물음표': 7623, '떠올리다': 7624, '하의': 7625, '몰두하다': 7626, '덧글': 7627, '거룩하다': 7628, '쳐놧으': 7629, '어울료': 7630, '도균': 7631, '참담하다': 7632, '간신': 7633, '언행': 7634, '미도': 7635, '위원': 7636, '더콰이': 7637, '급락': 7638, '사적': 7639, '버신': 7640, '쓸데없이': 7641, '낭비하다': 7642, '도데': 7643, '별도': 7644, '막말쩌': 7645, '고액': 7646, '소득': 7647, '돌려주다': 7648, '긍': 7649, '독과점': 7650, '독끼': 7651, '독립운동가': 7652, '자손': 7653, '기개': 7654, '간첩': 7655, '경연': 7656, '배출': 7657, '품위': 7658, '자연옌': 7659, '소비자': 7660, '비평': 7661, '대야': 7662, '낮추다': 7663, '회사원': 7664, '사느랗다': 7665, '수억': 7666, '보유': 7667, '말고도': 7668, '무진장': 7669, '돈키호테': 7670, '아마도': 7671, '돌려막기': 7672, '가계': 7673, '목탁': 7674, '꿀밤': 7675, '폐끼': 7676, '계절': 7677, '동명': 7678, '떡으': 7679, '미': 7680, '동백': 7681, '어간': 7682, '함안': 7683, '동성애자': 7684, '동성': 7685, '에너미': 7686, '추워지다': 7687, '취약': 7688, '계층': 7689, '유기동물': 7690, '비긴': 7691, '어게인': 7692, '자시': 7693, '동우': 7694, '으로의': 7695, '개빻았': 7696, '게슴츠레': 7697, '혐임': 7698, 'stays': 7699, '하물며': 7700, '치가': 7701, '뱐태': 7702, '어미': 7703, '뮤뱅': 7704, '다녤': 7705, '묶이다': 7706, '승환': 7707, '공이': 7708, '이승환': 7709, '영유': 7710, '검진': 7711, '차라': 7712, '학대': 7713, '이래저래': 7714, '실거': 7715, '묘욕': 7716, '예뿌': 7717, '글쿠': 7718, '중재': 7719, '뎃': 7720, '영향': 7721, '요딴': 7722, '즘': 7723, '파국': 7724, '셨': 7725, '샤인': 7726, '핀놈': 7727, '태극기': 7728, '송헤교': 7729, '쁘던': 7730, '유빈': 7731, '벌주다': 7732, '불순': 7733, '감기': 7734, '별반': 7735, '어우리': 7736, '전쩌': 7737, '어쩌려': 7738, '얔': 7739, '재밋더': 7740, '동영': 7741, '설레설레': 7742, '듀얼': 7743, '실사판': 7744, '드뎌': 7745, '사형제': 7746, '우정': 7747, '노회찬': 7748, '스토': 7749, '도망': 7750, '반장': 7751, '신데렐라맨': 7752, '사랑비': 7753, '총리와': 7754, '패떴': 7755, 'cm': 7756, '김서형': 7757, '으세요': 7758, '스탭들': 7759, '빙': 7760, '송기장': 7761, '해피': 7762, '앤딩': 7763, '겸비': 7764, '어쨋': 7765, '어필': 7766, '계기': 7767, '애정씬': 7768, '설픔': 7769, '이함': 7770, '시그널': 7771, '베끼기': 7772, '리진': 7773, '유틀': 7774, '아악': 7775, '찿는': 7776, '쟁일': 7777, '생중계': 7778, '디스패치': 7779, '젓댓': 7780, '딘딘': 7781, '딘해': 7782, '맹': 7783, '바기': 7784, '성지': 7785, '혼기': 7786, '아이폰': 7787, '구박': 7788, '씨앗': 7789, '딸벌': 7790, '애하': 7791, '배틀': 7792, '끙': 7793, '분한': 7794, '메기': 7795, '딸아': 7796, '쥼': 7797, '지드': 7798, '누렇': 7799, '시시': 7800, '고속도로': 7801, '문어': 7802, '방위': 7803, '금지법': 7804, '30만': 7805, '카앜퉤': 7806, '코스레': 7807, '몽둥이': 7808, '후두': 7809, '서동': 7810, '이력': 7811, '희생양': 7812, '나부랭이': 7813, '프라': 7814, '십억이': 7815, '앖는': 7816, '빙신': 7817, '스픈': 7818, '하쥬': 7819, '뚠뚠': 7820, '뚱녀': 7821, '페티쉬': 7822, '자극받다': 7823, '밉싱': 7824, '심오하다': 7825, '노빠': 7826, '급기야': 7827, '스팅': 7828, '위화': 7829, '증폭': 7830, '상대역': 7831, '상책': 7832, '라이언': 7833, '선곡': 7834, '란닝맨': 7835, '래퍼': 7836, '랩몬': 7837, '러버': 7838, '음색': 7839, '앚': 7840, '최예나': 7841, '조유리': 7842, '디시': 7843, '거꾸로': 7844, '관왕': 7845, '수럴': 7846, '구리구리': 7847, '완판해': 7848, '아디다스': 7849, '정식': 7850, '완판': 7851, '레디': 7852, '효은': 7853, '레이디': 7854, '제인': 7855, '풀리': 7856, '인게': 7857, '자퇴': 7858, '가출': 7859, '로다': 7860, '생일': 7861, '방한': 7862, '로리': 7863, '거릅니': 7864, '로별': 7865, '걸렀더': 7866, '마차': 7867, '총각': 7868, '룸메이트': 7869, '이불': 7870, '적절하다': 7871, '김준수': 7872, '직하다': 7873, '우혁': 7874, '사모': 7875, '임팩트': 7876, '자슥들': 7877, '직성': 7878, '짤려': 7879, '삭': 7880, '랜드': 7881, '루였다': 7882, '관객': 7883, '호불호': 7884, '다이소': 7885, '죠낸': 7886, '시래기': 7887, '복용': 7888, '마을': 7889, '마치다': 7890, '하이고': 7891, '갈비': 7892, '당첨': 7893, '변조': 7894, '마이클': 7895, '잭슨': 7896, '흉내내': 7897, '격주': 7898, '번갈아': 7899, 'again': 7900, 'always': 7901, '내시': 7902, '스리': 7903, '기태영': 7904, '방만': 7905, '동민': 7906, '차이나다': 7907, '남인': 7908, '에게로': 7909, '실천': 7910, '크리에이터': 7911, '껍': 7912, '뷰터': 7913, '뇨자': 7914, '이민': 7915, '생색': 7916, '아무렴': 7917, '구경만': 7918, '메시야': 7919, '온화': 7920, '망원동': 7921, '남도': 7922, '작도': 7923, '디지다': 7924, '맞벌이': 7925, '지덕': 7926, '맺힌': 7927, '성혁': 7928, '장보리': 7929, '지상': 7930, '쩐다': 7931, '수요일': 7932, '목요일': 7933, '정화': 7934, '피시방': 7935, '신세': 7936, '한탄': 7937, '낭': 7938, '저쪽': 7939, '츠카': 7940, '우수상': 7941, 's': 7942, '머릴': 7943, '상투': 7944, '잡아당기다': 7945, '스마': 7946, '사주면': 7947, '만지작': 7948, '거렸어용': 7949, '로비': 7950, '쌍도': 7951, '투명하다': 7952, '멍멍': 7953, '메갈스틴': 7954, '공적': 7955, '꽤됏다': 7956, '보가': 7957, '콘취소해': 7958, '메인보컬': 7959, '로망스': 7960, '멜론': 7961, '명랑만화': 7962, '2회': 7963, '브이넥': 7964, '개토': 7965, '명탐정': 7966, '냔': 7967, '쩌러': 7968, '판이': 7969, '근원': 7970, '췌장암': 7971, '전화번호': 7972, '남사': 7973, '여사': 7974, '모야': 7975, '모유수유': 7976, '유스': 7977, '감자': 7978, '까꿍': 7979, '모질라서': 7980, '에라도': 7981, '몬엑': 7982, '몬일': 7983, '몰랏쪄': 7984, '예민': 7985, '몰몬교': 7986, '선교사': 7987, '대작': 7988, '540억': 7989, '미스테리': 7990, '보구': 7991, '팬됏': 7992, '미끈하다': 7993, '이야말로': 7994, '당산': 7995, '몸조심': 7996, '소질': 7997, '겻어': 7998, '뻘겋': 7999, '뻘건살': 8000, '뿌시기': 8001, '바디': 8002, '슈트': 8003, '민망': 8004, '뒤표': 8005, '김성': 8006, '몽골': 8007, '몽이': 8008, '몽형': 8009, '유스케': 8010, '마닌': 8011, '예측': 8012, '그날': 8013, '빈집': 8014, '003초': 8015, '성원': 8016, '무례': 8017, '즉': 8018, '훼손': 8019, '무면허': 8020, '띁어': 8021, '작당': 8022, '롤린롤린': 8023, '행거': 8024, '치프': 8025, '과실치사': 8026, '개쪽': 8027, '퉁': 8028, '나즈': 8029, '먹거렸': 8030, '상팔자': 8031, '무지개': 8032, '해병대': 8033, '무플': 8034, '방지': 8035, '위원회': 8036, '무한': 8037, '가비': 8038, '문가영': 8039, '과장': 8040, '동수': 8041, '단서': 8042, '유시': 8043, '선하': 8044, '뻗치다': 8045, '퇴장': 8046, '버려지다': 8047, '친부모': 8048, '새엄마': 8049, '두려움': 8050, '풍비박산': 8051, '주사파': 8052, '폭탄': 8053, '나왔스': 8054, '오마이': 8055, '가스레인지': 8056, '비둘기': 8057, '개정': 8058, '정숙': 8059, '몬스터': 8060, '레드카펫': 8061, '반미': 8062, '민족주의': 8063, '남영동': 8064, '명줄': 8065, '공화당': 8066, '광화문': 8067, '텐트': 8068, '삼척': 8069, '간첩선': 8070, '군사': 8071, '교환': 8072, '한미': 8073, '동맹': 8074, '파기': 8075, '거조': 8076, '비통하다': 8077, '주한': 8078, '래미': 8079, '업체': 8080, '조만일': 8081, '기단': 8082, '고위': 8083, '간부': 8084, '진실게임': 8085, '문채원': 8086, '검인': 8087, '뭐예': 8088, '범의': 8089, '그네': 8090, '문희주': 8091, '쵸티': 8092, '인분': 8093, '딧겠': 8094, '물질': 8095, '풍족': 8096, '원부인': 8097, '충고': 8098, '독립': 8099, '낸시': 8100, '백억': 8101, '떨치다': 8102, '다이아': 8103, '부질없다': 8104, '혈압': 8105, '웹드기': 8106, '크라임씬': 8107, '송소희': 8108, '국악인': 8109, '그케': 8110, '뷰티': 8111, '직진': 8112, '승아': 8113, '뭐리': 8114, '뉘집': 8115, '트랜드': 8116, '접대부': 8117, '여장': 8118, '트젠': 8119, '상큼': 8120, '끌렷는데': 8121, '회도': 8122, '케나': 8123, '미칀': 8124, '미니': 8125, '비중': 8126, '조만해': 8127, '남견는': 8128, '입금': 8129, '영수증': 8130, '쏟아지다': 8131, '유별': 8132, '련다': 8133, '또는': 8134, '나르니': 8135, '사납다': 8136, '달심': 8137, '패셔': 8138, '김창렬': 8139, '뮤직뱅크': 8140, '거주': 8141, '14시간': 8142, 'afreecatv': 8143, 'gtv': 8144, '택시': 8145, '에스코트': 8146, '굼미': 8147, '쯧쯔': 8148, '연상연하': 8149, '상일': 8150, '미뇨리니': 8151, '미디어': 8152, '평론가': 8153, '캠핑': 8154, '미숙아': 8155, '선샤인': 8156, '미스': 8157, '삼총사': 8158, '뻐지': 8159, '티에스토': 8160, '폴': 8161, '김건': 8162, '미진': 8163, '폐가': 8164, '남태': 8165, '탈덕': 8166, '외우다': 8167, '자부': 8168, '반반하다': 8169, '163': 8170, '세영': 8171, '좠': 8172, '낟': 8173, '처남': 8174, '민석': 8175, '좀드가세': 8176, '바꼭질': 8177, '까칠하다': 8178, '알기': 8179, '예방접종': 8180, 'ㅜㅠㅠ': 8181, 'ㅋㄷㅋㄷ': 8182, '심해지다': 8183, '김혜숙': 8184, 'ㄱㄱㅣㄱㄱㅣ': 8185, 'ㄴㅏㄹㅏ': 8186, '구상서': 8187, 'ㅇㅏㅇㅖ': 8188, 'ㄱㅕ': 8189, 'ㅇㅏㅂㅔ': 8190, 'ㅅㅅㅏ': 8191, 'ㅈㅐ': 8192, 'ㅇㅓ': 8193, '상의': 8194, '싱크로': 8195, '짝사랑': 8196, '바꼇': 8197, '잎선': 8198, '자유연애': 8199, '바비': 8200, '쿠시': 8201, '바이브': 8202, '예절': 8203, '박경림': 8204, '박규': 8205, '리니': 8206, '맛깔나다': 8207, '꿰차': 8208, '반납': 8209, '거저': 8210, '꼽사리껴': 8211, '외과': 8212, '으윽': 8213, '곤욕': 8214, '박민정': 8215, '조각상': 8216, '기르넨': 8217, 'ㄴㅌㅌ': 8218, '초석': 8219, '수식어': 8220, '왕무': 8221, '비록': 8222, '얼평': 8223, '먹어주다': 8224, '수급': 8225, '박성준': 8226, '박성훈': 8227, '향단': 8228, '박수영': 8229, '박시연': 8230, '박시후': 8231, '울상': 8232, '얘쁜': 8233, '생수': 8234, '머신': 8235, '쟈들': 8236, '찬물': 8237, '거짓말쟁이': 8238, '극치': 8239, '박일': 8240, '흥국혀': 8241, '브라보': 8242, '박지선': 8243, '발라드': 8244, '박하선': 8245, '돌이': 8246, '형량': 8247, '국제사회': 8248, '박형식': 8249, '수시로': 8250, '산보': 8251, '임원희': 8252, '반고': 8253, '기석': 8254, '힘내랏': 8255, '모랑': 8256, '됑': 8257, '노미네이트': 8258, '강냠상': 8259, '녜': 8260, '반찬': 8261, '발가락': 8262, '핣': 8263, '발손': 8264, '생기지': 8265, 'out': 8266, '드문드문': 8267, '작살': 8268, '방관': 8269, '다인': 8270, '죄습럽다': 8271, '구글': 8272, '무방': 8273, '노트북': 8274, '아련하다': 8275, '엄포': 8276, '정도전': 8277, '항의': 8278, '뻤어': 8279, '당해': 8280, '농후': 8281, '술처멱': 8282, '상차림': 8283, '쯔쯧': 8284, '페들': 8285, '안치': 8286, '이래도': 8287, '엮이겠': 8288, '헤드샷': 8289, '소모': 8290, '창작': 8291, '전멸': 8292, '떈': 8293, '인자': 8294, '방탕': 8295, '쩡': 8296, '누그릅': 8297, '이재영': 8298, '배기성': 8299, '배꼽': 8300, '욕망': 8301, '성취': 8302, '배연정': 8303, '제한': 8304, '민기': 8305, '무리': 8306, '찰지다': 8307, '복은': 8308, '도전': 8309, '윤경': 8310, '의대': 8311, '오손': 8312, '어쩌라구': 8313, '부패': 8314, '댜': 8315, '끌어내리다': 8316, '돌아서다': 8317, '남재현': 8318, '조잡하다': 8319, '베이비': 8320, '마구마구': 8321, '세면': 8322, '뛰어들다': 8323, '새마을': 8324, '서비스': 8325, '중국집': 8326, '도매': 8327, '독식': 8328, '백프로': 8329, '백호': 8330, '안전하다': 8331, '버즈': 8332, '벌겋다': 8333, '양하다': 8334, '굽다': 8335, 'ㅋㅋㅂㅅ': 8336, '드리우다': 8337, '윤정아': 8338, '조직': 8339, '해산': 8340, '범죄인': 8341, '무데기': 8342, '방가': 8343, 'ㅊ': 8344, '일벌': 8345, '형벌': 8346, '태형': 8347, '벗': 8348, '끋어': 8349, '빅토리아': 8350, '사이더': 8351, '케길어': 8352, '강다니앨': 8353, '잘생겻': 8354, '정통': 8355, '특종': 8356, '헤례': 8357, '허식': 8358, '마네킹': 8359, '가지가지': 8360, '비숲': 8361, '취했': 8362, '소하': 8363, '별세': 8364, '발끝': 8365, '매니아': 8366, '보고오다': 8367, '법정': 8368, '빙자': 8369, '고아라': 8370, '뇬둘': 8371, '홀려': 8372, '단연': 8373, '스윙': 8374, '흔적': 8375, '빈자리': 8376, '마델들': 8377, '드림': 8378, '에드가': 8379, '엮이': 8380, '줄거리': 8381, '노비': 8382, '보영': 8383, '제거': 8384, '회복': 8385, 'bo': 8386, '적뽀': 8387, '취할': 8388, '새끼손가락': 8389, '엄지손가락': 8390, '쫙': 8391, '운동량': 8392, '퓨짐해': 8393, '지정': 8394, '본넷': 8395, '엔진': 8396, '본연': 8397, '겟잇뷰티': 8398, '떠밀다': 8399, '기초': 8400, '체력': 8401, '량': 8402, '미달': 8403, '저체중': 8404, '저혈압': 8405, '팔굽혀펴기': 8406, '골든': 8407, '슬럼': 8408, '유쾌': 8409, '봉준호': 8410, '생충': 8411, '국가대표': 8412, '오스카': 8413, '항전': 8414, '사발': 8415, '이미경': 8416, '부회장': 8417, '감격': 8418, 'too': 8419, '트릴': 8420, '사실관계': 8421, '시프': 8422, '매스컴': 8423, '수척하다': 8424, '잔슴': 8425, '져서': 8426, '순탄': 8427, '하와': 8428, '남천동': 8429, '남천': 8430, '달고기': 8431, '맛턍': 8432, '여중생': 8433, '가해': 8434, '각목': 8435, '방통위': 8436, '잔인하다': 8437, '자산': 8438, '윤상': 8439, '홀': 8440, '부장': 8441, '잡기': 8442, 'part': 8443, '김태원': 8444, '북어': 8445, '팰': 8446, '일본도': 8447, '마감': 8448, '또래': 8449, '명랑하다': 8450, '승천': 8451, '분유': 8452, '분필': 8453, '콧대': 8454, '덤비다': 8455, '이찬': 8456, '이윤': 8457, '불현': 8458, '범법': 8459, '심열': 8460, '무효': 8461, '조선시대': 8462, '옥죄': 8463, '시시하다': 8464, '댕기': 8465, '힐끔': 8466, '어쩌자': 8467, '브루노': 8468, '브리': 8469, '블락비': 8470, '초청': 8471, '박물관': 8472, '거란': 8473, '다난': 8474, '블러': 8475, '엔터': 8476, '승원': 8477, '정신차려라': 8478, '켜': 8479, 'blog': 8480, 'myungi': 8481, '숭문중': 8482, '정신병원': 8483, '법도': 8484, '만삭': 8485, '꼼짝': 8486, '두문불출': 8487, '예시': 8488, '불공평하다': 8489, '비닐봉지': 8490, '라이터': 8491, '비민': 8492, '468': 8493, '비스티보이즈': 8494, '하정우': 8495, '오라': 8496, '진척': 8497, 'w': 8498, '비어': 8499, '처먹엇엇다': 8500, '185': 8501, '비지니스': 8502, '이윤지': 8503, '서민정': 8504, '비혼': 8505, '정석': 8506, '이창민': 8507, '빈지노': 8508, '빗속': 8509, '구설수': 8510, '눔': 8511, '빛투': 8512, '민혁': 8513, 'ㅅㅐ': 8514, 'ㄲㅣ': 8515, '빠심': 8516, 'ㅂㄷ': 8517, '정산': 8518, '망블': 8519, '뺑': 8520, '상우': 8521, '개고기': 8522, '뽀빠이': 8523, '쌤': 8524, '잔잔': 8525, '뾰샵': 8526, '뿌옇다': 8527, '도베프맴버': 8528, '삐뚤어지다': 8529, '민정': 8530, '흐름': 8531, '황상': 8532, '작작하다': 8533, '짤랐나': 8534, '피드백': 8535, '말함': 8536, '답답': 8537, '이희진': 8538, '청부': 8539, '공화국': 8540, '거르자': 8541, '꼴꼴': 8542, '대장부': 8543, '찬성': 8544, '몰려들다': 8545, '걸로': 8546, '불씨': 8547, '지들': 8548, '헐뜯다': 8549, '속지': 8550, '권상훈': 8551, '기습': 8552, '방문': 8553, 'lgbt': 8554, '유분수': 8555, '섹': 8556, '밖에도': 8557, '질척': 8558, '휠체어': 8559, '표치': 8560, '요지': 8561, '럴들': 8562, '사림': 8563, '꼼꼼하다': 8564, '사비': 8565, '배상금': 8566, '지성인': 8567, '목걸이': 8568, '종전': 8569, '그따위': 8570, '이어도': 8571, '사유리': 8572, '사자': 8573, '명예훼선': 8574, '인터폴': 8575, '송영길': 8576, '어떡하다': 8577, '히토미': 8578, '이거지': 8579, '시로': 8580, '위안부': 8581, '발란스': 8582, '사회생활': 8583, '사회인': 8584, '지스': 8585, '다물다': 8586, '듬뿍': 8587, '나본': 8588, '박잎선': 8589, '이뻣음': 8590, '돌연사': 8591, '력도': 8592, '고개': 8593, '최유라': 8594, '보톡스': 8595, '노소': 8596, '왼손': 8597, '오른손': 8598, 'levels': 8599, 'divine': 8600, 'sorrow': 8601, 'wake': 8602, 'waiting': 8603, 'for': 8604, 'love': 8605, 'addicted': 8606, 'you': 8607, 'hey': 8608, 'brother': 8609, '행각': 8610, '촉구': 8611, 'pres': 8612, 'ident': 8613, 'go': 8614, 'kr': 8615, 'petitions': 8616, 'temp': 8617, 'rsxh': 8618, '고고': 8619, '행시': 8620, '청구': 8621, 'ㅡㅣ': 8622, '괴세': 8623, '판매': 8624, '도마': 8625, '못생겻다': 8626, '김애경': 8627, '상화': 8628, '수석': 8629, '궁색하다': 8630, 'ㅂㅂ': 8631, '생생': 8632, '경완': 8633, '충현': 8634, '샤넬': 8635, '적히다': 8636, '샵': 8637, '도구로': 8638, '서류': 8639, '차피': 8640, '서먹하다': 8641, '서언': 8642, '김현수': 8643, '서예': 8644, '동덕여대': 8645, '보장': 8646, '서울시': 8647, '제곱': 8648, '청약': 8649, '현금': 8650, '8억': 8651, '엄두': 8652, '투기': 8653, '서유리': 8654, '서은수': 8655, '조선인': 8656, '군더더기': 8657, '서인국': 8658, '서인영': 8659, '영웅': 8660, '호걸': 8661, '석천': 8662, '입양': 8663, '챙': 8664, '즐떡': 8665, '효도': 8666, '궁리': 8667, '마임': 8668, 'ㅋㅋㄱ': 8669, '선우': 8670, '우혜우혜': 8671, '설계자': 8672, '떳따방': 8673, '말장난': 8674, '쫑석': 8675, '뇬드': 8676, '14일': 8677, '쥬금': 8678, '브라가': 8679, '낙시': 8680, '협': 8681, '숑': 8682, '형철': 8683, '겹치': 8684, '마법사': 8685, '오가다': 8686, '초아': 8687, '살함': 8688, '민효린': 8689, '섬나라': 8690, '모순': 8691, '창조': 8692, '영접': 8693, '헛된': 8694, '컷트': 8695, '금발': 8696, '모욕': 8697, '매수': 8698, '성악': 8699, '저만': 8700, '깜둥이': 8701, '한현민': 8702, '균형': 8703, '뻐나': 8704, '엣': 8705, '자존감': 8706, '재패': 8707, '빙상': 8708, '수긍': 8709, '1000만': 8710, '판국': 8711, '어디가': 8712, '저절로': 8713, '대로의': 8714, '677': 8715, '세얼간이': 8716, '물러나다': 8717, '박세영': 8718, '네요': 8719, '잠들다': 8720, '연관': 8721, '경영': 8722, '우세': 8723, '젤예': 8724, '무조': 8725, '차범근': 8726, '행해지다': 8727, '퀭': 8728, '자석': 8729, '백인': 8730, '두둑하다': 8731, '끔찍하다': 8732, '뭇': 8733, '셜리만': 8734, '악풀': 8735, '챙롬들': 8736, '완전체': 8737, '유닛': 8738, '판매량': 8739, '3만': 8740, '최수영': 8741, '이장': 8742, '동서남북': 8743, '눈꼴': 8744, '소인': 8745, '줄넘기': 8746, '소진': 8747, '소집해제': 8748, '둔갑': 8749, '현황': 8750, '모이': 8751, '시신': 8752, '복선': 8753, '확행': 8754, '택': 8755, '소희': 8756, '패션센스': 8757, '기쁘다': 8758, '속마음': 8759, '절망': 8760, '셧으': 8761, '김학의': 8762, '글자': 8763, '넘침': 8764, '사사': 8765, '껀껀': 8766, '난중': 8767, '려원': 8768, '틀림': 8769, '치트키': 8770, '개폭망임': 8771, '온갓': 8772, '줄어듬': 8773, '숫': 8774, '빨르다': 8775, '경향': 8776, '번개': 8777, '슈도': 8778, '손현주': 8779, '영광': 8780, '이승우': 8781, '골잡': 8782, '조현우': 8783, '키퍼': 8784, '떼이다': 8785, '대천': 8786, '시스타': 8787, '소유': 8788, '홀딱': 8789, '스섹신': 8790, '삐뚤다': 8791, '아홉': 8792, '되돌아가다': 8793, '호기심': 8794, '식품': 8795, '박정민': 8796, '10억': 8797, '빼놓다': 8798, '김병옥': 8799, '이킴': 8800, '슈퍼스타': 8801, '상금': 8802, '남태훈': 8803, '차지': 8804, '가뿐하다': 8805, '스펙트럼': 8806, '몹시': 8807, '조수미': 8808, 'ㅇㅊ': 8809, '떤다': 8810, '고상': 8811, '깜': 8812, '강간범': 8813, '김태': 8814, '청초하다': 8815, '안재홍': 8816, '중고': 8817, '무아': 8818, '무늬': 8819, '훔': 8820, '줮': 8821, '어중간': 8822, '바스트': 8823, '장영란': 8824, '편향': 8825, '궁뎅': 8826, '므흣할': 8827, '씨잼': 8828, '스웩': 8829, '설화': 8830, '서해': 8831, '몸땡': 8832, '과도': 8833, '종아리': 8834, '꼬락서니': 8835, '비겁하다': 8836, '나왓으': 8837, '정세운': 8838, '재능기부': 8839, '외압': 8840, '의하다': 8841, '지루': 8842, '위급': 8843, '위험': 8844, '폼': 8845, '어뎃': 8846, '국보': 8847, '왜설겆': 8848, '골병': 8849, '넉넉하다': 8850, '설겆': 8851, '야지': 8852, '식당설겆': 8853, '윤형': 8854, '펜타곤': 8855, '송이': 8856, '김칫년들': 8857, '깨뜨리다': 8858, '김칫뇬들': 8859, '뱀년': 8860, '둘임': 8861, '헬쓱': 8862, '연상녀': 8863, '팍싹': 8864, '연대기': 8865, '콩깍지': 8866, '출장': 8867, '선빵': 8868, '인증샷': 8869, '칠이': 8870, '머진': 8871, '벌칙': 8872, '면제': 8873, '운행': 8874, '유괴': 8875, '보육원': 8876, '송탈세': 8877, '유애': 8878, '호박': 8879, '송하예': 8880, '송해굥': 8881, '1시간': 8882, '수하': 8883, '나시': 8884, '책사': 8885, '졷': 8886, '수금': 8887, '내막': 8888, '조영구': 8889, '담부': 8890, '당일': 8891, '납치': 8892, '눈안': 8893, '수영': 8894, '수원': 8895, '이이': 8896, '따윈': 8897, '구이': 8898, '먄': 8899, '저급하다': 8900, '상호': 8901, '아안': 8902, '콧잔': 8903, '65': 8904, '인치': 8905, '숙언': 8906, '근인': 8907, '순박하다': 8908, '곁': 8909, '얻지': 8910, '술처': 8911, '새롬': 8912, '주정은': 8913, '숯': 8914, '중국산': 8915, '수발': 8916, '정석원': 8917, '사연': 8918, '랭킹': 8919, '스샷': 8920, '스윙스': 8921, '스캐줄': 8922, '권해': 8923, '슬렁슬렁': 8924, '이구만': 8925, '스탠': 8926, '마틴': 8927, '스토브': 8928, '섭식장애': 8929, '스페셜': 8930, '광장': 8931, '절정': 8932, '탈북': 8933, '흥미롭다': 8934, '스피카': 8935, '만성': 8936, '슬기': 8937, '스엠화': 8938, '관보': 8939, '노랜': 8940, '승현': 8941, '먹여주다': 8942, '통쾌하다': 8943, '시간여행': 8944, '개연': 8945, '유주': 8946, '뮐': 8947, '총장': 8948, '뭡': 8949, '경찰청장': 8950, '미묘하다': 8951, '조성모': 8952, '노트': 8953, '보민': 8954, '시불': 8955, '생신': 8956, '시언': 8957, '시엄': 8958, '마랑': 8959, '시금치': 8960, '도인': 8961, '임명': 8962, '이명': 8963, '케이블': 8964, '뜻밖': 8965, 'q': 8966, '진혁': 8967, '식수': 8968, '식스센스': 8969, '신곡': 8970, '날로': 8971, '최시원': 8972, '그레': 8973, '호소': 8974, '더욱더': 8975, '일케': 8976, '모함': 8977, '신물': 8978, '양민': 8979, '부스터': 8980, '운동화': 8981, '업계': 8982, '제명': 8983, '생산': 8984, '낡다': 8985, '짝짝': 8986, '코리안': 8987, '쁘지': 8988, '신재민': 8989, '이광수': 8990, '신지수': 8991, '신태용': 8992, '임기응변': 8993, '유종': 8994, '줫': 8995, '코치': 8996, '신품': 8997, '신현준': 8998, '쿨케이': 8999, '신형': 9000, '3500만원': 9001, '신혜': 9002, '상습범': 9003, '이드': 9004, '떳길': 9005, '신제품': 9006, '마카': 9007, '슈몰이': 9008, '왜곡': 9009, '여포': 9010, '어플': 9011, '실업자': 9012, '루게릭병': 9013, '쁘겠': 9014, '15일': 9015, '롭': 9016, '물불': 9017, '원자폭탄': 9018, '가림': 9019, '심뽀': 9020, '심성은': 9021, '훈방': 9022, '생활고': 9023, '부과': 9024, '싱글': 9025, '하시짘': 9026, '확시': 9027, '꿀렁꿀렁하': 9028, '마이웨이': 9029, '원만하다': 9030, '아물다': 9031, '갈아엎다': 9032, '쌩뚱맞': 9033, '최반엌': 9034, '알콜': 9035, '흥민': 9036, '쏭가인': 9037, '자동': 9038, '능겨': 9039, 'ㅍㅎ': 9040, '장자': 9041, '건일': 9042, '십여': 9043, '작물': 9044, '열대': 9045, '자새': 9046, '준열': 9047, '잼잼': 9048, '하선': 9049, '호야': 9050, '마이걸': 9051, '요런': 9052, '재간': 9053, '어쩌까': 9054, '죽겠네': 9055, '소라게': 9056, '간혹': 9057, '전드': 9058, '말년': 9059, '스태프': 9060, '복싱': 9061, '쪼매': 9062, '교진': 9063, '아구': 9064, '영양식': 9065, '찌찌': 9066, '꿀빨': 9067, '자마자': 9068, '말다툼': 9069, '빠쳐': 9070, '전복': 9071, '간편식': 9072, '버뮤다': 9073, '삼각지': 9074, '가랭': 9075, '램프': 9076, '마법': 9077, '스틱': 9078, '구슬': 9079, '땀': 9080, '순삭': 9081, '후속': 9082, '이던데': 9083, '발린': 9084, 'ㅡㅡㅋㅋ': 9085, '하세웅': 9086, '공연장': 9087, '우욷': 9088, '좁히다': 9089, '각지': 9090, '형성': 9091, '무고죄': 9092, '설령': 9093, '튜닝': 9094, '프러': 9095, '포즈': 9096, '김도균': 9097, '장미': 9098, '매형': 9099, '경비': 9100, '일정': 9101, '헤헤': 9102, '헤헿': 9103, '껀덕': 9104, '락펴락하': 9105, '세요': 9106, '렉': 9107, '족속': 9108, '했길레': 9109, '인권': 9110, '전만': 9111, '멍텅': 9112, '주눅': 9113, '험하다': 9114, '거제시': 9115, '결탁': 9116, '뭉개지': 9117, '붙잡히다': 9118, '반증': 9119, '변비': 9120, '고만하다': 9121, '퀴들': 9122, '동현': 9123, '겄다': 9124, '피어싱': 9125, '외동': 9126, '신검': 9127, '일자': 9128, '날짜': 9129, '라기보단': 9130, '옹기종기': 9131, '재계약': 9132, '파면': 9133, '칠성파': 9134, '빡세': 9135, '진상': 9136, '광산': 9137, '캥거루': 9138, '허쉬': 9139, 'ㅋㄱㄱ': 9140, '귀염': 9141, '아따': 9142, '남보라': 9143, '뻐버리': 9144, '컴온': 9145, '아시안': 9146, '추정': 9147, '프레임': 9148, '가리키다': 9149, '거슬러': 9150, '살로': 9151, '각하': 9152, '어딘가': 9153, 'ㅓㅈ': 9154, 'ㅕ': 9155, '표시': 9156, '치유': 9157, '원도': 9158, '꽉': 9159, '짓뭉': 9160, '안성훈': 9161, '메이플': 9162, '시럽': 9163, '난이': 9164, '키스신': 9165, '제안': 9166, '일보': 9167, '문상': 9168, '객': 9169, '잠복': 9170, '대자': 9171, '엿으': 9172, '당가': 9173, '없슴': 9174, '아시안컵': 9175, '파동': 9176, '폭격': 9177, '야구장': 9178, '심쿵': 9179, '소현': 9180, '간지럽다': 9181, '웡': 9182, '모찌': 9183, '올바르다': 9184, '쪼옴': 9185, '황천': 9186, '서프라이즈': 9187, '아우': 9188, '이승훈': 9189, '아육대': 9190, '씹어드': 9191, '육대': 9192, '종목': 9193, '강동구': 9194, '어유': 9195, '내색': 9196, '김국진': 9197, '뮤직': 9198, '어워드': 9199, '오는': 9200, '노동': 9201, '발굴': 9202, '가죽': 9203, '소니': 9204, '오디오': 9205, '일링': 9206, '쏠쏠하다': 9207, '전향': 9208, '선상': 9209, '애착': 9210, '허무맹랑': 9211, '드니': 9212, '아이쿠': 9213, '지은이': 9214, '어루만지다': 9215, '이기주의': 9216, '매미': 9217, 'ㅇㅇㅋ': 9218, '토씨': 9219, '껓뱀': 9220, '팩': 9221, '랖': 9222, '얌전': 9223, '건전하다': 9224, '높이': 9225, '속사정': 9226, '지라': 9227, '최진': 9228, '눈물나다': 9229, 'ㅋㅋㅋㅌ': 9230, '기자회견': 9231, '안하무인': 9232, '디매': 9233, '킴치련': 9234, '자구': 9235, '훨훨': 9236, '패드': 9237, '추상': 9238, '쓰레긴': 9239, '점검': 9240, '간통': 9241, '다미': 9242, '완료': 9243, '즌라디언들': 9244, '꼴뚜기': 9245, '나아지다': 9246, '나랏돈': 9247, '달래다': 9248, '물끼': 9249, '꼬박': 9250, '아고라': 9251, '가전제품': 9252, '강정호': 9253, '세고': 9254, '하수': 9255, '진단': 9256, '강지영': 9257, '악플다다': 9258, 'e': 9259, 'r': 9260, '간절하다': 9261, '안내상': 9262, '전일': 9263, '하느님': 9264, '월요일': 9265, '넝꿀째': 9266, '안뎄': 9267, '갸': 9268, '엑': 9269, '병증': 9270, '윈도': 9271, '으로서의': 9272, '분발': 9273, '무티': 9274, '맞춤법': 9275, '띄어쓰기': 9276, '장치': 9277, '완고하다': 9278, '똥줄': 9279, '오프라인': 9280, '온도': 9281, '다닥': 9282, '파멸': 9283, '코끼': 9284, '능성': 9285, '영양소': 9286, '섭취': 9287, '간접': 9288, '모의': 9289, '복고': 9290, '따라잡다': 9291, '디지겄다': 9292, '제해': 9293, '알츠하이머': 9294, '깍두기': 9295, '갓김치': 9296, '알탕': 9297, '알함브라': 9298, '이래': 9299, '해석': 9300, '남탓': 9301, '증오': 9302, '경계': 9303, '맨홀': 9304, '신문사': 9305, '없쟎': 9306, '지불': 9307, '가요대전': 9308, '윈상': 9309, '로더': 9310, '기네': 9311, '어떻든': 9312, '태우다': 9313, '쁘당': 9314, '초등학교': 9315, '갖': 9316, '각도': 9317, '애넨': 9318, '애둘': 9319, '둥맘': 9320, '다섯째': 9321, '다둥맘': 9322, '배부르다': 9323, '돈질': 9324, '투구': 9325, '뮈': 9326, '전파': 9327, '잎': 9328, '로버': 9329, '김용호': 9330, '종북좌파': 9331, '걸렀다': 9332, '불장난': 9333, '제스쳐': 9334, '구도': 9335, '포카': 9336, '구장': 9337, '그러하다': 9338, '야야': 9339, '위스키': 9340, '들이키다': 9341, '9000': 9342, '드라이기': 9343, '괜춘해': 9344, '치킨': 9345, 'ㄲㅈ': 9346, '그랫다': 9347, '번죄': 9348, '탈탈': 9349, '딧': 9350, '양기원': 9351, '도입': 9352, '손실': 9353, '쓰리다': 9354, '속인': 9355, '물량': 9356, '공세': 9357, '괞': 9358, '양복': 9359, '답닼': 9360, '뿔': 9361, '뿜뿜': 9362, '괴짜': 9363, '성재': 9364, '까불까불': 9365, '양씨': 9366, '아닥': 9367, '인성진': 9368, '잉여': 9369, '권하다': 9370, '깜빵': 9371, '괜찬': 9372, '의아': 9373, '어요': 9374, '조정': 9375, '조항': 9376, '얼훌': 9377, '환각': 9378, '공대생': 9379, '간호사': 9380, '히스테리': 9381, '후원자': 9382, '친지': 9383, '맷퇘지들': 9384, '완장': 9385, '꼰머들': 9386, '유연하다': 9387, '뎈': 9388, '젠틀': 9389, '오상진': 9390, '야무지다': 9391, '감임': 9392, '김도훈': 9393, '서세원': 9394, '야구선수': 9395, '매사': 9396, '십억': 9397, '똥차': 9398, '부들부들하다': 9399, '부조화': 9400, '자질': 9401, '마일': 9402, '간수': 9403, '스탠딩': 9404, '커뮤니티': 9405, '씹히다': 9406, '빠빠잉': 9407, '외톨이': 9408, '이따위': 9409, '물들다': 9410, 'eww': 9411, '흉기': 9412, '숨기': 9413, '직전': 9414, '지란': 9415, '뒤뚱뒤뚱': 9416, '지축': 9417, '구질구질': 9418, '방아': 9419, '사주': 9420, '가가': 9421, '급격하다': 9422, '퍼다': 9423, '치맛': 9424, '노자': 9425, '동시': 9426, '쨋': 9427, '정당화': 9428, '박해': 9429, '하이킥': 9430, '버트': 9431, '레널즈': 9432, '작곡가': 9433, '젼혀': 9434, '찿': 9435, '청력': 9436, '어머나': 9437, '이케': 9438, '어머': 9439, '주름살': 9440, '백옥': 9441, '어벤져스': 9442, '건강미': 9443, '농낙': 9444, '꽁': 9445, '어이쿠': 9446, '방예담': 9447, '넘웃겻어': 9448, '골든벨': 9449, '염소': 9450, '을러가지': 9451, '인보': 9452, '어젯밤': 9453, '놀이터': 9454, '고성': 9455, '노상': 9456, '방뇨': 9457, '지구대': 9458, '순경': 9459, '흐미': 9460, '어지간': 9461, '감투': 9462, '의무': 9463, '정훈': 9464, '진아': 9465, '개빻았길': 9466, '잔뜩': 9467, '어허': 9468, '임하룡': 9469, '울컥': 9470, '내딸': 9471, '발것': 9472, '빼박': 9473, '뛰어다니다': 9474, '시켯으': 9475, '앞날': 9476, '콩트': 9477, '눈부시다': 9478, '동일': 9479, 'ㅋㅋㅈ': 9480, '경사': 9481, '전국노래자랑': 9482, '언플쩌': 9483, '넓이': 9484, '두껍다': 9485, '센치': 9486, '체감': 9487, '엎': 9488, '엎었': 9489, '차우찬': 9490, '나경원': 9491, '런가': 9492, '투정': 9493, '뚜껑': 9494, '빡대': 9495, '사도': 9496, '측도': 9497, '고문': 9498, '각설이': 9499, '부금': 9500, '길쭉하다': 9501, '소용': 9502, '팝': 9503, '오니': 9504, '제사': 9505, '엮으려': 9506, '루였어': 9507, '황신혜': 9508, '엄벌': 9509, '묵인': 9510, '엄태웅': 9511, '약혼자': 9512, '엄하': 9513, '꾸짖다': 9514, '엌': 9515, '에고': 9516, '김진아': 9517, '고블린': 9518, '사탄': 9519, '숭배': 9520, '소굴': 9521, 'ㅠㅠㅠㅡㅜ': 9522, '임블리': 9523, '눈감다': 9524, '에로영화': 9525, '자그마하다': 9526, 'ㅡㅜ': 9527, '얼어붙다': 9528, '단열': 9529, '매체': 9530, '영향력': 9531, '다재다능하다': 9532, '원내': 9533, '물귀신': 9534, '무기징역': 9535, '에혀': 9536, '60분': 9537, '오락': 9538, '금전': 9539, '악용': 9540, '태세': 9541, '참조': 9542, '조치': 9543, '파탄': 9544, '진전': 9545, '그랬는데': 9546, '어쩌지': 9547, '메시': 9548, '발롱': 9549, '도르다': 9550, '만만하다': 9551, '실현': 9552, '아미': 9553, '변성기': 9554, '앵앵': 9555, '둘러대다': 9556, '경찰청': 9557, '다행하다': 9558, '엠': 9559, '꼴통': 9560, '공중': 9561, '최승호': 9562, '뒺문': 9563, '사퇴': 9564, '국민대': 9565, '말아먹다': 9566, '엣날': 9567, '에프': 9568, '망햇': 9569, '일동': 9570, '뼛속': 9571, '다복하다': 9572, '팬코': 9573, '집합': 9574, '피해망상': 9575, '칼라': 9576, '펠트': 9577, '중진': 9578, '임종석': 9579, '응딩': 9580, '라나': 9581, '초성': 9582, '갈라지다': 9583, '광': 9584, '예사롭다': 9585, '여대': 9586, '약대': 9587, '반환': 9588, '통일': 9589, '일촉즉발': 9590, '회개': 9591, '김용국': 9592, '조선족': 9593, '욕조': 9594, '샤워': 9595, '뿜었어': 9596, '여보세요': 9597, '상진': 9598, '수리': 9599, '논술': 9600, '싑': 9601, '61': 9602, '경제권': 9603, '넘겨주다': 9604, '킁킁킁': 9605, '우웩': 9606, '질리': 9607, '책정': 9608, '궁금햄': 9609, '박하': 9610, '웅박': 9611, '99억': 9612, '명이면': 9613, 'rg': 9614, '후려치다': 9615, '의존': 9616, '기생': 9617, '벙어리': 9618, '뿅': 9619, '드르르': 9620, '티남': 9621, '하녀': 9622, '한일': 9623, '난폭하다': 9624, '최대한': 9625, '쁘심': 9626, '청바지': 9627, '널널': 9628, '와이셔츠': 9629, '왁': 9630, '벗겨지다': 9631, '대년': 9632, '굴리': 9633, '졸졸': 9634, '개쩌넼': 9635, '자기야': 9636, '열광하다': 9637, '듀스': 9638, '스마트폰': 9639, '페북': 9640, '수동': 9641, '유니': 9642, '버렇': 9643, '통계': 9644, 'ㅋㄴ': 9645, '더러워지다': 9646, '자격지심': 9647, '개쩐': 9648, '아담하다': 9649, '모로': 9650, '나뉘다': 9651, '장수': 9652, '만신창이': 9653, '변치': 9654, '초래': 9655, '거린': 9656, '했으먄': 9657, '이다희': 9658, '강준': 9659, '선경': 9660, '겧': 9661, '프랑켄슈타인': 9662, '방해꾼': 9663, '뭥미': 9664, '오신': 9665, '해주시': 9666, '답니': 9667, '이라고는': 9668, '역량': 9669, '역병': 9670, '우한': 9671, '교포': 9672, '시위': 9673, '역쉬': 9674, '뒤통수': 9675, '달인': 9676, '3040': 9677, '울산': 9678, '장부': 9679, '부실하다': 9680, '부서지다': 9681, '박예은': 9682, '답시고': 9683, '욕설': 9684, '기소': 9685, '심햇': 9686, '바들바들': 9687, '말라야': 9688, '그라잉': 9689, '동경': 9690, '비례': 9691, '장문': 9692, '쑥쑥': 9693, '보뎅': 9694, '노고': 9695, '궁딩': 9696, '획사': 9697, '이창동': 9698, '구안': 9699, '피쉬': 9700, '소이': 9701, '안나왓으': 9702, '닭살': 9703, '뻐야돼': 9704, '오타쿠': 9705, 'ㅋㅋㄱㅋㅋ': 9706, '갈증': 9707, '실감': 9708, '레알': 9709, '개차반': 9710, '자치': 9711, '김민정': 9712, '통역관': 9713, '무연': 9714, '글구': 9715, '미연': 9716, '죵답': 9717, '매다': 9718, '역활': 9719, '여정': 9720, '트라우마': 9721, '상치': 9722, '나문희': 9723, '압승': 9724, '덕화': 9725, '열연': 9726, '일종': 9727, '학과': 9728, '낮짝': 9729, '연세': 9730, '훈수': 9731, '집안일': 9732, '이용대': 9733, '주부': 9734, '챗': 9735, '바퀴': 9736, '자극제': 9737, '아이템': 9738, '아싱해짐': 9739, '훨남': 9740, '연약하다': 9741, '슈언': 9742, '효성': 9743, '고스톱': 9744, '몰이': 9745, '수첩': 9746, '휩쓸다': 9747, '일병': 9748, '부티': 9749, '차단': 9750, '분노': 9751, '정싱': 9752, '귀감': 9753, '깃습니': 9754, '정치계': 9755, '사가다': 9756, '천치': 9757, '지석진': 9758, '떠받다': 9759, '소란': 9760, '연우진': 9761, '쩠': 9762, '재취': 9763, '넘재밋': 9764, '연정훈': 9765, '켄데': 9766, '돠': 9767, '루즈': 9768, '연희': 9769, '감바': 9770, '열두': 9771, '남부럽다': 9772, '횽님': 9773, '혈': 9774, '승려': 9775, '가즈앙': 9776, '화신': 9777, '20회': 9778, '친딸': 9779, '부끄럼': 9780, '환갑': 9781, '김지철': 9782, '든든하다': 9783, '전기': 9784, '탐지기': 9785, '수위': 9786, '붓감': 9787, '고루': 9788, '브라운관': 9789, '형석': 9790, '끝장': 9791, '그라나다': 9792, '김혜윤': 9793, '케어': 9794, '예술가': 9795, '엿슴': 9796, '브이': 9797, '앱': 9798, '혹은': 9799, '날씬': 9800, '에르메스': 9801, '가방': 9802, '뜨끔하다': 9803, '박미선': 9804, '쪽발이': 9805, '난쨍': 9806, '똥짜루': 9807, '쪽빨': 9808, '스위치': 9809, '샷': 9810, '닮은꼴': 9811, '옜날': 9812, '케롤': 9813, '감형': 9814, '쌩목': 9815, '휴지': 9816, '양상': 9817, '가마니': 9818, '하오': 9819, '박효섭': 9820, '밍아웃': 9821, '렜어': 9822, '진유': 9823, '대매': 9824, '종혁자': 9825, '아쉬웟': 9826, '봣습니': 9827, '하이라이트': 9828, '12시간': 9829, '잠자다': 9830, '멸망하다': 9831, '손모': 9832, '오랫동안': 9833, '오랫': 9834, '의젓하다': 9835, '무기': 9836, '세균': 9837, '곱상하다': 9838, '오승환': 9839, '오심': 9840, '졸렬': 9841, '억닥': 9842, '꿀꺽': 9843, '오우': 9844, '불변': 9845, '백색': 9846, '껄끄러운': 9847, '모금': 9848, '마비': 9849, '발질': 9850, '오진영': 9851, '싫증': 9852, '죤': 9853, '짜이다': 9854, '각본': 9855, '피고인': 9856, '퐉': 9857, '오초희': 9858, '캐롤': 9859, '수난': 9860, '남피': 9861, '헤니': 9862, '오현경': 9863, '오협': 9864, '언론인': 9865, '침침하다': 9866, '안과': 9867, '주렴': 9868, '단벌': 9869, '오마이갓': 9870, '시트': 9871, '어머님': 9872, '늙다리': 9873, '새내기': 9874, '걔네': 9875, '김경진': 9876, '가요제': 9877, 'ㅋㅋㅌㅋㅋ': 9878, '박미경': 9879, '너므': 9880, '개쩌': 9881, '후유증': 9882, '엠비씨': 9883, '뱅': 9884, '외챴는데': 9885, '조졋다': 9886, '봣다': 9887, '뎃글': 9888, '왕년': 9889, '단타': 9890, '젼나': 9891, '생얼': 9892, '개멋': 9893, '자칭': 9894, '날뛰다': 9895, '제리': 9896, '개폼': 9897, '다소': 9898, '밋밋하다': 9899, '1000': 9900, '미터': 9901, '완벽': 9902, 'ko': 9903, '완주': 9904, '민간': 9905, '사찰': 9906, '홍일점': 9907, '믓': 9908, '와이키키': 9909, '죽어줫으': 9910, '조캣': 9911, '사기죄': 9912, '형살': 9913, '원금': 9914, '환수': 9915, '박탈': 9916, '쁘셔': 9917, '왈왈': 9918, '등록': 9919, '왕빛나': 9920, '남상미': 9921, '비슷': 9922, '귀환': 9923, '왕지혜': 9924, '34': 9925, '여실히': 9926, '라이벌': 9927, '오합지졸': 9928, '여섯': 9929, '미이라': 9930, '폐암': 9931, '맥략': 9932, '홍선': 9933, '천진난만하다': 9934, '박용하': 9935, 'cc': 9936, '섹드': 9937, '휴학': 9938, '피플': 9939, '우쭈': 9940, '대수롭다': 9941, '죕': 9942, '남장': 9943, '신한': 9944, '겅': 9945, '생사': 9946, '불명': 9947, '허망': 9948, '병역': 9949, '비리다': 9950, '돈일': 9951, '참변': 9952, '다자': 9953, '버시': 9954, '뺑이쳐': 9955, '해안가': 9956, '왜놈': 9957, '아시냐': 9958, '호철': 9959, '갑론': 9960, '세련되다': 9961, '뻐졌음': 9962, 'ㅁㅊㅈㄴ': 9963, 'ㄸ': 9964, '핸': 9965, '콜': 9966, '해댐': 9967, '하찮다': 9968, '직종': 9969, '낙인찍다': 9970, '외면': 9971, '못년': 9972, '무의식': 9973, '말임': 9974, '꼬임': 9975, '소한': 9976, '체격': 9977, '요뇬': 9978, '요리사': 9979, '오바쩌': 9980, '마저도': 9981, '김차': 9982, 'dduk': 9983, 'jill': 9984, '쇼미더머니': 9985, '랰': 9986, '뿅뿅': 9987, '인신': 9988, '러블': 9989, '꼬맹': 9990, '애첩': 9991, '대루': 9992, '진용': 9993, '생물': 9994, '포': 9995, '갘': 9996, '바람직하다': 9997, '종편': 9998, '점포': 9999, '일절': 10000, '시안': 10001, '코카콜라': 10002, '정류장': 10003, '역행': 10004, '반려동물': 10005, '분노하다': 10006, '능': 10007, '190': 10008, '대일': 10009, '요지경': 10010, '버르': 10011, '짐애': 10012, '힘들겄다': 10013, '용두': 10014, '용병': 10015, '용석': 10016, 'ㅏㅏㅏ': 10017, '믹': 10018, '민지': 10019, '팔지': 10020, '리버': 10021, '장훈': 10022, '욧': 10023, '홍수아': 10024, '쇠퇴하다': 10025, '달픔': 10026, '실로': 10027, '김혜자': 10028, '상감': 10029, '마무': 10030, '불끈함': 10031, '뜻임': 10032, 'l': 10033, '찜': 10034, '타나': 10035, '뇌절온': 10036, '우비다': 10037, '하캬': 10038, '소평': 10039, '가하다': 10040, '우아': 10041, '생시': 10042, '집권': 10043, '멸망': 10044, '하림': 10045, '어쩌던': 10046, '노태우': 10047, '김영삼': 10048, '가까워지다': 10049, '알라': 10050, '그러쿠': 10051, '백방': 10052, '모닝': 10053, '갠차다': 10054, '웃프': 10055, '가발': 10056, 'ㅇㅈㅅ': 10057, '데이터': 10058, 'ts': 10059, '엔터테인먼트': 10060, '김태송': 10061, '적자': 10062, '실패': 10063, '딴다': 10064, '레파토리였': 10065, '영주고': 10066, '마땅': 10067, '영주': 10068, '피곤': 10069, '놉': 10070, '에피소드': 10071, '차승원': 10072, '감사패': 10073, '아산': 10074, '원주': 10075, '원진': 10076, '가혹하다': 10077, '꼰데': 10078, '딸일': 10079, '200': 10080, '구차하다': 10081, '월드컵': 10082, '박선영': 10083, '해변': 10084, '개업': 10085, '선영': 10086, '천진': 10087, '웃음소리': 10088, '양철': 10089, '지붕': 10090, '월트디즈니': 10091, '보혈': 10092, '범사': 10093, '강건': 10094, '문슬람': 10095, '벤틀리': 10096, '여울': 10097, '유감': 10098, '패소': 10099, '유강': 10100, '문과': 10101, '병크': 10102, '머글': 10103, '알음': 10104, '유노윤호': 10105, '칭송': 10106, '족족': 10107, '건딜': 10108, '폭팔': 10109, '마리텔': 10110, '추태': 10111, '반띵': 10112, '레이싱': 10113, '유산슬': 10114, '코다리': 10115, '유승민': 10116, '비열하다': 10117, '궤변': 10118, '모발': 10119, '유죄': 10120, '반입': 10121, '유역비': 10122, '아이디어': 10123, '대물': 10124, '나날이': 10125, '악플량': 10126, '시킴': 10127, '부덜부': 10128, '객관성': 10129, '요렇게': 10130, '흥행': 10131, '고사하고': 10132, '부안': 10133, '꽈': 10134, '번복': 10135, '유책': 10136, '돌씽': 10137, '껀데': 10138, '활력소': 10139, '퍼뜨렸음': 10140, '여론조작': 10141, '킴': 10142, '정훈희': 10143, '추리': 10144, '유유': 10145, '꿀쟁': 10146, '욕질': 10147, '개지': 10148, '초상': 10149, '인린': 10150, '육두문자': 10151, '육성재': 10152, '거고요': 10153, '육종': 10154, '세분': 10155, '완도': 10156, '끝낫': 10157, '중환': 10158, '윤계상': 10159, '꿍': 10160, '윤민수': 10161, '니야': 10162, '때때로': 10163, '윤성한': 10164, '윤시윤': 10165, '베프': 10166, '태호': 10167, '갱': 10168, '꺄': 10169, '하성': 10170, '김예원': 10171, '패거리': 10172, 'vip': 10173, '게이트': 10174, '펭': 10175, 'ㅡㅇ': 10176, '솜': 10177, '오메': 10178, '코맹맹': 10179, '그딴': 10180, '얄미웡': 10181, '윽': 10182, 'the': 10183, '괴': 10184, '은섬': 10185, '홀릭': 10186, '펼쳐지다': 10187, '왜년': 10188, '최종': 10189, '각재': 10190, '포토샵': 10191, '허버': 10192, '됫짜': 10193, '심리치료': 10194, '퍼즐': 10195, '하재웅': 10196, '송미나': 10197, '이청아': 10198, '음방': 10199, '까다롭다': 10200, '퀄': 10201, '음정': 10202, '빠놔': 10203, '폭레기': 10204, '안시성': 10205, '좊': 10206, '화일': 10207, '응당': 10208, '서든': 10209, '응암동': 10210, '우습다': 10211, '용진': 10212, '너무나도': 10213, '의리': 10214, '퉷': 10215, 'ㅇㄱ': 10216, '팀워크': 10217, '닥': 10218, '수능': 10219, '상사': 10220, '회식': 10221, '지로': 10222, '81': 10223, '정시아': 10224, '튀기다': 10225, '오늘이': 10226, '미란': 10227, '문제점': 10228, '리나': 10229, '동일하다': 10230, '너넨': 10231, '청승': 10232, '이노': 10233, '통뼈': 10234, '출세': 10235, '2001년': 10236, '동아여고': 10237, '매점': 10238, '어드': 10239, '개봉': 10240, '애안': 10241, '코드': 10242, '동학혁명': 10243, '일제': 10244, '동학': 10245, '탄압': 10246, '국교': 10247, '탄하': 10248, '눈길': 10249, '옮으': 10250, '퇴물놈': 10251, '반년': 10252, '끼들': 10253, '와의': 10254, '양치기': 10255, '쓰레들': 10256, '놈현': 10257, '밀정': 10258, '파렴치': 10259, '잠자코': 10260, '부풀리다': 10261, '재우다': 10262, '영국': 10263, '광곤줄': 10264, '방학': 10265, '숙제': 10266, '가령': 10267, '사골': 10268, '대서': 10269, '11회': 10270, '소릴': 10271, '생전': 10272, '포르투갈': 10273, '폇어': 10274, '조수훈': 10275, '구별': 10276, '항암제': 10277, '희박하다': 10278, '다됫': 10279, '시들다': 10280, '해지': 10281, '6회': 10282, '숨소리': 10283, '김정수': 10284, '작가라': 10285, '구조': 10286, '걱정스럽다': 10287, '뭐건': 10288, '권유': 10289, '븅': 10290, '대인': 10291, '쫓아내다': 10292, 'youtu': 10293, 'be': 10294, 'mws': 10295, 'kwum': 10296, 'wy': 10297, '민박': 10298, '부축': 10299, '안됫으믄': 10300, '코러스': 10301, '음치': 10302, '보편': 10303, '투영': 10304, '헤프닝': 10305, '츳': 10306, '이규한': 10307, '초집': 10308, '미첬음': 10309, '양희은': 10310, '셧': 10311, '깜냥': 10312, '버려진': 10313, '이동건': 10314, 'antijms': 10315, 'net': 10316, '이동우': 10317, '시력': 10318, '약해지다': 10319, '칙칙하다': 10320, '예감': 10321, '완죤멋찜': 10322, '했드': 10323, '이따가': 10324, '뎨': 10325, '코인': 10326, '최율': 10327, '떄': 10328, '남경': 10329, '이랬는데': 10330, '보건': 10331, '자건': 10332, '붓기': 10333, '형설': 10334, '무명도': 10335, '빔': 10336, '기획': 10337, '추첨': 10338, '위일': 10339, '암퇘지': 10340, '약물': 10341, '꿍짝': 10342, '포맷': 10343, '차별성': 10344, '공수': 10345, '처가': 10346, '감지덕지': 10347, '늠': 10348, '곘': 10349, '다니곘': 10350, '간년': 10351, '파랗다': 10352, '지망': 10353, '박도': 10354, '시샘': 10355, '호평': 10356, '성노예': 10357, 'ㅈㅣㅋㅋ': 10358, 'ㅠㅡㅠ': 10359, '이루': 10360, '꼭두각시': 10361, '하옵다': 10362, '인척': 10363, '놓이다': 10364, '개쇼': 10365, '자네': 10366, '차주혁': 10367, '만족하다': 10368, '탈옥': 10369, '패륜': 10370, '너덜너덜': 10371, '사법부': 10372, '후진': 10373, '제이': 10374, '왑': 10375, '쥬니어': 10376, '07': 10377, 'ulzu': 10378, '연우': 10379, '제작사': 10380, '패인': 10381, '무가': 10382, '기보': 10383, '쉬폰': 10384, '원피스': 10385, 'ㅜㅠㅜ': 10386, '수현': 10387, '밥큐': 10388, '남임': 10389, '이발': 10390, '우대': 10391, '노오': 10392, '기한': 10393, '자국': 10394, '인디언': 10395, '학살': 10396, '지주': 10397, '서부': 10398, '풍금': 10399, '이본': 10400, '인간극장': 10401, '하얀거탑': 10402, '거탑': 10403, '선녀': 10404, '편의': 10405, '끝판': 10406, '뻐이': 10407, '이닌': 10408, '생트집': 10409, '먜': 10410, '심통': 10411, '견적': 10412, '이쁘닌까': 10413, '이사배': 10414, '일본어': 10415, '자지': 10416, 'za': 10417, 'zi': 10418, '이상봉': 10419, '홍섭': 10420, '이상엽': 10421, '바치다': 10422, '엮': 10423, '오누이': 10424, '비스듬하': 10425, '돌변': 10426, '한단': 10427, '투짓': 10428, '기일': 10429, '베일': 10430, '김지미': 10431, '대주': 10432, '재방송': 10433, '사심': 10434, '김진호': 10435, '이선균': 10436, '이선': 10437, '도나': 10438, '시드라': 10439, '눈알': 10440, '띙': 10441, '구렇': 10442, '쁭': 10443, '훨낫다': 10444, '이성미': 10445, '놀란': 10446, '이세창': 10447, '엄정화': 10448, '겉도': 10449, '싹수': 10450, '이소연': 10451, '서유기': 10452, '기선': 10453, '시었': 10454, '쉐기': 10455, '먹엇으': 10456, '얼매': 10457, '텃세': 10458, '머릿속': 10459, '이승': 10460, '록': 10461, '뭐함': 10462, '들추다': 10463, '특이': 10464, '닥터': 10465, '승윤': 10466, '협의': 10467, '홍천': 10468, '사오': 10469, '뇌사': 10470, '타율': 10471, '이나라': 10472, '군자': 10473, '혓': 10474, '3000만원': 10475, '굵다': 10476, '천장': 10477, '달라붙다': 10478, '콧구멍': 10479, '치사': 10480, '고아원': 10481, '하연': 10482, '자업자득': 10483, '스케일': 10484, '뿌라스': 10485, '머임': 10486, '료': 10487, '만물': 10488, '트럭': 10489, '벌벌': 10490, '위키': 10491, '미키': 10492, '타짜': 10493, '라임': 10494, '이왕': 10495, '이왕이면': 10496, '테데': 10497, '어잿거': 10498, '이윤성': 10499, '이은희': 10500, '쫑났': 10501, '관심사': 10502, '이장우': 10503, '블럭': 10504, '버스터': 10505, '이정재': 10506, '까지라도': 10507, '130만': 10508, '호군': 10509, '테로': 10510, '조형': 10511, '어쩌나': 10512, '자숙했다': 10513, '블쌍': 10514, '재훈': 10515, '꼬시면': 10516, '할망구': 10517, '풍만': 10518, '아라': 10519, '홀로': 10520, '맵다': 10521, '내야': 10522, '손익': 10523, '기기': 10524, '정용': 10525, '맹구': 10526, '발작': 10527, '러들': 10528, '이주승': 10529, '까메오': 10530, '이지은': 10531, '이지아': 10532, '이지혜': 10533, '이진숙': 10534, '엊그제': 10535, '이창훈': 10536, '돌진': 10537, '덴': 10538, '오씨': 10539, 'ab': 10540, '혈액형': 10541, '축구인': 10542, '이태리': 10543, '모짜렐라': 10544, '치즈': 10545, '심플': 10546, '터전': 10547, '실례': 10548, '하숙': 10549, '갇다': 10550, '투머치': 10551, '무덤': 10552, '이필모': 10553, '뚱보일': 10554, '목어': 10555, '못하겟': 10556, '자아': 10557, '박가원': 10558, '이혜원': 10559, '쁘구': 10560, '이혜정': 10561, '리셔': 10562, '예뽀': 10563, '리모컨': 10564, '혜정': 10565, '똑같드': 10566, '거겟': 10567, '이홍기': 10568, '유고': 10569, '걸이': 10570, '만두': 10571, '효리야': 10572, '상순이': 10573, '소주': 10574, '암만': 10575, '평범': 10576, '빠': 10577, '주니어': 10578, '급상승': 10579, '버마': 10580, '아보': 10581, '띨': 10582, 'ㅎㅌㅊ': 10583, '널렸다': 10584, '인제': 10585, '솟다': 10586, '보상금': 10587, '주고': 10588, '집값': 10589, '전관예우': 10590, '일텐데': 10591, '결단': 10592, '혼안': 10593, '베놈': 10594, '르토': 10595, '정상화': 10596, '퀴': 10597, '친절하다': 10598, '박날': 10599, '영주권': 10600, '쪾': 10601, '네시': 10602, '털년': 10603, '듀': 10604, '녀자': 10605, '업힐': 10606, '동질감': 10607, '폄훼하': 10608, '일화': 10609, '주체': 10610, 'ㅈㄷㅁ': 10611, '임성한': 10612, '오브': 10613, '임세령': 10614, '복찬': 10615, '칼질': 10616, '음역': 10617, '저음': 10618, '맴돌다': 10619, '옹알옹알': 10620, '임예진': 10621, '개년': 10622, '아까버': 10623, '허송': 10624, '만족감': 10625, '쪼개다': 10626, '재섭': 10627, '홀림': 10628, '랑스': 10629, '에프터스쿨': 10630, '입원': 10631, '계급': 10632, '상병': 10633, '어장': 10634, '출근': 10635, '자고로': 10636, '전후': 10637, '골반': 10638, '출혈': 10639, '효과': 10640, '됫다': 10641, '겟노': 10642, '성현': 10643, '잠꼬대': 10644, '성조기': 10645, 'vj': 10646, '자본주의': 10647, '구천': 10648, '맞선': 10649, '자전차': 10650, '엄복동': 10651, '자판기': 10652, '음료': 10653, '나왘': 10654, '역관': 10655, '꺼': 10656, '처름': 10657, '제로': 10658, '오름': 10659, '그럴듯하다': 10660, '재주': 10661, '반영': 10662, '민순': 10663, '뭉게져': 10664, '양도': 10665, '똥궈': 10666, '보다도': 10667, '딱지': 10668, '주목': 10669, '뜻대로': 10670, '제나': 10671, '윤씨': 10672, '잼일': 10673, '인디음악': 10674, '줄기': 10675, '불면증': 10676, '잔소리': 10677, '탕집': 10678, '언정': 10679, '현관': 10680, '바주': 10681, '악한': 10682, '손가락질': 10683, 'ㅡㅡㅡ': 10684, '스켄들': 10685, '육성': 10686, '욥': 10687, '말상': 10688, '힘쓰다': 10689, '성동일': 10690, '패트': 10691, '주랑': 10692, '발탁': 10693, 'ㅋㅋㅉㅉ': 10694, '잠재': 10695, '잡아떼다': 10696, '잡티': 10697, '장도리': 10698, '쇄골': 10699, '파도': 10700, '평등': 10701, '외치': 10702, '난동': 10703, '장만': 10704, '낙': 10705, '낙하': 10706, '내뱉다': 10707, '원상탸': 10708, '엄텅': 10709, '2만원': 10710, '자원봉사': 10711, '장승': 10712, '셍': 10713, '다드': 10714, '강경': 10715, '스티븐': 10716, '호킹': 10717, '행복지수': 10718, '정진': 10719, '장위안': 10720, '인체': 10721, '부랭': 10722, '억세다': 10723, '깨갱': 10724, '콧소리': 10725, '몬난': 10726, '거만하다': 10727, '박기영': 10728, '심성': 10729, '슬기롭다': 10730, '헤치다': 10731, '시가': 10732, '정질': 10733, '오르내리다': 10734, '장제원': 10735, '재국': 10736, '업슴': 10737, '재균': 10738, '유익하다': 10739, '재민': 10740, '라가': 10741, '간호': 10742, '나아': 10743, '재치': 10744, '미묘': 10745, '파워': 10746, '쟝르': 10747, '불문': 10748, '기용': 10749, '탤런트': 10750, '많넵': 10751, '부다': 10752, '당나라': 10753, 'sekki': 10754, '깜시': 10755, '굴': 10756, '전해': 10757, '널렸': 10758, '바끼': 10759, '진행자': 10760, '페이': 10761, '접킹': 10762, '가정폭력': 10763, '출판': 10764, '베스트셀러': 10765, '젓': 10766, '힙찔': 10767, '카테고리': 10768, '엑스트라': 10769, '김준현': 10770, '문세윤': 10771, '별난': 10772, '저궁굼': 10773, '하진': 10774, '유료': 10775, '낚시터': 10776, '2월': 10777, '치앙마이': 10778, '편협': 10779, '친어머니': 10780, '맑은': 10781, '퐁당': 10782, '타국': 10783, '리빈': 10784, '불복': 10785, '깨문': 10786, '빨겡이들': 10787, '하루하루': 10788, '컸넹': 10789, '연얜': 10790, '흡수': 10791, '메뉴': 10792, '독재': 10793, '다름없다': 10794, '철벽': 10795, '김일': 10796, '들들': 10797, '저렴': 10798, '대명사': 10799, '뮫으': 10800, 'lck': 10801, '페로': 10802, '마련': 10803, '민원': 10804, '콜라보': 10805, '운전자': 10806, '덩달아': 10807, '전교': 10808, '7등': 10809, '박상아': 10810, '전라남도': 10811, '화순': 10812, '으매': 10813, '덩깨': 10814, '라디언': 10815, '투야': 10816, '꼬름하': 10817, '모자라': 10818, '졸음': 10819, '쳇': 10820, '과함': 10821, '95': 10822, '꼬실려': 10823, '빼기': 10824, '전쟁기념관': 10825, '추세': 10826, '빠쑨이들': 10827, '고서': 10828, '추후': 10829, '재단': 10830, '꿈꾸다': 10831, '쥐똥': 10832, '방향성': 10833, '전진': 10834, '싸인': 10835, '조아리다': 10836, '전적': 10837, '이어진': 10838, '단면': 10839, '92년': 10840, '차도': 10841, '연달': 10842, '쌍코피': 10843, '승리자': 10844, '죽여주다': 10845, '혼도': 10846, '전문직': 10847, 'monster': 10848, '사주지': 10849, 'ing': 10850, '넬': 10851, '모래': 10852, '엉딩': 10853, '젊음': 10854, '볼라': 10855, '정가은': 10856, '한재석': 10857, '쥴': 10858, '밀고': 10859, '바둥거리': 10860, '불이익': 10861, '자딸': 10862, '가이드': 10863, '관광': 10864, '제공': 10865, '법칙': 10866, '극한': 10867, '정다빈': 10868, '묘지': 10869, '유골': 10870, '정두홍': 10871, '차임': 10872, '개입': 10873, '육지': 10874, '뽀록': 10875, '유치원': 10876, '보류': 10877, '김태우': 10878, '신양면': 10879, '깍': 10880, '심술': 10881, '유해진': 10882, '정종철': 10883, '논스톱': 10884, '졸부': 10885, '손대다': 10886, '였슴': 10887, '자괴': 10888, '핬다': 10889, '의심스럽다': 10890, '왕새우': 10891, '꽆': 10892, '좌회전': 10893, '우회': 10894, '그늘': 10895, '조금씩': 10896, '김송': 10897, '예픈': 10898, '쌍갓': 10899, '흥분': 10900, '김영철': 10901, '위트': 10902, '정숙희': 10903, '멍청이': 10904, '멀티태스킹': 10905, '반일감정': 10906, '개꿀임': 10907, '이상자': 10908, '단디': 10909, '어색': 10910, '버금': 10911, '마주치다': 10912, '수용': 10913, '아낌없다': 10914, '성표': 10915, '공로': 10916, '만화가': 10917, '정웅인': 10918, '정유진': 10919, '빵워': 10920, '정은채': 10921, '정조국': 10922, '늘씬하다': 10923, '한편': 10924, '완된': 10925, '낙동강': 10926, '오이': 10927, '목매': 10928, '성급하다': 10929, 'ㅜㅡ': 10930, '봐요느': 10931, '정치권': 10932, '욜': 10933, '내세': 10934, '정치인': 10935, '취업': 10936, '전화하다': 10937, '론뎅': 10938, '현생': 10939, '차기작': 10940, '마여': 10941, '귀척': 10942, '열씸히': 10943, '대두': 10944, '박지윤': 10945, '은애': 10946, '나년': 10947, '싶긔': 10948, '고갈': 10949, '여리다': 10950, '방생': 10951, '윌벤져스': 10952, '몸가짐': 10953, '쁠수': 10954, '바글바글': 10955, '거릴': 10956, '지저분하다': 10957, '소린': 10958, '뽈노': 10959, '갑바': 10960, '풍': 10961, '장단': 10962, '제왑': 10963, '이쿠': 10964, '제이슨': 10965, '조성하': 10966, '페인트': 10967, '토끼': 10968, '심폐소생': 10969, '짤린': 10970, '대합': 10971, '싶곸': 10972, 'ㅋㅋㅌㅌ': 10973, '슈퍼쥬니어': 10974, '리메이크': 10975, '조강': 10976, '탕': 10977, '황교': 10978, '활': 10979, '법무부': 10980, '장관': 10981, '신라면': 10982, '조덕제': 10983, '미꾸라지': 10984, '빠져나가다': 10985, '혼각': 10986, '투성이': 10987, '조민아': 10988, '타코야키': 10989, '필사': 10990, '자금': 10991, '금융': 10992, '절세': 10993, '까덴다': 10994, '수애': 10995, '창원': 10996, '라보': 10997, '전례': 10998, '적발': 10999, '올백머리': 11000, '알짝': 11001, '조영남': 11002, '윤여정': 11003, '5억년': 11004, '배제': 11005, '무언가': 11006, '요란하다': 11007, '조우종': 11008, '조은정': 11009, '조이다': 11010, '우도': 11011, '에서까지': 11012, '투피': 11013, '디델꼬': 11014, '지뇨': 11015, '동아': 11016, '조현': 11017, '조현재': 11018, '인품': 11019, '조각': 11020, '졸작': 11021, '졸리': 11022, '2020': 11023, '송도': 11024, '깜보': 11025, '내비': 11026, '유리하다': 11027, '맺다': 11028, '에코': 11029, '대사도': 11030, '담백하다': 11031, '발발': 11032, '천만배': 11033, '녀석': 11034, '종원': 11035, '싱': 11036, '천륜': 11037, '찜찜하다': 11038, '좌앙': 11039, '정서': 11040, 'ok': 11041, '디스곡': 11042, '좌': 11043, '사관': 11044, '너훈아': 11045, '오혁': 11046, '이신': 11047, '앙이다': 11048, '딱새': 11049, '익다': 11050, '어케사': 11051, '민심': 11052, '살라': 11053, '전용': 11054, '놓치다': 11055, '예정': 11056, '도하': 11057, '가구': 11058, '패떳': 11059, '주취후': 11060, '주치의': 11061, '죽빵': 11062, '유병언': 11063, '환생하다': 11064, '스타인': 11065, '삿거리': 11066, '자의': 11067, '온기': 11068, '형도': 11069, '생민': 11070, '제꼇겟구': 11071, '캐나다인': 11072, '대륙': 11073, '대국': 11074, '사드': 11075, '정히': 11076, '개두': 11077, '혐중': 11078, '쨩죽': 11079, '쨩': 11080, '읏': 11081, '중환자실': 11082, '쥬라기': 11083, '반려자': 11084, '숱': 11085, '팽': 11086, '본도': 11087, '영원': 11088, '말썽': 11089, '이르키': 11090, '맥그리거': 11091, '쎄리': 11092, '천명': 11093, '부와': 11094, '미움': 11095, '주제가': 11096, 'ilbe': 11097, 'view': 11098, '11207994540': 11099, '만큼만': 11100, '뚫리다': 11101, '신종': 11102, '엔드게임': 11103, '팝콘': 11104, '해오다': 11105, '양으로': 11106, '남심': 11107, '녹이다': 11108, '벗방': 11109, '믹키': 11110, '백만이': 11111, '국가수': 11112, '상승': 11113, '국가부도': 11114, '지난주': 11115, '내주': 11116, '어찌어찌': 11117, '달기': 11118, '부어': 11119, '똥갑': 11120, '비거': 11121, '여행객': 11122, '폐쇄': 11123, '뱃길': 11124, '첨견말자': 11125, '흡입': 11126, '지병': 11127, '치통': 11128, '뽀샵': 11129, '우사': 11130, '지웅': 11131, '추어': 11132, '지지난': 11133, '킨텍스': 11134, '전시장': 11135, '아누': 11136, '이상아': 11137, '지진희': 11138, '남지': 11139, '횡패': 11140, '연간': 11141, '박재정': 11142, '손절해': 11143, '첫다': 11144, '연금술사': 11145, '진사': 11146, '박재민': 11147, '솓': 11148, '가락': 11149, '인직': 11150, '진실하다': 11151, '갸우뚱': 11152, '졋음': 11153, '화낼': 11154, '오시': 11155, '재믺나': 11156, '원더걸스': 11157, '술사': 11158, 'lyg': 11159, '행닝': 11160, '정준하': 11161, '31': 11162, '뽈': 11163, '빠이': 11164, '씨엘': 11165, '농락': 11166, '혐석': 11167, '애잔하다': 11168, '소소하다': 11169, '아이오': 11170, '김범수': 11171, '태고': 11172, '떳하': 11173, '똥망': 11174, '잠정': 11175, '자위': 11176, '숨통': 11177, '퍼트': 11178, '주리': 11179, '무무': 11180, '복지': 11181, '피터지다': 11182, '동양인': 11183, 'ugly': 11184, '전반': 11185, '치사스럽다': 11186, '동원령': 11187, '파묻다': 11188, '대통': 11189, '완존': 11190, '이예': 11191, '비웃다': 11192, '교가': 11193, '왕좌': 11194, '진하다': 11195, '인테리어': 11196, '태풍': 11197, '침수': 11198, '집사부': 11199, '일체': 11200, '양념': 11201, '주일': 11202, '불량': 11203, '대납': 11204, '여차하면': 11205, '국물': 11206, '닭뼈': 11207, '텁텁': 11208, '탕수육': 11209, '시큼하다': 11210, '짱깨': 11211, '깨국': 11212, '짱꼴라': 11213, '쩔뚝': 11214, '쪼그': 11215, '쪽바리': 11216, '홈': 11217, '빠리': 11218, '물르다': 11219, '뽀롱': 11220, '쫑나': 11221, '거진': 11222, '찠': 11223, '버어러': 11224, '차두리': 11225, '회덮밥': 11226, '도로': 11227, '중앙': 11228, '거보': 11229, '신급': 11230, '아스트로': 11231, '지하방': 11232, '운전기사': 11233, '차칸': 11234, '양상국': 11235, '블로썸': 11236, '판다': 11237, '차홍': 11238, '욤귀욤': 11239, '몰겄': 11240, '겨뭐': 11241, '떼거지': 11242, '꼴볼견': 11243, '요란': 11244, '역사왜곡': 11245, '등감': 11246, '연구': 11247, '염색체': 11248, '감빵': 11249, '새해': 11250, '축원': 11251, '않긬': 11252, '계집애': 11253, '사하다': 11254, '창정': 11255, '댁땜': 11256, '거렸는데': 11257, '빳다': 11258, '규정': 11259, '가엾다': 11260, '사춘기': 11261, '채수': 11262, '곺': 11263, '욕햇': 11264, '천박': 11265, '몬': 11266, '천연기념물': 11267, '낚시': 11268, '물고기': 11269, '나왕': 11270, '보황': 11271, '데뷰': 11272, '봐왓는데': 11273, '올라서다': 11274, '건방지다': 11275, '걸어가다': 11276, '둥글다': 11277, '바닷': 11278, '웬수': 11279, '따라서': 11280, '청순하다': 11281, '할퀴다': 11282, 'ㅎㅎㅈ': 11283, '곳임': 11284, '빈번': 11285, '골골': 11286, '맨발': 11287, '블링': 11288, '페디큐어': 11289, '슬리퍼': 11290, '미용실': 11291, '9900원': 11292, '중등': 11293, '박남정': 11294, '체적': 11295, '난국': 11296, '엽기': 11297, '최강창민': 11298, '단장': 11299, '짜릿하다': 11300, '사회면': 11301, '최다니엘': 11302, '포텐': 11303, '유선': 11304, '울고불고': 11305, '최민수': 11306, '리액션': 11307, '혼식': 11308, '최신': 11309, '크브스': 11310, '최우식': 11311, '신인상': 11312, '인기상': 11313, '최욱': 11314, '최자': 11315, '담기다': 11316, '잔챙이': 11317, '나봄': 11318, '추징': 11319, '금은': 11320, '안부': 11321, '축가': 11322, '유키스': 11323, '어느새다': 11324, '대장암': 11325, '결심': 11326, '안드': 11327, '충북': 11328, '충남': 11329, '재인': 11330, '충치': 11331, '피카츄': 11332, '과잉': 11333, '진료': 11334, '안곳예': 11335, '증진': 11336, '집세': 11337, '치타': 11338, '친목': 11339, '도모': 11340, '친선대사': 11341, '중졸': 11342, '친자': 11343, '처기': 11344, '혜지니': 11345, '친화력': 11346, '캘리포니아': 11347, '시험': 11348, '초대형': 11349, 'fa': 11350, '갈라고': 11351, '커플링': 11352, '정색': 11353, '컨디션': 11354, '종진': 11355, '창법': 11356, '올드': 11357, '코봉': 11358, '코재': 11359, '꼰대섺꺄': 11360, '55': 11361, '묵고': 11362, '찍찍': 11363, '5회': 11364, '쑤랙': 11365, '콧물': 11366, '잏게찌': 11367, '웰': 11368, '메이드': 11369, '눈코': 11370, '윤곽': 11371, '타치': 11372, '끓다': 11373, '크러시': 11374, '임시': 11375, '완급': 11376, '부상': 11377, '3500': 11378, '구현': 11379, '깜빵가야': 11380, '플랜': 11381, '액수': 11382, '졸업': 11383, '구사': 11384, '코리아나': 11385, '1천억': 11386, '추산': 11387, '155': 11388, '키드': 11389, '밀리': 11390, '플로우': 11391, '쭈욱': 11392, '염탐': 11393, '타워': 11394, '펠': 11395, '리스': 11396, '마넌': 11397, '스튜': 11398, '타이': 11399, '타투': 11400, '흠집': 11401, '코모': 11402, '데스': 11403, '웅챠': 11404, '탐관': 11405, '15시간': 11406, '바로잡다': 11407, '비결': 11408, '경동고': 11409, '태양': 11410, '태지': 11411, '취학': 11412, '태클': 11413, '사이즈': 11414, '태후': 11415, '아이엠': 11416, '그루트': 11417, '학계': 11418, '정설': 11419, '안모': 11420, '인과': 11421, '황금시간대': 11422, '톱질': 11423, '아작': 11424, '피스': 11425, '컨샙': 11426, '먹닌다': 11427, '십원': 11428, '통제': 11429, '대형': 11430, '김주': 11431, '입당': 11432, '서예지': 11433, '정지훈': 11434, '오라버니': 11435, '스케쥴': 11436, '집유': 11437, '잘머꼬': 11438, '트럼프': 11439, '프란치스코': 11440, '교황': 11441, '대성공': 11442, '강추': 11443, '여제': 11444, '장본인': 11445, '멕': 11446, '정연': 11447, '냉장고': 11448, '트왜': 11449, '엠파이어': 11450, '스테이': 11451, '전투기': 11452, '처절하다': 11453, '효민': 11454, '전영록': 11455, '맏': 11456, '방조': 11457, '배은': 11458, '망덕': 11459, '우리형': 11460, 'n': 11461, '엔도': 11462, '신작': 11463, '쫄리긴': 11464, '쫄렸나봐': 11465, '파이란': 11466, '파크랜드': 11467, '주드': 11468, '차량': 11469, '판타스틱': 11470, '엘라스': 11471, '용돈': 11472, '패키지': 11473, 'ed': 11474, '작성': 11475, '인솔': 11476, '끼부리다': 11477, '아이디': 11478, '고락': 11479, '남남': 11480, '허언증': 11481, '좌뇌': 11482, '유화': 11483, '실기': 11484, '웜퇘': 11485, '맘충퇘지들': 11486, '2000': 11487, '팬싸': 11488, '포스트잇': 11489, '루세': 11490, '투명인간': 11491, '망상': 11492, '활발하다': 11493, '팬클럽': 11494, '페미니즘': 11495, '고식': 11496, '펭귄': 11497, '올빼미': 11498, '부칸': 11499, '컵라면': 11500, '공자': 11501, '불가리': 11502, '또박또박': 11503, '만을': 11504, '숨바': 11505, '노름': 11506, '식용': 11507, '현대': 11508, '문학': 11509, '통달': 11510, '평화': 11511, '풍기': 11512, '레즈비언': 11513, '괴록히': 11514, '도통': 11515, '윾': 11516, '포르테': 11517, '콰트로': 11518, '슈퍼카': 11519, '폭죽': 11520, '흡연': 11521, '예견': 11522, '장의': 11523, '매도': 11524, '피땀': 11525, '저러케': 11526, '파혼': 11527, '졸이다': 11528, '수시': 11529, '불합격': 11530, '똘끼': 11531, '흑우': 11532, '전소': 11533, '정채': 11534, '서정': 11535, '무새': 11536, '톱임': 11537, '없애드': 11538, '황혼': 11539, '성으로': 11540, '지해': 11541, '프로필': 11542, '피떡': 11543, '명분': 11544, '토마토': 11545, '피피': 11546, '변호인': 11547, '여생': 11548, '망가뜨렸': 11549, '뻐지믄': 11550, '우케': 11551, '레': 11552, '하객': 11553, '뒷바라지': 11554, '밥값': 11555, '한눈': 11556, '일련': 11557, '몸종': 11558, '밸': 11559, '서방': 11560, '좋았슴': 11561, '트위터': 11562, '불확실하다': 11563, '하므다': 11564, '핵꿀잼': 11565, '권투': 11566, '하시시': 11567, '하아': 11568, '하연주': 11569, '꺼쥬': 11570, '괜실히': 11571, '박터졋': 11572, '하태식': 11573, '혐학': 11574, '거덜': 11575, '503': 11576, '거닐다': 11577, '차병원': 11578, '플러스': 11579, '악플쩌': 11580, '하희라': 11581, '학구': 11582, '학사': 11583, '뱃속': 11584, '안락': 11585, '아비': 11586, '박주호': 11587, '마동석': 11588, '허용': 11589, '비상': 11590, '뼛': 11591, '님자': 11592, '굴려': 11593, '미소녀': 11594, '에이브': 11595, '버스킹': 11596, '짱짱': 11597, 'chang': 11598, '달이다': 11599, '대마초': 11600, '분임': 11601, '과대': 11602, '흙': 11603, '수저': 11604, '청소': 11605, '화해': 11606, '젭': 11607, '투하': 11608, '한국판': 11609, '단정': 11610, '폐임': 11611, '근절': 11612, '만화책': 11613, '국산': 11614, '질적': 11615, '분간': 11616, '덩치': 11617, '드릴': 11618, '뒷다': 11619, '정상회담': 11620, '베이스': 11621, '프로토스': 11622, '나마': 11623, '거던': 11624, '꽥': 11625, '대학원': 11626, '고닌': 11627, '밑천': 11628, '부의': 11629, '거절': 11630, '역도': 11631, '복주': 11632, '구정': 11633, '주행': 11634, '무너': 11635, '애증': 11636, '한부모': 11637, '한식': 11638, '미카엘': 11639, '온정': 11640, '보엿으': 11641, '부치다': 11642, '후보자': 11643, '서명': 11644, '악착같이': 11645, '취재': 11646, '떡잎': 11647, '한은정': 11648, '명랑': 11649, '공기': 11650, '한인': 11651, '특기': 11652, '한인타운': 11653, '조우': 11654, '불교': 11655, '회상씬': 11656, '빡빡': 11657, '익숙하다': 11658, '길들이다': 11659, '달빛': 11660, '춤추다': 11661, '우릴': 11662, '코디': 11663, '조제': 11664, '찌쟈': 11665, '지수': 11666, '황금정': 11667, '단발머리': 11668, '고수': 11669, '장창': 11670, '바짝': 11671, '인별': 11672, '한치': 11673, '힢': 11674, '카사노바': 11675, '앞길': 11676, '말버릇': 11677, '지조': 11678, '디제이': 11679, '내리막': 11680, '출사': 11681, '앞세우다': 11682, '짬': 11683, '무인': 11684, '찿아': 11685, '아냠': 11686, '손녀': 11687, '분수': 11688, '훤': 11689, '빨갛다': 11690, '액자': 11691, '신영복': 11692, '좌익': 11693, '처음처럼': 11694, '뚝': 11695, '고부': 11696, '합숙': 11697, '웁': 11698, '항문': 11699, '혈관': 11700, '브래지어': 11701, '비슷비슷': 11702, '바람둥이': 11703, '해골': 11704, '공공재': 11705, '해인': 11706, '수순': 11707, '당분간': 11708, '황정음': 11709, '찹쌀떡': 11710, '모가지': 11711, '티걸': 11712, '허벅다리': 11713, '콩가루': 11714, '관도': 11715, '배정': 11716, '허안나': 11717, '허재': 11718, '운동신경': 11719, '허허': 11720, '지심': 11721, '우짜노': 11722, '박은혜': 11723, '성문': 11724, '콩산': 11725, 'ㅅㅋ': 11726, '금주': 11727, '인의': 11728, '마음대로': 11729, '내팽겨': 11730, '헤럴드': 11731, '헤이': 11732, '댇': 11733, '사긔': 11734, '한가하다': 11735, '씸': 11736, '디나': 11737, '글씨': 11738, '상징': 11739, '황재균': 11740, '지껄이다': 11741, '넷상': 11742, '중과': 11743, '소통': 11744, '이라기': 11745, '퐈이팅': 11746, 'ㅇㅎ': 11747, '평상시': 11748, '후리': 11749, '성도': 11750, '뚱보': 11751, '농염': 11752, '왕도': 11753, '불안정하다': 11754, '말러': 11755, '해고': 11756, '트리플': 11757, '운동회': 11758, '추켜': 11759, '필러': 11760, '붕어': 11761, '둥둥': 11762, '공공': 11763, '재임': 11764, '162': 11765, '염려': 11766, '현영': 11767, '균': 11768, '지시': 11769, '갑부': 11770, '인신매매': 11771, '협차': 11772, '리노': 11773, '형광등': 11774, '화사하다': 11775, '뉴질랜드': 11776, '취득': 11777, '적색': 11778, '수배': 11779, '항소': 11780, '오래전': 11781, '러시아': 11782, '침공': 11783, '나토': 11784, '소수민족': 11785, '교보': 11786, '가까이': 11787, '지껄': 11788, '비참하다': 11789, 'ㅠㅜㅠ': 11790, 'ㅠㅠㅜ': 11791, '얼빠들': 11792, '거볼': 11793, '쳤었늠데': 11794, '면허': 11795, '호랑나비': 11796, '녹양동': 11797, '호주': 11798, 'exid': 11799, '무현': 11800, 'ㅅㄱ': 11801, '혼수': 11802, '홈쇼핑': 11803, '특별출연': 11804, '응원글': 11805, '홍유': 11806, '홍화': 11807, '비서': 11808, '홍인': 11809, '거치다': 11810, '이어폰': 11811, '조종': 11812, '좔좔': 11813, '피나': 11814, '뚝뚝': 11815, '뒤끝': 11816, '윤지': 11817, '경운기': 11818, '친척': 11819, '박봄이': 11820, '위인': 11821, '고라': 11822, '쌩곀': 11823, '순둥': 11824, '훅훅': 11825, '객관': 11826, '지표': 11827, '소박하다': 11828, '환경오염': 11829, '재활용': 11830, '비닐': 11831, '지독하다': 11832, '이외': 11833, '플로': 11834, '슬금슬금': 11835, '다정하다': 11836, '도둑질': 11837, '민현': 11838, '황정': 11839, '황지현': 11840, '강소라': 11841, '새드앤딩': 11842, '레이어': 11843, '최고봉': 11844, '무려': 11845, '한우': 11846, '채식주의자': 11847, '빅엿': 11848, '리옹': 11849, '쾅': 11850, '퉤슈': 11851, '카운터': 11852, '화이': 11853, '링': 11854, '뒷전': 11855, '흐음': 11856, '아랑': 11857, '흑발': 11858, '흑백': 11859, '정면': 11860, '발산': 11861, '권력자': 11862, '격변': 11863, '기여': 11864, '서두르다': 11865, '캔디': 11866, '노리': 11867, '곱창': 11868, '열시': 11869, '부각': 11870, '히든싱어': 11871, '히든': 11872, '히잌': 11873, '기저귀': 11874, '놀랍다': 11875, '예매': 11876, '미사': 11877, '꼬옥': 11878, '강하니': 11879, 'btw': 11880, '홀애비': 11881, '만년': 11882, '한잔': 11883, '이틀': 11884, '추스려지': 11885, '홨팅': 11886}\n"
          ]
        }
      ],
      "source": [
        "tokenizer = Tokenizer()\n",
        "tokenizer.fit_on_texts(X_train)\n",
        "print(tokenizer.word_index)"
      ]
    },
    {
      "cell_type": "code",
      "execution_count": 79,
      "metadata": {
        "id": "koO7czFE6WM0",
        "colab": {
          "base_uri": "https://localhost:8080/"
        },
        "outputId": "ba1ea316-faf4-4c8f-a634-d942039c05ee"
      },
      "outputs": [
        {
          "output_type": "stream",
          "name": "stdout",
          "text": [
            "단어 집합(vocabulary)의 크기 : 11886\n",
            "등장 빈도가 1번 이하인 희귀 단어의 수: 5725\n",
            "단어 집합에서 희귀 단어의 비율: 48.16590947332997\n",
            "전체 등장 빈도에서 희귀 단어 등장 빈도 비율: 4.638970594193386\n"
          ]
        }
      ],
      "source": [
        "threshold = 2\n",
        "total_cnt = len(tokenizer.word_index) # 단어의 수\n",
        "rare_cnt = 0 # 등장 빈도수가 threshold보다 작은 단어의 개수를 카운트\n",
        "total_freq = 0 # 훈련 데이터의 전체 단어 빈도수 총 합\n",
        "rare_freq = 0 # 등장 빈도수가 threshold보다 작은 단어의 등장 빈도수의 총 합\n",
        "\n",
        "# 단어와 빈도수의 쌍(pair)을 key와 value로 받는다.\n",
        "for key, value in tokenizer.word_counts.items():\n",
        "    total_freq = total_freq + value\n",
        "\n",
        "    # 단어의 등장 빈도수가 threshold보다 작으면\n",
        "    if(value < threshold):\n",
        "        rare_cnt = rare_cnt + 1\n",
        "        rare_freq = rare_freq + value\n",
        "\n",
        "print('단어 집합(vocabulary)의 크기 :',total_cnt) # 11864\n",
        "print('등장 빈도가 %s번 이하인 희귀 단어의 수: %s'%(threshold-1, rare_cnt)) # 5725\n",
        "print(\"단어 집합에서 희귀 단어의 비율:\", (rare_cnt / total_cnt)*100)\n",
        "print(\"전체 등장 빈도에서 희귀 단어 등장 빈도 비율:\", (rare_freq / total_freq)*100)"
      ]
    },
    {
      "cell_type": "code",
      "execution_count": 80,
      "metadata": {
        "id": "SbazODqN6pwI"
      },
      "outputs": [],
      "source": [
        "vocab_size = total_cnt"
      ]
    },
    {
      "cell_type": "code",
      "execution_count": 81,
      "metadata": {
        "id": "pYfeOxwy6tY7"
      },
      "outputs": [],
      "source": [
        "tokenizer = Tokenizer(vocab_size) \n",
        "tokenizer.fit_on_texts(X_train)\n",
        "X_train = tokenizer.texts_to_sequences(X_train)\n",
        "X_test = tokenizer.texts_to_sequences(X_test)"
      ]
    },
    {
      "cell_type": "markdown",
      "metadata": {
        "id": "9bnRz6Sj618k"
      },
      "source": [
        "### y_train, y_test 저장"
      ]
    },
    {
      "cell_type": "code",
      "execution_count": 82,
      "metadata": {
        "id": "wjdJ9BVO6x7g"
      },
      "outputs": [],
      "source": [
        "y_train = np.array(train_df['label'])\n",
        "y_test = np.array(test_df['label'])"
      ]
    },
    {
      "cell_type": "markdown",
      "metadata": {
        "id": "s6TNwJf88u8Y"
      },
      "source": [
        "### 패딩"
      ]
    },
    {
      "cell_type": "code",
      "execution_count": 83,
      "metadata": {
        "id": "x6J9FmIL8LB7",
        "colab": {
          "base_uri": "https://localhost:8080/",
          "height": 279
        },
        "outputId": "9c785d77-d477-4100-a954-4b7a47dc15fd"
      },
      "outputs": [
        {
          "output_type": "display_data",
          "data": {
            "text/plain": [
              "<Figure size 432x288 with 1 Axes>"
            ],
            "image/png": "[encoded data removed]"
          },
          "metadata": {
            "needs_background": "light"
          }
        }
      ],
      "source": [
        "plt.hist([len(review) for review in X_train], bins=50)\n",
        "plt.xlabel('length of samples')\n",
        "plt.ylabel('number of samples')\n",
        "plt.show()"
      ]
    },
    {
      "cell_type": "code",
      "execution_count": 84,
      "metadata": {
        "id": "xrjEKmxr8CNE",
        "colab": {
          "base_uri": "https://localhost:8080/"
        },
        "outputId": "fa076c54-af90-4e1e-da7d-e0bb8399af64"
      },
      "outputs": [
        {
          "output_type": "stream",
          "name": "stdout",
          "text": [
            "리뷰의 최대 길이 : 58\n",
            "리뷰의 평균 길이 : 15.629432624113475\n"
          ]
        }
      ],
      "source": [
        "print('리뷰의 최대 길이 :',max(len(review) for review in X_train))\n",
        "print('리뷰의 평균 길이 :',sum(map(len, X_train))/len(X_train))"
      ]
    },
    {
      "cell_type": "code",
      "execution_count": 85,
      "metadata": {
        "id": "Ggu85ttX8g15",
        "colab": {
          "base_uri": "https://localhost:8080/"
        },
        "outputId": "d2ac11af-1a41-484b-f345-8776e6d15e91"
      },
      "outputs": [
        {
          "output_type": "stream",
          "name": "stdout",
          "text": [
            "전체 샘플 중 길이가 30 이하인 샘플의 비율: 88.29787234042553\n"
          ]
        }
      ],
      "source": [
        "def below_threshold_len(max_len, nested_list):\n",
        "  count = 0\n",
        "  for sentence in nested_list:\n",
        "    if(len(sentence) <= max_len):\n",
        "        count = count + 1\n",
        "  print('전체 샘플 중 길이가 %s 이하인 샘플의 비율: %s'%(max_len, (count / len(nested_list))*100))\n",
        "\n",
        "max_len = 30\n",
        "below_threshold_len(max_len, X_train)"
      ]
    },
    {
      "cell_type": "code",
      "execution_count": 86,
      "metadata": {
        "id": "o4dKDDV58plY"
      },
      "outputs": [],
      "source": [
        "X_train = pad_sequences(X_train, maxlen=max_len)\n",
        "X_test = pad_sequences(X_test, maxlen=max_len)"
      ]
    },
    {
      "cell_type": "code",
      "execution_count": 87,
      "metadata": {
        "id": "NPe_ao3L83xV",
        "colab": {
          "base_uri": "https://localhost:8080/"
        },
        "outputId": "e4faabe3-9ddd-4f61-b8dd-b598a8f4af2a"
      },
      "outputs": [
        {
          "output_type": "stream",
          "name": "stdout",
          "text": [
            "Epoch 1/30\n",
            "99/99 [==============================] - ETA: 0s - loss: 0.6236 - acc: 0.6495\n",
            "Epoch 00001: val_acc improved from -inf to 0.72152, saving model to best_model.h5\n",
            "99/99 [==============================] - 13s 104ms/step - loss: 0.6236 - acc: 0.6495 - val_loss: 0.5497 - val_acc: 0.7215\n",
            "Epoch 2/30\n",
            "99/99 [==============================] - ETA: 0s - loss: 0.4576 - acc: 0.7889\n",
            "Epoch 00002: val_acc improved from 0.72152 to 0.72848, saving model to best_model.h5\n",
            "99/99 [==============================] - 9s 94ms/step - loss: 0.4576 - acc: 0.7889 - val_loss: 0.5551 - val_acc: 0.7285\n",
            "Epoch 3/30\n",
            "99/99 [==============================] - ETA: 0s - loss: 0.3651 - acc: 0.8412\n",
            "Epoch 00003: val_acc improved from 0.72848 to 0.74114, saving model to best_model.h5\n",
            "99/99 [==============================] - 9s 94ms/step - loss: 0.3651 - acc: 0.8412 - val_loss: 0.5471 - val_acc: 0.7411\n",
            "Epoch 4/30\n",
            "99/99 [==============================] - ETA: 0s - loss: 0.3045 - acc: 0.8765\n",
            "Epoch 00004: val_acc did not improve from 0.74114\n",
            "99/99 [==============================] - 10s 97ms/step - loss: 0.3045 - acc: 0.8765 - val_loss: 0.5583 - val_acc: 0.7399\n",
            "Epoch 5/30\n",
            "99/99 [==============================] - ETA: 0s - loss: 0.2561 - acc: 0.8977\n",
            "Epoch 00005: val_acc did not improve from 0.74114\n",
            "99/99 [==============================] - 9s 93ms/step - loss: 0.2561 - acc: 0.8977 - val_loss: 0.5998 - val_acc: 0.7323\n",
            "Epoch 6/30\n",
            "99/99 [==============================] - ETA: 0s - loss: 0.2156 - acc: 0.9170\n",
            "Epoch 00006: val_acc did not improve from 0.74114\n",
            "99/99 [==============================] - 9s 93ms/step - loss: 0.2156 - acc: 0.9170 - val_loss: 0.6512 - val_acc: 0.7209\n",
            "Epoch 7/30\n",
            "99/99 [==============================] - ETA: 0s - loss: 0.1856 - acc: 0.9262\n",
            "Epoch 00007: val_acc did not improve from 0.74114\n",
            "99/99 [==============================] - 9s 92ms/step - loss: 0.1856 - acc: 0.9262 - val_loss: 0.7121 - val_acc: 0.7247\n",
            "Epoch 00007: early stopping\n"
          ]
        }
      ],
      "source": [
        "embedding_dim = 100\n",
        "hidden_units = 128\n",
        "\n",
        "model = Sequential()\n",
        "model.add(Embedding(vocab_size, embedding_dim))\n",
        "model.add(LSTM(hidden_units))\n",
        "model.add(Dense(1, activation='sigmoid'))\n",
        "\n",
        "es = EarlyStopping(monitor='val_loss', mode='min', verbose=1, patience=4)\n",
        "mc = ModelCheckpoint('best_model.h5', monitor='val_acc', mode='max', verbose=1, save_best_only=True)\n",
        "\n",
        "model.compile(optimizer='rmsprop', loss='binary_crossentropy', metrics=['acc'])\n",
        "history = model.fit(X_train, y_train, epochs=30, callbacks=[es, mc], batch_size=64, validation_split=0.2)"
      ]
    },
    {
      "cell_type": "code",
      "execution_count": 88,
      "metadata": {
        "id": "imCyd4hAwo4o",
        "colab": {
          "base_uri": "https://localhost:8080/"
        },
        "outputId": "c81121ab-014a-468b-81d6-ee5a4b0dcb9d"
      },
      "outputs": [
        {
          "output_type": "stream",
          "name": "stdout",
          "text": [
            "15/15 [==============================] - 1s 14ms/step - loss: 0.5059 - acc: 0.7537\n",
            "\n",
            " 테스트 정확도: 0.7537\n"
          ]
        }
      ],
      "source": [
        "loaded_model = load_model('best_model.h5')\n",
        "print(\"\\n 테스트 정확도: %.4f\" % (loaded_model.evaluate(X_test, y_test)[1]))"
      ]
    },
    {
      "cell_type": "code",
      "execution_count": 89,
      "metadata": {
        "id": "1OqlzMRHyBW9",
        "colab": {
          "base_uri": "https://localhost:8080/"
        },
        "outputId": "e7c329ec-7fd0-4d35-cc83-9983b1def494"
      },
      "outputs": [
        {
          "output_type": "stream",
          "name": "stdout",
          "text": [
            "Epoch 1/30\n",
            "98/99 [============================>.] - ETA: 0s - loss: 0.6101 - acc: 0.6582\n",
            "Epoch 00001: val_acc improved from -inf to 0.71329, saving model to best_model.h5\n",
            "99/99 [==============================] - 10s 77ms/step - loss: 0.6097 - acc: 0.6582 - val_loss: 0.5524 - val_acc: 0.7133\n",
            "Epoch 2/30\n",
            "98/99 [============================>.] - ETA: 0s - loss: 0.4456 - acc: 0.7935\n",
            "Epoch 00002: val_acc improved from 0.71329 to 0.72785, saving model to best_model.h5\n",
            "99/99 [==============================] - 9s 87ms/step - loss: 0.4463 - acc: 0.7935 - val_loss: 0.5421 - val_acc: 0.7278\n",
            "Epoch 3/30\n",
            "98/99 [============================>.] - ETA: 0s - loss: 0.3590 - acc: 0.8457\n",
            "Epoch 00003: val_acc did not improve from 0.72785\n",
            "99/99 [==============================] - 7s 72ms/step - loss: 0.3584 - acc: 0.8461 - val_loss: 0.6354 - val_acc: 0.7139\n",
            "Epoch 4/30\n",
            "98/99 [============================>.] - ETA: 0s - loss: 0.2936 - acc: 0.8812\n",
            "Epoch 00004: val_acc did not improve from 0.72785\n",
            "99/99 [==============================] - 7s 73ms/step - loss: 0.2937 - acc: 0.8809 - val_loss: 0.5986 - val_acc: 0.7215\n",
            "Epoch 5/30\n",
            "98/99 [============================>.] - ETA: 0s - loss: 0.2440 - acc: 0.9032\n",
            "Epoch 00005: val_acc improved from 0.72785 to 0.72848, saving model to best_model.h5\n",
            "99/99 [==============================] - 7s 72ms/step - loss: 0.2444 - acc: 0.9029 - val_loss: 0.6764 - val_acc: 0.7285\n",
            "Epoch 6/30\n",
            "99/99 [==============================] - ETA: 0s - loss: 0.2034 - acc: 0.9200\n",
            "Epoch 00006: val_acc did not improve from 0.72848\n",
            "99/99 [==============================] - 7s 75ms/step - loss: 0.2034 - acc: 0.9200 - val_loss: 0.8248 - val_acc: 0.7184\n",
            "Epoch 00006: early stopping\n"
          ]
        }
      ],
      "source": [
        "# from tensorflow.keras.layers import Embedding, Dense, GRU\n",
        "# from tensorflow.keras.models import Sequential\n",
        "# from tensorflow.keras.models import load_model\n",
        "# from tensorflow.keras.callbacks import EarlyStopping, ModelCheckpoint\n",
        "\n",
        "embedding_dim = 100\n",
        "hidden_units = 128\n",
        "\n",
        "model = Sequential()\n",
        "model.add(Embedding(vocab_size, embedding_dim))\n",
        "model.add(GRU(hidden_units))\n",
        "model.add(Dense(1, activation='sigmoid'))\n",
        "\n",
        "es = EarlyStopping(monitor='val_loss', mode='min', verbose=1, patience=4)\n",
        "mc = ModelCheckpoint('best_model.h5', monitor='val_acc', mode='max', verbose=1, save_best_only=True)\n",
        "\n",
        "model.compile(optimizer='rmsprop', loss='binary_crossentropy', metrics=['acc'])\n",
        "history = model.fit(X_train, y_train, epochs=30, callbacks=[es, mc], batch_size=64, validation_split=0.2)"
      ]
    },
    {
      "cell_type": "code",
      "execution_count": 90,
      "metadata": {
        "id": "ZGsfWKv9yDeR",
        "colab": {
          "base_uri": "https://localhost:8080/"
        },
        "outputId": "e50ac7b3-47b9-48c9-d9ff-f95399e2ccdd"
      },
      "outputs": [
        {
          "output_type": "stream",
          "name": "stdout",
          "text": [
            "15/15 [==============================] - 1s 12ms/step - loss: 0.5674 - acc: 0.7452\n",
            "\n",
            " 테스트 정확도: 0.7452\n"
          ]
        }
      ],
      "source": [
        "loaded_model = load_model('best_model.h5')\n",
        "print(\"\\n 테스트 정확도: %.4f\" % (loaded_model.evaluate(X_test, y_test)[1]))"
      ]
    },
    {
      "cell_type": "code",
      "execution_count": 91,
      "metadata": {
        "id": "zyqgwpQ6wpZJ"
      },
      "outputs": [],
      "source": [
        "def sentiment_predict(new_sentence):\n",
        "  new_sentence = re.sub(r'[^ㄱ-ㅎㅏ-ㅣ가-힣 ]','', new_sentence)\n",
        "  new_sentence = okt.morphs(new_sentence, stem=True) # 토큰화\n",
        "  new_sentence = [word for word in new_sentence if not word in stopwords] # 불용어 제거\n",
        "  encoded = tokenizer.texts_to_sequences([new_sentence]) # 정수 인코딩\n",
        "  pad_new = pad_sequences(encoded, maxlen = max_len) # 패딩\n",
        "  score = float(loaded_model.predict(pad_new)) # 예측\n",
        "  if(score > 0.5):\n",
        "    print(\"{:.2f}% 확률로 악성 댓글입니다. 댓글 게시를 중단합니다.\\n\".format(score * 100))\n",
        "  else:\n",
        "    print(\"{:.2f}% 확률로 악성 댓글이 아닙니다. 댓글 게시를 진행합니다.\\n\".format((1 - score) * 100))"
      ]
    },
    {
      "cell_type": "code",
      "execution_count": 111,
      "metadata": {
        "id": "vKygiMPyDESN",
        "colab": {
          "base_uri": "https://localhost:8080/"
        },
        "outputId": "d8d6d0fe-3f34-4c18-e4a9-d871f898de38"
      },
      "outputs": [
        {
          "output_type": "stream",
          "name": "stdout",
          "text": [
            "71.80% 확률로 악성 댓글이 아닙니다. 댓글 게시를 진행합니다.\n",
            "\n"
          ]
        }
      ],
      "source": [
        "sentiment_predict('초밥이 소원인가요')"
      ]
    },
    {
      "cell_type": "code",
      "execution_count": 113,
      "metadata": {
        "id": "uqIzfg-ODKxa",
        "colab": {
          "base_uri": "https://localhost:8080/"
        },
        "outputId": "8eafd18e-0ffc-4e8e-9bc5-1e431e341323"
      },
      "outputs": [
        {
          "output_type": "stream",
          "name": "stdout",
          "text": [
            "96.21% 확률로 악성 댓글이 아닙니다. 댓글 게시를 진행합니다.\n",
            "\n"
          ]
        }
      ],
      "source": [
        "sentiment_predict('크로스핏 용어 먼진 몰라도 멋지네요 재밌으면 장땡')"
      ]
    },
    {
      "cell_type": "code",
      "execution_count": 115,
      "metadata": {
        "id": "Ahap3Ro8DN9X",
        "colab": {
          "base_uri": "https://localhost:8080/"
        },
        "outputId": "541fbb4d-f3f7-4478-955b-5fad60224210"
      },
      "outputs": [
        {
          "output_type": "stream",
          "name": "stdout",
          "text": [
            "99.42% 확률로 악성 댓글이 아닙니다. 댓글 게시를 진행합니다.\n",
            "\n"
          ]
        }
      ],
      "source": [
        "sentiment_predict('가방 너무 예뻐요... 색깔도 넘 예쁘구')"
      ]
    },
    {
      "cell_type": "code",
      "source": [
        "sentiment_predict('칼국수,,,예전에 니랑 서면시장에샤 먹던가 생각나네.. 해피유월~❤️')"
      ],
      "metadata": {
        "colab": {
          "base_uri": "https://localhost:8080/"
        },
        "id": "X15wtJ5j41ta",
        "outputId": "c2ea4720-eecf-46aa-d71b-069d183c184a"
      },
      "execution_count": 117,
      "outputs": [
        {
          "output_type": "stream",
          "name": "stdout",
          "text": [
            "82.51% 확률로 악성 댓글이 아닙니다. 댓글 게시를 진행합니다.\n",
            "\n"
          ]
        }
      ]
    },
    {
      "cell_type": "code",
      "source": [
        "sentiment_predict('아 너무 웃겨 계석 낄낄대면서 봤어요!')\n"
      ],
      "metadata": {
        "colab": {
          "base_uri": "https://localhost:8080/"
        },
        "id": "D_rtzI2y5W-3",
        "outputId": "fe33fb0e-8b81-48e3-bb14-ccdf4f6649a8"
      },
      "execution_count": 119,
      "outputs": [
        {
          "output_type": "stream",
          "name": "stdout",
          "text": [
            "67.59% 확률로 악성 댓글이 아닙니다. 댓글 게시를 진행합니다.\n",
            "\n"
          ]
        }
      ]
    },
    {
      "cell_type": "code",
      "source": [
        "sentiment_predict('니네 왜 나빼고 맛있는거 먹냐 ㅋㅋ')"
      ],
      "metadata": {
        "colab": {
          "base_uri": "https://localhost:8080/"
        },
        "id": "PLLjTyih4o-w",
        "outputId": "d1ddc5fb-b634-4508-9f8a-060ddc9062cf"
      },
      "execution_count": 116,
      "outputs": [
        {
          "output_type": "stream",
          "name": "stdout",
          "text": [
            "89.82% 확률로 악성 댓글입니다. 댓글 게시를 중단합니다.\n",
            "\n"
          ]
        }
      ]
    },
    {
      "cell_type": "code",
      "source": [
        "sentiment_predict('왜 자꾸 우리 버려')"
      ],
      "metadata": {
        "colab": {
          "base_uri": "https://localhost:8080/"
        },
        "id": "C_7ch6p75JBQ",
        "outputId": "6d8b10bb-7bf9-4b31-c3db-ee594013dd7a"
      },
      "execution_count": 118,
      "outputs": [
        {
          "output_type": "stream",
          "name": "stdout",
          "text": [
            "61.39% 확률로 악성 댓글입니다. 댓글 게시를 중단합니다.\n",
            "\n"
          ]
        }
      ]
    },
    {
      "cell_type": "code",
      "source": [
        "sentiment_predict('우리 하트에 미친놈들 하미놈')"
      ],
      "metadata": {
        "colab": {
          "base_uri": "https://localhost:8080/"
        },
        "id": "5nXc3pJV5ivp",
        "outputId": "a398302a-7edc-4d02-9935-45189613f909"
      },
      "execution_count": 121,
      "outputs": [
        {
          "output_type": "stream",
          "name": "stdout",
          "text": [
            "98.48% 확률로 악성 댓글입니다. 댓글 게시를 중단합니다.\n",
            "\n"
          ]
        }
      ]
    },
    {
      "cell_type": "code",
      "source": [
        "sentiment_predict('아웃겨 시계 찍은거 개웃기다 웃겨서 힘들어요')"
      ],
      "metadata": {
        "colab": {
          "base_uri": "https://localhost:8080/"
        },
        "id": "eW4s-Ojt5w4v",
        "outputId": "72d5cfa5-4159-4804-d09b-4663d94bfe00"
      },
      "execution_count": 123,
      "outputs": [
        {
          "output_type": "stream",
          "name": "stdout",
          "text": [
            "98.90% 확률로 악성 댓글입니다. 댓글 게시를 중단합니다.\n",
            "\n"
          ]
        }
      ]
    }
  ],
  "metadata": {
    "colab": {
      "name": "Untitled17.ipynb",
      "provenance": [],
      "authorship_tag": "ABX9TyNHyYAwTGUjTgXFusHz/iQt",
      "include_colab_link": true
    },
    "kernelspec": {
      "display_name": "Python 3",
      "name": "python3"
    },
    "language_info": {
      "name": "python"
    }
  },
  "nbformat": 4,
  "nbformat_minor": 0
}